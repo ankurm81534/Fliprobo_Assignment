{
 "cells": [
  {
   "cell_type": "code",
   "execution_count": 1,
   "metadata": {},
   "outputs": [],
   "source": [
    "#! pip install selenium"
   ]
  },
  {
   "cell_type": "code",
   "execution_count": 2,
   "metadata": {},
   "outputs": [],
   "source": [
    "import numpy as np\n",
    "import pandas as pd\n",
    "import selenium as sl\n",
    "from selenium import webdriver\n",
    "from selenium.webdriver.support.ui import WebDriverWait\n",
    "from selenium.webdriver.support import expected_conditions as EC\n",
    "from selenium.webdriver.common.by import By\n",
    "import time\n",
    "import csv"
   ]
  },
  {
   "cell_type": "markdown",
   "metadata": {},
   "source": [
    "# 1. # Q1: Write a python program to scrape data for “Data Analyst” Job position in “Bangalore” location. You have to scrape the job-title, job-location, company_name, experience_required. You have to scrape first 10 jobs data."
   ]
  },
  {
   "cell_type": "code",
   "execution_count": 3,
   "metadata": {},
   "outputs": [],
   "source": [
    "driver = webdriver.Chrome(r\"D:\\softs & utilities\\chromedriver.exe\")"
   ]
  },
  {
   "cell_type": "code",
   "execution_count": 4,
   "metadata": {},
   "outputs": [],
   "source": [
    "#1. first get the webpage https://www.naukri.com/\n",
    "driver.get(\"https://www.naukri.com/\")"
   ]
  },
  {
   "cell_type": "code",
   "execution_count": 5,
   "metadata": {},
   "outputs": [],
   "source": [
    "#2. Enter “Data Analyst” in “Skill,Designations,Companies” field and enter “Bangalore” in “enter the location” field.\n",
    "#3. Then click the search button.\n",
    "\n",
    "search_job = driver.find_element_by_id(\"qsb-keyword-sugg\")\n",
    "search_job.send_keys(\"data analyst\")\n",
    "loc_job = driver.find_element_by_id(\"qsb-location-sugg\")\n",
    "loc_job.send_keys(\"Bangalore/Bengaluru\")\n",
    "btn = driver.find_element_by_class_name(\"btn\")\n",
    "btn.click()"
   ]
  },
  {
   "cell_type": "code",
   "execution_count": 6,
   "metadata": {},
   "outputs": [],
   "source": [
    "df = pd.DataFrame(columns=['job-title', 'job-location', 'company_name', 'experience_required'])"
   ]
  },
  {
   "cell_type": "code",
   "execution_count": 7,
   "metadata": {},
   "outputs": [],
   "source": [
    "#4. Then scrape the data for the first 10 jobs results you get.\n",
    "#5. Finally create a dataframe of the scraped data."
   ]
  },
  {
   "cell_type": "code",
   "execution_count": 8,
   "metadata": {},
   "outputs": [
    {
     "data": {
      "text/plain": [
       "[<selenium.webdriver.remote.webelement.WebElement (session=\"647b71c33d9fb4aab1fa53bd41cb028a\", element=\"fb470ff0-7f9a-4c4a-8756-d3bf1eae713f\")>,\n",
       " <selenium.webdriver.remote.webelement.WebElement (session=\"647b71c33d9fb4aab1fa53bd41cb028a\", element=\"5bda3712-5729-426a-9086-fcf8534e0d8d\")>,\n",
       " <selenium.webdriver.remote.webelement.WebElement (session=\"647b71c33d9fb4aab1fa53bd41cb028a\", element=\"aa9423f4-07bf-4caa-99aa-17999d031089\")>,\n",
       " <selenium.webdriver.remote.webelement.WebElement (session=\"647b71c33d9fb4aab1fa53bd41cb028a\", element=\"8f59ade0-8b20-4ce3-ba5c-df84700613ca\")>,\n",
       " <selenium.webdriver.remote.webelement.WebElement (session=\"647b71c33d9fb4aab1fa53bd41cb028a\", element=\"3864d430-4377-447e-87f9-eeb71ff858dd\")>,\n",
       " <selenium.webdriver.remote.webelement.WebElement (session=\"647b71c33d9fb4aab1fa53bd41cb028a\", element=\"ca137a39-6f8b-4134-96bd-da1b862e4b4e\")>,\n",
       " <selenium.webdriver.remote.webelement.WebElement (session=\"647b71c33d9fb4aab1fa53bd41cb028a\", element=\"239be362-c2be-4f6c-81d8-6c58e4d25973\")>,\n",
       " <selenium.webdriver.remote.webelement.WebElement (session=\"647b71c33d9fb4aab1fa53bd41cb028a\", element=\"0c061019-ef5d-47d6-89a9-dcb197b2c693\")>,\n",
       " <selenium.webdriver.remote.webelement.WebElement (session=\"647b71c33d9fb4aab1fa53bd41cb028a\", element=\"491b2047-3632-42ad-9cdd-83d9233dedb0\")>,\n",
       " <selenium.webdriver.remote.webelement.WebElement (session=\"647b71c33d9fb4aab1fa53bd41cb028a\", element=\"264cbcc6-93c7-42be-8164-3c1c9160ceeb\")>,\n",
       " <selenium.webdriver.remote.webelement.WebElement (session=\"647b71c33d9fb4aab1fa53bd41cb028a\", element=\"6735ce5b-a3f3-432c-b0fd-3a447a97b2ca\")>,\n",
       " <selenium.webdriver.remote.webelement.WebElement (session=\"647b71c33d9fb4aab1fa53bd41cb028a\", element=\"50662928-e829-4ae7-b76f-77479951d76f\")>,\n",
       " <selenium.webdriver.remote.webelement.WebElement (session=\"647b71c33d9fb4aab1fa53bd41cb028a\", element=\"61c7eab6-e625-4d00-955c-4b7a75caf265\")>,\n",
       " <selenium.webdriver.remote.webelement.WebElement (session=\"647b71c33d9fb4aab1fa53bd41cb028a\", element=\"4cf73b32-3c7f-42c2-a522-177d43e7bd97\")>,\n",
       " <selenium.webdriver.remote.webelement.WebElement (session=\"647b71c33d9fb4aab1fa53bd41cb028a\", element=\"afc1b9f9-a574-455e-8881-12ad8b690cf0\")>,\n",
       " <selenium.webdriver.remote.webelement.WebElement (session=\"647b71c33d9fb4aab1fa53bd41cb028a\", element=\"7b08d23c-427d-472b-8ed3-4f4600ca694b\")>,\n",
       " <selenium.webdriver.remote.webelement.WebElement (session=\"647b71c33d9fb4aab1fa53bd41cb028a\", element=\"83eb41fc-3d53-4a2f-99ee-05bd772bb1c3\")>,\n",
       " <selenium.webdriver.remote.webelement.WebElement (session=\"647b71c33d9fb4aab1fa53bd41cb028a\", element=\"8c070aa3-72a1-4753-954f-f7a94b9a60f3\")>,\n",
       " <selenium.webdriver.remote.webelement.WebElement (session=\"647b71c33d9fb4aab1fa53bd41cb028a\", element=\"90d81c1f-4064-44e2-842b-5328da72796e\")>,\n",
       " <selenium.webdriver.remote.webelement.WebElement (session=\"647b71c33d9fb4aab1fa53bd41cb028a\", element=\"82d5de8e-aae6-44f6-a518-f4ccf7ec1032\")>]"
      ]
     },
     "execution_count": 8,
     "metadata": {},
     "output_type": "execute_result"
    }
   ],
   "source": [
    "title = driver.find_elements_by_xpath(\"//a[@class = 'title fw500 ellipsis']\")\n",
    "title"
   ]
  },
  {
   "cell_type": "code",
   "execution_count": 9,
   "metadata": {},
   "outputs": [
    {
     "data": {
      "text/plain": [
       "[<selenium.webdriver.remote.webelement.WebElement (session=\"647b71c33d9fb4aab1fa53bd41cb028a\", element=\"60893717-307a-402e-9469-937e533b2147\")>,\n",
       " <selenium.webdriver.remote.webelement.WebElement (session=\"647b71c33d9fb4aab1fa53bd41cb028a\", element=\"09cfdce3-57cc-47cc-b849-b3bd51d23201\")>,\n",
       " <selenium.webdriver.remote.webelement.WebElement (session=\"647b71c33d9fb4aab1fa53bd41cb028a\", element=\"b079ea40-dc97-46dd-9468-853599e8fda2\")>,\n",
       " <selenium.webdriver.remote.webelement.WebElement (session=\"647b71c33d9fb4aab1fa53bd41cb028a\", element=\"85baa546-f05c-4a8f-8c22-8ed57891b6e7\")>,\n",
       " <selenium.webdriver.remote.webelement.WebElement (session=\"647b71c33d9fb4aab1fa53bd41cb028a\", element=\"72fb2e09-17cd-4e2b-94a8-0596e1ab888f\")>,\n",
       " <selenium.webdriver.remote.webelement.WebElement (session=\"647b71c33d9fb4aab1fa53bd41cb028a\", element=\"c35372ea-c6aa-489f-94d0-5a46e3465284\")>,\n",
       " <selenium.webdriver.remote.webelement.WebElement (session=\"647b71c33d9fb4aab1fa53bd41cb028a\", element=\"b6148c83-4604-4898-a64f-958e04dabcf7\")>,\n",
       " <selenium.webdriver.remote.webelement.WebElement (session=\"647b71c33d9fb4aab1fa53bd41cb028a\", element=\"3c12b28c-0796-47f5-b7f9-cabf6d0aae61\")>,\n",
       " <selenium.webdriver.remote.webelement.WebElement (session=\"647b71c33d9fb4aab1fa53bd41cb028a\", element=\"1cad1ef7-b1da-45f5-96c8-e32d80218398\")>,\n",
       " <selenium.webdriver.remote.webelement.WebElement (session=\"647b71c33d9fb4aab1fa53bd41cb028a\", element=\"0983f652-0ffb-4db7-ab67-50ce39c9739c\")>,\n",
       " <selenium.webdriver.remote.webelement.WebElement (session=\"647b71c33d9fb4aab1fa53bd41cb028a\", element=\"978b720f-13a3-42c9-9658-489349162348\")>,\n",
       " <selenium.webdriver.remote.webelement.WebElement (session=\"647b71c33d9fb4aab1fa53bd41cb028a\", element=\"7c2a89c1-2893-40f3-9bb8-9930d7a86751\")>,\n",
       " <selenium.webdriver.remote.webelement.WebElement (session=\"647b71c33d9fb4aab1fa53bd41cb028a\", element=\"2b1baa09-51e1-458a-8659-23e8c2cdb3c8\")>,\n",
       " <selenium.webdriver.remote.webelement.WebElement (session=\"647b71c33d9fb4aab1fa53bd41cb028a\", element=\"d03fed2c-d1b2-48de-b1a3-f1ccdc7bb1bf\")>,\n",
       " <selenium.webdriver.remote.webelement.WebElement (session=\"647b71c33d9fb4aab1fa53bd41cb028a\", element=\"6c6cc128-7757-4b08-80a7-42134629e01b\")>,\n",
       " <selenium.webdriver.remote.webelement.WebElement (session=\"647b71c33d9fb4aab1fa53bd41cb028a\", element=\"18b61e86-b639-4932-bfeb-cebef2429b93\")>,\n",
       " <selenium.webdriver.remote.webelement.WebElement (session=\"647b71c33d9fb4aab1fa53bd41cb028a\", element=\"69de6ada-ae53-4b2b-9a4f-ec2cef974f95\")>,\n",
       " <selenium.webdriver.remote.webelement.WebElement (session=\"647b71c33d9fb4aab1fa53bd41cb028a\", element=\"b12dbeb2-4be3-49a2-978f-8e832d40abb3\")>,\n",
       " <selenium.webdriver.remote.webelement.WebElement (session=\"647b71c33d9fb4aab1fa53bd41cb028a\", element=\"c2f8c5fe-0d95-4310-8a0e-4f3e757d975d\")>,\n",
       " <selenium.webdriver.remote.webelement.WebElement (session=\"647b71c33d9fb4aab1fa53bd41cb028a\", element=\"903ce352-e4b3-46be-98a7-f81b75eeb0a2\")>]"
      ]
     },
     "execution_count": 9,
     "metadata": {},
     "output_type": "execute_result"
    }
   ],
   "source": [
    "location = driver.find_elements_by_xpath(\"//li[@class = 'fleft grey-text br2 placeHolderLi location']\")\n",
    "location"
   ]
  },
  {
   "cell_type": "code",
   "execution_count": 10,
   "metadata": {},
   "outputs": [
    {
     "data": {
      "text/plain": [
       "[<selenium.webdriver.remote.webelement.WebElement (session=\"647b71c33d9fb4aab1fa53bd41cb028a\", element=\"400f2cf3-1a6c-4195-913b-4a7116c68acc\")>,\n",
       " <selenium.webdriver.remote.webelement.WebElement (session=\"647b71c33d9fb4aab1fa53bd41cb028a\", element=\"69cc475c-5905-4fed-8da0-1e5ea155bd56\")>,\n",
       " <selenium.webdriver.remote.webelement.WebElement (session=\"647b71c33d9fb4aab1fa53bd41cb028a\", element=\"54c8826c-a30c-4a34-8afe-3b7a3c03fa89\")>,\n",
       " <selenium.webdriver.remote.webelement.WebElement (session=\"647b71c33d9fb4aab1fa53bd41cb028a\", element=\"63a0d034-fbfa-468a-9e9f-046138a66dd4\")>,\n",
       " <selenium.webdriver.remote.webelement.WebElement (session=\"647b71c33d9fb4aab1fa53bd41cb028a\", element=\"be7461eb-f56f-49fb-aea7-89474b1fa31b\")>,\n",
       " <selenium.webdriver.remote.webelement.WebElement (session=\"647b71c33d9fb4aab1fa53bd41cb028a\", element=\"c6984f5a-c2d3-4966-925d-ae03ea5eb879\")>,\n",
       " <selenium.webdriver.remote.webelement.WebElement (session=\"647b71c33d9fb4aab1fa53bd41cb028a\", element=\"0c9840c6-9efe-4564-8394-6680ab244f0d\")>,\n",
       " <selenium.webdriver.remote.webelement.WebElement (session=\"647b71c33d9fb4aab1fa53bd41cb028a\", element=\"76ea43ce-34b3-45dc-b18b-4842b9e778f2\")>,\n",
       " <selenium.webdriver.remote.webelement.WebElement (session=\"647b71c33d9fb4aab1fa53bd41cb028a\", element=\"d01e322b-7d50-4b90-ab15-cec64a0f9d5b\")>,\n",
       " <selenium.webdriver.remote.webelement.WebElement (session=\"647b71c33d9fb4aab1fa53bd41cb028a\", element=\"4bd0576f-a34c-454c-bb99-f10e04b17f69\")>,\n",
       " <selenium.webdriver.remote.webelement.WebElement (session=\"647b71c33d9fb4aab1fa53bd41cb028a\", element=\"cb89f37a-858a-4150-a835-31b3c2823eaa\")>,\n",
       " <selenium.webdriver.remote.webelement.WebElement (session=\"647b71c33d9fb4aab1fa53bd41cb028a\", element=\"f305164e-ab31-4592-9dcf-d68fd007b504\")>,\n",
       " <selenium.webdriver.remote.webelement.WebElement (session=\"647b71c33d9fb4aab1fa53bd41cb028a\", element=\"a1a2d9d1-40a3-49c0-a250-9ed5da6690d8\")>,\n",
       " <selenium.webdriver.remote.webelement.WebElement (session=\"647b71c33d9fb4aab1fa53bd41cb028a\", element=\"f5a33797-5988-4e05-b5f8-915618bb9e3b\")>,\n",
       " <selenium.webdriver.remote.webelement.WebElement (session=\"647b71c33d9fb4aab1fa53bd41cb028a\", element=\"89521291-d791-48e2-a368-ea4845d9d8ca\")>,\n",
       " <selenium.webdriver.remote.webelement.WebElement (session=\"647b71c33d9fb4aab1fa53bd41cb028a\", element=\"51a04875-a917-4511-8387-7be4ebd3ffdc\")>,\n",
       " <selenium.webdriver.remote.webelement.WebElement (session=\"647b71c33d9fb4aab1fa53bd41cb028a\", element=\"0d148513-f228-4e42-9e34-078c8e019fa4\")>,\n",
       " <selenium.webdriver.remote.webelement.WebElement (session=\"647b71c33d9fb4aab1fa53bd41cb028a\", element=\"05eae81a-569c-40fa-923f-bd81fa4aa7e9\")>,\n",
       " <selenium.webdriver.remote.webelement.WebElement (session=\"647b71c33d9fb4aab1fa53bd41cb028a\", element=\"e7580f65-460d-4791-84e4-6d8105c2013d\")>,\n",
       " <selenium.webdriver.remote.webelement.WebElement (session=\"647b71c33d9fb4aab1fa53bd41cb028a\", element=\"ae5d57fb-0bcb-45c9-ae6c-58ed18c7e635\")>]"
      ]
     },
     "execution_count": 10,
     "metadata": {},
     "output_type": "execute_result"
    }
   ],
   "source": [
    "company = driver.find_elements_by_xpath(\"//a[@class = 'subTitle ellipsis fleft']\")\n",
    "company"
   ]
  },
  {
   "cell_type": "code",
   "execution_count": 11,
   "metadata": {},
   "outputs": [
    {
     "data": {
      "text/plain": [
       "[<selenium.webdriver.remote.webelement.WebElement (session=\"647b71c33d9fb4aab1fa53bd41cb028a\", element=\"7391bb16-f0d1-467e-835e-f3f8d1842d2b\")>,\n",
       " <selenium.webdriver.remote.webelement.WebElement (session=\"647b71c33d9fb4aab1fa53bd41cb028a\", element=\"325f2acd-8d7c-4df5-a965-e1eaad2cd850\")>,\n",
       " <selenium.webdriver.remote.webelement.WebElement (session=\"647b71c33d9fb4aab1fa53bd41cb028a\", element=\"8af2c578-b506-4bc6-af19-a74738100f28\")>,\n",
       " <selenium.webdriver.remote.webelement.WebElement (session=\"647b71c33d9fb4aab1fa53bd41cb028a\", element=\"51a4ac17-b906-4f72-863d-fc1e511fda25\")>,\n",
       " <selenium.webdriver.remote.webelement.WebElement (session=\"647b71c33d9fb4aab1fa53bd41cb028a\", element=\"1bafa1ff-319c-45f8-9150-6925500d4ba3\")>,\n",
       " <selenium.webdriver.remote.webelement.WebElement (session=\"647b71c33d9fb4aab1fa53bd41cb028a\", element=\"95e139f6-5a45-4f66-89c5-399a70f4f478\")>,\n",
       " <selenium.webdriver.remote.webelement.WebElement (session=\"647b71c33d9fb4aab1fa53bd41cb028a\", element=\"82f2ed29-3b51-43f2-91f2-2bbc77d8f336\")>,\n",
       " <selenium.webdriver.remote.webelement.WebElement (session=\"647b71c33d9fb4aab1fa53bd41cb028a\", element=\"a8a79b4c-e82c-4ea0-b3f4-5a9d41a5875c\")>,\n",
       " <selenium.webdriver.remote.webelement.WebElement (session=\"647b71c33d9fb4aab1fa53bd41cb028a\", element=\"599f76e2-cb63-4bda-b581-f3e4c5e6cbaa\")>,\n",
       " <selenium.webdriver.remote.webelement.WebElement (session=\"647b71c33d9fb4aab1fa53bd41cb028a\", element=\"c2d29f05-7131-44fc-b37b-61bbed9e958f\")>,\n",
       " <selenium.webdriver.remote.webelement.WebElement (session=\"647b71c33d9fb4aab1fa53bd41cb028a\", element=\"4650f1da-9c8f-4a58-a0dd-d39081849f37\")>,\n",
       " <selenium.webdriver.remote.webelement.WebElement (session=\"647b71c33d9fb4aab1fa53bd41cb028a\", element=\"a3cc5125-a77e-4e68-b0c6-29bf4a8f6152\")>,\n",
       " <selenium.webdriver.remote.webelement.WebElement (session=\"647b71c33d9fb4aab1fa53bd41cb028a\", element=\"212e9052-4210-4a63-b86b-789b7aa67074\")>,\n",
       " <selenium.webdriver.remote.webelement.WebElement (session=\"647b71c33d9fb4aab1fa53bd41cb028a\", element=\"e11646b9-7f46-4f82-8515-75bc7c97058c\")>,\n",
       " <selenium.webdriver.remote.webelement.WebElement (session=\"647b71c33d9fb4aab1fa53bd41cb028a\", element=\"58ff77d7-78df-4148-be36-df98d01e7ad5\")>,\n",
       " <selenium.webdriver.remote.webelement.WebElement (session=\"647b71c33d9fb4aab1fa53bd41cb028a\", element=\"5970fe11-8531-400f-94e3-33e9c1e3f798\")>,\n",
       " <selenium.webdriver.remote.webelement.WebElement (session=\"647b71c33d9fb4aab1fa53bd41cb028a\", element=\"dc2a4ad0-c29d-4f4f-b5df-7375656272f4\")>,\n",
       " <selenium.webdriver.remote.webelement.WebElement (session=\"647b71c33d9fb4aab1fa53bd41cb028a\", element=\"a1c5a271-6818-4be4-b3fb-968d1b666fa6\")>,\n",
       " <selenium.webdriver.remote.webelement.WebElement (session=\"647b71c33d9fb4aab1fa53bd41cb028a\", element=\"4444fa09-9724-4d74-aa3d-5a8be78b86f7\")>,\n",
       " <selenium.webdriver.remote.webelement.WebElement (session=\"647b71c33d9fb4aab1fa53bd41cb028a\", element=\"586f3e3a-af45-4733-a6bb-e66307aad353\")>]"
      ]
     },
     "execution_count": 11,
     "metadata": {},
     "output_type": "execute_result"
    }
   ],
   "source": [
    "experience = driver.find_elements_by_xpath(\"//li[@class = 'fleft grey-text br2 placeHolderLi experience']\")\n",
    "experience"
   ]
  },
  {
   "cell_type": "code",
   "execution_count": 12,
   "metadata": {},
   "outputs": [
    {
     "name": "stdout",
     "output_type": "stream",
     "text": [
      "2-5 Yrs\n",
      "5-8 Yrs\n",
      "1-2 Yrs\n",
      "3-6 Yrs\n",
      "3-5 Yrs\n",
      "5-8 Yrs\n",
      "3-5 Yrs\n",
      "5-8 Yrs\n",
      "5-8 Yrs\n",
      "5-8 Yrs\n",
      "5-8 Yrs\n",
      "5-8 Yrs\n",
      "5-8 Yrs\n",
      "2-5 Yrs\n",
      "2-5 Yrs\n",
      "3-6 Yrs\n",
      "3-5 Yrs\n",
      "5-8 Yrs\n",
      "3-5 Yrs\n",
      "5-8 Yrs\n"
     ]
    }
   ],
   "source": [
    "for i in experience:\n",
    "    print(i.text)"
   ]
  },
  {
   "cell_type": "code",
   "execution_count": 13,
   "metadata": {},
   "outputs": [
    {
     "name": "stdout",
     "output_type": "stream",
     "text": [
      "Data Analyst Analyzing Bangalore/Bengaluru Cistup Indian Institute of Science 2-5 Yrs\n",
      "Senior Analyst-Data Visualization Bangalore/Bengaluru Accenture Solutions Pvt Ltd 5-8 Yrs\n",
      "Market Unit - Data Business Analyst (11) Bangalore/Bengaluru Accenture Solutions Pvt Ltd 1-2 Yrs\n",
      "Data Analyst Bangalore/Bengaluru Myntra Designs Pvt. Ltd. 3-6 Yrs\n",
      "Analyst-Finance Data Maintenance Bangalore/Bengaluru Accenture Solutions Pvt Ltd 3-5 Yrs\n",
      "Senior Analyst-Data Management Bangalore/Bengaluru Accenture Solutions Pvt Ltd 5-8 Yrs\n",
      "Analyst-Data Management Bangalore/Bengaluru Accenture Solutions Pvt Ltd 3-5 Yrs\n",
      "Senior Analyst-Data Management Bangalore/Bengaluru Accenture Solutions Pvt Ltd 5-8 Yrs\n",
      "Senior Analyst-Data Visualization Bangalore/Bengaluru Accenture Solutions Pvt Ltd 5-8 Yrs\n",
      "Senior Analyst-Finance Data Maintenance Bangalore/Bengaluru Accenture Solutions Pvt Ltd 5-8 Yrs\n"
     ]
    }
   ],
   "source": [
    "for i in range(10):\n",
    "    print(title[i].text,location[i].text,company[i].text,experience[i].text)\n",
    "    df.loc[i] = [title[i].text,location[i].text,company[i].text,experience[i].text]"
   ]
  },
  {
   "cell_type": "code",
   "execution_count": 14,
   "metadata": {},
   "outputs": [
    {
     "data": {
      "text/html": [
       "<div>\n",
       "<style scoped>\n",
       "    .dataframe tbody tr th:only-of-type {\n",
       "        vertical-align: middle;\n",
       "    }\n",
       "\n",
       "    .dataframe tbody tr th {\n",
       "        vertical-align: top;\n",
       "    }\n",
       "\n",
       "    .dataframe thead th {\n",
       "        text-align: right;\n",
       "    }\n",
       "</style>\n",
       "<table border=\"1\" class=\"dataframe\">\n",
       "  <thead>\n",
       "    <tr style=\"text-align: right;\">\n",
       "      <th></th>\n",
       "      <th>job-title</th>\n",
       "      <th>job-location</th>\n",
       "      <th>company_name</th>\n",
       "      <th>experience_required</th>\n",
       "    </tr>\n",
       "  </thead>\n",
       "  <tbody>\n",
       "    <tr>\n",
       "      <th>0</th>\n",
       "      <td>Data Analyst Analyzing</td>\n",
       "      <td>Bangalore/Bengaluru</td>\n",
       "      <td>Cistup Indian Institute of Science</td>\n",
       "      <td>2-5 Yrs</td>\n",
       "    </tr>\n",
       "    <tr>\n",
       "      <th>1</th>\n",
       "      <td>Senior Analyst-Data Visualization</td>\n",
       "      <td>Bangalore/Bengaluru</td>\n",
       "      <td>Accenture Solutions Pvt Ltd</td>\n",
       "      <td>5-8 Yrs</td>\n",
       "    </tr>\n",
       "    <tr>\n",
       "      <th>2</th>\n",
       "      <td>Market Unit - Data Business Analyst (11)</td>\n",
       "      <td>Bangalore/Bengaluru</td>\n",
       "      <td>Accenture Solutions Pvt Ltd</td>\n",
       "      <td>1-2 Yrs</td>\n",
       "    </tr>\n",
       "    <tr>\n",
       "      <th>3</th>\n",
       "      <td>Data Analyst</td>\n",
       "      <td>Bangalore/Bengaluru</td>\n",
       "      <td>Myntra Designs Pvt. Ltd.</td>\n",
       "      <td>3-6 Yrs</td>\n",
       "    </tr>\n",
       "    <tr>\n",
       "      <th>4</th>\n",
       "      <td>Analyst-Finance Data Maintenance</td>\n",
       "      <td>Bangalore/Bengaluru</td>\n",
       "      <td>Accenture Solutions Pvt Ltd</td>\n",
       "      <td>3-5 Yrs</td>\n",
       "    </tr>\n",
       "    <tr>\n",
       "      <th>5</th>\n",
       "      <td>Senior Analyst-Data Management</td>\n",
       "      <td>Bangalore/Bengaluru</td>\n",
       "      <td>Accenture Solutions Pvt Ltd</td>\n",
       "      <td>5-8 Yrs</td>\n",
       "    </tr>\n",
       "    <tr>\n",
       "      <th>6</th>\n",
       "      <td>Analyst-Data Management</td>\n",
       "      <td>Bangalore/Bengaluru</td>\n",
       "      <td>Accenture Solutions Pvt Ltd</td>\n",
       "      <td>3-5 Yrs</td>\n",
       "    </tr>\n",
       "    <tr>\n",
       "      <th>7</th>\n",
       "      <td>Senior Analyst-Data Management</td>\n",
       "      <td>Bangalore/Bengaluru</td>\n",
       "      <td>Accenture Solutions Pvt Ltd</td>\n",
       "      <td>5-8 Yrs</td>\n",
       "    </tr>\n",
       "    <tr>\n",
       "      <th>8</th>\n",
       "      <td>Senior Analyst-Data Visualization</td>\n",
       "      <td>Bangalore/Bengaluru</td>\n",
       "      <td>Accenture Solutions Pvt Ltd</td>\n",
       "      <td>5-8 Yrs</td>\n",
       "    </tr>\n",
       "    <tr>\n",
       "      <th>9</th>\n",
       "      <td>Senior Analyst-Finance Data Maintenance</td>\n",
       "      <td>Bangalore/Bengaluru</td>\n",
       "      <td>Accenture Solutions Pvt Ltd</td>\n",
       "      <td>5-8 Yrs</td>\n",
       "    </tr>\n",
       "  </tbody>\n",
       "</table>\n",
       "</div>"
      ],
      "text/plain": [
       "                                  job-title         job-location  \\\n",
       "0                    Data Analyst Analyzing  Bangalore/Bengaluru   \n",
       "1         Senior Analyst-Data Visualization  Bangalore/Bengaluru   \n",
       "2  Market Unit - Data Business Analyst (11)  Bangalore/Bengaluru   \n",
       "3                              Data Analyst  Bangalore/Bengaluru   \n",
       "4          Analyst-Finance Data Maintenance  Bangalore/Bengaluru   \n",
       "5            Senior Analyst-Data Management  Bangalore/Bengaluru   \n",
       "6                   Analyst-Data Management  Bangalore/Bengaluru   \n",
       "7            Senior Analyst-Data Management  Bangalore/Bengaluru   \n",
       "8         Senior Analyst-Data Visualization  Bangalore/Bengaluru   \n",
       "9   Senior Analyst-Finance Data Maintenance  Bangalore/Bengaluru   \n",
       "\n",
       "                         company_name experience_required  \n",
       "0  Cistup Indian Institute of Science             2-5 Yrs  \n",
       "1         Accenture Solutions Pvt Ltd             5-8 Yrs  \n",
       "2         Accenture Solutions Pvt Ltd             1-2 Yrs  \n",
       "3            Myntra Designs Pvt. Ltd.             3-6 Yrs  \n",
       "4         Accenture Solutions Pvt Ltd             3-5 Yrs  \n",
       "5         Accenture Solutions Pvt Ltd             5-8 Yrs  \n",
       "6         Accenture Solutions Pvt Ltd             3-5 Yrs  \n",
       "7         Accenture Solutions Pvt Ltd             5-8 Yrs  \n",
       "8         Accenture Solutions Pvt Ltd             5-8 Yrs  \n",
       "9         Accenture Solutions Pvt Ltd             5-8 Yrs  "
      ]
     },
     "execution_count": 14,
     "metadata": {},
     "output_type": "execute_result"
    }
   ],
   "source": [
    "df"
   ]
  },
  {
   "cell_type": "code",
   "execution_count": 15,
   "metadata": {},
   "outputs": [],
   "source": [
    "driver.quit()"
   ]
  },
  {
   "cell_type": "markdown",
   "metadata": {},
   "source": [
    "# 2. # Q2: Write a python program to scrape data for “Data Scientist” Job position in “Bangalore” location. You have to scrape the job-title, job-location, company_name, full job-description. You have to scrape first 10 jobs data."
   ]
  },
  {
   "cell_type": "code",
   "execution_count": 16,
   "metadata": {},
   "outputs": [],
   "source": [
    "#2. Enter “Data Scientist” in “Skill,Designations,Companies” field and enter “Bangalore” in “enter the location” field.\n",
    "#3. Then click the search button."
   ]
  },
  {
   "cell_type": "code",
   "execution_count": 17,
   "metadata": {},
   "outputs": [],
   "source": [
    "driver = webdriver.Chrome(r\"D:\\softs & utilities\\chromedriver.exe\")\n",
    "#1. first get the webpage https://www.naukri.com/\n",
    "driver.get(\"https://www.naukri.com/\")"
   ]
  },
  {
   "cell_type": "code",
   "execution_count": 18,
   "metadata": {},
   "outputs": [],
   "source": [
    "search_job = driver.find_element_by_id(\"qsb-keyword-sugg\")\n",
    "search_job.send_keys(\"data scientist\")\n",
    "loc_job = driver.find_element_by_id(\"qsb-location-sugg\")\n",
    "loc_job.send_keys(\"Bangalore/Bengaluru\")\n",
    "btn = driver.find_element_by_class_name(\"btn\")\n",
    "btn.click()"
   ]
  },
  {
   "cell_type": "code",
   "execution_count": 19,
   "metadata": {},
   "outputs": [],
   "source": [
    "df = pd.DataFrame(columns=['job-title', 'job-location', 'company_name', 'experience_required'])"
   ]
  },
  {
   "cell_type": "code",
   "execution_count": 20,
   "metadata": {},
   "outputs": [],
   "source": [
    "#4. Then scrape the data for the first 10 jobs results you get.\n",
    "#5. Finally create a dataframe of the scraped data."
   ]
  },
  {
   "cell_type": "code",
   "execution_count": 21,
   "metadata": {},
   "outputs": [],
   "source": [
    "title = driver.find_elements_by_xpath(\"//a[@class = 'title fw500 ellipsis']\")\n",
    "#title"
   ]
  },
  {
   "cell_type": "code",
   "execution_count": 22,
   "metadata": {},
   "outputs": [],
   "source": [
    "location = driver.find_elements_by_xpath(\"//li[@class = 'fleft grey-text br2 placeHolderLi location']\")\n",
    "#location"
   ]
  },
  {
   "cell_type": "code",
   "execution_count": 23,
   "metadata": {},
   "outputs": [],
   "source": [
    "company = driver.find_elements_by_xpath(\"//a[@class = 'subTitle ellipsis fleft']\")\n",
    "#company"
   ]
  },
  {
   "cell_type": "code",
   "execution_count": 24,
   "metadata": {},
   "outputs": [],
   "source": [
    "experience = driver.find_elements_by_xpath(\"//li[@class = 'fleft grey-text br2 placeHolderLi experience']\")\n",
    "#experience"
   ]
  },
  {
   "cell_type": "code",
   "execution_count": 25,
   "metadata": {},
   "outputs": [],
   "source": [
    "for i in range(10):\n",
    "    df.loc[i] = [title[i].text,location[i].text,company[i].text,experience[i].text]"
   ]
  },
  {
   "cell_type": "code",
   "execution_count": 26,
   "metadata": {},
   "outputs": [
    {
     "data": {
      "text/html": [
       "<div>\n",
       "<style scoped>\n",
       "    .dataframe tbody tr th:only-of-type {\n",
       "        vertical-align: middle;\n",
       "    }\n",
       "\n",
       "    .dataframe tbody tr th {\n",
       "        vertical-align: top;\n",
       "    }\n",
       "\n",
       "    .dataframe thead th {\n",
       "        text-align: right;\n",
       "    }\n",
       "</style>\n",
       "<table border=\"1\" class=\"dataframe\">\n",
       "  <thead>\n",
       "    <tr style=\"text-align: right;\">\n",
       "      <th></th>\n",
       "      <th>job-title</th>\n",
       "      <th>job-location</th>\n",
       "      <th>company_name</th>\n",
       "      <th>experience_required</th>\n",
       "    </tr>\n",
       "  </thead>\n",
       "  <tbody>\n",
       "    <tr>\n",
       "      <th>0</th>\n",
       "      <td>Data Scientist</td>\n",
       "      <td>Bangalore/Bengaluru</td>\n",
       "      <td>CronJ IT Technologies Private Limited</td>\n",
       "      <td>0-1 Yrs</td>\n",
       "    </tr>\n",
       "    <tr>\n",
       "      <th>1</th>\n",
       "      <td>Opportunity For Data Scientist Internship - Be...</td>\n",
       "      <td>Bangalore/Bengaluru</td>\n",
       "      <td>Corner Stone Solutions</td>\n",
       "      <td>0-1 Yrs</td>\n",
       "    </tr>\n",
       "    <tr>\n",
       "      <th>2</th>\n",
       "      <td>Data Scientist/ Analyst</td>\n",
       "      <td>Bangalore/Bengaluru</td>\n",
       "      <td>Becton Dickinson India Pvt. Ltd</td>\n",
       "      <td>5-10 Yrs</td>\n",
       "    </tr>\n",
       "    <tr>\n",
       "      <th>3</th>\n",
       "      <td>Data Scientist - Machine Learning</td>\n",
       "      <td>Bangalore/Bengaluru</td>\n",
       "      <td>AugmatrixGo</td>\n",
       "      <td>2-5 Yrs</td>\n",
       "    </tr>\n",
       "    <tr>\n",
       "      <th>4</th>\n",
       "      <td>Data Scientist || Data Analyst || Data science</td>\n",
       "      <td>Navi Mumbai, Bangalore/Bengaluru</td>\n",
       "      <td>Inspiration Manpower Consultancy Pvt. Ltd.</td>\n",
       "      <td>6-11 Yrs</td>\n",
       "    </tr>\n",
       "    <tr>\n",
       "      <th>5</th>\n",
       "      <td>DBCG IND - GAMMA Senior Data Scientist</td>\n",
       "      <td>Mumbai, New Delhi, Chennai, Bangalore/Bengaluru</td>\n",
       "      <td>Boston Consulting Group</td>\n",
       "      <td>6-10 Yrs</td>\n",
       "    </tr>\n",
       "    <tr>\n",
       "      <th>6</th>\n",
       "      <td>Data Scientist/Senior Data Scientist</td>\n",
       "      <td>Hyderabad/Secunderabad, Pune, Chennai, Bangalo...</td>\n",
       "      <td>GANIT BUSINESS SOLUTIONS PRIVATE LIMITED</td>\n",
       "      <td>4-8 Yrs</td>\n",
       "    </tr>\n",
       "    <tr>\n",
       "      <th>7</th>\n",
       "      <td>Senior Data Scientist | CES IT LTD | CMMI Level 5</td>\n",
       "      <td>Kolkata, Mumbai, Hyderabad/Secunderabad, Pune,...</td>\n",
       "      <td>CES Ltd.</td>\n",
       "      <td>2-7 Yrs</td>\n",
       "    </tr>\n",
       "    <tr>\n",
       "      <th>8</th>\n",
       "      <td>Global Medical Data Scientist</td>\n",
       "      <td>Bangalore/Bengaluru</td>\n",
       "      <td>GlaxoSmithKline Pharmaceuticals Limited</td>\n",
       "      <td>5-10 Yrs</td>\n",
       "    </tr>\n",
       "    <tr>\n",
       "      <th>9</th>\n",
       "      <td>Associate Data Scientist - CRM &amp; Loyalty</td>\n",
       "      <td>Bangalore/Bengaluru</td>\n",
       "      <td>Shell India Markets Private Limited</td>\n",
       "      <td>3-5 Yrs</td>\n",
       "    </tr>\n",
       "  </tbody>\n",
       "</table>\n",
       "</div>"
      ],
      "text/plain": [
       "                                           job-title  \\\n",
       "0                                     Data Scientist   \n",
       "1  Opportunity For Data Scientist Internship - Be...   \n",
       "2                            Data Scientist/ Analyst   \n",
       "3                  Data Scientist - Machine Learning   \n",
       "4     Data Scientist || Data Analyst || Data science   \n",
       "5             DBCG IND - GAMMA Senior Data Scientist   \n",
       "6               Data Scientist/Senior Data Scientist   \n",
       "7  Senior Data Scientist | CES IT LTD | CMMI Level 5   \n",
       "8                      Global Medical Data Scientist   \n",
       "9           Associate Data Scientist - CRM & Loyalty   \n",
       "\n",
       "                                        job-location  \\\n",
       "0                                Bangalore/Bengaluru   \n",
       "1                                Bangalore/Bengaluru   \n",
       "2                                Bangalore/Bengaluru   \n",
       "3                                Bangalore/Bengaluru   \n",
       "4                   Navi Mumbai, Bangalore/Bengaluru   \n",
       "5    Mumbai, New Delhi, Chennai, Bangalore/Bengaluru   \n",
       "6  Hyderabad/Secunderabad, Pune, Chennai, Bangalo...   \n",
       "7  Kolkata, Mumbai, Hyderabad/Secunderabad, Pune,...   \n",
       "8                                Bangalore/Bengaluru   \n",
       "9                                Bangalore/Bengaluru   \n",
       "\n",
       "                                 company_name experience_required  \n",
       "0       CronJ IT Technologies Private Limited             0-1 Yrs  \n",
       "1                      Corner Stone Solutions             0-1 Yrs  \n",
       "2             Becton Dickinson India Pvt. Ltd            5-10 Yrs  \n",
       "3                                 AugmatrixGo             2-5 Yrs  \n",
       "4  Inspiration Manpower Consultancy Pvt. Ltd.            6-11 Yrs  \n",
       "5                     Boston Consulting Group            6-10 Yrs  \n",
       "6    GANIT BUSINESS SOLUTIONS PRIVATE LIMITED             4-8 Yrs  \n",
       "7                                    CES Ltd.             2-7 Yrs  \n",
       "8     GlaxoSmithKline Pharmaceuticals Limited            5-10 Yrs  \n",
       "9         Shell India Markets Private Limited             3-5 Yrs  "
      ]
     },
     "execution_count": 26,
     "metadata": {},
     "output_type": "execute_result"
    }
   ],
   "source": [
    "driver.quit()\n",
    "df"
   ]
  },
  {
   "cell_type": "markdown",
   "metadata": {},
   "source": [
    "# 3. 2.Please note that you have to scrape full job description. For that you may have to open each job separately as shown below"
   ]
  },
  {
   "cell_type": "code",
   "execution_count": 46,
   "metadata": {},
   "outputs": [],
   "source": [
    "driver = webdriver.Chrome(r\"D:\\softs & utilities\\chromedriver.exe\")\n",
    "#1. first get the webpage https://www.naukri.com/\n",
    "driver.get(\"https://www.naukri.com/\")\n",
    "#driver.manage().window().maximize();\n",
    "driver.maximize_window()"
   ]
  },
  {
   "cell_type": "code",
   "execution_count": 47,
   "metadata": {},
   "outputs": [],
   "source": [
    "search_job = driver.find_element_by_id(\"qsb-keyword-sugg\")\n",
    "search_job.send_keys(\"data scientist\")\n",
    "loc_job = driver.find_element_by_id(\"qsb-location-sugg\")\n",
    "loc_job.send_keys(\"Bangalore/Bengaluru\")\n",
    "btn = driver.find_element_by_class_name(\"btn\")\n",
    "btn.click()"
   ]
  },
  {
   "cell_type": "code",
   "execution_count": 48,
   "metadata": {},
   "outputs": [
    {
     "name": "stdout",
     "output_type": "stream",
     "text": [
      "Empty DataFrame\n",
      "Columns: [JD]\n",
      "Index: []\n"
     ]
    }
   ],
   "source": [
    "df = pd.DataFrame(columns=['JD'])\n",
    "print(df)"
   ]
  },
  {
   "cell_type": "code",
   "execution_count": 49,
   "metadata": {},
   "outputs": [
    {
     "name": "stdout",
     "output_type": "stream",
     "text": [
      "Job description\n",
      "Role Brief:\n",
      "As a NLP Data Scientist in the Consumer analytics team, you will be building solutions that require analyzing and transforming natural language data into useful features using NLP techniques. To succeed in this role, you should possess outstanding skills in statistical analysis, machine learning methods and text representation techniques.\n",
      "Responsibilities:\n",
      "Build Solutions that identify intent and other features from user comments, chat transcript and other unstructured text data.\n",
      "Design NLP applications\n",
      "Identify appropriate annotated datasets for Supervised Learning methods\n",
      "Use effective text representations to transform natural language into useful features\n",
      "Find and implement the right algorithms and tools for NLP tasks\n",
      "Train the developed model and run evaluation experiments\n",
      "Perform statistical analysis of results and refine models\n",
      "Basic logical pseudo code writing\n",
      "You will need to have:\n",
      "Experience of design, building and deployment of ML/NLP Solutions\n",
      "Proficient in Python\n",
      "Experience in NLP tools like Gensim, spacy, Stanford NLP\n",
      "Hands on with Deep learning frameworks like Keras, Pytorch, Tensorflow\n",
      "Experience automating data within Tableau/Qlik/ggplot/Shiny to tell a story through interactive visualizations\n",
      "\n",
      "\n",
      "RoleBio/Pharma Informatics-Associate/Scientist\n",
      "Industry TypeStrategy, Management Consulting Firms\n",
      "Functional AreaMedical, Healthcare, R&D, Pharmaceuticals, Biotechnology\n",
      "Employment TypeFull Time, Permanent\n",
      "Role CategoryR&D\n",
      "Education\n",
      "UG :Any Graduate in Any Specialization\n",
      "PG :Post Graduation Not Required\n",
      "Key Skills\n",
      "deep learningcustomer analyticsStatistical analysisExecutiveDiagnosticsArtificial IntelligenceMachine learningData analyticsAnalyticsPython\n"
     ]
    }
   ],
   "source": [
    "title = driver.find_elements_by_xpath(\"//a[@class = 'title fw500 ellipsis']\")\n",
    "href = title[0].get_attribute('href')\n",
    "driver.get(href)\n",
    "try:\n",
    "    jd = driver.find_element_by_xpath(\"//section[@class = 'job-desc']\")\n",
    "except:\n",
    "    try:\n",
    "        jd = driver.find_element_by_xpath(\"//section[@class = 'oh job-desc']\")\n",
    "    except:\n",
    "        jd = driver.find_element_by_xpath(\"//div[@class = 'clearboth description']\")\n",
    "df['JD'].loc[0] = jd.text\n",
    "print(jd.text)\n",
    "driver.back()"
   ]
  },
  {
   "cell_type": "code",
   "execution_count": 52,
   "metadata": {},
   "outputs": [
    {
     "name": "stdout",
     "output_type": "stream",
     "text": [
      "Job description\n",
      "Location - Bangalore / Bengaluru\n",
      "Duration- 6 Months\n",
      "Responsibilities and Duties\n",
      "Create innovative solutions using data across sales, health care and related fields for building object detection models, chatbots, classification models etc.\n",
      "Familiarity with deep learning algorithms and frameworks like Pytorch, Keras, TensorFlow.\n",
      "Good to go with NLP and NLTK\n",
      "Day-to-day responsibilities include use, customize and create algorithms for specific tasks in data science.\n",
      "Get exposed to and work on cutting-edge products based on ML and AI to create innovative industry solutions..\n",
      "Work on real-life projects involving Computer Vision, NLP and other AI techniques,\n",
      "Using innovative ideas to collect, curate or synthesize data.\n",
      "Model the problem into an ML/DL framework.\n",
      "Deploy models to real time staging servers.\n",
      "Flexibility in working independently and do needful research whenever required.\n",
      "Required Experience, Skills and Qualifications\n",
      "Knowledge of Python\n",
      "Knowledge in libraries like OpenCV, Scikit Learn, NumPy etc.\n",
      "Understanding of different frameworks like Pytorch, TensorFlow, Keras etc.\n",
      "Knowledge on NLP\n",
      "Good Knowledge on OOP and programing in python adapting to requirement\n",
      "Understanding of aws\n",
      "Understanding of any annotation tool\n",
      "Ability to write robust and testable code.\n",
      "Strong knowledge in computer science fundamentals, algorithms, mathematics, linear algebra, probability and statistics.\n",
      "Strong communication skills.\n",
      "An analytical mind with problem-solving abilities.\n",
      "Degree in Computer Science, Mathematics, Computational Linguistics or similar field.\n",
      "Qualification:\n",
      "\n",
      "Looking for IIT, IIIT IISc, NIT, BIT & Equivalent colleges (Preferred)\n",
      "RoleSoftware Developer\n",
      "Industry TypeIT-Software, Software Services\n",
      "Functional AreaIT Software - Application Programming, Maintenance\n",
      "Employment TypeFull Time, Temporary/Contractual\n",
      "Role CategoryProgramming & Design\n",
      "Education\n",
      "UG :B.Tech/B.E. in Any Specialization\n",
      "PG :M.Tech in Any Specialization\n",
      "Key Skills\n",
      "NLPOpencvArtificial Intelligence\n",
      "Data ScienceRtensorflowAlgorithmsMATLABLinear AlgebraPython\n",
      "Skills highlighted with ‘‘ are preferred keyskills\n"
     ]
    }
   ],
   "source": [
    "title = driver.find_elements_by_xpath(\"//a[@class = 'title fw500 ellipsis']\")\n",
    "href = title[1].get_attribute('href')\n",
    "driver.get(href)\n",
    "try:\n",
    "    jd = driver.find_element_by_xpath(\"//section[@class = 'job-desc']\")\n",
    "except:\n",
    "    try:\n",
    "        jd = driver.find_element_by_xpath(\"//section[@class = 'oh job-desc']\")\n",
    "    except:\n",
    "        jd = driver.find_element_by_xpath(\"//div[@class = 'clearboth description']\")\n",
    "df['JD'].loc[1] = jd.text\n",
    "print(jd.text)\n",
    "driver.back()"
   ]
  },
  {
   "cell_type": "code",
   "execution_count": 53,
   "metadata": {},
   "outputs": [
    {
     "name": "stdout",
     "output_type": "stream",
     "text": [
      "Job description\n",
      "Principal Data Scientist - Product Development Firm\n",
      "About the opportunity :\n",
      "\n",
      "The client is building up a whole new large-scale SaaS platform. At the heart of this next gen marketing solution is an analytics engine that supports multiple predictive, optimization and simulation algorithms. You will collaborate closely with internal teams to develop programmatic algorithms to support marketing measurement, simulation, and optimization. You will be tasked with our most challenging problems, designing and building innovative high-quality solutions that are secure, scalable, and reliable.\n",
      "\n",
      "The opportunity to make a significant impact through the prototype development and leading a product launch team is precisely what makes the job rewarding. You will be working with Product Managers, R&D, Analysts, and other teams to understand their requirements, define what needs to change and present. Operating in an agile environment, you will be helping to design and build Machine Learning algorithms including but not limited to persona classification, attribution, optimization, simulation and develop analysis to support all things related to marketing measurement.\n",
      "\n",
      "Job Description:\n",
      "\n",
      "As a Principal Data Scientist, you will be responsible for:\n",
      "\n",
      "1. Design and develop appropriate modeling frameworks.\n",
      "\n",
      "2. Own the analytics data engineering to develop supporting algorithms.\n",
      "\n",
      "3. Develop programmatic algorithms to support marketing attribution and optimization.\n",
      "\n",
      "4. Develop algorithms to support all things related to marketing analysis and planning.\n",
      "\n",
      "5. Own the User Acceptance testing as the product is developed in an agile environment.\n",
      "\n",
      "6. Consult with the product and technology team on product roadmap and development plans.\n",
      "\n",
      "7. Develop wireframes to present marketing analysis, simulation and planning to the tech team.\n",
      "\n",
      "Required Education and Experience:\n",
      "\n",
      "We are primarily interested in your experience in marketing analytics, with expert level experience in developing ML algorithms and experience with product development companies is a must.\n",
      "\n",
      "Education & Experience:\n",
      "\n",
      "1. 10+ years of relevant experience\n",
      "\n",
      "2. Or 8+ years of relevant experience and a Master's degree in Math, Statistics or Analytics\n",
      "\n",
      "Technical Experience:\n",
      "\n",
      "1. Expert level skills in Python and R\n",
      "\n",
      "2. Proficiency in various analytics platforms\n",
      "\n",
      "3. Experience in data engineering at enterprise database scale\n",
      "\n",
      "4. Expertise in AI/ML integration with product and analytics engines.\n",
      "\n",
      "5. Proven experience in developing programmatic ML/AI algorithms.\n",
      "\n",
      "6. Expert level skills in various analytical and optimization techniques.\n",
      "\n",
      "7. Experience in developing enterprise analytics products is highly desirable.\n",
      "\n",
      "8. Experience in Marketing is highly desirable and must include Retail / CPG / Telecom\n",
      "RoleData Analyst\n",
      "Industry TypeIT-Software, Software Services\n",
      "Functional AreaAnalytics & Business Intelligence\n",
      "Employment TypeFull Time, Permanent\n",
      "Role CategoryAnalytics & BI\n",
      "Education\n",
      "UG :Any Graduate in Any Specialization\n",
      "PG :MS/M.Sc(Science) in Statistics, Maths, M.A in Maths, Statistics\n",
      "Doctorate :Doctorate Not Required\n",
      "Key Skills\n",
      "Data ScienceData ScientistArtificial IntelligenceData ManagementData ArchitectData ModelingData AnalyticsMachine LearningAnalyticsPython\n"
     ]
    }
   ],
   "source": [
    "title = driver.find_elements_by_xpath(\"//a[@class = 'title fw500 ellipsis']\")\n",
    "href = title[2].get_attribute('href')\n",
    "driver.get(href)\n",
    "try:\n",
    "    jd = driver.find_element_by_xpath(\"//section[@class = 'job-desc']\")\n",
    "except:\n",
    "    try:\n",
    "        jd = driver.find_element_by_xpath(\"//section[@class = 'oh job-desc']\")\n",
    "    except:\n",
    "        jd = driver.find_element_by_xpath(\"//div[@class = 'clearboth description']\")\n",
    "df['JD'].loc[2] = jd.text\n",
    "print(jd.text)\n",
    "driver.back()"
   ]
  },
  {
   "cell_type": "code",
   "execution_count": 54,
   "metadata": {},
   "outputs": [
    {
     "name": "stdout",
     "output_type": "stream",
     "text": [
      "Job description\n",
      "Roles and Responsibilities\n",
      "\n",
      "\n",
      "- Selecting features, building and optimizing classifiers using machine learning techniques\n",
      "\n",
      "- Data mining using state-of-the-art methods\n",
      "\n",
      "- Enhancing data collection procedures to include information that is relevant for building analytic systems\n",
      "\n",
      "- Processing, cleansing, and verifying the integrity of data used for analysis\n",
      "\n",
      "- Doing ad-hoc analysis and presenting results in a clear manner\n",
      "\n",
      "- Creating automated anomaly detection systems and constant tracking of its performance\n",
      "\n",
      "Skills Required :\n",
      "\n",
      "- Excellent understanding of machine learning techniques and algorithms, such as k-NN, Naive Bayes, SVM, Decision Forests, etc.\n",
      "\n",
      "- Experiences with one or more of the following is highly desirable: HPC/Parallelization, operationalizing ML models; cloud computing (e.g. Google Cloud, AWS, etc.); familiarity with ML frameworks such as Tensorflow, Theano, MXNet, etc\n",
      "\n",
      "- Good experience in a few of the following areas: deep neural networks, reinforcement learning, Markov Random Fields, Bayesian networks, semi-supervised learning, computer vision, image processing, signal processing, distributed computing, and/or numerical optimization\n",
      "\n",
      "- 2+ years of experience with computer vision and deep learning solutions, including image classification, object detection, segmentation, and equivalent computer vision-based vision tasks\n",
      "\n",
      "- Experience with common data science toolkits, such as R, Weka, NumPy, etc . Excellence in at least one of these is highly desirable\n",
      "\n",
      "- Proficiency in using query languages such as SQL, Hive, Pig\n",
      "\n",
      "- Good applied statistics skills, such as distributions, statistical testing, regression, etc.\n",
      "\n",
      "- Good scripting and programming skills\n",
      "\n",
      "- Data-oriented personality\n",
      "\n",
      "- B.Tech/M.Tech degree in from reputed institutes like IIT / NIT / BITS\n",
      "RoleData Analyst\n",
      "Industry TypeIT-Software, Software Services\n",
      "Functional AreaAnalytics & Business Intelligence\n",
      "Employment TypeFull Time, Permanent\n",
      "Role CategoryAnalytics & BI\n",
      "Education\n",
      "UG :B.Tech/B.E. in Any Specialization\n",
      "PG :M.Tech in Any Specialization\n",
      "Doctorate :Doctorate Not Required\n",
      "Key Skills\n",
      "HiveRCloud ComputingData ScientistComputer VisionMachine LearningDeep LearningSQLPig\n"
     ]
    }
   ],
   "source": [
    "title = driver.find_elements_by_xpath(\"//a[@class = 'title fw500 ellipsis']\")\n",
    "href = title[3].get_attribute('href')\n",
    "driver.get(href)\n",
    "try:\n",
    "    jd = driver.find_element_by_xpath(\"//section[@class = 'job-desc']\")\n",
    "except:\n",
    "    try:\n",
    "        jd = driver.find_element_by_xpath(\"//section[@class = 'oh job-desc']\")\n",
    "    except:\n",
    "        jd = driver.find_element_by_xpath(\"//div[@class = 'clearboth description']\")\n",
    "df['JD'].loc[3] = jd.text\n",
    "print(jd.text)\n",
    "driver.back()"
   ]
  },
  {
   "cell_type": "code",
   "execution_count": 55,
   "metadata": {},
   "outputs": [
    {
     "name": "stdout",
     "output_type": "stream",
     "text": [
      "Job description\n",
      "Job description\n",
      "Job Summary and Key Responsibilities\n",
      "Manage, architect, and analyze big data to build data driven business insights and high impact data models to generate significant business value. Create models and processes to collect, distill and interpret data with a view to aid better, more informed decision making. Examine and explore data from multiple disparate sources with the goal of discovering insights which in turn can provide competitive advantage for our stakeholders.\n",
      "The role involves but not limited to the following:\n",
      "Create insights from predictive statistical modeling, mathematical knowledge, tools, and techniques to solve complex problems and deliver value\n",
      "Collaborate with Accenture teams to address business issues and influence change using strategy, industry, and analytical skills\n",
      "Deliver large-scale programs that integrate processes with technology to help clients achieve high performance\n",
      "Mining and EDA of large datasets to assist in developing analytics solution\n",
      "Individual contributor and/or oversees a small work effort\n",
      "Work with minimal supervision on daily tasks and moderate level of instruction on new assignments\n",
      "Key Skills\n",
      "Must Have\n",
      "Analytical skills\n",
      "Knowledge of statistical techniques and machine learning algorithms\n",
      "Knowledge of analysis tools like R, Python\n",
      "Advanced Excel, PowerPoint skills\n",
      "Advanced communication (written and oral) and strong interpersonal skills\n",
      "Ability to work cross-culturally\n",
      "Good to have\n",
      "Knowledge on Google Cloud Platform\n",
      "Human Resources experience\n",
      "Additional Accenture HR systems experience\n",
      "Understanding of Text analysis, VBA, Java, Python, .Net and visualization tools like Qliksense, Qlikview, Tableau will be an added advantage\n",
      "Interested Candidates\n",
      "\n",
      "\n",
      "Please Contact: Geethanjali\n",
      "9900044693\n",
      "hr1@inspirationmanpower.co.in\n",
      "\n",
      "RoleData Analyst\n",
      "Industry TypeBPO, Call Centre, ITeS\n",
      "Functional AreaAnalytics & Business Intelligence\n",
      "Employment TypeFull Time, Permanent\n",
      "Role CategoryAnalytics & BI\n",
      "Education\n",
      "UG :Any Graduate in Any Specialization\n",
      "Key Skills\n",
      "Data ScienceJavaREDAStatistical ModelingData AnalysisBig DataTableauMachine LearningPython\n"
     ]
    }
   ],
   "source": [
    "title = driver.find_elements_by_xpath(\"//a[@class = 'title fw500 ellipsis']\")\n",
    "href = title[4].get_attribute('href')\n",
    "driver.get(href)\n",
    "try:\n",
    "    jd = driver.find_element_by_xpath(\"//section[@class = 'job-desc']\")\n",
    "except:\n",
    "    try:\n",
    "        jd = driver.find_element_by_xpath(\"//section[@class = 'oh job-desc']\")\n",
    "    except:\n",
    "        jd = driver.find_element_by_xpath(\"//div[@class = 'clearboth description']\")\n",
    "df['JD'].loc[4] = jd.text\n",
    "print(jd.text)\n",
    "driver.back()"
   ]
  },
  {
   "cell_type": "code",
   "execution_count": 56,
   "metadata": {},
   "outputs": [
    {
     "name": "stdout",
     "output_type": "stream",
     "text": [
      "Job description\n",
      "We are seeking sharp, energetic Data Scientists to help us keep pace with our global expansion. You ll be core member of a specialist team working on our Artificial Intelligence & Machine Learning stream. You bring your skills, experience and passion and we will give you the springboard for your ambitions.\n",
      "\n",
      "Data Scientist - AI ML Team Clari5 Come aboard our growing global team and work for a category leader with a market presence in 15 countries. You will work with some of the leading financial institutions worldwide who rely on our product innovation in helping them shield themselves against the global $4 trillion problem of financial fraud. We create customer-centric predictable enterprises and we do this by directing intelligence to the heart of every customer interaction. In real-time.\n",
      "\n",
      "The Role:\n",
      "\n",
      "Work as part of Clari5.ai team in defining, prototyping and implementing data science models/ algorithms as part of the product.\n",
      "\n",
      "Take ownership of the data science model end-to-end from data collection to model building to monitoring the model in production.\n",
      "\n",
      "Along with product managers and domain experts, own the business outcomes/ metrics which the data science model/ algorithm drives.\n",
      "\n",
      "Work with the product managers and engineering to define best practices for the team.\n",
      "\n",
      "Mentor junior colleagues and conduct internal workshops.\n",
      "\n",
      "Help to make data science and data-driven decision making a part of the organisation s DNA.\n",
      "\n",
      "Your Skills: Must have 3 8 years of experience working on model building.\n",
      "\n",
      "Solid understanding of the mathematics related to data science probability, statistics, linear algebra etc.\n",
      "\n",
      "Ability to understand business concerns and formulate them as technical problems that can be solved using data and math / stats / ML.\n",
      "\n",
      "Experience working as part of a product team, along with engineers and product managers, to define the problem and execute the data science solution.\n",
      "\n",
      "Must have built 2-3 end to end ML projects in the past.\n",
      "\n",
      "Knowledge of R or Python is a must.\n",
      "\n",
      "Strong hands on experience in working with SQL databases.\n",
      "\n",
      "Experience working with large data sets, coming from varied sources, is a plus\n",
      "\n",
      "Conceptual understanding of big data technologies (Hadoop / HDFS / Spark) is a plus.\n",
      "\n",
      "Prior experience in Natural Language Processing, Recommender Systems or Social Network Analysis is a huge plus.\n",
      "\n",
      "Bachelor s degree or equivalent combination of education and 3 years or more of experience.\n",
      "\n",
      "Bachelor s degree in Computer Science, Masters in Mathematics / Statistics preferred.\n",
      "RoleResearch Scientist\n",
      "Industry TypeIT-Software, Software Services\n",
      "Functional AreaMedical, Healthcare, R&D, Pharmaceuticals, Biotechnology\n",
      "Employment TypeFull Time, Permanent\n",
      "Role CategoryR&D\n",
      "Education\n",
      "UG :Any Graduate in Any Specialization\n",
      "PG :Any Postgraduate in Any Specialization\n",
      "Key Skills\n",
      "Computer scienceAutomationArtificial IntelligenceMachine learningData collectionRisk managementMonitoringSQLPythonCustomer interaction\n"
     ]
    }
   ],
   "source": [
    "title = driver.find_elements_by_xpath(\"//a[@class = 'title fw500 ellipsis']\")\n",
    "href = title[5].get_attribute('href')\n",
    "driver.get(href)\n",
    "try:\n",
    "    jd = driver.find_element_by_xpath(\"//section[@class = 'job-desc']\")\n",
    "except:\n",
    "    try:\n",
    "        jd = driver.find_element_by_xpath(\"//section[@class = 'oh job-desc']\")\n",
    "    except:\n",
    "        jd = driver.find_element_by_xpath(\"//div[@class = 'clearboth description']\")\n",
    "df['JD'].loc[5] = jd.text\n",
    "print(jd.text)\n",
    "driver.back()"
   ]
  },
  {
   "cell_type": "code",
   "execution_count": 57,
   "metadata": {},
   "outputs": [
    {
     "name": "stdout",
     "output_type": "stream",
     "text": [
      "Job description\n",
      "\n",
      "About Ganit Inc\n",
      "\n",
      "Founded by senior industry experts, Ganit is the fastest-growing data science company in Chennai with offices in Bengaluru, Mumbai & New Jersey.\n",
      "Ganit has flipped the data science value chain as we do not start with a technique but for us, consumption comes first. With this philosophy, we have successfully scaled from being a small start-up to a 200 resource company with clients in the US, Singapore, Africa, UAE, and India.\n",
      "We are looking for experienced data enthusiasts who can make the data talk to them.\n",
      "\n",
      "What you will be doing.\n",
      "\n",
      "Understand business problems and translate business requirements into technical requirements.\n",
      "\n",
      "Conduct complex data analysis to ensure data quality & reliability i.e., make the data talk by extracting, preparing, and transforming it.\n",
      "\n",
      "Identify, develop and implement statistical techniques and algorithms to address business challenges and add value to the organization.\n",
      "\n",
      "Gather requirements and communicate findings in the form of a meaningful story with the Stakeholders.\n",
      "\n",
      "Build & implement data models using predictive modeling techniques. Interact with clients and provide support for queries and delivery adoption.\n",
      "\n",
      "Lead and mentor data analysts.\n",
      "\n",
      "What we are looking for:\n",
      "Apart from your love for data and ability to code even while sleeping you would need the following.\n",
      "\n",
      "Minimum of 04 years of experience in designing and delivery of data science solutions.\n",
      "\n",
      "You should have successful projects in Manufacturing in your kitty to show-off. (Experience on manufacturing analytics is a MUST)\n",
      "\n",
      "Deep understanding of various statistical techniques, mathematical models, and algorithms to start the conversation with the data in hand.\n",
      "\n",
      "Ability to choose the right model for the data and translate that into a code using R, Python, VBA, SQL, etc.\n",
      "\n",
      "Bachelors/Masters degree in Engineering/Technology or\n",
      "MBA from Tier-1 B School or\n",
      "MSc. in Statistics or Mathematics\n",
      "\n",
      "What is in it for you:\n",
      "\n",
      "Be a part of building the biggest brand in Data science.\n",
      "An opportunity to be a part of a young and energetic team with a strong pedigree.\n",
      "Work on awesome projects across industries and learn from the best in the industry, while growing at a hyper rate.\n",
      "RoleData Analyst\n",
      "Industry TypeAutomobile, Auto Anciliary, Auto Components\n",
      "Functional AreaAnalytics & Business Intelligence\n",
      "Employment TypeFull Time, Permanent\n",
      "Role CategoryAnalytics & BI\n",
      "Education\n",
      "UG :Any Graduate in Any Specialization\n",
      "Key Skills\n",
      "Predictive ModelingManufacturing AnalyticsPython\n",
      "Data ScienceRData QualityAlgorithmsVBAData AnalysisAnamoly detectionStatisticsSQL\n",
      "Skills highlighted with ‘‘ are preferred keyskills\n"
     ]
    }
   ],
   "source": [
    "title = driver.find_elements_by_xpath(\"//a[@class = 'title fw500 ellipsis']\")\n",
    "href = title[6].get_attribute('href')\n",
    "driver.get(href)\n",
    "try:\n",
    "    jd = driver.find_element_by_xpath(\"//section[@class = 'job-desc']\")\n",
    "except:\n",
    "    try:\n",
    "        jd = driver.find_element_by_xpath(\"//section[@class = 'oh job-desc']\")\n",
    "    except:\n",
    "        jd = driver.find_element_by_xpath(\"//div[@class = 'clearboth description']\")\n",
    "df['JD'].loc[6] = jd.text\n",
    "print(jd.text)\n",
    "driver.back()"
   ]
  },
  {
   "cell_type": "code",
   "execution_count": 58,
   "metadata": {},
   "outputs": [
    {
     "name": "stdout",
     "output_type": "stream",
     "text": [
      "Job description\n",
      "Roles and Responsibilities\n",
      "\n",
      "Must have strong Python Programming Skills\n",
      "Strong analytical & algorithm development skills\n",
      "Logical and Analytical skills must be really strong\n",
      "Must have worked in DeepLearning Efforts - Especially computer vision.\n",
      "Must have experinece with Object Detection - Custom model training for Object detection\n",
      "Should have experience with atleast one or more of these - Tensorflow, Keras, PyTorch\n",
      "\n",
      "Primary Skills - Python + tensorflow - Keras / PyTorch, OpenCV\n",
      "Perks and Benefits\n",
      "\n",
      "Kindly share your resume to kandavelkumar.lakshmanan @cesltd.com\n",
      "\n",
      "RoleTechnical Architect\n",
      "Industry TypeIT-Software, Software Services\n",
      "Functional AreaIT Software - Application Programming, Maintenance\n",
      "Employment TypeFull Time, Permanent\n",
      "Role CategoryProgramming & Design\n",
      "Education\n",
      "UG :Any Graduate in Any Specialization\n",
      "Key Skills\n",
      "TensorflowObject DetectionAlgorithm DevelopmentAnalytical SkillsProgrammingMachine LearningDeep LearningPytorchData ScienceROpencvKerasComputer VisionPython\n"
     ]
    }
   ],
   "source": [
    "title = driver.find_elements_by_xpath(\"//a[@class = 'title fw500 ellipsis']\")\n",
    "href = title[7].get_attribute('href')\n",
    "driver.get(href)\n",
    "try:\n",
    "    jd = driver.find_element_by_xpath(\"//section[@class = 'job-desc']\")\n",
    "except:\n",
    "    try:\n",
    "        jd = driver.find_element_by_xpath(\"//section[@class = 'oh job-desc']\")\n",
    "    except:\n",
    "        jd = driver.find_element_by_xpath(\"//div[@class = 'clearboth description']\")\n",
    "df['JD'].loc[7] = jd.text\n",
    "print(jd.text)\n",
    "driver.back()"
   ]
  },
  {
   "cell_type": "code",
   "execution_count": 59,
   "metadata": {},
   "outputs": [
    {
     "name": "stdout",
     "output_type": "stream",
     "text": [
      "This is an ideal role for an experienced candidate passionate about applying their Healthcare data science skills and wishing to grow their career towards finding critical solutions for unmet patient needs. It is a brand new role supporting the newly formed GSK md2i (Medical Data 2 Insights) organization.\n",
      "The Global (Medical Data to Insight) Data Scientist designs and develops advanced AI/ML models to Medical Insight Leads, Product teams and Data Analysts to help them translate medical data into actionable insights that drive decision making. The successful candidate uses Natural Language Processing (NLP) to enable the generation of insights from customer feedback and perspectives from a variety of unstructured sources e.g. medical voice of customer feedback, customer listening, feedback from surveys and research, forums, online communities, social media/publicly available information, call center voice, publications etc. He/she works closely with the data analysts as well as the ML production team to align their solutions with the functional and non-functional requirements elicited. The successful candidate is a self-starter team player who will become a member of a cross-functional team that brings together best in class Informatics, AI, engineering, medical, product and customer expertise to help md2i tackle challenges it is focused on.\n",
      "This role will provide YOU the opportunity to lead key activities to progress YOUR career. These responsibilities include some of the following:\n",
      "Building, enhancing, and applying advanced analytics methods and capabilities to reveal findings and potential insights from medical data.\n",
      "Apply natural language processing and text analytics capabilities to translate unstructured data into key topics, context summaries and sentiments for insight discovery.\n",
      "Focus on key findings and insights priorities in alignment with stakeholders' goals and business needs with proper validation techniques to build confidence in the results\n",
      "Appropriately train and maintain machine learning models for accuracy and relevance\n",
      "Stay on top of the latest external methods and approaches, current and emerging industry trends and advanced methods/best practices\n",
      "Apply analytics and business acumen to select methods fit for purpose that reveal customer patterns in the data that may spark additional data analysis or research for deeper customer insight\n",
      "Proactively identify opportunities and apply advanced analytics methods aligned with and guided by medical priorities\n",
      "We are looking for professionals with these required skills to achieve our goals:\n",
      "MA/MS/PhD in quantitative sciences in a Healthcare related field\n",
      "5+ years of experience in natural language processing and/or machine learning applied to healthcare-related problems.\n",
      "Proven track record of processing and deriving novel insights from big datasets for Medical or Life Science projects a plus.\n",
      "Expert programmer in Python and some experience coding in pySpark.\n",
      "Knowledge and routine exercise of SDLC best practices applicable to data science productization, i.e. code structure and documentation, frequent commits in Git, unit testing, continuous integration, etc.\n",
      "Experience in Microsoft Azure, SQL, Spark, Databricks, Jupyter, Neo4j and ElasticSearch/SOLR a plus.\n",
      "Experience in Life Sciences preferred.\n",
      "Experience in designing experiments to generate findings and gain insights from medical information sources e.g. medical voice of customer feedback, customer listening, feedback from surveys and research, forums, online communities, social media/publicly available information, call center voice, scientific publications etc preferred\n",
      "Excellent communicator, both verbal and written, with the ability to influence across departments.\n",
      "Demonstrate analytic curiosity and a desire to understand challenges to contribute to matrix team reviews and strategic discussions for insight discovery\n",
      "This role will be responsible for building, enhancing, and applying advanced analytics methods and capabilities to reveal powerful findings and potential insights from synthesized data.This role will apply natural language processing and text analytics capabilities to translate unstructured data (human language and voice such as Medical voice of customer) into key topics, context summaries, and sentiment for additional insight discovery.This role will appropriately translate unstructured data into structured data to integrate with other data and analyses for use with insight discovery.\n"
     ]
    }
   ],
   "source": [
    "title = driver.find_elements_by_xpath(\"//a[@class = 'title fw500 ellipsis']\")\n",
    "href = title[8].get_attribute('href')\n",
    "driver.get(href)\n",
    "try:\n",
    "    jd = driver.find_element_by_xpath(\"//section[@class = 'job-desc']\")\n",
    "except:\n",
    "    try:\n",
    "        jd = driver.find_element_by_xpath(\"//section[@class = 'oh job-desc']\")\n",
    "    except:\n",
    "        jd = driver.find_element_by_xpath(\"//div[@class = 'clearboth description']\")\n",
    "df['JD'].loc[8] = jd.text\n",
    "print(jd.text)\n",
    "driver.back()"
   ]
  },
  {
   "cell_type": "code",
   "execution_count": 60,
   "metadata": {},
   "outputs": [
    {
     "name": "stdout",
     "output_type": "stream",
     "text": [
      "Job description\n",
      "The Role\n",
      "General Position Definition\n",
      "This role will drive analytics and insights for the Global CRM & Loyalty teams\n",
      "The ideal candidate is passionate about customer analytics - specifically CRM and Loyalty\n",
      "The candidate will have strong quantitative skills (like statistics, mathematics, machine learning) and has applied those skills in solving real world problems in marketing\n",
      "Incumbent is responsible for working on a range of technologies and tools collaborating directly with the marketing stakeholders & other partners\n",
      "Purpose\n",
      "Leverage analytics, data and deep customer insights to identify and execute innovative programs that continually push CRM initiatives to the next level\n",
      "Build and maintain a test and learn roadmap (A/B Testing) and work to continually iterate and optimize CRM efforts in order to increase the effectiveness of all channels\n",
      "Measure impact of customer engagement initiatives across all channels (email, SMS, push notifications, direct mail, etc.) and optimize campaign spends\n",
      "Support development of the contact strategy with ad-hoc analysis and projects.\n",
      "Support design and development of CRM reporting dashboards; establish templates and processes for regularly sharing out CRM progress and results with key stakeholders\n",
      "Develop and evolve advanced segmentation strategies for targeted campaigns driving incremental revenues\n",
      "Skills\n",
      "Industry / Functional Expertise\n",
      "Provide deep business expertise in:CRM, Loyalty Analytics: Strong Campaign Analytics experience in both online & offline. Must have worked with Campaign, Loyalty and CRM data. Understands campaign effectiveness study and experienced in planning/targeting for CRM activities based on learning from previous activities\n",
      "Marketing / Customer Analytics: Campaign design and effectiveness testing, churn prediction, cross-sell / up-sell, Market Basket Analysis, Customer segmentation, propensity analysis, customer lifetime value\n",
      "Preferably worked in the past in Retail companies\n",
      "Paid Media Experience is also preferable and will be an added advantage\n",
      "Proficiency Level: Mastery\n",
      "Stakeholder Engagement Skills\n",
      "Working collaboratively across multiple sets of stakeholders – business SMEs, IT, Data teams, Analytics resources, etc. to deliver on project deliverables and tasks\n",
      "Identify actionable insights that directly address marketing challenges / opportunities\n",
      "Articulate business insights and recommendations (based on model output) to respective stakeholders\n",
      "Understanding business KPIs, frameworks and drivers for performance\n",
      "Proficiency Level: Mastery\n",
      "Technology Skills\n",
      "Experience in specialized analytics tools and technologies (including, but not limited to)Azure Databricks, Alteryx\n",
      "Power BI, Spotfire or other visualization tools\n",
      "Python, R\n",
      "Adobe Analytics (good to have)\n",
      "Statistics / Mathematics: Data Quality Analysis, Data identification, Hypothesis testing, Univariate / Multivariate Analysis, Cluster Analysis, Classification/PCA, Factor Analysis, Linear Modeling, Affinity & Association, Time Series\n",
      "Identify the right approach(es) for given scenario and articulate why the approach fits\n",
      "Assess data availability and modeling feasibility\n",
      "Proficiency Level: Skill-to-Mastery\n",
      "Special Challenges\n",
      "Must have Skills:Knowledge of Direct marketing and CRM principles (segmentation, lifecycle management, etc.).\n",
      "Familiarity with the marketing funnel and customer journey frameworks to guide strategy.\n",
      "Easily analyzes, draws and synthesizes important insights from complex data.\n",
      "curious and self-driven to understand business performance through data.\n",
      "Ability to translate a business or marketing question into a well-defined analytical plan that includes data requirements for technical resources to extract the necessary data.\n",
      "Rapid onboarding on projects, understanding analytics goal and working with ill-defined datasets\n",
      "Communicating technical jargon in plain English to colleagues within Data Science team and outside\n",
      "Virtual working with network of colleagues located throughout the globe\n",
      "Dimensions\n",
      "Support design and delivery of analytics projects, within Retail business unit in Shell\n",
      "Experience\n",
      "Minimum 3-5 years of relevant experience in Marketing / Customer Analytics\n",
      "Preferred experience in Retail or E-commerce managing CRM and Loyalty Data\n",
      "Good interpersonal communication skills and influencing skills\n",
      "Eagerness to learn and ability to work with limited supervision\n",
      "Advanced university degree in Mathematics, Statistics, Engineering, Economics, OR, etc.\n",
      "RoleData Analyst\n",
      "Industry TypeChemicals, PetroChemical, Plastic, Rubber\n",
      "Functional AreaAnalytics & Business Intelligence\n",
      "Employment TypeFull Time, Permanent\n",
      "Role CategoryAnalytics & BI\n",
      "Education\n",
      "UG :Any Graduate in Any Specialization\n",
      "PG :Any Postgraduate in Any Specialization\n",
      "Key Skills\n",
      "Direct MarketingMultivariate AnalysisR Data ScientistFactor AnalysisCustomer AnalyticsTime SeriesMarket Basket AnalysisMachine LearningStatisticsCluster Analysis\n"
     ]
    }
   ],
   "source": [
    "title = driver.find_elements_by_xpath(\"//a[@class = 'title fw500 ellipsis']\")\n",
    "href = title[9].get_attribute('href')\n",
    "driver.get(href)\n",
    "try:\n",
    "    jd = driver.find_element_by_xpath(\"//section[@class = 'job-desc']\")\n",
    "except:\n",
    "    try:\n",
    "        jd = driver.find_element_by_xpath(\"//section[@class = 'oh job-desc']\")\n",
    "    except:\n",
    "        jd = driver.find_element_by_xpath(\"//div[@class = 'clearboth description']\")\n",
    "df['JD'].loc[9] = jd.text\n",
    "print(jd.text)\n",
    "driver.back()"
   ]
  },
  {
   "cell_type": "code",
   "execution_count": 61,
   "metadata": {},
   "outputs": [
    {
     "name": "stdout",
     "output_type": "stream",
     "text": [
      "Job description\n",
      "Job description\n",
      "Dear Candidate\n",
      "Schedule a Telephonic Interview ( Please call for confirmation) : Mon- Sat from 11:00am to 5:00pm only.\n",
      "OR Walk-In to the Corporate office between Monday to Friday from 11:00am to 5:00pm\n",
      "Contact person :\n",
      "\n",
      "Koodesh -+91 7339511107\n",
      "Shantha +91 9790993237\n",
      "\n",
      "Greetings from CAIA !\n",
      "A great opportunity to enter the world of future technologies - Data Science, Analytics, AI, Data Visualization\n",
      "Applications invited from all Freshers and experienced candidates aspiring to make a career in Artificial Intelligence and Advanced Analytics and Data Science.\n",
      "In case you are trying to shift your career to Analytics and/or AI domain please do connect with us to know more.\n",
      "What is needed from you?\n",
      "- An Educational background in any one of the following- BE/B.Tech, ME/M Tech, MSc, BSc/MSc Maths and Statistics, B Com, BCA, BSc CS, BSC IT, MSC IT, MCA\n",
      "- Skills relating to Mathematics/Statistics.\n",
      "- Natural passion towards numbers, business, coding, Analytics and Artificial Intelligence, Machine Learning, visualization\n",
      "- Good verbal and written communication skills\n",
      "- Ability to understand domains in businesses across various sectors\n",
      "- Freshers who wish to start their career in Analytics and AI and professionals who wish to up skill or change their domain to analytics and emerging technologies are free to apply.\n",
      "Selection procedure includes\n",
      "- Online Aptitude Test\n",
      "- Logical Ability Test / Written Test\n",
      "On being shortlisted, you will be have to undergo a one-one discussion with our counsellor for further evaluation and processing of your Resume.\n",
      "What you can expect from us?\n",
      "You will get trained on the following modules for a period of 12-14 weeks:\n",
      "-SQL & PLSQL\n",
      "-Data Wrangling using Python\n",
      "-Statistics for Machine Learning,\n",
      "-Artificial Intelligence, Data Interpretation\n",
      "-Supervised & Unsupervised Learning,\n",
      "-NLP & Deep Learning\n",
      "-Cloud Data Lake\n",
      "-Business intelligence & Data Visualization\n",
      "-Simulation Projects\n",
      "What is the expected Outcome?\n",
      "At the end of the Training you are expected to be well versed with the following:\n",
      "- Analysis of large and complex data sets from multiple sources\n",
      "- Development and evaluation of data analytics models, algorithms and solutions\n",
      "- Understanding/implementation of ML algorithms, performance tuning and reporting\n",
      "- Implementation of algorithms to mine targeted data and the ability to convert data into a business story\n",
      "- Translation of business requirements into technical requirements; Data extraction, preparation and transformation\n",
      "- Identification, development and implementation of statistical techniques and algorithms that address business challenges and adds value to the organisation\n",
      "- Requirement Analysis and communication of findings in the form of a meaningful story with the stakeholders\n",
      "Center for Artificial Intelligence & Advanced Analytics (CAIA) focuses on the following:\n",
      "1. Global Research on emerging trends, technologies and applications in AI and Advanced Analytics\n",
      "2. Advanced Training programs for readying the future ready workforce\n",
      "3. Solutions to herald the futuristic lifestyle and workspaces in the field of AI and Data Science.\n",
      "http://www.centerforaia.com/\n",
      "Center for Artificial Intelligence and Advanced Analytics (Center for AIA) is the brainchild of experienced and visionary alumni of IIT Madras and Bombay. Digital leaders 5F World and Systech Solutions have joined hands to create a venture for architecting the future of society, workforce, governments and businesses. 5F World specializes in designing solutions around digital platforms and Systech Solutions has an expertise in architecting Artificial Intelligence and Advanced Analytics solutions for Fortune 500 companies through specialized programmed.\n",
      "5F World\n",
      "5F World is a leader in digital transformational journeys and has brought together the best minds in industry, academia and technology domains to develop a unique framework to transform stakeholder journeys through innovation and digitalization of businesses and education institutions.\n",
      "Systech Solutions\n",
      "Systech Solutions is a leading organisation in Data Strategy, Management & Analytics services provider with deep technology expertise and over 20 years of industry experience. Systech Solutions helps empower clients with innovative, data-driven solutions to reimagine their enterprise and has forged partnerships with industry-leading technology providers to develop a full spectrum of data services.\n",
      "\n",
      "Website\n",
      "http://www.centerforaia.com/\n",
      "\n",
      "https://inflexion-analytix-private-limited.business.site/?m=true\n",
      "\n",
      "\n",
      "\n",
      "Contact Person\n",
      "Manigandan /Shantha\n",
      "Phone Number\n",
      "7299917200/ 9790993237\n",
      "Email\n",
      "manigandan@centerforaia.com\n",
      "\n",
      "RoleData Analyst\n",
      "Industry TypeIT-Software, Software Services\n",
      "Functional AreaAnalytics & Business Intelligence\n",
      "Employment TypeFull Time, Permanent\n",
      "Role CategoryAnalytics & BI\n",
      "Education\n",
      "UG :B.B.A / B.M.S in Any Specialization, B.Sc in Any Specialization, B.Tech/B.E. in Any Specialization\n",
      "PG :MBA/PGDM in Any Specialization, M.Tech in Any Specialization, MS/M.Sc(Science) in Any Specialization, MCA in Any Specialization\n",
      "Key Skills\n",
      "Artificial IntelligenceUnsupervised LearningMachine LearningStatisticsDeep LearningSQLData ScienceNLPAdvanced AnalyticsData VisualizationData WarehousingData AnalyticsETLAWSPython\n"
     ]
    }
   ],
   "source": [
    "title = driver.find_elements_by_xpath(\"//a[@class = 'title fw500 ellipsis']\")\n",
    "href = title[10].get_attribute('href')\n",
    "driver.get(href)\n",
    "try:\n",
    "    jd = driver.find_element_by_xpath(\"//section[@class = 'job-desc']\")\n",
    "except:\n",
    "    try:\n",
    "        jd = driver.find_element_by_xpath(\"//section[@class = 'oh job-desc']\")\n",
    "    except:\n",
    "        jd = driver.find_element_by_xpath(\"//div[@class = 'clearboth description']\")\n",
    "df['JD'].loc[10] = jd.text\n",
    "print(jd.text)\n",
    "driver.back()"
   ]
  },
  {
   "cell_type": "code",
   "execution_count": 62,
   "metadata": {},
   "outputs": [
    {
     "data": {
      "text/plain": [
       "0     Job description\\nRole Brief:\\nAs a NLP Data Sc...\n",
       "1     Job description\\nLocation - Bangalore / Bengal...\n",
       "2     Job description\\nPrincipal Data Scientist - Pr...\n",
       "3     Job description\\nRoles and Responsibilities\\n\\...\n",
       "4     Job description\\nJob description\\nJob Summary ...\n",
       "5     Job description\\nWe are seeking sharp, energet...\n",
       "6     Job description\\n\\nAbout Ganit Inc\\n\\nFounded ...\n",
       "7     Job description\\nRoles and Responsibilities\\n\\...\n",
       "8     This is an ideal role for an experienced candi...\n",
       "9     Job description\\nThe Role\\nGeneral Position De...\n",
       "10    Job description\\nJob description\\nDear Candida...\n",
       "Name: JD, dtype: object"
      ]
     },
     "execution_count": 62,
     "metadata": {},
     "output_type": "execute_result"
    }
   ],
   "source": [
    "df['JD']"
   ]
  },
  {
   "cell_type": "code",
   "execution_count": 65,
   "metadata": {},
   "outputs": [],
   "source": [
    "driver.quit()"
   ]
  },
  {
   "cell_type": "markdown",
   "metadata": {},
   "source": [
    "# PAGE 3 WEB SCRAPING ASSIGNMENT-2"
   ]
  },
  {
   "cell_type": "code",
   "execution_count": 158,
   "metadata": {},
   "outputs": [],
   "source": [
    "from selenium.common.exceptions import StaleElementReferenceException"
   ]
  },
  {
   "cell_type": "code",
   "execution_count": 194,
   "metadata": {},
   "outputs": [],
   "source": [
    "driver = webdriver.Chrome(r\"D:\\softs & utilities\\chromedriver.exe\")\n",
    "#1. first get the webpage https://www.naukri.com/\n",
    "driver.get(\"https://www.naukri.com/\")"
   ]
  },
  {
   "cell_type": "code",
   "execution_count": 195,
   "metadata": {},
   "outputs": [],
   "source": [
    "search_job = driver.find_element_by_id(\"qsb-keyword-sugg\")\n",
    "search_job.send_keys(\"data scientist\")\n",
    "btn = driver.find_element_by_class_name(\"btn\")\n",
    "btn.click()"
   ]
  },
  {
   "cell_type": "code",
   "execution_count": 196,
   "metadata": {},
   "outputs": [],
   "source": [
    "filters = driver.find_elements_by_xpath(\"//div[@class='mt-8 chckBoxCont']\")"
   ]
  },
  {
   "cell_type": "code",
   "execution_count": 197,
   "metadata": {
    "collapsed": true
   },
   "outputs": [
    {
     "ename": "StaleElementReferenceException",
     "evalue": "Message: stale element reference: element is not attached to the page document\n  (Session info: chrome=89.0.4389.114)\n",
     "output_type": "error",
     "traceback": [
      "\u001b[1;31m---------------------------------------------------------------------------\u001b[0m",
      "\u001b[1;31mStaleElementReferenceException\u001b[0m            Traceback (most recent call last)",
      "\u001b[1;32m<ipython-input-197-b5e1838d6b75>\u001b[0m in \u001b[0;36m<module>\u001b[1;34m\u001b[0m\n\u001b[0;32m      1\u001b[0m \u001b[1;32mfor\u001b[0m \u001b[0mi\u001b[0m \u001b[1;32min\u001b[0m \u001b[0mfilters\u001b[0m\u001b[1;33m:\u001b[0m\u001b[1;33m\u001b[0m\u001b[1;33m\u001b[0m\u001b[0m\n\u001b[1;32m----> 2\u001b[1;33m     \u001b[1;32mif\u001b[0m \u001b[1;32mnot\u001b[0m \u001b[0mi\u001b[0m\u001b[1;33m.\u001b[0m\u001b[0mtext\u001b[0m\u001b[1;33m.\u001b[0m\u001b[0mfind\u001b[0m\u001b[1;33m(\u001b[0m\u001b[1;34m'Delhi'\u001b[0m\u001b[1;33m)\u001b[0m\u001b[1;33m:\u001b[0m\u001b[1;33m\u001b[0m\u001b[1;33m\u001b[0m\u001b[0m\n\u001b[0m\u001b[0;32m      3\u001b[0m         \u001b[1;32mtry\u001b[0m\u001b[1;33m:\u001b[0m\u001b[1;33m\u001b[0m\u001b[1;33m\u001b[0m\u001b[0m\n\u001b[0;32m      4\u001b[0m             \u001b[0mi\u001b[0m\u001b[1;33m.\u001b[0m\u001b[0mclick\u001b[0m\u001b[1;33m(\u001b[0m\u001b[1;33m)\u001b[0m\u001b[1;33m\u001b[0m\u001b[1;33m\u001b[0m\u001b[0m\n\u001b[0;32m      5\u001b[0m         \u001b[1;32mexcept\u001b[0m \u001b[0mStaleElementReferenceException\u001b[0m\u001b[1;33m:\u001b[0m\u001b[1;33m\u001b[0m\u001b[1;33m\u001b[0m\u001b[0m\n",
      "\u001b[1;32mC:\\ProgramData\\Anaconda3\\lib\\site-packages\\selenium\\webdriver\\remote\\webelement.py\u001b[0m in \u001b[0;36mtext\u001b[1;34m(self)\u001b[0m\n\u001b[0;32m     74\u001b[0m     \u001b[1;32mdef\u001b[0m \u001b[0mtext\u001b[0m\u001b[1;33m(\u001b[0m\u001b[0mself\u001b[0m\u001b[1;33m)\u001b[0m\u001b[1;33m:\u001b[0m\u001b[1;33m\u001b[0m\u001b[1;33m\u001b[0m\u001b[0m\n\u001b[0;32m     75\u001b[0m         \u001b[1;34m\"\"\"The text of the element.\"\"\"\u001b[0m\u001b[1;33m\u001b[0m\u001b[1;33m\u001b[0m\u001b[0m\n\u001b[1;32m---> 76\u001b[1;33m         \u001b[1;32mreturn\u001b[0m \u001b[0mself\u001b[0m\u001b[1;33m.\u001b[0m\u001b[0m_execute\u001b[0m\u001b[1;33m(\u001b[0m\u001b[0mCommand\u001b[0m\u001b[1;33m.\u001b[0m\u001b[0mGET_ELEMENT_TEXT\u001b[0m\u001b[1;33m)\u001b[0m\u001b[1;33m[\u001b[0m\u001b[1;34m'value'\u001b[0m\u001b[1;33m]\u001b[0m\u001b[1;33m\u001b[0m\u001b[1;33m\u001b[0m\u001b[0m\n\u001b[0m\u001b[0;32m     77\u001b[0m \u001b[1;33m\u001b[0m\u001b[0m\n\u001b[0;32m     78\u001b[0m     \u001b[1;32mdef\u001b[0m \u001b[0mclick\u001b[0m\u001b[1;33m(\u001b[0m\u001b[0mself\u001b[0m\u001b[1;33m)\u001b[0m\u001b[1;33m:\u001b[0m\u001b[1;33m\u001b[0m\u001b[1;33m\u001b[0m\u001b[0m\n",
      "\u001b[1;32mC:\\ProgramData\\Anaconda3\\lib\\site-packages\\selenium\\webdriver\\remote\\webelement.py\u001b[0m in \u001b[0;36m_execute\u001b[1;34m(self, command, params)\u001b[0m\n\u001b[0;32m    631\u001b[0m             \u001b[0mparams\u001b[0m \u001b[1;33m=\u001b[0m \u001b[1;33m{\u001b[0m\u001b[1;33m}\u001b[0m\u001b[1;33m\u001b[0m\u001b[1;33m\u001b[0m\u001b[0m\n\u001b[0;32m    632\u001b[0m         \u001b[0mparams\u001b[0m\u001b[1;33m[\u001b[0m\u001b[1;34m'id'\u001b[0m\u001b[1;33m]\u001b[0m \u001b[1;33m=\u001b[0m \u001b[0mself\u001b[0m\u001b[1;33m.\u001b[0m\u001b[0m_id\u001b[0m\u001b[1;33m\u001b[0m\u001b[1;33m\u001b[0m\u001b[0m\n\u001b[1;32m--> 633\u001b[1;33m         \u001b[1;32mreturn\u001b[0m \u001b[0mself\u001b[0m\u001b[1;33m.\u001b[0m\u001b[0m_parent\u001b[0m\u001b[1;33m.\u001b[0m\u001b[0mexecute\u001b[0m\u001b[1;33m(\u001b[0m\u001b[0mcommand\u001b[0m\u001b[1;33m,\u001b[0m \u001b[0mparams\u001b[0m\u001b[1;33m)\u001b[0m\u001b[1;33m\u001b[0m\u001b[1;33m\u001b[0m\u001b[0m\n\u001b[0m\u001b[0;32m    634\u001b[0m \u001b[1;33m\u001b[0m\u001b[0m\n\u001b[0;32m    635\u001b[0m     \u001b[1;32mdef\u001b[0m \u001b[0mfind_element\u001b[0m\u001b[1;33m(\u001b[0m\u001b[0mself\u001b[0m\u001b[1;33m,\u001b[0m \u001b[0mby\u001b[0m\u001b[1;33m=\u001b[0m\u001b[0mBy\u001b[0m\u001b[1;33m.\u001b[0m\u001b[0mID\u001b[0m\u001b[1;33m,\u001b[0m \u001b[0mvalue\u001b[0m\u001b[1;33m=\u001b[0m\u001b[1;32mNone\u001b[0m\u001b[1;33m)\u001b[0m\u001b[1;33m:\u001b[0m\u001b[1;33m\u001b[0m\u001b[1;33m\u001b[0m\u001b[0m\n",
      "\u001b[1;32mC:\\ProgramData\\Anaconda3\\lib\\site-packages\\selenium\\webdriver\\remote\\webdriver.py\u001b[0m in \u001b[0;36mexecute\u001b[1;34m(self, driver_command, params)\u001b[0m\n\u001b[0;32m    319\u001b[0m         \u001b[0mresponse\u001b[0m \u001b[1;33m=\u001b[0m \u001b[0mself\u001b[0m\u001b[1;33m.\u001b[0m\u001b[0mcommand_executor\u001b[0m\u001b[1;33m.\u001b[0m\u001b[0mexecute\u001b[0m\u001b[1;33m(\u001b[0m\u001b[0mdriver_command\u001b[0m\u001b[1;33m,\u001b[0m \u001b[0mparams\u001b[0m\u001b[1;33m)\u001b[0m\u001b[1;33m\u001b[0m\u001b[1;33m\u001b[0m\u001b[0m\n\u001b[0;32m    320\u001b[0m         \u001b[1;32mif\u001b[0m \u001b[0mresponse\u001b[0m\u001b[1;33m:\u001b[0m\u001b[1;33m\u001b[0m\u001b[1;33m\u001b[0m\u001b[0m\n\u001b[1;32m--> 321\u001b[1;33m             \u001b[0mself\u001b[0m\u001b[1;33m.\u001b[0m\u001b[0merror_handler\u001b[0m\u001b[1;33m.\u001b[0m\u001b[0mcheck_response\u001b[0m\u001b[1;33m(\u001b[0m\u001b[0mresponse\u001b[0m\u001b[1;33m)\u001b[0m\u001b[1;33m\u001b[0m\u001b[1;33m\u001b[0m\u001b[0m\n\u001b[0m\u001b[0;32m    322\u001b[0m             response['value'] = self._unwrap_value(\n\u001b[0;32m    323\u001b[0m                 response.get('value', None))\n",
      "\u001b[1;32mC:\\ProgramData\\Anaconda3\\lib\\site-packages\\selenium\\webdriver\\remote\\errorhandler.py\u001b[0m in \u001b[0;36mcheck_response\u001b[1;34m(self, response)\u001b[0m\n\u001b[0;32m    240\u001b[0m                 \u001b[0malert_text\u001b[0m \u001b[1;33m=\u001b[0m \u001b[0mvalue\u001b[0m\u001b[1;33m[\u001b[0m\u001b[1;34m'alert'\u001b[0m\u001b[1;33m]\u001b[0m\u001b[1;33m.\u001b[0m\u001b[0mget\u001b[0m\u001b[1;33m(\u001b[0m\u001b[1;34m'text'\u001b[0m\u001b[1;33m)\u001b[0m\u001b[1;33m\u001b[0m\u001b[1;33m\u001b[0m\u001b[0m\n\u001b[0;32m    241\u001b[0m             \u001b[1;32mraise\u001b[0m \u001b[0mexception_class\u001b[0m\u001b[1;33m(\u001b[0m\u001b[0mmessage\u001b[0m\u001b[1;33m,\u001b[0m \u001b[0mscreen\u001b[0m\u001b[1;33m,\u001b[0m \u001b[0mstacktrace\u001b[0m\u001b[1;33m,\u001b[0m \u001b[0malert_text\u001b[0m\u001b[1;33m)\u001b[0m\u001b[1;33m\u001b[0m\u001b[1;33m\u001b[0m\u001b[0m\n\u001b[1;32m--> 242\u001b[1;33m         \u001b[1;32mraise\u001b[0m \u001b[0mexception_class\u001b[0m\u001b[1;33m(\u001b[0m\u001b[0mmessage\u001b[0m\u001b[1;33m,\u001b[0m \u001b[0mscreen\u001b[0m\u001b[1;33m,\u001b[0m \u001b[0mstacktrace\u001b[0m\u001b[1;33m)\u001b[0m\u001b[1;33m\u001b[0m\u001b[1;33m\u001b[0m\u001b[0m\n\u001b[0m\u001b[0;32m    243\u001b[0m \u001b[1;33m\u001b[0m\u001b[0m\n\u001b[0;32m    244\u001b[0m     \u001b[1;32mdef\u001b[0m \u001b[0m_value_or_default\u001b[0m\u001b[1;33m(\u001b[0m\u001b[0mself\u001b[0m\u001b[1;33m,\u001b[0m \u001b[0mobj\u001b[0m\u001b[1;33m,\u001b[0m \u001b[0mkey\u001b[0m\u001b[1;33m,\u001b[0m \u001b[0mdefault\u001b[0m\u001b[1;33m)\u001b[0m\u001b[1;33m:\u001b[0m\u001b[1;33m\u001b[0m\u001b[1;33m\u001b[0m\u001b[0m\n",
      "\u001b[1;31mStaleElementReferenceException\u001b[0m: Message: stale element reference: element is not attached to the page document\n  (Session info: chrome=89.0.4389.114)\n"
     ]
    }
   ],
   "source": [
    "for i in filters:\n",
    "    if not i.text.find('Delhi'):\n",
    "        try:\n",
    "            i.click()\n",
    "        except StaleElementReferenceException:\n",
    "            pass"
   ]
  },
  {
   "cell_type": "code",
   "execution_count": 198,
   "metadata": {},
   "outputs": [],
   "source": [
    "filters = driver.find_elements_by_xpath(\"//div[@class='mt-8 chckBoxCont']\")"
   ]
  },
  {
   "cell_type": "code",
   "execution_count": 199,
   "metadata": {
    "collapsed": true
   },
   "outputs": [
    {
     "ename": "StaleElementReferenceException",
     "evalue": "Message: stale element reference: element is not attached to the page document\n  (Session info: chrome=89.0.4389.114)\n",
     "output_type": "error",
     "traceback": [
      "\u001b[1;31m---------------------------------------------------------------------------\u001b[0m",
      "\u001b[1;31mStaleElementReferenceException\u001b[0m            Traceback (most recent call last)",
      "\u001b[1;32m<ipython-input-199-65a1f5569802>\u001b[0m in \u001b[0;36m<module>\u001b[1;34m\u001b[0m\n\u001b[0;32m      1\u001b[0m \u001b[1;32mfor\u001b[0m \u001b[0mi\u001b[0m \u001b[1;32min\u001b[0m \u001b[0mfilters\u001b[0m\u001b[1;33m:\u001b[0m\u001b[1;33m\u001b[0m\u001b[1;33m\u001b[0m\u001b[0m\n\u001b[1;32m----> 2\u001b[1;33m     \u001b[1;32mif\u001b[0m \u001b[1;32mnot\u001b[0m \u001b[0mi\u001b[0m\u001b[1;33m.\u001b[0m\u001b[0mtext\u001b[0m\u001b[1;33m.\u001b[0m\u001b[0mfind\u001b[0m\u001b[1;33m(\u001b[0m\u001b[1;34m'3-6 Lakhs'\u001b[0m\u001b[1;33m)\u001b[0m\u001b[1;33m:\u001b[0m\u001b[1;33m\u001b[0m\u001b[1;33m\u001b[0m\u001b[0m\n\u001b[0m\u001b[0;32m      3\u001b[0m         \u001b[1;32mtry\u001b[0m\u001b[1;33m:\u001b[0m\u001b[1;33m\u001b[0m\u001b[1;33m\u001b[0m\u001b[0m\n\u001b[0;32m      4\u001b[0m             \u001b[0mi\u001b[0m\u001b[1;33m.\u001b[0m\u001b[0mclick\u001b[0m\u001b[1;33m(\u001b[0m\u001b[1;33m)\u001b[0m\u001b[1;33m\u001b[0m\u001b[1;33m\u001b[0m\u001b[0m\n\u001b[0;32m      5\u001b[0m         \u001b[1;32mexcept\u001b[0m \u001b[0mStaleElementReferenceException\u001b[0m\u001b[1;33m:\u001b[0m\u001b[1;33m\u001b[0m\u001b[1;33m\u001b[0m\u001b[0m\n",
      "\u001b[1;32mC:\\ProgramData\\Anaconda3\\lib\\site-packages\\selenium\\webdriver\\remote\\webelement.py\u001b[0m in \u001b[0;36mtext\u001b[1;34m(self)\u001b[0m\n\u001b[0;32m     74\u001b[0m     \u001b[1;32mdef\u001b[0m \u001b[0mtext\u001b[0m\u001b[1;33m(\u001b[0m\u001b[0mself\u001b[0m\u001b[1;33m)\u001b[0m\u001b[1;33m:\u001b[0m\u001b[1;33m\u001b[0m\u001b[1;33m\u001b[0m\u001b[0m\n\u001b[0;32m     75\u001b[0m         \u001b[1;34m\"\"\"The text of the element.\"\"\"\u001b[0m\u001b[1;33m\u001b[0m\u001b[1;33m\u001b[0m\u001b[0m\n\u001b[1;32m---> 76\u001b[1;33m         \u001b[1;32mreturn\u001b[0m \u001b[0mself\u001b[0m\u001b[1;33m.\u001b[0m\u001b[0m_execute\u001b[0m\u001b[1;33m(\u001b[0m\u001b[0mCommand\u001b[0m\u001b[1;33m.\u001b[0m\u001b[0mGET_ELEMENT_TEXT\u001b[0m\u001b[1;33m)\u001b[0m\u001b[1;33m[\u001b[0m\u001b[1;34m'value'\u001b[0m\u001b[1;33m]\u001b[0m\u001b[1;33m\u001b[0m\u001b[1;33m\u001b[0m\u001b[0m\n\u001b[0m\u001b[0;32m     77\u001b[0m \u001b[1;33m\u001b[0m\u001b[0m\n\u001b[0;32m     78\u001b[0m     \u001b[1;32mdef\u001b[0m \u001b[0mclick\u001b[0m\u001b[1;33m(\u001b[0m\u001b[0mself\u001b[0m\u001b[1;33m)\u001b[0m\u001b[1;33m:\u001b[0m\u001b[1;33m\u001b[0m\u001b[1;33m\u001b[0m\u001b[0m\n",
      "\u001b[1;32mC:\\ProgramData\\Anaconda3\\lib\\site-packages\\selenium\\webdriver\\remote\\webelement.py\u001b[0m in \u001b[0;36m_execute\u001b[1;34m(self, command, params)\u001b[0m\n\u001b[0;32m    631\u001b[0m             \u001b[0mparams\u001b[0m \u001b[1;33m=\u001b[0m \u001b[1;33m{\u001b[0m\u001b[1;33m}\u001b[0m\u001b[1;33m\u001b[0m\u001b[1;33m\u001b[0m\u001b[0m\n\u001b[0;32m    632\u001b[0m         \u001b[0mparams\u001b[0m\u001b[1;33m[\u001b[0m\u001b[1;34m'id'\u001b[0m\u001b[1;33m]\u001b[0m \u001b[1;33m=\u001b[0m \u001b[0mself\u001b[0m\u001b[1;33m.\u001b[0m\u001b[0m_id\u001b[0m\u001b[1;33m\u001b[0m\u001b[1;33m\u001b[0m\u001b[0m\n\u001b[1;32m--> 633\u001b[1;33m         \u001b[1;32mreturn\u001b[0m \u001b[0mself\u001b[0m\u001b[1;33m.\u001b[0m\u001b[0m_parent\u001b[0m\u001b[1;33m.\u001b[0m\u001b[0mexecute\u001b[0m\u001b[1;33m(\u001b[0m\u001b[0mcommand\u001b[0m\u001b[1;33m,\u001b[0m \u001b[0mparams\u001b[0m\u001b[1;33m)\u001b[0m\u001b[1;33m\u001b[0m\u001b[1;33m\u001b[0m\u001b[0m\n\u001b[0m\u001b[0;32m    634\u001b[0m \u001b[1;33m\u001b[0m\u001b[0m\n\u001b[0;32m    635\u001b[0m     \u001b[1;32mdef\u001b[0m \u001b[0mfind_element\u001b[0m\u001b[1;33m(\u001b[0m\u001b[0mself\u001b[0m\u001b[1;33m,\u001b[0m \u001b[0mby\u001b[0m\u001b[1;33m=\u001b[0m\u001b[0mBy\u001b[0m\u001b[1;33m.\u001b[0m\u001b[0mID\u001b[0m\u001b[1;33m,\u001b[0m \u001b[0mvalue\u001b[0m\u001b[1;33m=\u001b[0m\u001b[1;32mNone\u001b[0m\u001b[1;33m)\u001b[0m\u001b[1;33m:\u001b[0m\u001b[1;33m\u001b[0m\u001b[1;33m\u001b[0m\u001b[0m\n",
      "\u001b[1;32mC:\\ProgramData\\Anaconda3\\lib\\site-packages\\selenium\\webdriver\\remote\\webdriver.py\u001b[0m in \u001b[0;36mexecute\u001b[1;34m(self, driver_command, params)\u001b[0m\n\u001b[0;32m    319\u001b[0m         \u001b[0mresponse\u001b[0m \u001b[1;33m=\u001b[0m \u001b[0mself\u001b[0m\u001b[1;33m.\u001b[0m\u001b[0mcommand_executor\u001b[0m\u001b[1;33m.\u001b[0m\u001b[0mexecute\u001b[0m\u001b[1;33m(\u001b[0m\u001b[0mdriver_command\u001b[0m\u001b[1;33m,\u001b[0m \u001b[0mparams\u001b[0m\u001b[1;33m)\u001b[0m\u001b[1;33m\u001b[0m\u001b[1;33m\u001b[0m\u001b[0m\n\u001b[0;32m    320\u001b[0m         \u001b[1;32mif\u001b[0m \u001b[0mresponse\u001b[0m\u001b[1;33m:\u001b[0m\u001b[1;33m\u001b[0m\u001b[1;33m\u001b[0m\u001b[0m\n\u001b[1;32m--> 321\u001b[1;33m             \u001b[0mself\u001b[0m\u001b[1;33m.\u001b[0m\u001b[0merror_handler\u001b[0m\u001b[1;33m.\u001b[0m\u001b[0mcheck_response\u001b[0m\u001b[1;33m(\u001b[0m\u001b[0mresponse\u001b[0m\u001b[1;33m)\u001b[0m\u001b[1;33m\u001b[0m\u001b[1;33m\u001b[0m\u001b[0m\n\u001b[0m\u001b[0;32m    322\u001b[0m             response['value'] = self._unwrap_value(\n\u001b[0;32m    323\u001b[0m                 response.get('value', None))\n",
      "\u001b[1;32mC:\\ProgramData\\Anaconda3\\lib\\site-packages\\selenium\\webdriver\\remote\\errorhandler.py\u001b[0m in \u001b[0;36mcheck_response\u001b[1;34m(self, response)\u001b[0m\n\u001b[0;32m    240\u001b[0m                 \u001b[0malert_text\u001b[0m \u001b[1;33m=\u001b[0m \u001b[0mvalue\u001b[0m\u001b[1;33m[\u001b[0m\u001b[1;34m'alert'\u001b[0m\u001b[1;33m]\u001b[0m\u001b[1;33m.\u001b[0m\u001b[0mget\u001b[0m\u001b[1;33m(\u001b[0m\u001b[1;34m'text'\u001b[0m\u001b[1;33m)\u001b[0m\u001b[1;33m\u001b[0m\u001b[1;33m\u001b[0m\u001b[0m\n\u001b[0;32m    241\u001b[0m             \u001b[1;32mraise\u001b[0m \u001b[0mexception_class\u001b[0m\u001b[1;33m(\u001b[0m\u001b[0mmessage\u001b[0m\u001b[1;33m,\u001b[0m \u001b[0mscreen\u001b[0m\u001b[1;33m,\u001b[0m \u001b[0mstacktrace\u001b[0m\u001b[1;33m,\u001b[0m \u001b[0malert_text\u001b[0m\u001b[1;33m)\u001b[0m\u001b[1;33m\u001b[0m\u001b[1;33m\u001b[0m\u001b[0m\n\u001b[1;32m--> 242\u001b[1;33m         \u001b[1;32mraise\u001b[0m \u001b[0mexception_class\u001b[0m\u001b[1;33m(\u001b[0m\u001b[0mmessage\u001b[0m\u001b[1;33m,\u001b[0m \u001b[0mscreen\u001b[0m\u001b[1;33m,\u001b[0m \u001b[0mstacktrace\u001b[0m\u001b[1;33m)\u001b[0m\u001b[1;33m\u001b[0m\u001b[1;33m\u001b[0m\u001b[0m\n\u001b[0m\u001b[0;32m    243\u001b[0m \u001b[1;33m\u001b[0m\u001b[0m\n\u001b[0;32m    244\u001b[0m     \u001b[1;32mdef\u001b[0m \u001b[0m_value_or_default\u001b[0m\u001b[1;33m(\u001b[0m\u001b[0mself\u001b[0m\u001b[1;33m,\u001b[0m \u001b[0mobj\u001b[0m\u001b[1;33m,\u001b[0m \u001b[0mkey\u001b[0m\u001b[1;33m,\u001b[0m \u001b[0mdefault\u001b[0m\u001b[1;33m)\u001b[0m\u001b[1;33m:\u001b[0m\u001b[1;33m\u001b[0m\u001b[1;33m\u001b[0m\u001b[0m\n",
      "\u001b[1;31mStaleElementReferenceException\u001b[0m: Message: stale element reference: element is not attached to the page document\n  (Session info: chrome=89.0.4389.114)\n"
     ]
    }
   ],
   "source": [
    "for i in filters:\n",
    "    if not i.text.find('3-6 Lakhs'):\n",
    "        try:\n",
    "            i.click()\n",
    "        except StaleElementReferenceException:\n",
    "            pass"
   ]
  },
  {
   "cell_type": "code",
   "execution_count": 200,
   "metadata": {},
   "outputs": [],
   "source": [
    "df = pd.DataFrame(columns=['job-title', 'job-location', 'company_name', 'experience_required'])"
   ]
  },
  {
   "cell_type": "code",
   "execution_count": 211,
   "metadata": {},
   "outputs": [],
   "source": [
    "all_title = driver.find_elements_by_xpath(\"//a[@class='title fw500 ellipsis']\")"
   ]
  },
  {
   "cell_type": "code",
   "execution_count": 213,
   "metadata": {},
   "outputs": [],
   "source": [
    "titles = []\n",
    "for i in all_title[:10]:\n",
    "    titles.append(i.text)"
   ]
  },
  {
   "cell_type": "code",
   "execution_count": 215,
   "metadata": {},
   "outputs": [],
   "source": [
    "all_location = driver.find_elements_by_xpath(\"//li[@class='fleft grey-text br2 placeHolderLi location']\")"
   ]
  },
  {
   "cell_type": "code",
   "execution_count": 216,
   "metadata": {},
   "outputs": [],
   "source": [
    "locations = []\n",
    "for i in all_location[:10]:\n",
    "    locations.append(i.text)"
   ]
  },
  {
   "cell_type": "code",
   "execution_count": 218,
   "metadata": {},
   "outputs": [],
   "source": [
    "all_company = driver.find_elements_by_xpath(\"//a[@class='subTitle ellipsis fleft']\")"
   ]
  },
  {
   "cell_type": "code",
   "execution_count": 219,
   "metadata": {},
   "outputs": [],
   "source": [
    "companies = []\n",
    "for i in all_company[:10]:\n",
    "    companies.append(i.text)"
   ]
  },
  {
   "cell_type": "code",
   "execution_count": 220,
   "metadata": {},
   "outputs": [],
   "source": [
    "all_exp = driver.find_elements_by_xpath(\"//li[@class='fleft grey-text br2 placeHolderLi experience']\")"
   ]
  },
  {
   "cell_type": "code",
   "execution_count": 221,
   "metadata": {},
   "outputs": [],
   "source": [
    "exps = []\n",
    "for i in all_exp[:10]:\n",
    "    exps.append(i.text)"
   ]
  },
  {
   "cell_type": "code",
   "execution_count": 222,
   "metadata": {},
   "outputs": [],
   "source": [
    "df['job-title'] = titles\n",
    "df['job-location'] = locations\n",
    "df['company_name'] = companies\n",
    "df['experience_required'] = exps"
   ]
  },
  {
   "cell_type": "code",
   "execution_count": 223,
   "metadata": {},
   "outputs": [
    {
     "data": {
      "text/html": [
       "<div>\n",
       "<style scoped>\n",
       "    .dataframe tbody tr th:only-of-type {\n",
       "        vertical-align: middle;\n",
       "    }\n",
       "\n",
       "    .dataframe tbody tr th {\n",
       "        vertical-align: top;\n",
       "    }\n",
       "\n",
       "    .dataframe thead th {\n",
       "        text-align: right;\n",
       "    }\n",
       "</style>\n",
       "<table border=\"1\" class=\"dataframe\">\n",
       "  <thead>\n",
       "    <tr style=\"text-align: right;\">\n",
       "      <th></th>\n",
       "      <th>job-title</th>\n",
       "      <th>job-location</th>\n",
       "      <th>company_name</th>\n",
       "      <th>experience_required</th>\n",
       "    </tr>\n",
       "  </thead>\n",
       "  <tbody>\n",
       "    <tr>\n",
       "      <th>0</th>\n",
       "      <td>Developer - Data Science</td>\n",
       "      <td>Delhi / NCR</td>\n",
       "      <td>ICL Systems India Private Limited</td>\n",
       "      <td>3-5 Yrs</td>\n",
       "    </tr>\n",
       "    <tr>\n",
       "      <th>1</th>\n",
       "      <td>Data Scientist/Data Analyst - Python/Machine L...</td>\n",
       "      <td>Mumbai, Ghaziabad</td>\n",
       "      <td>Change leaders</td>\n",
       "      <td>5-10 Yrs</td>\n",
       "    </tr>\n",
       "    <tr>\n",
       "      <th>2</th>\n",
       "      <td>Data Scientist</td>\n",
       "      <td>Ghaziabad, Faridabad, Delhi / NCR</td>\n",
       "      <td>Amity University</td>\n",
       "      <td>6-8 Yrs</td>\n",
       "    </tr>\n",
       "    <tr>\n",
       "      <th>3</th>\n",
       "      <td>Data Scientist - Python &amp; Machine Learning</td>\n",
       "      <td>Hyderabad/Secunderabad, Pune, Bangalore/Bengal...</td>\n",
       "      <td>FUTURES AND CAREERS</td>\n",
       "      <td>2-7 Yrs</td>\n",
       "    </tr>\n",
       "    <tr>\n",
       "      <th>4</th>\n",
       "      <td>Data Scientist - Python &amp; Machine Learning</td>\n",
       "      <td>Hyderabad/Secunderabad, Pune, Chennai, Bangalo...</td>\n",
       "      <td>FUTURES AND CAREERS</td>\n",
       "      <td>2-7 Yrs</td>\n",
       "    </tr>\n",
       "    <tr>\n",
       "      <th>5</th>\n",
       "      <td>Data Scientist - Python / Machine Learning / T...</td>\n",
       "      <td>Mumbai, Hyderabad/Secunderabad, Bangalore/Beng...</td>\n",
       "      <td>FUTURES AND CAREERS</td>\n",
       "      <td>3-8 Yrs</td>\n",
       "    </tr>\n",
       "    <tr>\n",
       "      <th>6</th>\n",
       "      <td>Data Scientist - Python &amp; Machine Learning</td>\n",
       "      <td>Hyderabad/Secunderabad, Bangalore/Bengaluru, D...</td>\n",
       "      <td>FUTURES AND CAREERS</td>\n",
       "      <td>2-7 Yrs</td>\n",
       "    </tr>\n",
       "    <tr>\n",
       "      <th>7</th>\n",
       "      <td>Hiring For Data Scientist</td>\n",
       "      <td>Gurgaon/Gurugram, Delhi / NCR</td>\n",
       "      <td>Max Bupa Health Insurance Company Limited</td>\n",
       "      <td>1-6 Yrs</td>\n",
       "    </tr>\n",
       "    <tr>\n",
       "      <th>8</th>\n",
       "      <td>Required- Data Scientist (NLP)-Axis Bank - 6 m...</td>\n",
       "      <td>Kolkata, New Delhi, Hyderabad/Secunderabad, Pu...</td>\n",
       "      <td>Axis Bank Limited</td>\n",
       "      <td>4-9 Yrs</td>\n",
       "    </tr>\n",
       "    <tr>\n",
       "      <th>9</th>\n",
       "      <td>Data Scientist - Python / Machine Learning / T...</td>\n",
       "      <td>Hyderabad/Secunderabad, Bangalore/Bengaluru, D...</td>\n",
       "      <td>FUTURES AND CAREERS</td>\n",
       "      <td>3-8 Yrs</td>\n",
       "    </tr>\n",
       "  </tbody>\n",
       "</table>\n",
       "</div>"
      ],
      "text/plain": [
       "                                           job-title  \\\n",
       "0                           Developer - Data Science   \n",
       "1  Data Scientist/Data Analyst - Python/Machine L...   \n",
       "2                                     Data Scientist   \n",
       "3         Data Scientist - Python & Machine Learning   \n",
       "4         Data Scientist - Python & Machine Learning   \n",
       "5  Data Scientist - Python / Machine Learning / T...   \n",
       "6         Data Scientist - Python & Machine Learning   \n",
       "7                          Hiring For Data Scientist   \n",
       "8  Required- Data Scientist (NLP)-Axis Bank - 6 m...   \n",
       "9  Data Scientist - Python / Machine Learning / T...   \n",
       "\n",
       "                                        job-location  \\\n",
       "0                                        Delhi / NCR   \n",
       "1                                  Mumbai, Ghaziabad   \n",
       "2                  Ghaziabad, Faridabad, Delhi / NCR   \n",
       "3  Hyderabad/Secunderabad, Pune, Bangalore/Bengal...   \n",
       "4  Hyderabad/Secunderabad, Pune, Chennai, Bangalo...   \n",
       "5  Mumbai, Hyderabad/Secunderabad, Bangalore/Beng...   \n",
       "6  Hyderabad/Secunderabad, Bangalore/Bengaluru, D...   \n",
       "7                      Gurgaon/Gurugram, Delhi / NCR   \n",
       "8  Kolkata, New Delhi, Hyderabad/Secunderabad, Pu...   \n",
       "9  Hyderabad/Secunderabad, Bangalore/Bengaluru, D...   \n",
       "\n",
       "                                company_name experience_required  \n",
       "0          ICL Systems India Private Limited             3-5 Yrs  \n",
       "1                             Change leaders            5-10 Yrs  \n",
       "2                           Amity University             6-8 Yrs  \n",
       "3                        FUTURES AND CAREERS             2-7 Yrs  \n",
       "4                        FUTURES AND CAREERS             2-7 Yrs  \n",
       "5                        FUTURES AND CAREERS             3-8 Yrs  \n",
       "6                        FUTURES AND CAREERS             2-7 Yrs  \n",
       "7  Max Bupa Health Insurance Company Limited             1-6 Yrs  \n",
       "8                          Axis Bank Limited             4-9 Yrs  \n",
       "9                        FUTURES AND CAREERS             3-8 Yrs  "
      ]
     },
     "execution_count": 223,
     "metadata": {},
     "output_type": "execute_result"
    }
   ],
   "source": [
    "df"
   ]
  },
  {
   "cell_type": "markdown",
   "metadata": {},
   "source": [
    "# Page 4 Write a python program to scrape data for first 10 job results for Data scientist Designation in Noida location. You have to scrape company_name, No. of days ago when job was posted, Rating of the company."
   ]
  },
  {
   "cell_type": "markdown",
   "metadata": {},
   "source": [
    "# Since using webdriver Glassdoor is not allowing to open search page or log in, I am ignoring this question as it is saying browser is not secured."
   ]
  },
  {
   "cell_type": "markdown",
   "metadata": {},
   "source": [
    "# Page 6 Q6 : Scrape data of first 100 sunglasses listings on flipkart.com. You have to scrape four attributes:"
   ]
  },
  {
   "cell_type": "code",
   "execution_count": 359,
   "metadata": {},
   "outputs": [],
   "source": [
    "driver = webdriver.Chrome(r\"D:\\softs & utilities\\chromedriver.exe\")\n",
    "#1. first get the webpage https://www.flipkart.com/\n",
    "driver.get(\"https://www.flipkart.com/\")"
   ]
  },
  {
   "cell_type": "code",
   "execution_count": 360,
   "metadata": {},
   "outputs": [],
   "source": [
    "sr1 = driver.find_element_by_class_name(\"_3704LK\")"
   ]
  },
  {
   "cell_type": "code",
   "execution_count": 361,
   "metadata": {},
   "outputs": [],
   "source": [
    "sr1.send_keys(\"sunglasses\")"
   ]
  },
  {
   "cell_type": "code",
   "execution_count": 362,
   "metadata": {},
   "outputs": [],
   "source": [
    "btn = driver.find_element_by_class_name(\"L0Z3Pu\")"
   ]
  },
  {
   "cell_type": "code",
   "execution_count": 363,
   "metadata": {},
   "outputs": [],
   "source": [
    "btn.click()"
   ]
  },
  {
   "cell_type": "code",
   "execution_count": 364,
   "metadata": {},
   "outputs": [],
   "source": [
    "df = pd.DataFrame(columns=['Title', 'Type', 'Price', 'Offer'])"
   ]
  },
  {
   "cell_type": "code",
   "execution_count": 365,
   "metadata": {},
   "outputs": [],
   "source": [
    "all_data = driver.find_elements_by_xpath(\"//div[@class='_1xHGtK _373qXS']\")"
   ]
  },
  {
   "cell_type": "code",
   "execution_count": 366,
   "metadata": {},
   "outputs": [],
   "source": [
    "titles = []\n",
    "types = []\n",
    "prices = []\n",
    "offers = []\n",
    "datas = []"
   ]
  },
  {
   "cell_type": "code",
   "execution_count": 367,
   "metadata": {},
   "outputs": [],
   "source": [
    "for i,j in enumerate(all_data):\n",
    "    datas.insert(i,j.text.split(\"\\n\"))"
   ]
  },
  {
   "cell_type": "code",
   "execution_count": 368,
   "metadata": {},
   "outputs": [],
   "source": [
    "for i in datas:\n",
    "    for j in i:\n",
    "        if j == 'Bestseller':\n",
    "            i.pop(i.index(j))\n",
    "        if j == 'Ad':\n",
    "            i.pop(i.index(j))"
   ]
  },
  {
   "cell_type": "code",
   "execution_count": 369,
   "metadata": {},
   "outputs": [],
   "source": [
    "for i,j in enumerate(datas):\n",
    "    titles.append(j[0])\n",
    "    types.append(j[1])\n",
    "    prices.append(j[2].split(\"₹\")[1])\n",
    "    offers.append(j[2].split(\"₹\")[2].split(\" \")[0][-3:])"
   ]
  },
  {
   "cell_type": "code",
   "execution_count": 370,
   "metadata": {},
   "outputs": [],
   "source": [
    "p2 = driver.find_element_by_xpath(\"//a[@class='ge-49M']\")\n",
    "p2.click()"
   ]
  },
  {
   "cell_type": "code",
   "execution_count": 371,
   "metadata": {},
   "outputs": [],
   "source": [
    "all_data = driver.find_elements_by_xpath(\"//div[@class='_1xHGtK _373qXS']\")"
   ]
  },
  {
   "cell_type": "code",
   "execution_count": 372,
   "metadata": {},
   "outputs": [],
   "source": [
    "for i,j in enumerate(all_data):\n",
    "    datas.insert(i,j.text.split(\"\\n\"))"
   ]
  },
  {
   "cell_type": "code",
   "execution_count": 373,
   "metadata": {},
   "outputs": [],
   "source": [
    "for i in datas:\n",
    "    for j in i:\n",
    "        if j == 'Bestseller':\n",
    "            i.pop(i.index(j))\n",
    "for i in datas:\n",
    "    for j in i:\n",
    "        if j == 'Ad':\n",
    "            i.pop(i.index(j))"
   ]
  },
  {
   "cell_type": "code",
   "execution_count": 374,
   "metadata": {},
   "outputs": [],
   "source": [
    "for i,j in enumerate(datas[:40]):\n",
    "    titles.append(j[0])\n",
    "    types.append(j[1])\n",
    "    prices.append(j[2].split(\"₹\")[1])\n",
    "    offers.append(j[2].split(\"₹\")[2].split(\" \")[0][-3:])"
   ]
  },
  {
   "cell_type": "code",
   "execution_count": 375,
   "metadata": {},
   "outputs": [
    {
     "data": {
      "text/plain": [
       "80"
      ]
     },
     "execution_count": 375,
     "metadata": {},
     "output_type": "execute_result"
    }
   ],
   "source": [
    "len(offers)"
   ]
  },
  {
   "cell_type": "code",
   "execution_count": 384,
   "metadata": {},
   "outputs": [],
   "source": [
    "p3 = driver.find_elements_by_xpath(\"//a[@class='ge-49M']\")\n",
    "for i in p3:\n",
    "    if i.text == '3':\n",
    "        i.click()"
   ]
  },
  {
   "cell_type": "code",
   "execution_count": 385,
   "metadata": {},
   "outputs": [],
   "source": [
    "all_data = driver.find_elements_by_xpath(\"//div[@class='_1xHGtK _373qXS']\")"
   ]
  },
  {
   "cell_type": "code",
   "execution_count": 386,
   "metadata": {},
   "outputs": [],
   "source": [
    "for i,j in enumerate(all_data):\n",
    "    datas.insert(i,j.text.split(\"\\n\"))"
   ]
  },
  {
   "cell_type": "code",
   "execution_count": 387,
   "metadata": {},
   "outputs": [],
   "source": [
    "for i in datas:\n",
    "    for j in i:\n",
    "        if j == 'Bestseller':\n",
    "            i.pop(i.index(j))\n",
    "for i in datas:\n",
    "    for j in i:\n",
    "        if j == 'Ad':\n",
    "            i.pop(i.index(j))"
   ]
  },
  {
   "cell_type": "code",
   "execution_count": 388,
   "metadata": {},
   "outputs": [],
   "source": [
    "for i,j in enumerate(datas[:40]):\n",
    "    titles.append(j[0])\n",
    "    types.append(j[1])\n",
    "    prices.append(j[2].split(\"₹\")[1])\n",
    "    offers.append(j[2].split(\"₹\")[2].split(\" \")[0][-3:])"
   ]
  },
  {
   "cell_type": "code",
   "execution_count": 389,
   "metadata": {},
   "outputs": [
    {
     "data": {
      "text/plain": [
       "120"
      ]
     },
     "execution_count": 389,
     "metadata": {},
     "output_type": "execute_result"
    }
   ],
   "source": [
    "len(offers)"
   ]
  },
  {
   "cell_type": "code",
   "execution_count": 390,
   "metadata": {},
   "outputs": [],
   "source": [
    "df['Title'] = titles[:100]\n",
    "df['Type'] = types[:100]\n",
    "df['Price'] = prices[:100]\n",
    "df['Offer'] = offers[:100]"
   ]
  },
  {
   "cell_type": "code",
   "execution_count": 391,
   "metadata": {},
   "outputs": [
    {
     "data": {
      "text/html": [
       "<div>\n",
       "<style scoped>\n",
       "    .dataframe tbody tr th:only-of-type {\n",
       "        vertical-align: middle;\n",
       "    }\n",
       "\n",
       "    .dataframe tbody tr th {\n",
       "        vertical-align: top;\n",
       "    }\n",
       "\n",
       "    .dataframe thead th {\n",
       "        text-align: right;\n",
       "    }\n",
       "</style>\n",
       "<table border=\"1\" class=\"dataframe\">\n",
       "  <thead>\n",
       "    <tr style=\"text-align: right;\">\n",
       "      <th></th>\n",
       "      <th>Title</th>\n",
       "      <th>Type</th>\n",
       "      <th>Price</th>\n",
       "      <th>Offer</th>\n",
       "    </tr>\n",
       "  </thead>\n",
       "  <tbody>\n",
       "    <tr>\n",
       "      <th>0</th>\n",
       "      <td>ROZZETTA CRAFT</td>\n",
       "      <td>UV Protection, Gradient Retro Square Sunglasse...</td>\n",
       "      <td>499</td>\n",
       "      <td>75%</td>\n",
       "    </tr>\n",
       "    <tr>\n",
       "      <th>1</th>\n",
       "      <td>ROZZETTA CRAFT</td>\n",
       "      <td>UV Protection, Gradient Round Sunglasses (Free...</td>\n",
       "      <td>449</td>\n",
       "      <td>87%</td>\n",
       "    </tr>\n",
       "    <tr>\n",
       "      <th>2</th>\n",
       "      <td>Fastrack</td>\n",
       "      <td>UV Protection Wayfarer Sunglasses (Free Size)</td>\n",
       "      <td>758</td>\n",
       "      <td>15%</td>\n",
       "    </tr>\n",
       "    <tr>\n",
       "      <th>3</th>\n",
       "      <td>Fastrack</td>\n",
       "      <td>Mirrored, UV Protection Wayfarer Sunglasses (F...</td>\n",
       "      <td>499</td>\n",
       "      <td>50%</td>\n",
       "    </tr>\n",
       "    <tr>\n",
       "      <th>4</th>\n",
       "      <td>PIRASO</td>\n",
       "      <td>UV Protection Aviator Sunglasses (54)</td>\n",
       "      <td>225</td>\n",
       "      <td>85%</td>\n",
       "    </tr>\n",
       "    <tr>\n",
       "      <th>...</th>\n",
       "      <td>...</td>\n",
       "      <td>...</td>\n",
       "      <td>...</td>\n",
       "      <td>...</td>\n",
       "    </tr>\n",
       "    <tr>\n",
       "      <th>95</th>\n",
       "      <td>hipe</td>\n",
       "      <td>Mirrored, UV Protection, Gradient Round Sungla...</td>\n",
       "      <td>210</td>\n",
       "      <td>85%</td>\n",
       "    </tr>\n",
       "    <tr>\n",
       "      <th>96</th>\n",
       "      <td>Fastrack</td>\n",
       "      <td>UV Protection Wrap-around Sunglasses (Free Size)</td>\n",
       "      <td>865</td>\n",
       "      <td>93%</td>\n",
       "    </tr>\n",
       "    <tr>\n",
       "      <th>97</th>\n",
       "      <td>IRUS by IDEE</td>\n",
       "      <td>Gradient Rectangular Sunglasses (55)</td>\n",
       "      <td>585</td>\n",
       "      <td>41%</td>\n",
       "    </tr>\n",
       "    <tr>\n",
       "      <th>98</th>\n",
       "      <td>Aislin</td>\n",
       "      <td>UV Protection, Gradient Cat-eye Sunglasses (58)</td>\n",
       "      <td>511</td>\n",
       "      <td>66%</td>\n",
       "    </tr>\n",
       "    <tr>\n",
       "      <th>99</th>\n",
       "      <td>ROZZETTA CRAFT</td>\n",
       "      <td>Gradient, UV Protection Round Sunglasses (Free...</td>\n",
       "      <td>449</td>\n",
       "      <td>77%</td>\n",
       "    </tr>\n",
       "  </tbody>\n",
       "</table>\n",
       "<p>100 rows × 4 columns</p>\n",
       "</div>"
      ],
      "text/plain": [
       "             Title                                               Type Price  \\\n",
       "0   ROZZETTA CRAFT  UV Protection, Gradient Retro Square Sunglasse...   499   \n",
       "1   ROZZETTA CRAFT  UV Protection, Gradient Round Sunglasses (Free...   449   \n",
       "2         Fastrack      UV Protection Wayfarer Sunglasses (Free Size)   758   \n",
       "3         Fastrack  Mirrored, UV Protection Wayfarer Sunglasses (F...   499   \n",
       "4           PIRASO              UV Protection Aviator Sunglasses (54)   225   \n",
       "..             ...                                                ...   ...   \n",
       "95            hipe  Mirrored, UV Protection, Gradient Round Sungla...   210   \n",
       "96        Fastrack   UV Protection Wrap-around Sunglasses (Free Size)   865   \n",
       "97    IRUS by IDEE               Gradient Rectangular Sunglasses (55)   585   \n",
       "98          Aislin    UV Protection, Gradient Cat-eye Sunglasses (58)   511   \n",
       "99  ROZZETTA CRAFT  Gradient, UV Protection Round Sunglasses (Free...   449   \n",
       "\n",
       "   Offer  \n",
       "0    75%  \n",
       "1    87%  \n",
       "2    15%  \n",
       "3    50%  \n",
       "4    85%  \n",
       "..   ...  \n",
       "95   85%  \n",
       "96   93%  \n",
       "97   41%  \n",
       "98   66%  \n",
       "99   77%  \n",
       "\n",
       "[100 rows x 4 columns]"
      ]
     },
     "execution_count": 391,
     "metadata": {},
     "output_type": "execute_result"
    }
   ],
   "source": [
    "df"
   ]
  },
  {
   "cell_type": "markdown",
   "metadata": {},
   "source": [
    "# Page 8: Q8: Scrape data for first 100 sneakers you find when you visit flipkart.com and search for “sneakers” in the search field."
   ]
  },
  {
   "cell_type": "code",
   "execution_count": 395,
   "metadata": {},
   "outputs": [],
   "source": [
    "driver = webdriver.Chrome(r\"D:\\softs & utilities\\chromedriver.exe\")\n",
    "#1. first get the webpage https://www.flipkart.com/\n",
    "driver.get(\"https://www.flipkart.com/\")"
   ]
  },
  {
   "cell_type": "code",
   "execution_count": 396,
   "metadata": {},
   "outputs": [],
   "source": [
    "sr1 = driver.find_element_by_class_name(\"_3704LK\")\n",
    "sr1.send_keys(\"sneakers\")"
   ]
  },
  {
   "cell_type": "code",
   "execution_count": 397,
   "metadata": {},
   "outputs": [],
   "source": [
    "btn = driver.find_element_by_class_name(\"L0Z3Pu\")\n",
    "btn.click()"
   ]
  },
  {
   "cell_type": "code",
   "execution_count": 399,
   "metadata": {},
   "outputs": [],
   "source": [
    "all_data = driver.find_elements_by_xpath(\"//div[@class='_1xHGtK _373qXS']\")"
   ]
  },
  {
   "cell_type": "code",
   "execution_count": 401,
   "metadata": {},
   "outputs": [],
   "source": [
    "titles = []\n",
    "types = []\n",
    "prices = []\n",
    "offers = []\n",
    "datas = []"
   ]
  },
  {
   "cell_type": "code",
   "execution_count": 402,
   "metadata": {},
   "outputs": [],
   "source": [
    "for i,j in enumerate(all_data):\n",
    "    datas.insert(i,j.text.split(\"\\n\"))"
   ]
  },
  {
   "cell_type": "code",
   "execution_count": 403,
   "metadata": {},
   "outputs": [],
   "source": [
    "for i in datas:\n",
    "    for j in i:\n",
    "        if j == 'Bestseller':\n",
    "            i.pop(i.index(j))\n",
    "        if j == 'Ad':\n",
    "            i.pop(i.index(j))"
   ]
  },
  {
   "cell_type": "code",
   "execution_count": 404,
   "metadata": {},
   "outputs": [],
   "source": [
    "for i,j in enumerate(datas):\n",
    "    titles.append(j[0])\n",
    "    types.append(j[1])\n",
    "    prices.append(j[2].split(\"₹\")[1])\n",
    "    offers.append(j[2].split(\"₹\")[2].split(\" \")[0][-3:])"
   ]
  },
  {
   "cell_type": "code",
   "execution_count": 411,
   "metadata": {},
   "outputs": [],
   "source": [
    "p2 = driver.find_element_by_xpath(\"//a[@class='ge-49M']\")\n",
    "p2.click()"
   ]
  },
  {
   "cell_type": "code",
   "execution_count": 412,
   "metadata": {},
   "outputs": [],
   "source": [
    "all_data = driver.find_elements_by_xpath(\"//div[@class='_1xHGtK _373qXS']\")"
   ]
  },
  {
   "cell_type": "code",
   "execution_count": 413,
   "metadata": {},
   "outputs": [],
   "source": [
    "for i,j in enumerate(all_data):\n",
    "    datas.insert(i,j.text.split(\"\\n\"))"
   ]
  },
  {
   "cell_type": "code",
   "execution_count": 414,
   "metadata": {},
   "outputs": [],
   "source": [
    "for i in datas:\n",
    "    for j in i:\n",
    "        if j == 'Bestseller':\n",
    "            i.pop(i.index(j))\n",
    "for i in datas:\n",
    "    for j in i:\n",
    "        if j == 'Ad':\n",
    "            i.pop(i.index(j))"
   ]
  },
  {
   "cell_type": "code",
   "execution_count": 415,
   "metadata": {},
   "outputs": [],
   "source": [
    "for i,j in enumerate(datas[:40]):\n",
    "    titles.append(j[0])\n",
    "    types.append(j[1])\n",
    "    prices.append(j[2].split(\"₹\")[1])\n",
    "    offers.append(j[2].split(\"₹\")[2].split(\" \")[0][-3:])"
   ]
  },
  {
   "cell_type": "code",
   "execution_count": 417,
   "metadata": {},
   "outputs": [],
   "source": [
    "p3 = driver.find_elements_by_xpath(\"//a[@class='ge-49M']\")\n",
    "for i in p3:\n",
    "    if i.text == '3':\n",
    "        i.click()"
   ]
  },
  {
   "cell_type": "code",
   "execution_count": 418,
   "metadata": {},
   "outputs": [],
   "source": [
    "all_data = driver.find_elements_by_xpath(\"//div[@class='_1xHGtK _373qXS']\")"
   ]
  },
  {
   "cell_type": "code",
   "execution_count": 419,
   "metadata": {},
   "outputs": [],
   "source": [
    "for i,j in enumerate(all_data):\n",
    "    datas.insert(i,j.text.split(\"\\n\"))"
   ]
  },
  {
   "cell_type": "code",
   "execution_count": 420,
   "metadata": {},
   "outputs": [],
   "source": [
    "for i in datas:\n",
    "    for j in i:\n",
    "        if j == 'Bestseller':\n",
    "            i.pop(i.index(j))\n",
    "for i in datas:\n",
    "    for j in i:\n",
    "        if j == 'Ad':\n",
    "            i.pop(i.index(j))"
   ]
  },
  {
   "cell_type": "code",
   "execution_count": 421,
   "metadata": {},
   "outputs": [],
   "source": [
    "for i,j in enumerate(datas[:40]):\n",
    "    titles.append(j[0])\n",
    "    types.append(j[1])\n",
    "    prices.append(j[2].split(\"₹\")[1])\n",
    "    offers.append(j[2].split(\"₹\")[2].split(\" \")[0][-3:])"
   ]
  },
  {
   "cell_type": "code",
   "execution_count": 424,
   "metadata": {},
   "outputs": [],
   "source": [
    "df = pd.DataFrame(columns=['Brand', 'Description', 'Price', 'Discount'])\n",
    "df['Brand'] = titles[:100]\n",
    "df['Description'] = types[:100]\n",
    "df['Price'] = prices[:100]\n",
    "df['Discount'] = offers[:100]"
   ]
  },
  {
   "cell_type": "code",
   "execution_count": 425,
   "metadata": {},
   "outputs": [
    {
     "data": {
      "text/html": [
       "<div>\n",
       "<style scoped>\n",
       "    .dataframe tbody tr th:only-of-type {\n",
       "        vertical-align: middle;\n",
       "    }\n",
       "\n",
       "    .dataframe tbody tr th {\n",
       "        vertical-align: top;\n",
       "    }\n",
       "\n",
       "    .dataframe thead th {\n",
       "        text-align: right;\n",
       "    }\n",
       "</style>\n",
       "<table border=\"1\" class=\"dataframe\">\n",
       "  <thead>\n",
       "    <tr style=\"text-align: right;\">\n",
       "      <th></th>\n",
       "      <th>Brand</th>\n",
       "      <th>Description</th>\n",
       "      <th>Price</th>\n",
       "      <th>Discount</th>\n",
       "    </tr>\n",
       "  </thead>\n",
       "  <tbody>\n",
       "    <tr>\n",
       "      <th>0</th>\n",
       "      <td>ENJOY the celebration people</td>\n",
       "      <td>Sneakers For Men</td>\n",
       "      <td>649</td>\n",
       "      <td>35%</td>\n",
       "    </tr>\n",
       "    <tr>\n",
       "      <th>1</th>\n",
       "      <td>Bucik</td>\n",
       "      <td>Multicolor Casual Shoes Mesh for Men Sneakers ...</td>\n",
       "      <td>599</td>\n",
       "      <td>70%</td>\n",
       "    </tr>\n",
       "    <tr>\n",
       "      <th>2</th>\n",
       "      <td>Chevit</td>\n",
       "      <td>Perfect &amp; Affordable Combo Pack of 02 Pairs Sn...</td>\n",
       "      <td>499</td>\n",
       "      <td>72%</td>\n",
       "    </tr>\n",
       "    <tr>\n",
       "      <th>3</th>\n",
       "      <td>Robbie jones</td>\n",
       "      <td>Casual Sneakers Shoes For Men Sneakers For Men</td>\n",
       "      <td>399</td>\n",
       "      <td>60%</td>\n",
       "    </tr>\n",
       "    <tr>\n",
       "      <th>4</th>\n",
       "      <td>Chevit</td>\n",
       "      <td>Combo Pack of 4 Casual Sneakers With Sneakers ...</td>\n",
       "      <td>474</td>\n",
       "      <td>76%</td>\n",
       "    </tr>\n",
       "    <tr>\n",
       "      <th>...</th>\n",
       "      <td>...</td>\n",
       "      <td>...</td>\n",
       "      <td>...</td>\n",
       "      <td>...</td>\n",
       "    </tr>\n",
       "    <tr>\n",
       "      <th>95</th>\n",
       "      <td>BERSACHE</td>\n",
       "      <td>Combo pack of 2 casual, sneaker and loafer sho...</td>\n",
       "      <td>498</td>\n",
       "      <td>50%</td>\n",
       "    </tr>\n",
       "    <tr>\n",
       "      <th>96</th>\n",
       "      <td>M K FOOTWEAR</td>\n",
       "      <td>M K Footwear 702_Blue Sneakers For Men</td>\n",
       "      <td>349</td>\n",
       "      <td>65%</td>\n",
       "    </tr>\n",
       "    <tr>\n",
       "      <th>97</th>\n",
       "      <td>bluemaker</td>\n",
       "      <td>casual for men (blue 06) Sneakers For Men</td>\n",
       "      <td>442</td>\n",
       "      <td>55%</td>\n",
       "    </tr>\n",
       "    <tr>\n",
       "      <th>98</th>\n",
       "      <td>SHOEFLY</td>\n",
       "      <td>Combo Men Pack of 2 Loafers Shoes Sneakers For...</td>\n",
       "      <td>269</td>\n",
       "      <td>73%</td>\n",
       "    </tr>\n",
       "    <tr>\n",
       "      <th>99</th>\n",
       "      <td>PROVOGUE</td>\n",
       "      <td>Sneakers For Men</td>\n",
       "      <td>699</td>\n",
       "      <td>65%</td>\n",
       "    </tr>\n",
       "  </tbody>\n",
       "</table>\n",
       "<p>100 rows × 4 columns</p>\n",
       "</div>"
      ],
      "text/plain": [
       "                           Brand  \\\n",
       "0   ENJOY the celebration people   \n",
       "1                          Bucik   \n",
       "2                         Chevit   \n",
       "3                   Robbie jones   \n",
       "4                         Chevit   \n",
       "..                           ...   \n",
       "95                      BERSACHE   \n",
       "96                  M K FOOTWEAR   \n",
       "97                     bluemaker   \n",
       "98                       SHOEFLY   \n",
       "99                      PROVOGUE   \n",
       "\n",
       "                                          Description Price Discount  \n",
       "0                                    Sneakers For Men   649      35%  \n",
       "1   Multicolor Casual Shoes Mesh for Men Sneakers ...   599      70%  \n",
       "2   Perfect & Affordable Combo Pack of 02 Pairs Sn...   499      72%  \n",
       "3      Casual Sneakers Shoes For Men Sneakers For Men   399      60%  \n",
       "4   Combo Pack of 4 Casual Sneakers With Sneakers ...   474      76%  \n",
       "..                                                ...   ...      ...  \n",
       "95  Combo pack of 2 casual, sneaker and loafer sho...   498      50%  \n",
       "96             M K Footwear 702_Blue Sneakers For Men   349      65%  \n",
       "97          casual for men (blue 06) Sneakers For Men   442      55%  \n",
       "98  Combo Men Pack of 2 Loafers Shoes Sneakers For...   269      73%  \n",
       "99                                   Sneakers For Men   699      65%  \n",
       "\n",
       "[100 rows x 4 columns]"
      ]
     },
     "execution_count": 425,
     "metadata": {},
     "output_type": "execute_result"
    }
   ],
   "source": [
    "df"
   ]
  },
  {
   "cell_type": "markdown",
   "metadata": {},
   "source": [
    "# Page 8: Q9: Go to the link - https://www.myntra.com/shoes"
   ]
  },
  {
   "cell_type": "code",
   "execution_count": 530,
   "metadata": {},
   "outputs": [],
   "source": [
    "driver.quit()"
   ]
  },
  {
   "cell_type": "code",
   "execution_count": 531,
   "metadata": {},
   "outputs": [],
   "source": [
    "driver = webdriver.Chrome(r\"D:\\softs & utilities\\chromedriver.exe\")\n",
    "#1. first get the webpage https://www.myntra.com/\n",
    "driver.get(\"https://www.myntra.com/\")"
   ]
  },
  {
   "cell_type": "code",
   "execution_count": 532,
   "metadata": {},
   "outputs": [],
   "source": [
    "sr1 = driver.find_element_by_class_name(\"desktop-searchBar\")\n",
    "sr1.send_keys(\"shoes\")"
   ]
  },
  {
   "cell_type": "code",
   "execution_count": 533,
   "metadata": {},
   "outputs": [],
   "source": [
    "btn = driver.find_element_by_class_name(\"desktop-submit\")\n",
    "btn.click()"
   ]
  },
  {
   "cell_type": "code",
   "execution_count": 534,
   "metadata": {},
   "outputs": [],
   "source": [
    "filters = driver.find_elements_by_xpath(\"//label[@class='common-customCheckbox vertical-filters-label']\")"
   ]
  },
  {
   "cell_type": "code",
   "execution_count": 536,
   "metadata": {},
   "outputs": [
    {
     "name": "stdout",
     "output_type": "stream",
     "text": [
      "7\n"
     ]
    }
   ],
   "source": [
    "for i in filters:\n",
    "    if \"Rs. 6649 \" == i.text.split(\"to\")[0]:\n",
    "        print(filters.index(i))\n",
    "        i.click()"
   ]
  },
  {
   "cell_type": "code",
   "execution_count": 537,
   "metadata": {},
   "outputs": [],
   "source": [
    "filters1 = driver.find_elements_by_xpath(\"//label[@class='common-customCheckbox']\")"
   ]
  },
  {
   "cell_type": "code",
   "execution_count": 538,
   "metadata": {},
   "outputs": [
    {
     "name": "stdout",
     "output_type": "stream",
     "text": [
      "Black (651)\n"
     ]
    }
   ],
   "source": [
    "for i in filters1:\n",
    "    if \"Black\" == i.text.split(\" \")[0]:\n",
    "        print(i.text)\n",
    "        i.click()"
   ]
  },
  {
   "cell_type": "code",
   "execution_count": 539,
   "metadata": {},
   "outputs": [],
   "source": [
    "all_data = driver.find_elements_by_xpath(\"//div[@class='product-productMetaInfo']\")"
   ]
  },
  {
   "cell_type": "code",
   "execution_count": 542,
   "metadata": {},
   "outputs": [
    {
     "name": "stdout",
     "output_type": "stream",
     "text": [
      "220\n"
     ]
    }
   ],
   "source": [
    "for i,j in enumerate(all_data):\n",
    "    datas.insert(i,j.text.split(\"\\n\"))"
   ]
  },
  {
   "cell_type": "code",
   "execution_count": 544,
   "metadata": {},
   "outputs": [
    {
     "name": "stdout",
     "output_type": "stream",
     "text": [
      "0 ['Nike', 'Men AIR ZOOM Running Shoes', 'Rs. 10796Rs. 13495(20% OFF)', 'Only Few Left!']\n",
      "1 ['Nike', 'Men REACT MILER Running Shoes', 'Rs. 8796Rs. 10995(20% OFF)']\n",
      "2 ['Nike', 'Men REACT MILER PRM Running', 'Rs. 9996Rs. 12495(20% OFF)', 'Only Few Left!']\n",
      "3 ['Nike', 'Men AF1/1 Sneakers', 'Rs. 10620Rs. 12495(15% OFF)', 'Only Few Left!']\n",
      "4 ['PUMA Motorsport', 'Unisex Mercedes Running Shoes', 'Rs. 7999', 'Only Few Left!']\n",
      "5 ['Nike', 'Men JORDAN DELTA Basketball', 'Rs. 12495']\n",
      "6 ['Bugatti', 'Men Solid Casual Sneakers', 'Rs. 8999', 'Only Few Left!']\n",
      "7 ['Nike', 'Women AIR ZOOM Running Shoes', 'Rs. 7496Rs. 9995(25% OFF)', 'Only Few Left!']\n",
      "8 ['Nike', 'AIR ZOOM PEGASUS Running Shoes', 'Rs. 11495']\n",
      "9 ['Nike', 'Women REACT Running Shoes', 'Rs. 8996Rs. 11995(25% OFF)']\n",
      "10 ['Nike', 'Men JOYRIDE Running Shoes', 'Rs. 11246Rs. 14995(25% OFF)']\n",
      "11 ['Nike', 'Women AIR ZOOM Running', 'Rs. 10796Rs. 13495(20% OFF)', 'Only Few Left!']\n",
      "12 ['Nike', 'Men React Infinity Running', 'Rs. 11621Rs. 15495(25% OFF)']\n",
      "13 ['Nike', 'Women AIR ZOOM Running Shoes', 'Rs. 8236Rs. 10295(20% OFF)']\n",
      "14 ['Nike', 'Men KD13 EP Basketball Shoes', 'Rs. 12995']\n",
      "15 ['Nike', 'Women Running Shoes', 'Rs. 8396Rs. 11995(30% OFF)']\n",
      "16 ['Puma', 'Men SPEED 500 2 Running Shoes', 'Rs. 6999Rs. 9999(30% OFF)', 'Only Few Left!']\n",
      "17 ['Bugatti', 'Men Solid Leather Formal Derbys', 'Rs. 9999', 'Only Few Left!']\n",
      "18 ['Puma', 'Men Mesh Fuse Training Or Gym Shoes', 'Rs. 7999']\n",
      "19 ['UNDER ARMOUR', 'HOVR Guardian 2 Sports Shoes', 'Rs. 11999', 'Only Few Left!']\n",
      "20 ['Puma', 'SPEED Orbiter Running Shoes', 'Rs. 7799Rs. 12999(40% OFF)', 'Only Few Left!']\n",
      "21 ['Skechers', 'Men VIPER COMPETITOR Training', 'Rs. 6999', 'Only Few Left!']\n",
      "22 ['ASICS', 'Men Synthetic Running Shoes', 'Rs. 9999Rs. 19999(50% OFF)', 'Only Few Left!']\n",
      "23 ['UNDER ARMOUR', 'Men Liquify Running Shoes', 'Rs. 10999', 'Only Few Left!']\n",
      "24 ['UNDER ARMOUR', 'Charged Impulse Running Shoes', 'Rs. 7999']\n",
      "25 ['ADIDAS Originals', 'Men NITE JOGGER Sneakers', 'Rs. 11199Rs. 13999(20% OFF)']\n",
      "26 ['UNDER ARMOUR', 'Men Charged Impulse Knit', 'Rs. 8999']\n",
      "27 ['Bugatti', 'Men Perforated Mule Sneakers', 'Rs. 6999', 'Only Few Left!']\n",
      "28 ['Nike', 'Men JORDAN DELTA Sneakers', 'Rs. 10995']\n",
      "29 ['Hush Puppies', 'Men Formal Derbys', 'Rs. 9999']\n",
      "30 ['UNDER ARMOUR', 'HOVR Sonic 3 Running Shoes', 'Rs. 10999']\n",
      "31 ['ADIDAS Originals', 'Men Superstar Sneakers', 'Rs. 8799Rs. 10999(20% OFF)', 'Only Few Left!']\n",
      "32 ['Tommy Hilfiger', 'Men Heritage Leather Sneakers', 'Rs. 6749Rs. 8999(25% OFF)', 'Only Few Left!']\n",
      "33 ['UNDER ARMOUR', 'Charged Rogue 2 Wide 2E Shoes', 'Rs. 7999']\n",
      "34 ['Skechers', \"Women D'LITES 3.0 Sneakers\", 'Rs. 6999']\n",
      "35 ['Hush Puppies', 'Men Colourblocked Driving Shoes', 'Rs. 8999']\n",
      "36 ['Geox', 'Men Leather Formal Derbys', 'Rs. 11490', 'Only Few Left!']\n",
      "37 ['Hush Puppies', 'Men Solid Leather Formal Slip-Ons', 'Rs. 9999']\n",
      "38 ['Geox', 'Men Leather Formal Slip-Ons', 'Rs. 9490', 'Only Few Left!']\n",
      "39 ['Geox', 'Women Leather Block Heels', 'Rs. 9990', 'Only Few Left!']\n",
      "40 ['Ruosh', 'Men Leather Formal Brogues', 'Rs. 6990', 'Only Few Left!']\n",
      "41 ['Geox', 'Men Leather Formal Slip-Ons', 'Rs. 8999']\n",
      "42 ['Hush Puppies', 'Men Solid Leather Formal Slip-Ons', 'Rs. 8999']\n",
      "43 ['DAVINCHI', 'Ustraa black', 'Rs. 8990', 'Only Few Left!']\n",
      "44 ['Ruosh', 'Men Textured Derbys', 'Rs. 8990', 'Only Few Left!']\n",
      "45 ['Nike', 'Women AIR MAX VIVA Sneakers', 'Rs. 10620Rs. 12495(15% OFF)']\n",
      "46 ['DAVINCHI', 'Men Formal Leather Slip-Ons', 'Rs. 8990', 'Only Few Left!']\n",
      "47 ['Heel & Buckle London', 'Men Textured Leather Penny Loafers', 'Rs. 8792Rs. 10990(20% OFF)', 'Only Few Left!']\n",
      "48 ['UNDER ARMOUR', 'HOVR Sonic 3 Running Shoes', 'Rs. 10999']\n",
      "49 ['UNDER ARMOUR', 'Women HOVR Rise 2 Training', 'Rs. 9999']\n",
      "50 ['Nike', 'Men AIR ZOOM Running Shoes', 'Rs. 10796Rs. 13495(20% OFF)', 'Only Few Left!']\n",
      "51 ['Nike', 'Men REACT MILER Running Shoes', 'Rs. 8796Rs. 10995(20% OFF)']\n",
      "52 ['Nike', 'Men REACT MILER PRM Running', 'Rs. 9996Rs. 12495(20% OFF)', 'Only Few Left!']\n",
      "53 ['Nike', 'Men AF1/1 Sneakers', 'Rs. 10620Rs. 12495(15% OFF)', 'Only Few Left!']\n",
      "54 ['PUMA Motorsport', 'Unisex Mercedes Running Shoes', 'Rs. 7999', 'Only Few Left!']\n",
      "55 ['Nike', 'Men JORDAN DELTA Basketball', 'Rs. 12495']\n",
      "56 ['Bugatti', 'Men Solid Casual Sneakers', 'Rs. 8999', 'Only Few Left!']\n",
      "57 ['Nike', 'Women AIR ZOOM Running Shoes', 'Rs. 7496Rs. 9995(25% OFF)', 'Only Few Left!']\n",
      "58 ['Nike', 'AIR ZOOM PEGASUS Running Shoes', 'Rs. 11495']\n",
      "59 ['Nike', 'Women REACT Running Shoes', 'Rs. 8996Rs. 11995(25% OFF)']\n",
      "60 ['Nike', 'Men JOYRIDE Running Shoes', 'Rs. 11246Rs. 14995(25% OFF)']\n",
      "61 ['Nike', 'Women AIR ZOOM Running', 'Rs. 10796Rs. 13495(20% OFF)', 'Only Few Left!']\n",
      "62 ['Nike', 'Men React Infinity Running', 'Rs. 11621Rs. 15495(25% OFF)']\n",
      "63 ['Nike', 'Women AIR ZOOM Running Shoes', 'Rs. 8236Rs. 10295(20% OFF)']\n",
      "64 ['Nike', 'Men KD13 EP Basketball Shoes', 'Rs. 12995']\n",
      "65 ['Nike', 'Women Running Shoes', 'Rs. 8396Rs. 11995(30% OFF)']\n",
      "66 ['Puma', 'Men SPEED 500 2 Running Shoes', 'Rs. 6999Rs. 9999(30% OFF)', 'Only Few Left!']\n",
      "67 ['Bugatti', 'Men Solid Leather Formal Derbys', 'Rs. 9999', 'Only Few Left!']\n",
      "68 ['Puma', 'Men Mesh Fuse Training Or Gym Shoes', 'Rs. 7999']\n",
      "69 ['UNDER ARMOUR', 'HOVR Guardian 2 Sports Shoes', 'Rs. 11999', 'Only Few Left!']\n",
      "70 ['Puma', 'SPEED Orbiter Running Shoes', 'Rs. 7799Rs. 12999(40% OFF)', 'Only Few Left!']\n",
      "71 ['Skechers', 'Men VIPER COMPETITOR Training', 'Rs. 6999', 'Only Few Left!']\n",
      "72 ['ASICS', 'Men Synthetic Running Shoes', 'Rs. 9999Rs. 19999(50% OFF)', 'Only Few Left!']\n",
      "73 ['UNDER ARMOUR', 'Men Liquify Running Shoes', 'Rs. 10999', 'Only Few Left!']\n",
      "74 ['UNDER ARMOUR', 'Charged Impulse Running Shoes', 'Rs. 7999']\n",
      "75 ['ADIDAS Originals', 'Men NITE JOGGER Sneakers', 'Rs. 11199Rs. 13999(20% OFF)']\n",
      "76 ['UNDER ARMOUR', 'Men Charged Impulse Knit', 'Rs. 8999']\n",
      "77 ['Bugatti', 'Men Perforated Mule Sneakers', 'Rs. 6999', 'Only Few Left!']\n",
      "78 ['Nike', 'Men JORDAN DELTA Sneakers', 'Rs. 10995']\n",
      "79 ['Hush Puppies', 'Men Formal Derbys', 'Rs. 9999']\n",
      "80 ['UNDER ARMOUR', 'HOVR Sonic 3 Running Shoes', 'Rs. 10999']\n",
      "81 ['ADIDAS Originals', 'Men Superstar Sneakers', 'Rs. 8799Rs. 10999(20% OFF)', 'Only Few Left!']\n",
      "82 ['Tommy Hilfiger', 'Men Heritage Leather Sneakers', 'Rs. 6749Rs. 8999(25% OFF)', 'Only Few Left!']\n",
      "83 ['UNDER ARMOUR', 'Charged Rogue 2 Wide 2E Shoes', 'Rs. 7999']\n",
      "84 ['Skechers', \"Women D'LITES 3.0 Sneakers\", 'Rs. 6999']\n",
      "85 ['Hush Puppies', 'Men Colourblocked Driving Shoes', 'Rs. 8999']\n",
      "86 ['Geox', 'Men Leather Formal Derbys', 'Rs. 11490', 'Only Few Left!']\n",
      "87 ['Hush Puppies', 'Men Solid Leather Formal Slip-Ons', 'Rs. 9999']\n",
      "88 ['Geox', 'Men Leather Formal Slip-Ons', 'Rs. 9490', 'Only Few Left!']\n",
      "89 ['Geox', 'Women Leather Block Heels', 'Rs. 9990', 'Only Few Left!']\n",
      "90 ['Ruosh', 'Men Leather Formal Brogues', 'Rs. 6990', 'Only Few Left!']\n",
      "91 ['Geox', 'Men Leather Formal Slip-Ons', 'Rs. 8999']\n",
      "92 ['Hush Puppies', 'Men Solid Leather Formal Slip-Ons', 'Rs. 8999']\n",
      "93 ['DAVINCHI', 'Ustraa black', 'Rs. 8990', 'Only Few Left!']\n",
      "94 ['Ruosh', 'Men Textured Derbys', 'Rs. 8990', 'Only Few Left!']\n",
      "95 ['Nike', 'Women AIR MAX VIVA Sneakers', 'Rs. 10620Rs. 12495(15% OFF)']\n",
      "96 ['DAVINCHI', 'Men Formal Leather Slip-Ons', 'Rs. 8990', 'Only Few Left!']\n",
      "97 ['Heel & Buckle London', 'Men Textured Leather Penny Loafers', 'Rs. 8792Rs. 10990(20% OFF)', 'Only Few Left!']\n",
      "98 ['UNDER ARMOUR', 'HOVR Sonic 3 Running Shoes', 'Rs. 10999']\n",
      "99 ['UNDER ARMOUR', 'Women HOVR Rise 2 Training', 'Rs. 9999']\n",
      "100 ['Jokatoo', 'casual sneaker shoes and partywear shoes Casuals For Me...', '₹465₹1,48068% off']\n",
      "101 ['T-ROCK', 'Mesh Casual Stylish Partywear Casaul Shoes For Mens And...', '₹299₹99970% off']\n",
      "102 ['Ktiz', 'Sneakers For Men', '₹449₹99955% off']\n",
      "103 [\"K' Footlance\", 'Sneakers For Men', '₹449₹99955% off']\n",
      "104 ['Axter', 'Combo Pack of 2 Latest Collection Stylish Casual Loafer...', '₹269₹99873% off']\n",
      "105 ['Fzzirok', 'Premium quality Sneakers For Men', '₹420₹99957% off']\n",
      "106 ['India hub', 'Fashionable casual sneakers shoes Sneakers For Men', '₹474₹1,99976% off']\n",
      "107 ['Chevit', '168 Smart Red Lace-Ups Casuals for Men Sneakers For Men', '₹224₹49955% off']\n",
      "108 ['Chevit', 'Affordable Combo Pack of 03 Pairs Sneakers Outdoor Loaf...', '₹664₹2,29771% off']\n",
      "109 ['DOC Martin', 'Mars 11 Navy Sneakers For Men', '₹1,699₹3,49951% off']\n",
      "110 ['Jack Diamond', 'Sneakers For Men', '₹635₹99936% off']\n",
      "111 ['Zorth', 'New Fashion Outdoor Trendy Lightweight Casual,Canvas St...', '₹499₹99950% off']\n",
      "112 ['Bonexy', 'Sneakers For Men', '₹363₹99963% off']\n",
      "113 ['ROCKFIELD', 'Sneakers For Men', '₹450₹99954% off']\n",
      "114 ['shoelife', 'Sneakers For Men', '₹449₹99955% off']\n",
      "115 ['BERSACHE', 'Combo pack of 2 casual, sneaker and loafer shoes for me...', '₹498₹99850% off']\n",
      "116 ['M K FOOTWEAR', 'M K Footwear 702_Blue Sneakers For Men', '₹349₹99965% off']\n",
      "117 ['bluemaker', 'casual for men (blue 06) Sneakers For Men', '₹442₹99955% off']\n",
      "118 ['SHOEFLY', 'Combo Men Pack of 2 Loafers Shoes Sneakers For Men', '₹269₹99873% off']\n",
      "119 ['PROVOGUE', 'Sneakers For Men', '₹699₹1,99965% off']\n",
      "120 ['World Wear Footwear', 'Combo Pack of 2 Latest Collection Stylish casual Sports...', '₹499₹99850% off']\n",
      "121 ['PUMA', 'Lazy Knit Slip On IDP Sneakers For Men', '₹1,687₹2,99943% off']\n",
      "122 ['A ANTIC MOP', 'Sneakers For Men', '₹420₹99957% off']\n",
      "123 ['BRUTON', 'Men Combo Pack of 3 Casual Sneakers For Men', '₹699₹2,99976% off']\n",
      "124 ['Aura', 'Combo Pack of 3 Casual Shoes Sneakers For Men', '₹664₹1,49955% off']\n",
      "125 ['Chevit', 'Combo Pack of 02 Pair Casual Sneakers Outdoor Sports Sh...', '₹470₹1,49868% off']\n",
      "126 ['Chevit', 'Lightweight & Stylish Pack of 02 Pair Shoes for Men Cas...', '₹470₹1,49868% off']\n",
      "127 ['Afrojack', 'Sneakers For Men', '₹499₹3,32985% off']\n",
      "128 ['well feet', 'sneaker for mens and boys Sneakers For Men', '₹399₹59933% off']\n",
      "129 ['Chevit', 'MEN RUNNING SHOES BREATHABLE HIGH ELASTICITY AIR CUSHIO...', '₹299₹79962% off']\n",
      "130 ['Absolute comfort', 'Sneakers For Men', '₹244₹99975% off']\n",
      "131 ['Raftar', 'Sneakers For Men', '₹311₹99968% off']\n",
      "132 ['claptrap', \"White Sneaker For Men's/Boy's Sneakers For Men\", '₹389₹44913% off']\n",
      "133 ['Chevit', 'Speed Set of 5 Pairs Sneakers Outdoors Casuals for Men ...', '₹759₹2,49569% off']\n",
      "134 ['bacca bucci', 'Fashion Sneakers Sneakers For Men', '₹949₹2,49962% off']\n",
      "135 ['Imcolus', 'Sneakers For Men', '₹489₹99951% off']\n",
      "136 ['Chevit', 'Smart Casuals Canvas Shoes Combo pack of 2 Sneakers For...', '₹359₹99864% off']\n",
      "137 ['CETLLO', 'CETLLO Mens Casual Sport White Wallking Smart Sneakers ...', '₹341₹99965% off']\n",
      "138 ['PERY-PAO', 'White Casual Shoes Sneakers For Men', '₹449₹99955% off']\n",
      "139 ['ROCKFIELD', 'Sneakers For Men', '₹474₹99952% off']\n",
      "140 ['VORII', 'Latest Stylish Casual sneakers for men | Lace up lightw...', '₹390₹99960% off']\n",
      "141 ['believe', 'Sneakers for men(black_6) Sneakers For Men', '₹446₹99955% off']\n",
      "142 ['Ktiz', 'Rockstyle Trending Multicolor Ultralight canvas Sport/ ...', '₹418₹1,29967% off']\n",
      "143 ['EBRA', \"EBRA Men's Casual Canvas Sport Shoes, velvet Casual Sne...\", '₹369₹99963% off']\n",
      "144 ['Noztile', 'White Casual sneaker for men Sneakers For Men', '₹379₹99962% off']\n",
      "145 ['Chevit', 'Smart Casuals Canvas Shoes Combo pack of 2 Sneakers For...', '₹360₹99863% off']\n",
      "146 ['Chevit', 'Speed Set of 5 Pairs Sneakers Outdoors Casuals for Men ...', '₹759₹2,49569% off']\n",
      "147 ['ROCKFIELD', 'Sneakers For Men', '₹360₹99963% off']\n",
      "148 ['Echor', 'HHM Sneakers For Men', '₹570₹99942% off']\n",
      "149 ['BRUTON', 'Combo Pack of 3 Lattest Collection Stylish Casual Snake...', '₹499₹2,99983% off']\n",
      "150 ['Chevit', 'Super 445 Fashion Sneakers For Men', '₹369₹49926% off']\n",
      "151 ['Bonexy', 'Sneakers For Men', '₹426₹99957% off']\n",
      "152 ['LEATHERKRAFT', 'Sneakers For Men', '₹299₹99970% off']\n",
      "153 ['Clymb', 'Sneakers For Men', '₹301₹99969% off']\n",
      "154 ['Red Rose', 'Sneakers For Men', '₹359₹49928% off']\n",
      "155 ['HOTSTYLE', 'Sneakers Sneakers For Men', '₹283₹49943% off']\n",
      "156 ['World Wear Footwear', 'Combo Pack of 4 Latest Collection Stylish Casual Loafer...', '₹499₹1,99675% off']\n",
      "157 ['BRUTON', 'Combo Pack Of 4 Casual Sneakers For Men', '₹499₹3,99987% off']\n",
      "158 ['TR', 'Sneakers For Men', '₹329₹99967% off']\n",
      "159 ['Relfa', 'Sneakers For Men', '₹616₹1,44957% off']\n",
      "160 ['Englewood', 'White Shoes For Men | Casual White Laceups Shoes | Whit...', '₹524₹1,49965% off']\n",
      "161 ['BRUTON', 'Combo Pack Of 3 Loafer Shoes Sneakers For Men', '₹474₹2,90083% off']\n",
      "162 ['ASTEROID', 'Feather Print New Spring Season White Shoes Men Running...', '₹355₹99964% off']\n",
      "163 ['BRUTON', 'Combo Pack Of 4 Casual Sneakers For Men', '₹474₹3,99988% off']\n",
      "164 ['Numenzo', 'Sneakers For Men', '₹429₹99957% off']\n",
      "165 ['Absolute comfort', 'EVAW2 Sneakers For Men', '₹199₹49960% off']\n",
      "166 ['Chevit', '170 Smart Grey Lace-Ups Casuals for Men Sneakers For Me...', '₹224₹49955% off']\n",
      "167 ['World Wear Footwear', '5011-Latest Collection Stylish Casual Loafer Sneakers S...', '₹240₹49951% off']\n",
      "168 ['Zorth', 'Sneakers For Men', '₹612₹99938% off']\n",
      "169 ['aadi', 'Sneakers For Men', '₹399₹99960% off']\n",
      "170 ['zovim', \"casual , Partywear Sneakers Shoes For Men's and Boys bl...\", '₹439₹99956% off']\n",
      "171 ['D-SNEAKERZ', \"Casual , Partywear Sneakers Shoes For Men's And Boys Wh...\", '₹367₹65944% off']\n",
      "172 ['restinfoot', \"Casual shoes,Sneakers for men's,shoes for men's Sneaker...\", '₹369₹99963% off']\n",
      "173 ['Bonexy', 'Sneakers For Men', '₹379₹99962% off']\n",
      "174 ['Jabra', 'Sneakers For Men', '₹489₹99951% off']\n",
      "175 ['T-ROCK', 'Sneakers For Men', '₹474₹99952% off']\n",
      "176 ['BLACK BOTTOM', 'Fashion Outdoor Canvas Casual Light Weight Partywear Sn...', '₹449₹99955% off']\n",
      "177 ['Birde', 'Combo Pack of 4 Casual Shoes Sneakers For Men', '₹798₹1,99660% off']\n",
      "178 ['SPARX', 'SM-482 Sneakers For Men', '₹995₹1,34926% off']\n",
      "179 ['BRUTON', 'Men Combo Pack of 2 Sports Shoes & Casual Sneakers For ...', '₹379₹2,40084% off']\n",
      "180 ['ENJOY the celebration people', 'Sneakers For Men', '₹649₹99935% off']\n",
      "181 ['Bucik', 'Multicolor Casual Shoes Mesh for Men Sneakers For Men', '₹599₹1,99970% off']\n",
      "182 ['Chevit', 'Perfect & Affordable Combo Pack of 02 Pairs Sneakers Ou...', '₹499₹1,79872% off']\n",
      "183 ['Robbie jones', 'Casual Sneakers Shoes For Men Sneakers For Men', '₹399₹99960% off']\n",
      "184 ['Chevit', 'Combo Pack of 4 Casual Sneakers With Sneakers For Men', '₹474₹1,99676% off']\n",
      "185 ['Robbie jones', 'Sneakers For Men', '₹474₹99952% off']\n",
      "186 ['aadi', 'Sneakers For Men', '₹298₹99970% off']\n",
      "187 ['ROCKFIELD', 'Sneakers For Men', '₹450₹99954% off']\n",
      "188 ['Chevit', \"Super & Trendy Men's Pack of 02 Pair Shoes for Boys Cas...\", '₹470₹1,99876% off']\n",
      "189 ['ORICUM', 'Combo pack of 2 casual sneaker shoes for men Sneakers F...', '₹398₹99860% off']\n",
      "190 ['Chevit', 'Affordable Combo Pack of 03 Pairs Sneakers Outdoor Loaf...', '₹664₹2,29771% off']\n",
      "191 ['otoos', 'Sneakers For Men', '₹369₹99963% off']\n",
      "192 ['Chevit', \"Men's Combo Pack of 02 Shoes for Men Casual Sneakers Ou...\", '₹470₹99852% off']\n",
      "193 ['Chevit', '171 Smart Tan Lace-Ups Casuals for Men Sneakers For Men', '₹224₹49955% off']\n",
      "194 ['Shoes Bank', \"White Sneaker For Men's/Boy's Sneakers For Men\", '₹349₹99965% off']\n",
      "195 ['Red Rose', 'Sneakers For Men', '₹359₹99964% off']\n",
      "196 ['Chevit', '494 Perfect Sports Shoes for Running Training Hikking &...', '₹284₹99971% off']\n",
      "197 ['well feet', 'sneaker for mens and boys Sneakers For Men', '₹399₹59933% off']\n",
      "198 ['Stefano Rads', 'Classy Sneakers For Men', '₹229₹69967% off']\n",
      "199 ['TR', 'Sneakers For Men', '₹599₹1,99970% off']\n",
      "200 ['\"trend\"', 'Fashionable casual sneakers shoes for men Sneakers For ...', '₹479₹3,99988% off']\n",
      "201 ['HOTSTYLE', 'Sneakers Sneakers For Men', '₹283₹49943% off']\n",
      "202 ['Birde', \"Men's Stylish Casual Shoes Sneakers For Men\", '₹299₹49940% off']\n",
      "203 ['ROCKFIELD', 'Sneakers For Men', '₹396₹99960% off']\n",
      "204 ['HOTSTYLE', 'Sneakers For Men', '₹199₹49960% off']\n",
      "205 ['Echor', 'shoes for boys Sneakers For Men', '₹570₹99942% off']\n",
      "206 ['SCATCHITE', 'Sneakers Sneakers For Men', '₹398₹99960% off']\n",
      "207 ['Zsyto', 'Sneakers For Men', '₹315₹1,29975% off']\n",
      "208 ['T-ROCK', 'Synthetic Leather Casual Partywear Wedding Sneakers Sho...', '₹366₹99963% off']\n",
      "209 ['richerson', 'CAUSAL SHOES FOR MEN Sneakers For Men', '₹479₹99952% off']\n",
      "210 ['Chevit', '516 Trendy Star Perfect Sneakers For Men', '₹359₹79955% off']\n",
      "211 ['ROCKFIELD', 'Sneakers For Men', '₹360₹99963% off']\n",
      "212 ['Magnolia', 'White Sneakers Sneakers For Men', '₹323₹99967% off']\n",
      "213 ['Birde', 'Combo Pack of 2 Casual Shoes Sneakers For Men', '₹569₹99943% off']\n",
      "214 ['Robbie jones', 'Casual Sneakers Shoes For Men Sneakers For Men', '₹450₹99954% off']\n",
      "215 ['SPARX', 'SM-322 Sneakers For Men', '₹809₹99919% off']\n",
      "216 ['Airland', 'shoe Sneakers For Men', '₹258₹49948% off']\n",
      "217 ['\"trend\"', 'Casual sneakers shoes for men Sneakers For Men', '₹474₹3,99988% off']\n",
      "218 ['Wika', 'Sneakers For Men', '₹449₹99955% off']\n",
      "219 ['STRANGER BROTHERS', 'Sneakers For Men', '₹499₹99950% off']\n"
     ]
    }
   ],
   "source": [
    "for i,j in enumerate(datas):\n",
    "    print(i,j)"
   ]
  },
  {
   "cell_type": "code",
   "execution_count": 556,
   "metadata": {},
   "outputs": [],
   "source": [
    "brands = []\n",
    "descs = []\n",
    "prices = []\n",
    "for i,j in enumerate(datas[:100]):\n",
    "    brands.append(j[0])\n",
    "    descs.append(j[1])\n",
    "    prices.append(j[2].split(\" \")[1])"
   ]
  },
  {
   "cell_type": "code",
   "execution_count": 570,
   "metadata": {},
   "outputs": [],
   "source": [
    "prices1 = []\n",
    "for i in prices:\n",
    "    prices1.append(i.split('R')[0])"
   ]
  },
  {
   "cell_type": "code",
   "execution_count": 571,
   "metadata": {},
   "outputs": [],
   "source": [
    "df = pd.DataFrame(columns=['Brand', 'Description', 'Price'])\n",
    "df['Brand'] = brands\n",
    "df['Description'] = descs\n",
    "df['Price'] = prices1"
   ]
  },
  {
   "cell_type": "code",
   "execution_count": 572,
   "metadata": {},
   "outputs": [
    {
     "data": {
      "text/html": [
       "<div>\n",
       "<style scoped>\n",
       "    .dataframe tbody tr th:only-of-type {\n",
       "        vertical-align: middle;\n",
       "    }\n",
       "\n",
       "    .dataframe tbody tr th {\n",
       "        vertical-align: top;\n",
       "    }\n",
       "\n",
       "    .dataframe thead th {\n",
       "        text-align: right;\n",
       "    }\n",
       "</style>\n",
       "<table border=\"1\" class=\"dataframe\">\n",
       "  <thead>\n",
       "    <tr style=\"text-align: right;\">\n",
       "      <th></th>\n",
       "      <th>Brand</th>\n",
       "      <th>Description</th>\n",
       "      <th>Price</th>\n",
       "    </tr>\n",
       "  </thead>\n",
       "  <tbody>\n",
       "    <tr>\n",
       "      <th>0</th>\n",
       "      <td>Nike</td>\n",
       "      <td>Men AIR ZOOM Running Shoes</td>\n",
       "      <td>10796</td>\n",
       "    </tr>\n",
       "    <tr>\n",
       "      <th>1</th>\n",
       "      <td>Nike</td>\n",
       "      <td>Men REACT MILER Running Shoes</td>\n",
       "      <td>8796</td>\n",
       "    </tr>\n",
       "    <tr>\n",
       "      <th>2</th>\n",
       "      <td>Nike</td>\n",
       "      <td>Men REACT MILER PRM Running</td>\n",
       "      <td>9996</td>\n",
       "    </tr>\n",
       "    <tr>\n",
       "      <th>3</th>\n",
       "      <td>Nike</td>\n",
       "      <td>Men AF1/1 Sneakers</td>\n",
       "      <td>10620</td>\n",
       "    </tr>\n",
       "    <tr>\n",
       "      <th>4</th>\n",
       "      <td>PUMA Motorsport</td>\n",
       "      <td>Unisex Mercedes Running Shoes</td>\n",
       "      <td>7999</td>\n",
       "    </tr>\n",
       "    <tr>\n",
       "      <th>...</th>\n",
       "      <td>...</td>\n",
       "      <td>...</td>\n",
       "      <td>...</td>\n",
       "    </tr>\n",
       "    <tr>\n",
       "      <th>95</th>\n",
       "      <td>Nike</td>\n",
       "      <td>Women AIR MAX VIVA Sneakers</td>\n",
       "      <td>10620</td>\n",
       "    </tr>\n",
       "    <tr>\n",
       "      <th>96</th>\n",
       "      <td>DAVINCHI</td>\n",
       "      <td>Men Formal Leather Slip-Ons</td>\n",
       "      <td>8990</td>\n",
       "    </tr>\n",
       "    <tr>\n",
       "      <th>97</th>\n",
       "      <td>Heel &amp; Buckle London</td>\n",
       "      <td>Men Textured Leather Penny Loafers</td>\n",
       "      <td>8792</td>\n",
       "    </tr>\n",
       "    <tr>\n",
       "      <th>98</th>\n",
       "      <td>UNDER ARMOUR</td>\n",
       "      <td>HOVR Sonic 3 Running Shoes</td>\n",
       "      <td>10999</td>\n",
       "    </tr>\n",
       "    <tr>\n",
       "      <th>99</th>\n",
       "      <td>UNDER ARMOUR</td>\n",
       "      <td>Women HOVR Rise 2 Training</td>\n",
       "      <td>9999</td>\n",
       "    </tr>\n",
       "  </tbody>\n",
       "</table>\n",
       "<p>100 rows × 3 columns</p>\n",
       "</div>"
      ],
      "text/plain": [
       "                   Brand                         Description  Price\n",
       "0                   Nike          Men AIR ZOOM Running Shoes  10796\n",
       "1                   Nike       Men REACT MILER Running Shoes   8796\n",
       "2                   Nike         Men REACT MILER PRM Running   9996\n",
       "3                   Nike                  Men AF1/1 Sneakers  10620\n",
       "4        PUMA Motorsport       Unisex Mercedes Running Shoes   7999\n",
       "..                   ...                                 ...    ...\n",
       "95                  Nike         Women AIR MAX VIVA Sneakers  10620\n",
       "96              DAVINCHI         Men Formal Leather Slip-Ons   8990\n",
       "97  Heel & Buckle London  Men Textured Leather Penny Loafers   8792\n",
       "98          UNDER ARMOUR          HOVR Sonic 3 Running Shoes  10999\n",
       "99          UNDER ARMOUR          Women HOVR Rise 2 Training   9999\n",
       "\n",
       "[100 rows x 3 columns]"
      ]
     },
     "execution_count": 572,
     "metadata": {},
     "output_type": "execute_result"
    }
   ],
   "source": [
    "df"
   ]
  },
  {
   "cell_type": "code",
   "execution_count": 573,
   "metadata": {},
   "outputs": [],
   "source": [
    "driver.quit()"
   ]
  },
  {
   "cell_type": "markdown",
   "metadata": {},
   "source": [
    "# Page 9: Q10: Go to webpage https://www.amazon.in/"
   ]
  },
  {
   "cell_type": "code",
   "execution_count": 965,
   "metadata": {},
   "outputs": [],
   "source": [
    "driver = webdriver.Chrome(r\"D:\\softs & utilities\\chromedriver.exe\")\n",
    "#1. first get the webpage https://www.amazon.in/Laptops/b?ie=UTF8&node=1375424031\n",
    "driver.get(\"https://www.amazon.in/Laptops/b?ie=UTF8&node=1375424031\")"
   ]
  },
  {
   "cell_type": "code",
   "execution_count": 966,
   "metadata": {},
   "outputs": [],
   "source": [
    "filters = driver.find_elements_by_xpath(\"//a[@class='a-link-normal']\")"
   ]
  },
  {
   "cell_type": "code",
   "execution_count": 967,
   "metadata": {},
   "outputs": [],
   "source": [
    "for i in filters:\n",
    "    if i.text == \"Intel Core i7\":\n",
    "        i.click()\n",
    "        break"
   ]
  },
  {
   "cell_type": "code",
   "execution_count": 968,
   "metadata": {},
   "outputs": [],
   "source": [
    "filters = driver.find_elements_by_xpath(\"//a[@class='a-link-normal s-navigation-item']\")"
   ]
  },
  {
   "cell_type": "code",
   "execution_count": 969,
   "metadata": {},
   "outputs": [],
   "source": [
    "for i in filters:\n",
    "    if i.text == \"Intel Core i9\":\n",
    "        i.click()\n",
    "        break"
   ]
  },
  {
   "cell_type": "code",
   "execution_count": 970,
   "metadata": {},
   "outputs": [
    {
     "data": {
      "text/plain": [
       "'https://www.amazon.in/Laptops-Intel-Core-i7-Computers-Accessories/s?i=computers&bbn=1375424031&rh=n%3A1375424031%2Cp_n_feature_thirteen_browse-bin%3A12598163031%7C16757432031&dc&qid=1617775057&rnid=12598141031&ref=sr_nr_p_n_feature_thirteen_browse-bin_9'"
      ]
     },
     "execution_count": 970,
     "metadata": {},
     "output_type": "execute_result"
    }
   ],
   "source": [
    "constURL = driver.current_url\n",
    "constURL"
   ]
  },
  {
   "cell_type": "code",
   "execution_count": 971,
   "metadata": {},
   "outputs": [
    {
     "name": "stdout",
     "output_type": "stream",
     "text": [
      "1 60\n",
      "2 3\n"
     ]
    }
   ],
   "source": [
    "next = 2\n",
    "URLS = []\n",
    "laptops = driver.find_elements_by_xpath(\"//a[@class='a-link-normal a-text-normal']\")\n",
    "if len(laptops) > 0:\n",
    "    for i in laptops:\n",
    "        URLS.append(i.get_attribute('href'))\n",
    "laptops1 = driver.find_elements_by_xpath(\"//a[@class='a-link-normal s-no-outline']\")\n",
    "if len(laptops1) > 0:\n",
    "    for i in laptops1:\n",
    "        URLS.append(i.get_attribute('href'))\n",
    "\n",
    "if len(URLS) < 100:\n",
    "    print(1,len(URLS))\n",
    "    n_page = driver.find_elements_by_tag_name(\"a\")\n",
    "    for i in n_page:\n",
    "        if i.text == str(next):\n",
    "            i.click()\n",
    "            break\n",
    "    laptops = driver.find_elements_by_xpath(\"//a[@class='a-link-normal a-text-normal']\")\n",
    "    if len(laptops) > 0:\n",
    "        for i in laptops:\n",
    "            URLS.append(i.get_attribute('href'))\n",
    "    laptops1 = driver.find_elements_by_xpath(\"//a[@class='a-link-normal s-no-outline']\")\n",
    "    if len(laptops1) > 0:\n",
    "        for i in laptops1:\n",
    "            URLS.append(i.get_attribute('href'))\n",
    "    next = next + 1\n",
    "    print(2,next)"
   ]
  },
  {
   "cell_type": "code",
   "execution_count": 972,
   "metadata": {},
   "outputs": [
    {
     "name": "stdout",
     "output_type": "stream",
     "text": [
      "120\n"
     ]
    }
   ],
   "source": [
    "print(len(URLS))"
   ]
  },
  {
   "cell_type": "code",
   "execution_count": 973,
   "metadata": {},
   "outputs": [],
   "source": [
    "if len(URLS) < 100:\n",
    "    print(1,len(URLS))\n",
    "    n_page = driver.find_elements_by_tag_name(\"a\")\n",
    "    for i in n_page:\n",
    "        if i.text == str(next):\n",
    "            i.click()\n",
    "            break\n",
    "    laptops = driver.find_elements_by_xpath(\"//a[@class='a-link-normal a-text-normal']\")\n",
    "    if len(laptops) > 0:\n",
    "        for i in laptops:\n",
    "            URLS.append(i.get_attribute('href'))\n",
    "    laptops1 = driver.find_elements_by_xpath(\"//a[@class='a-link-normal s-no-outline']\")\n",
    "    if len(laptops1) > 0:\n",
    "        for i in laptops1:\n",
    "            URLS.append(i.get_attribute('href'))\n",
    "    next = next + 1\n",
    "    print(2,next)"
   ]
  },
  {
   "cell_type": "code",
   "execution_count": 974,
   "metadata": {},
   "outputs": [
    {
     "name": "stdout",
     "output_type": "stream",
     "text": [
      "120\n"
     ]
    }
   ],
   "source": [
    "print(len(URLS))"
   ]
  },
  {
   "cell_type": "code",
   "execution_count": 975,
   "metadata": {},
   "outputs": [],
   "source": [
    "if len(URLS) < 100:\n",
    "    print(1,len(URLS))\n",
    "    n_page = driver.find_elements_by_tag_name(\"a\")\n",
    "    for i in n_page:\n",
    "        if i.text == str(next):\n",
    "            i.click()\n",
    "            break\n",
    "    laptops = driver.find_elements_by_xpath(\"//a[@class='a-link-normal a-text-normal']\")\n",
    "    if len(laptops) > 0:\n",
    "        for i in laptops:\n",
    "            URLS.append(i.get_attribute('href'))\n",
    "    laptops1 = driver.find_elements_by_xpath(\"//a[@class='a-link-normal s-no-outline']\")\n",
    "    if len(laptops1) > 0:\n",
    "        for i in laptops1:\n",
    "            URLS.append(i.get_attribute('href'))\n",
    "    next = next + 1\n",
    "    print(2,next)"
   ]
  },
  {
   "cell_type": "code",
   "execution_count": 976,
   "metadata": {},
   "outputs": [
    {
     "name": "stdout",
     "output_type": "stream",
     "text": [
      "1 out of 120 https://www.amazon.in/gp/slredirect/picassoRedirect.html/ref=pa_sp_atf_browse_computers_sr_pg1_1?ie=UTF8&adId=A08330351RMTHS1N93LDK&url=%2FLifeDigital-Laptop-Intel%25C2%25AE-Storage-Windows%2Fdp%2FB08HRMHZ8J%2Fref%3Dsr_1_1_sspa%3Fdchild%3D1%26qid%3D1617775062%26refinements%3Dp_n_feature_thirteen_browse-bin%253A12598163031%257C16757432031%26rnid%3D12598141031%26s%3Dcomputers%26sr%3D1-1-spons%26psc%3D1&qualifier=1617775062&id=6507793969384485&widgetName=sp_atf_browse\n",
      "LifeDigital ZED AIR CX7 15.6 IPS FHD Screen Black Laptop (Intel Core i7, 4GB RAM, 256GB SSD, Windows 10)\n",
      "₹ 33,990.00\n",
      "\n",
      "2 out of 5\n",
      "2 out of 120 https://www.amazon.in/gp/slredirect/picassoRedirect.html/ref=pa_sp_atf_browse_computers_sr_pg1_1?ie=UTF8&adId=A04686372EO1LCBF9AV16&url=%2FLenovo-Touchscreen-Fingerprint-Graphite-82HS0092IN%2Fdp%2FB08WRZQBQ6%2Fref%3Dsr_1_2_sspa%3Fdchild%3D1%26qid%3D1617775062%26refinements%3Dp_n_feature_thirteen_browse-bin%253A12598163031%257C16757432031%26rnid%3D12598141031%26s%3Dcomputers%26sr%3D1-2-spons%26psc%3D1&qualifier=1617775062&id=6507793969384485&widgetName=sp_atf_browse\n",
      "Lenovo IdeaPad Flex 5 11th Gen Intel Core i7 14-inch FHD IPS 2-in-1 Touchscreen Laptop (16GB/512GB SSD/Win 10/Office 2019/Lenovo Digital Pen Stylus/Fingerprint Reader/Graphite Grey/1.5Kg), 82HS0092IN\n",
      "₹ 83,990.00\n",
      "\n",
      "4.5 out of 5\n",
      "3 out of 120 https://www.amazon.in/gp/slredirect/picassoRedirect.html/ref=pa_sp_atf_browse_computers_sr_pg1_1?ie=UTF8&adId=A086665935KXADPC1VKVC&url=%2FNotebook-Horizon-i5-10210U-Graphics-XMA1904-AR%2Fdp%2FB089F5JGM1%2Fref%3Dsr_1_3_sspa%3Fdchild%3D1%26qid%3D1617775062%26refinements%3Dp_n_feature_thirteen_browse-bin%253A12598163031%257C16757432031%26rnid%3D12598141031%26s%3Dcomputers%26sr%3D1-3-spons%26psc%3D1&qualifier=1617775062&id=6507793969384485&widgetName=sp_atf_browse\n",
      "Mi Notebook Horizon Edition 14 Intel Core i5-10210U 10th Gen Thin and Light Laptop(8GB/512GB SSD/Windows 10/Nvidia MX350 2GB Graphics/Grey/1.35Kg), XMA1904-AR+Webcam\n",
      "₹ 54,999.00\n",
      "\n",
      "4.3 out of 5\n",
      "4 out of 120 https://www.amazon.in/Notebook-Horizon-i7-10510U-Graphics-XMA1904-AF/dp/B089F2W1KW/ref=sr_1_4?dchild=1&qid=1617775062&refinements=p_n_feature_thirteen_browse-bin%3A12598163031%7C16757432031&rnid=12598141031&s=computers&sr=1-4\n",
      "Mi Notebook Horizon Edition 14 Intel Core i7-10510U 10th Gen Thin and Light Laptop(8GB/512GB SSD/Windows 10/Nvidia MX350 2GB Graphics/Grey/1.35Kg), XMA1904-AF+Webcam\n",
      "₹ 59,999.00\n",
      "\n",
      "4.3 out of 5\n",
      "5 out of 120 https://www.amazon.in/ASUS-ZenBook-i7-1165G7-Graphics-UX425EA-BM701TS/dp/B08M4SWRR5/ref=sr_1_5?dchild=1&qid=1617775062&refinements=p_n_feature_thirteen_browse-bin%3A12598163031%7C16757432031&rnid=12598141031&s=computers&sr=1-5\n",
      "ASUS ZenBook 14 (2020) Intel Core i7-1165G7 11th Gen 14-inch FHD Thin and Light Laptop (16GB RAM/512GB NVMe SSD/Windows 10/MS Office 2019/Intel Iris Xᵉ Graphics/Pine Grey/1.17 kg), UX425EA-BM701TS\n",
      "₹ 96,990.00\n",
      "\n",
      "4.4 out of 5\n",
      "6 out of 120 https://www.amazon.in/ASUS-i7-10870H-GTX-1650-Ti-Graphics-FX566LI-HN133T/dp/B08PFDQ76Z/ref=sr_1_6?dchild=1&qid=1617775062&refinements=p_n_feature_thirteen_browse-bin%3A12598163031%7C16757432031&rnid=12598141031&s=computers&sr=1-6\n",
      "ASUS TUF Gaming F15, 15.6\" FHD 144Hz, Intel Core i7-10870H 10th Gen, GTX 1650 Ti GDDR6 4GB Graphics, Gaming Laptop (16GB RAM/1TB HDD + 256GB SSD/Windows 10/Fortress Gray/2.3 Kg), FX566LI-HN133T\n",
      "₹ 81,990.00\n",
      "\n",
      "4.6 out of 5\n",
      "7 out of 120 https://www.amazon.in/Dell-15-6inch-i7-10750H-Warranty-D560250WIN9BE/dp/B08HYPRST4/ref=sr_1_7?dchild=1&qid=1617775062&refinements=p_n_feature_thirteen_browse-bin%3A12598163031%7C16757432031&rnid=12598141031&s=computers&sr=1-7\n",
      "Dell G3 3500 Gaming 15.6inch 120hz FHD Display Laptop (10th Gen i7-10750H / 8 GB / 512 SSD / GTX 1650 4GB / 1Yr Premium Warranty/ Win 10 + MS Office H&S 2019) D560250WIN9BE\n",
      "₹ 82,490.00\n",
      "\n",
      "4 out of 5\n",
      "8 out of 120 https://www.amazon.in/Lenovo-Touchscreen-Fingerprint-Graphite-82HS0092IN/dp/B08WRZQBQ6/ref=sr_1_8?dchild=1&qid=1617775062&refinements=p_n_feature_thirteen_browse-bin%3A12598163031%7C16757432031&rnid=12598141031&s=computers&sr=1-8\n",
      "Lenovo IdeaPad Flex 5 11th Gen Intel Core i7 14-inch FHD IPS 2-in-1 Touchscreen Laptop (16GB/512GB SSD/Win 10/Office 2019/Lenovo Digital Pen Stylus/Fingerprint Reader/Graphite Grey/1.5Kg), 82HS0092IN\n",
      "₹ 83,990.00\n",
      "\n",
      "4.5 out of 5\n",
      "9 out of 120 https://www.amazon.in/HP-Pavilion-Processor-15-6-inch-15-dk1151TX/dp/B08ZN5S446/ref=sr_1_9?dchild=1&qid=1617775062&refinements=p_n_feature_thirteen_browse-bin%3A12598163031%7C16757432031&rnid=12598141031&s=computers&sr=1-9\n",
      "HP Pavilion Gaming 10th Gen Intel Core i7 Processor 15.6-inch FHD Gaming Laptop (16GB/512GB SSD + 32GB Intel Optane/Windows 10/NVIDIA 1650 4GB/Shadow Black), 15-dk1151TX\n",
      "₹ 83,077.00\n",
      "\n",
      "No customer reviews\n",
      "10 out of 120 https://www.amazon.in/HP-Pavilion-Touchscreen-Convertible-DW1040TU/dp/B08R843NHL/ref=sr_1_10?dchild=1&qid=1617775062&refinements=p_n_feature_thirteen_browse-bin%3A12598163031%7C16757432031&rnid=12598141031&s=computers&sr=1-10\n",
      "HP Pavilion x360 (2021) 14\" FHD Touchscreen Laptop, 11th Gen Core i7, 8 GB RAM, 512GB SSD, 2-in-1 Convertible, Windows 10, MS Office, Finger Print Reader, (DW1040TU)\n",
      "₹ 78,393.00\n",
      "\n",
      "3.2 out of 5\n",
      "11 out of 120 https://www.amazon.in/Apple-MacBook-16-inch-Storage-2-3GHz/dp/B081JWZSSX/ref=sr_1_11?dchild=1&qid=1617775062&refinements=p_n_feature_thirteen_browse-bin%3A12598163031%7C16757432031&rnid=12598141031&s=computers&sr=1-11\n",
      "Apple MacBook Pro (16-inch, 16GB RAM, 1TB Storage, 2.3GHz 9th Gen Intel Core i9) - Space Grey\n",
      "₹ 2,15,990.00\n",
      "\n",
      "4.4 out of 5\n",
      "12 out of 120 https://www.amazon.in/Apple-MacBook-16-inch-Storage-Intel-Core-i7/dp/B081JWZQJB/ref=sr_1_12?dchild=1&qid=1617775062&refinements=p_n_feature_thirteen_browse-bin%3A12598163031%7C16757432031&rnid=12598141031&s=computers&sr=1-12\n",
      "Apple MacBook Pro (16-inch, 16GB RAM, 512GB Storage, 2.6GHz 9th Gen Intel Core i7) - Space Grey\n",
      "₹ 1,85,990.00\n",
      "\n",
      "4.4 out of 5\n",
      "13 out of 120 https://www.amazon.in/gp/slredirect/picassoRedirect.html/ref=pa_sp_mtf_browse_computers_sr_pg1_1?ie=UTF8&adId=A09967073PTWA3Y2FGWIJ&url=%2FRenewed-HP-ZBook-Mobile-Workstation%2Fdp%2FB09123HXS9%2Fref%3Dsr_1_13_sspa%3Fdchild%3D1%26qid%3D1617775062%26refinements%3Dp_n_feature_thirteen_browse-bin%253A12598163031%257C16757432031%26rnid%3D12598141031%26s%3Dcomputers%26sr%3D1-13-spons%26psc%3D1&qualifier=1617775062&id=6507793969384485&widgetName=sp_mtf_browse\n",
      "(Renewed) HP ZBook 15 G3 Mobile Workstation - 15.6\" - Core i7 (6700HQ) - 64 GB RAM - 1.5TB SSD : BLUETOOTH : 2GB DEDICATED GRAPHIC : NUMERIC KEYBOARD\n",
      "₹ 1,16,990.00\n",
      "\n",
      "No customer reviews\n",
      "14 out of 120 https://www.amazon.in/HP-Pavilion-Touchscreen-i7-10510U-14-dh1180tu/dp/B08GD8LQTY/ref=sr_1_14?dchild=1&qid=1617775062&refinements=p_n_feature_thirteen_browse-bin%3A12598163031%7C16757432031&rnid=12598141031&s=computers&sr=1-14\n",
      "HP Pavilion x360 Touchscreen 2-in-1 FHD 14-inch Laptop (10th Gen Core i7-10510U/8GB/512GB SSD/Windows 10 Home/MS Office/Mineral Silver/1.58 kg), 14-dh1180tu\n",
      "₹ 76,990.00\n",
      "\n",
      "3.9 out of 5\n",
      "15 out of 120 https://www.amazon.in/Lenovo-IdeaPad-15-6-inch-Windows-81Y400VAIN/dp/B08PV48PYW/ref=sr_1_15?dchild=1&qid=1617775062&refinements=p_n_feature_thirteen_browse-bin%3A12598163031%7C16757432031&rnid=12598141031&s=computers&sr=1-15\n",
      "Lenovo IdeaPad Gaming 3 10th Gen Intel Core i7 15.6-inch FHD IPS Gaming Laptop (8GB/1TB HDD + 256 GB SSD/Windows 10/NVIDIA GTX 1650 4GB GDDR6/with M100 RGB Gaming Mouse/Onyx Black/2.2Kg), 81Y400VAIN\n",
      "₹ 76,990.00\n",
      "\n",
      "4.4 out of 5\n",
      "16 out of 120 https://www.amazon.in/Acer-Swift-Display-Touchscreen-Notebook/dp/B08M41DHTV/ref=sr_1_16?dchild=1&qid=1617775062&refinements=p_n_feature_thirteen_browse-bin%3A12598163031%7C16757432031&rnid=12598141031&s=computers&sr=1-16\n",
      "Acer Swift 5 14\" Full HD IPS Display with Touchscreen Ultra Thin and Light Notebook (Intel i7 - 11th Gen/16GB RAM/1TB SSD/Win10/Intel Iris Xe Graphics/1.05 Kg/Mist Green), SF514-55TA\n",
      "₹ 91,999.00\n",
      "\n",
      "4.2 out of 5\n",
      "17 out of 120 https://www.amazon.in/Inspiron-5593-15-6-inch-i7-1065G7-Graphics/dp/B07ZG4S91Z/ref=sr_1_17?dchild=1&qid=1617775062&refinements=p_n_feature_thirteen_browse-bin%3A12598163031%7C16757432031&rnid=12598141031&s=computers&sr=1-17\n",
      "DELL Inspiron 5593 15.6-inch Laptop (10th Gen Core i7-1065G7/8GB/1TB HDD + 512GB SSD/Windows 10 Home Plus/4GB NVIDIA MX230 GDDR5 Graphics), Platinum Silver\n",
      "₹ 88,999.00\n"
     ]
    },
    {
     "name": "stdout",
     "output_type": "stream",
     "text": [
      "\n",
      "3.8 out of 5\n",
      "18 out of 120 https://www.amazon.in/Lenovo-ThinkPad-14-inch-Professional-20R1S05400/dp/B08826Q91M/ref=sr_1_18?dchild=1&qid=1617775062&refinements=p_n_feature_thirteen_browse-bin%3A12598163031%7C16757432031&rnid=12598141031&s=computers&sr=1-18\n",
      "Lenovo ThinkPad X1 Carbon Intel Core i7 10th Gen 14-inch Wide Quad HD IPS Thin and Light Laptop (16GB RAM / 512GB SSD/ Windows 10 Professional/ Black/ 1.09Kg), 20R1S05400\n",
      "₹ 1,69,990.00\n",
      "\n",
      "3.4 out of 5\n",
      "19 out of 120 https://www.amazon.in/Dell-Latitude-Graphics-Business-Warranty/dp/B07YV4P55Z/ref=sr_1_19?dchild=1&qid=1617775062&refinements=p_n_feature_thirteen_browse-bin%3A12598163031%7C16757432031&rnid=12598141031&s=computers&sr=1-19\n",
      "Dell Latitude 3410 14 Inch Core i7 10th Gen (16 GB/ 512GB SSD / Windows 10Pro / 2GB NVIDIA Graphics ) Business Laptop with 3 Years NBD+ADP Warranty with STOLT Backpack\n",
      "₹ 98,990.00\n",
      "\n",
      "4 out of 5\n",
      "20 out of 120 https://www.amazon.in/ASUS-i7-10750H-Microsoft-Personal-One-Subscription/dp/B08WQB5Z4G/ref=sr_1_20?dchild=1&qid=1617775062&refinements=p_n_feature_thirteen_browse-bin%3A12598163031%7C16757432031&rnid=12598141031&s=computers&sr=1-20\n",
      "ASUS ROG Strix G17, 17.3\" FHD 120Hz, Intel Core i7-10750H 10th Gen, GTX 1660Ti 6GB Graphics (16GB RAM/1TB NVMe SSD/Win10/Original Black/2.83 Kg)Microsoft 365 Personal-One Year Subscription Included\n",
      "₹ 1,01,589.00\n",
      "\n",
      "4.4 out of 5\n",
      "21 out of 120 https://www.amazon.in/Acer-17-3-inch-Display-Graphics-AN517-51/dp/B08D1HF9PS/ref=sr_1_21?dchild=1&qid=1617775062&refinements=p_n_feature_thirteen_browse-bin%3A12598163031%7C16757432031&rnid=12598141031&s=computers&sr=1-21\n",
      "Acer Nitro 5 Intel Core i7-9th Gen 17.3-inch Display 1920 x 1080 Gaming Laptop (8GB Ram/2TB HDD/256GB SSD/Window 10 Home/6GB NVIDIA GeForce GTX 1660 Ti Graphics/Black), AN517-51\n",
      "₹ 90,990.00\n",
      "\n",
      "4.1 out of 5\n",
      "22 out of 120 https://www.amazon.in/Lenovo-ThinkPad-14-inch-Graphics-20S0S1MC00/dp/B08PD2LPXF/ref=sr_1_22?dchild=1&qid=1617775062&refinements=p_n_feature_thirteen_browse-bin%3A12598163031%7C16757432031&rnid=12598141031&s=computers&sr=1-22\n",
      "Lenovo ThinkPad T14 Intel Core i7 10th Gen 14-inch Full HD Laptop (16GB RAM/ 512GB SSD/ Windows 10 Pro/ Black/2 GB Graphics / 1.55 kg), 20S0S1MC00\n",
      "TBD\n",
      "\n",
      "No customer reviews\n",
      "23 out of 120 https://www.amazon.in/Dell-Inspiron-i7-1165G7-Graphics-D560374WIN9PE/dp/B08MQBFY23/ref=sr_1_23?dchild=1&qid=1617775062&refinements=p_n_feature_thirteen_browse-bin%3A12598163031%7C16757432031&rnid=12598141031&s=computers&sr=1-23\n",
      "Dell Inspiron 5409 14.0\" FHD WVA AG Display 11th Gen Laptop (i7-1165G7 / 8 GB / 512 SSD / Nvidia MX 350 2GB Graphics / 1 Yr NBD / Win 10 + MS Office H&S / Pebble) D560374WIN9PE\n",
      "₹ 77,600.00\n",
      "\n",
      "4.1 out of 5\n",
      "24 out of 120 https://www.amazon.in/HP-Processor-15-6-inch-i7-10750H-15-ek0019TX/dp/B08CGM1PKK/ref=sr_1_24?dchild=1&qid=1617775062&refinements=p_n_feature_thirteen_browse-bin%3A12598163031%7C16757432031&rnid=12598141031&s=computers&sr=1-24\n",
      "HP OMEN 10th Gen Intel Core i7 Processor 15.6-inch FHD Gaming Laptop (i7-10750H/16GB/1TB SSD/Windows 10/300 Nits/144 Hz/NVIDIA GTX 1650ti 4GB/Shadow Black/2.36 kg), 15-ek0019TX\n",
      "₹ 1,09,999.00\n",
      "\n",
      "3.8 out of 5\n",
      "25 out of 120 https://www.amazon.in/ASUS-Zephyrus-i7-10750H-RTX-2060-GU502LV-AZ173TS/dp/B08PFD26HJ/ref=sr_1_25?dchild=1&qid=1617775062&refinements=p_n_feature_thirteen_browse-bin%3A12598163031%7C16757432031&rnid=12598141031&s=computers&sr=1-25\n",
      "ASUS ROG Zephyrus M15 (2020), 15.6\" FHD 240Hz/3ms, Intel Core i7-10750H 10th Gen, RTX 2060 6GB Graphics, Gaming Laptop (16GB/1TB SSD/Office 2019/Windows 10/Black/1.9 Kg), GU502LV-AZ173TS\n",
      "₹ 1,27,980.00\n",
      "\n",
      "5 out of 5\n",
      "26 out of 120 https://www.amazon.in/Lenovo-Legion-Gaming-Windows-82AW005SIN/dp/B08CQ21154/ref=sr_1_26?dchild=1&qid=1617775062&refinements=p_n_feature_thirteen_browse-bin%3A12598163031%7C16757432031&rnid=12598141031&s=computers&sr=1-26\n",
      "Lenovo Legion 5Pi 10th Gen Intel Core i7 15.6\" FHD Gaming Laptop (16GB/1TB SSD/Windows 10/MS Office 2019/144 Hz/NVIDIA RTX 2060 6GB GDDR6/with M300 RGB Gaming Mouse/Iron Grey/2.3Kg), 82AW005SIN\n",
      "₹ 1,35,490.00\n",
      "\n",
      "4.3 out of 5\n",
      "27 out of 120 https://www.amazon.in/Dell-Inspiron-i7-1165G7-Graphics-D560382WIN9S/dp/B08QN11YN2/ref=sr_1_27?dchild=1&qid=1617775062&refinements=p_n_feature_thirteen_browse-bin%3A12598163031%7C16757432031&rnid=12598141031&s=computers&sr=1-27\n",
      "Dell Inspiron 7400 14.5 QHD+ IPS Anti Glare Display Laptop (i7-1165G7 / 16 GB / 512 SSD / Nvidia MX 350 2 GB Graphics / Win 10 + MS Office/ Silver / Backlit with FPR) D560382WIN9S\n",
      "₹ 1,12,890.00\n",
      "\n",
      "4.4 out of 5\n",
      "28 out of 120 https://www.amazon.in/MSI-GF63-Thin-Core-9th/dp/B08SL26BWT/ref=sr_1_28?dchild=1&qid=1617775062&refinements=p_n_feature_thirteen_browse-bin%3A12598163031%7C16757432031&rnid=12598141031&s=computers&sr=1-28\n",
      "MSI GF63 Thin Core i7 9th Gen - (8 GB/512 GB SSD/Windows 10 Home/4 GB Graphics/NVIDIA Geforce GTX 1650 Max-Q) GF63 Thin 9SCXR-417IN Gaming Laptop (15.6 inch, Black, 1.86 kg)\n",
      "₹ 66,990.00\n",
      "\n",
      "No customer reviews\n",
      "29 out of 120 https://www.amazon.in/gp/slredirect/picassoRedirect.html/ref=pa_sp_btf_browse_computers_sr_pg1_1?ie=UTF8&adId=A0687011147MCJ4WR5UPI&url=%2FDell-15-6inch-i7-10750H-Warranty-D560250WIN9BE%2Fdp%2FB08HYPRST4%2Fref%3Dsr_1_29_sspa%3Fdchild%3D1%26qid%3D1617775062%26refinements%3Dp_n_feature_thirteen_browse-bin%253A12598163031%257C16757432031%26rnid%3D12598141031%26s%3Dcomputers%26sr%3D1-29-spons%26psc%3D1&qualifier=1617775062&id=6507793969384485&widgetName=sp_btf_browse\n",
      "Dell G3 3500 Gaming 15.6inch 120hz FHD Display Laptop (10th Gen i7-10750H / 8 GB / 512 SSD / GTX 1650 4GB / 1Yr Premium Warranty/ Win 10 + MS Office H&S 2019) D560250WIN9BE\n",
      "₹ 82,490.00\n",
      "\n",
      "4 out of 5\n",
      "30 out of 120 https://www.amazon.in/gp/slredirect/picassoRedirect.html/ref=pa_sp_btf_browse_computers_sr_pg1_1?ie=UTF8&adId=A04682371O98JRHVRLPOL&url=%2FLenovo-14-inch-Touchscreen-Fingerprint-82BG005JIN%2Fdp%2FB08P3MLZFM%2Fref%3Dsr_1_30_sspa%3Fdchild%3D1%26qid%3D1617775062%26refinements%3Dp_n_feature_thirteen_browse-bin%253A12598163031%257C16757432031%26rnid%3D12598141031%26s%3Dcomputers%26sr%3D1-30-spons%26psc%3D1&qualifier=1617775062&id=6507793969384485&widgetName=sp_btf_browse\n",
      "Lenovo Yoga 9 11th Gen Intel Core i7 14-inch 4K Ultra HD IPS 2-in-1 Touchscreen Laptop (16GB/1TB SSD/Windows 10/MS Office 2019/Fingerprint Reader/Shadow Black/Leather Surface/1.44Kg), 82BG005JIN\n",
      "₹ 1,67,990.00\n",
      "\n",
      "5 out of 5\n",
      "31 out of 120 https://www.amazon.in/gp/slredirect/picassoRedirect.html/ref=pa_sp_atf_browse_computers_sr_pg1_1?ie=UTF8&adId=A08330351RMTHS1N93LDK&url=%2FLifeDigital-Laptop-Intel%25C2%25AE-Storage-Windows%2Fdp%2FB08HRMHZ8J%2Fref%3Dsr_1_1_sspa%3Fdchild%3D1%26qid%3D1617775062%26refinements%3Dp_n_feature_thirteen_browse-bin%253A12598163031%257C16757432031%26rnid%3D12598141031%26s%3Dcomputers%26sr%3D1-1-spons%26psc%3D1&qualifier=1617775062&id=6507793969384485&widgetName=sp_atf_browse\n",
      "LifeDigital ZED AIR CX7 15.6 IPS FHD Screen Black Laptop (Intel Core i7, 4GB RAM, 256GB SSD, Windows 10)\n",
      "₹ 33,990.00\n",
      "\n",
      "2 out of 5\n",
      "32 out of 120 https://www.amazon.in/gp/slredirect/picassoRedirect.html/ref=pa_sp_atf_browse_computers_sr_pg1_1?ie=UTF8&adId=A04686372EO1LCBF9AV16&url=%2FLenovo-Touchscreen-Fingerprint-Graphite-82HS0092IN%2Fdp%2FB08WRZQBQ6%2Fref%3Dsr_1_2_sspa%3Fdchild%3D1%26qid%3D1617775062%26refinements%3Dp_n_feature_thirteen_browse-bin%253A12598163031%257C16757432031%26rnid%3D12598141031%26s%3Dcomputers%26sr%3D1-2-spons%26psc%3D1&qualifier=1617775062&id=6507793969384485&widgetName=sp_atf_browse\n",
      "Lenovo IdeaPad Flex 5 11th Gen Intel Core i7 14-inch FHD IPS 2-in-1 Touchscreen Laptop (16GB/512GB SSD/Win 10/Office 2019/Lenovo Digital Pen Stylus/Fingerprint Reader/Graphite Grey/1.5Kg), 82HS0092IN\n",
      "₹ 83,990.00\n",
      "\n",
      "4.5 out of 5\n",
      "33 out of 120 https://www.amazon.in/gp/slredirect/picassoRedirect.html/ref=pa_sp_atf_browse_computers_sr_pg1_1?ie=UTF8&adId=A086665935KXADPC1VKVC&url=%2FNotebook-Horizon-i5-10210U-Graphics-XMA1904-AR%2Fdp%2FB089F5JGM1%2Fref%3Dsr_1_3_sspa%3Fdchild%3D1%26qid%3D1617775062%26refinements%3Dp_n_feature_thirteen_browse-bin%253A12598163031%257C16757432031%26rnid%3D12598141031%26s%3Dcomputers%26sr%3D1-3-spons%26psc%3D1&qualifier=1617775062&id=6507793969384485&widgetName=sp_atf_browse\n",
      "Mi Notebook Horizon Edition 14 Intel Core i5-10210U 10th Gen Thin and Light Laptop(8GB/512GB SSD/Windows 10/Nvidia MX350 2GB Graphics/Grey/1.35Kg), XMA1904-AR+Webcam\n",
      "₹ 54,999.00\n",
      "\n",
      "4.3 out of 5\n"
     ]
    },
    {
     "name": "stdout",
     "output_type": "stream",
     "text": [
      "34 out of 120 https://www.amazon.in/Notebook-Horizon-i7-10510U-Graphics-XMA1904-AF/dp/B089F2W1KW/ref=sr_1_4?dchild=1&qid=1617775062&refinements=p_n_feature_thirteen_browse-bin%3A12598163031%7C16757432031&rnid=12598141031&s=computers&sr=1-4\n",
      "Mi Notebook Horizon Edition 14 Intel Core i7-10510U 10th Gen Thin and Light Laptop(8GB/512GB SSD/Windows 10/Nvidia MX350 2GB Graphics/Grey/1.35Kg), XMA1904-AF+Webcam\n",
      "₹ 59,999.00\n",
      "\n",
      "4.3 out of 5\n",
      "35 out of 120 https://www.amazon.in/ASUS-ZenBook-i7-1165G7-Graphics-UX425EA-BM701TS/dp/B08M4SWRR5/ref=sr_1_5?dchild=1&qid=1617775062&refinements=p_n_feature_thirteen_browse-bin%3A12598163031%7C16757432031&rnid=12598141031&s=computers&sr=1-5\n",
      "ASUS ZenBook 14 (2020) Intel Core i7-1165G7 11th Gen 14-inch FHD Thin and Light Laptop (16GB RAM/512GB NVMe SSD/Windows 10/MS Office 2019/Intel Iris Xᵉ Graphics/Pine Grey/1.17 kg), UX425EA-BM701TS\n",
      "₹ 96,990.00\n",
      "\n",
      "4.4 out of 5\n",
      "36 out of 120 https://www.amazon.in/ASUS-i7-10870H-GTX-1650-Ti-Graphics-FX566LI-HN133T/dp/B08PFDQ76Z/ref=sr_1_6?dchild=1&qid=1617775062&refinements=p_n_feature_thirteen_browse-bin%3A12598163031%7C16757432031&rnid=12598141031&s=computers&sr=1-6\n",
      "ASUS TUF Gaming F15, 15.6\" FHD 144Hz, Intel Core i7-10870H 10th Gen, GTX 1650 Ti GDDR6 4GB Graphics, Gaming Laptop (16GB RAM/1TB HDD + 256GB SSD/Windows 10/Fortress Gray/2.3 Kg), FX566LI-HN133T\n",
      "₹ 81,990.00\n",
      "\n",
      "4.6 out of 5\n",
      "37 out of 120 https://www.amazon.in/Dell-15-6inch-i7-10750H-Warranty-D560250WIN9BE/dp/B08HYPRST4/ref=sr_1_7?dchild=1&qid=1617775062&refinements=p_n_feature_thirteen_browse-bin%3A12598163031%7C16757432031&rnid=12598141031&s=computers&sr=1-7\n",
      "Dell G3 3500 Gaming 15.6inch 120hz FHD Display Laptop (10th Gen i7-10750H / 8 GB / 512 SSD / GTX 1650 4GB / 1Yr Premium Warranty/ Win 10 + MS Office H&S 2019) D560250WIN9BE\n",
      "₹ 82,490.00\n",
      "\n",
      "4 out of 5\n",
      "38 out of 120 https://www.amazon.in/Lenovo-Touchscreen-Fingerprint-Graphite-82HS0092IN/dp/B08WRZQBQ6/ref=sr_1_8?dchild=1&qid=1617775062&refinements=p_n_feature_thirteen_browse-bin%3A12598163031%7C16757432031&rnid=12598141031&s=computers&sr=1-8\n",
      "Lenovo IdeaPad Flex 5 11th Gen Intel Core i7 14-inch FHD IPS 2-in-1 Touchscreen Laptop (16GB/512GB SSD/Win 10/Office 2019/Lenovo Digital Pen Stylus/Fingerprint Reader/Graphite Grey/1.5Kg), 82HS0092IN\n",
      "₹ 83,990.00\n",
      "\n",
      "4.5 out of 5\n",
      "39 out of 120 https://www.amazon.in/HP-Pavilion-Processor-15-6-inch-15-dk1151TX/dp/B08ZN5S446/ref=sr_1_9?dchild=1&qid=1617775062&refinements=p_n_feature_thirteen_browse-bin%3A12598163031%7C16757432031&rnid=12598141031&s=computers&sr=1-9\n",
      "HP Pavilion Gaming 10th Gen Intel Core i7 Processor 15.6-inch FHD Gaming Laptop (16GB/512GB SSD + 32GB Intel Optane/Windows 10/NVIDIA 1650 4GB/Shadow Black), 15-dk1151TX\n",
      "₹ 83,077.00\n",
      "\n",
      "No customer reviews\n",
      "40 out of 120 https://www.amazon.in/HP-Pavilion-Touchscreen-Convertible-DW1040TU/dp/B08R843NHL/ref=sr_1_10?dchild=1&qid=1617775062&refinements=p_n_feature_thirteen_browse-bin%3A12598163031%7C16757432031&rnid=12598141031&s=computers&sr=1-10\n",
      "HP Pavilion x360 (2021) 14\" FHD Touchscreen Laptop, 11th Gen Core i7, 8 GB RAM, 512GB SSD, 2-in-1 Convertible, Windows 10, MS Office, Finger Print Reader, (DW1040TU)\n",
      "₹ 78,393.00\n",
      "\n",
      "3.2 out of 5\n",
      "41 out of 120 https://www.amazon.in/Apple-MacBook-16-inch-Storage-2-3GHz/dp/B081JWZSSX/ref=sr_1_11?dchild=1&qid=1617775062&refinements=p_n_feature_thirteen_browse-bin%3A12598163031%7C16757432031&rnid=12598141031&s=computers&sr=1-11\n",
      "Apple MacBook Pro (16-inch, 16GB RAM, 1TB Storage, 2.3GHz 9th Gen Intel Core i9) - Space Grey\n",
      "₹ 2,15,990.00\n",
      "\n",
      "4.4 out of 5\n",
      "42 out of 120 https://www.amazon.in/Apple-MacBook-16-inch-Storage-Intel-Core-i7/dp/B081JWZQJB/ref=sr_1_12?dchild=1&qid=1617775062&refinements=p_n_feature_thirteen_browse-bin%3A12598163031%7C16757432031&rnid=12598141031&s=computers&sr=1-12\n",
      "Apple MacBook Pro (16-inch, 16GB RAM, 512GB Storage, 2.6GHz 9th Gen Intel Core i7) - Space Grey\n",
      "₹ 1,85,990.00\n",
      "\n",
      "4.4 out of 5\n",
      "43 out of 120 https://www.amazon.in/gp/slredirect/picassoRedirect.html/ref=pa_sp_mtf_browse_computers_sr_pg1_1?ie=UTF8&adId=A09967073PTWA3Y2FGWIJ&url=%2FRenewed-HP-ZBook-Mobile-Workstation%2Fdp%2FB09123HXS9%2Fref%3Dsr_1_13_sspa%3Fdchild%3D1%26qid%3D1617775062%26refinements%3Dp_n_feature_thirteen_browse-bin%253A12598163031%257C16757432031%26rnid%3D12598141031%26s%3Dcomputers%26sr%3D1-13-spons%26psc%3D1&qualifier=1617775062&id=6507793969384485&widgetName=sp_mtf_browse\n",
      "(Renewed) HP ZBook 15 G3 Mobile Workstation - 15.6\" - Core i7 (6700HQ) - 64 GB RAM - 1.5TB SSD : BLUETOOTH : 2GB DEDICATED GRAPHIC : NUMERIC KEYBOARD\n",
      "₹ 1,16,990.00\n",
      "\n",
      "No customer reviews\n",
      "44 out of 120 https://www.amazon.in/HP-Pavilion-Touchscreen-i7-10510U-14-dh1180tu/dp/B08GD8LQTY/ref=sr_1_14?dchild=1&qid=1617775062&refinements=p_n_feature_thirteen_browse-bin%3A12598163031%7C16757432031&rnid=12598141031&s=computers&sr=1-14\n",
      "HP Pavilion x360 Touchscreen 2-in-1 FHD 14-inch Laptop (10th Gen Core i7-10510U/8GB/512GB SSD/Windows 10 Home/MS Office/Mineral Silver/1.58 kg), 14-dh1180tu\n",
      "₹ 76,990.00\n",
      "\n",
      "3.9 out of 5\n",
      "45 out of 120 https://www.amazon.in/Lenovo-IdeaPad-15-6-inch-Windows-81Y400VAIN/dp/B08PV48PYW/ref=sr_1_15?dchild=1&qid=1617775062&refinements=p_n_feature_thirteen_browse-bin%3A12598163031%7C16757432031&rnid=12598141031&s=computers&sr=1-15\n",
      "Lenovo IdeaPad Gaming 3 10th Gen Intel Core i7 15.6-inch FHD IPS Gaming Laptop (8GB/1TB HDD + 256 GB SSD/Windows 10/NVIDIA GTX 1650 4GB GDDR6/with M100 RGB Gaming Mouse/Onyx Black/2.2Kg), 81Y400VAIN\n",
      "₹ 76,990.00\n",
      "\n",
      "4.4 out of 5\n",
      "46 out of 120 https://www.amazon.in/Acer-Swift-Display-Touchscreen-Notebook/dp/B08M41DHTV/ref=sr_1_16?dchild=1&qid=1617775062&refinements=p_n_feature_thirteen_browse-bin%3A12598163031%7C16757432031&rnid=12598141031&s=computers&sr=1-16\n",
      "Acer Swift 5 14\" Full HD IPS Display with Touchscreen Ultra Thin and Light Notebook (Intel i7 - 11th Gen/16GB RAM/1TB SSD/Win10/Intel Iris Xe Graphics/1.05 Kg/Mist Green), SF514-55TA\n",
      "₹ 91,999.00\n",
      "\n",
      "4.2 out of 5\n",
      "47 out of 120 https://www.amazon.in/Inspiron-5593-15-6-inch-i7-1065G7-Graphics/dp/B07ZG4S91Z/ref=sr_1_17?dchild=1&qid=1617775062&refinements=p_n_feature_thirteen_browse-bin%3A12598163031%7C16757432031&rnid=12598141031&s=computers&sr=1-17\n",
      "DELL Inspiron 5593 15.6-inch Laptop (10th Gen Core i7-1065G7/8GB/1TB HDD + 512GB SSD/Windows 10 Home Plus/4GB NVIDIA MX230 GDDR5 Graphics), Platinum Silver\n",
      "₹ 88,999.00\n",
      "\n",
      "3.8 out of 5\n",
      "48 out of 120 https://www.amazon.in/Lenovo-ThinkPad-14-inch-Professional-20R1S05400/dp/B08826Q91M/ref=sr_1_18?dchild=1&qid=1617775062&refinements=p_n_feature_thirteen_browse-bin%3A12598163031%7C16757432031&rnid=12598141031&s=computers&sr=1-18\n",
      "Lenovo ThinkPad X1 Carbon Intel Core i7 10th Gen 14-inch Wide Quad HD IPS Thin and Light Laptop (16GB RAM / 512GB SSD/ Windows 10 Professional/ Black/ 1.09Kg), 20R1S05400\n",
      "₹ 1,69,990.00\n",
      "\n",
      "3.4 out of 5\n",
      "49 out of 120 https://www.amazon.in/Dell-Latitude-Graphics-Business-Warranty/dp/B07YV4P55Z/ref=sr_1_19?dchild=1&qid=1617775062&refinements=p_n_feature_thirteen_browse-bin%3A12598163031%7C16757432031&rnid=12598141031&s=computers&sr=1-19\n",
      "Dell Latitude 3410 14 Inch Core i7 10th Gen (16 GB/ 512GB SSD / Windows 10Pro / 2GB NVIDIA Graphics ) Business Laptop with 3 Years NBD+ADP Warranty with STOLT Backpack\n",
      "₹ 98,990.00\n",
      "\n",
      "4 out of 5\n",
      "50 out of 120 https://www.amazon.in/ASUS-i7-10750H-Microsoft-Personal-One-Subscription/dp/B08WQB5Z4G/ref=sr_1_20?dchild=1&qid=1617775062&refinements=p_n_feature_thirteen_browse-bin%3A12598163031%7C16757432031&rnid=12598141031&s=computers&sr=1-20\n",
      "ASUS ROG Strix G17, 17.3\" FHD 120Hz, Intel Core i7-10750H 10th Gen, GTX 1660Ti 6GB Graphics (16GB RAM/1TB NVMe SSD/Win10/Original Black/2.83 Kg)Microsoft 365 Personal-One Year Subscription Included\n",
      "₹ 1,01,589.00\n",
      "\n",
      "4.4 out of 5\n",
      "51 out of 120 https://www.amazon.in/Acer-17-3-inch-Display-Graphics-AN517-51/dp/B08D1HF9PS/ref=sr_1_21?dchild=1&qid=1617775062&refinements=p_n_feature_thirteen_browse-bin%3A12598163031%7C16757432031&rnid=12598141031&s=computers&sr=1-21\n",
      "Acer Nitro 5 Intel Core i7-9th Gen 17.3-inch Display 1920 x 1080 Gaming Laptop (8GB Ram/2TB HDD/256GB SSD/Window 10 Home/6GB NVIDIA GeForce GTX 1660 Ti Graphics/Black), AN517-51\n",
      "₹ 90,990.00\n",
      "\n",
      "4.1 out of 5\n",
      "52 out of 120 https://www.amazon.in/Lenovo-ThinkPad-14-inch-Graphics-20S0S1MC00/dp/B08PD2LPXF/ref=sr_1_22?dchild=1&qid=1617775062&refinements=p_n_feature_thirteen_browse-bin%3A12598163031%7C16757432031&rnid=12598141031&s=computers&sr=1-22\n"
     ]
    },
    {
     "name": "stdout",
     "output_type": "stream",
     "text": [
      "Lenovo ThinkPad T14 Intel Core i7 10th Gen 14-inch Full HD Laptop (16GB RAM/ 512GB SSD/ Windows 10 Pro/ Black/2 GB Graphics / 1.55 kg), 20S0S1MC00\n",
      "TBD\n",
      "\n",
      "No customer reviews\n",
      "53 out of 120 https://www.amazon.in/Dell-Inspiron-i7-1165G7-Graphics-D560374WIN9PE/dp/B08MQBFY23/ref=sr_1_23?dchild=1&qid=1617775062&refinements=p_n_feature_thirteen_browse-bin%3A12598163031%7C16757432031&rnid=12598141031&s=computers&sr=1-23\n",
      "Dell Inspiron 5409 14.0\" FHD WVA AG Display 11th Gen Laptop (i7-1165G7 / 8 GB / 512 SSD / Nvidia MX 350 2GB Graphics / 1 Yr NBD / Win 10 + MS Office H&S / Pebble) D560374WIN9PE\n",
      "₹ 77,600.00\n",
      "\n",
      "4.1 out of 5\n",
      "54 out of 120 https://www.amazon.in/HP-Processor-15-6-inch-i7-10750H-15-ek0019TX/dp/B08CGM1PKK/ref=sr_1_24?dchild=1&qid=1617775062&refinements=p_n_feature_thirteen_browse-bin%3A12598163031%7C16757432031&rnid=12598141031&s=computers&sr=1-24\n",
      "HP OMEN 10th Gen Intel Core i7 Processor 15.6-inch FHD Gaming Laptop (i7-10750H/16GB/1TB SSD/Windows 10/300 Nits/144 Hz/NVIDIA GTX 1650ti 4GB/Shadow Black/2.36 kg), 15-ek0019TX\n",
      "₹ 1,09,999.00\n",
      "\n",
      "3.8 out of 5\n",
      "55 out of 120 https://www.amazon.in/ASUS-Zephyrus-i7-10750H-RTX-2060-GU502LV-AZ173TS/dp/B08PFD26HJ/ref=sr_1_25?dchild=1&qid=1617775062&refinements=p_n_feature_thirteen_browse-bin%3A12598163031%7C16757432031&rnid=12598141031&s=computers&sr=1-25\n",
      "ASUS ROG Zephyrus M15 (2020), 15.6\" FHD 240Hz/3ms, Intel Core i7-10750H 10th Gen, RTX 2060 6GB Graphics, Gaming Laptop (16GB/1TB SSD/Office 2019/Windows 10/Black/1.9 Kg), GU502LV-AZ173TS\n",
      "₹ 1,27,980.00\n",
      "\n",
      "5 out of 5\n",
      "56 out of 120 https://www.amazon.in/Lenovo-Legion-Gaming-Windows-82AW005SIN/dp/B08CQ21154/ref=sr_1_26?dchild=1&qid=1617775062&refinements=p_n_feature_thirteen_browse-bin%3A12598163031%7C16757432031&rnid=12598141031&s=computers&sr=1-26\n",
      "Lenovo Legion 5Pi 10th Gen Intel Core i7 15.6\" FHD Gaming Laptop (16GB/1TB SSD/Windows 10/MS Office 2019/144 Hz/NVIDIA RTX 2060 6GB GDDR6/with M300 RGB Gaming Mouse/Iron Grey/2.3Kg), 82AW005SIN\n",
      "₹ 1,35,490.00\n",
      "\n",
      "4.3 out of 5\n",
      "57 out of 120 https://www.amazon.in/Dell-Inspiron-i7-1165G7-Graphics-D560382WIN9S/dp/B08QN11YN2/ref=sr_1_27?dchild=1&qid=1617775062&refinements=p_n_feature_thirteen_browse-bin%3A12598163031%7C16757432031&rnid=12598141031&s=computers&sr=1-27\n",
      "Dell Inspiron 7400 14.5 QHD+ IPS Anti Glare Display Laptop (i7-1165G7 / 16 GB / 512 SSD / Nvidia MX 350 2 GB Graphics / Win 10 + MS Office/ Silver / Backlit with FPR) D560382WIN9S\n",
      "₹ 1,12,890.00\n",
      "\n",
      "4.4 out of 5\n",
      "58 out of 120 https://www.amazon.in/MSI-GF63-Thin-Core-9th/dp/B08SL26BWT/ref=sr_1_28?dchild=1&qid=1617775062&refinements=p_n_feature_thirteen_browse-bin%3A12598163031%7C16757432031&rnid=12598141031&s=computers&sr=1-28\n",
      "MSI GF63 Thin Core i7 9th Gen - (8 GB/512 GB SSD/Windows 10 Home/4 GB Graphics/NVIDIA Geforce GTX 1650 Max-Q) GF63 Thin 9SCXR-417IN Gaming Laptop (15.6 inch, Black, 1.86 kg)\n",
      "₹ 66,990.00\n",
      "\n",
      "No customer reviews\n",
      "59 out of 120 https://www.amazon.in/gp/slredirect/picassoRedirect.html/ref=pa_sp_btf_browse_computers_sr_pg1_1?ie=UTF8&adId=A0687011147MCJ4WR5UPI&url=%2FDell-15-6inch-i7-10750H-Warranty-D560250WIN9BE%2Fdp%2FB08HYPRST4%2Fref%3Dsr_1_29_sspa%3Fdchild%3D1%26qid%3D1617775062%26refinements%3Dp_n_feature_thirteen_browse-bin%253A12598163031%257C16757432031%26rnid%3D12598141031%26s%3Dcomputers%26sr%3D1-29-spons%26psc%3D1&qualifier=1617775062&id=6507793969384485&widgetName=sp_btf_browse\n",
      "Dell G3 3500 Gaming 15.6inch 120hz FHD Display Laptop (10th Gen i7-10750H / 8 GB / 512 SSD / GTX 1650 4GB / 1Yr Premium Warranty/ Win 10 + MS Office H&S 2019) D560250WIN9BE\n",
      "₹ 82,490.00\n",
      "\n",
      "4 out of 5\n",
      "60 out of 120 https://www.amazon.in/gp/slredirect/picassoRedirect.html/ref=pa_sp_btf_browse_computers_sr_pg1_1?ie=UTF8&adId=A04682371O98JRHVRLPOL&url=%2FLenovo-14-inch-Touchscreen-Fingerprint-82BG005JIN%2Fdp%2FB08P3MLZFM%2Fref%3Dsr_1_30_sspa%3Fdchild%3D1%26qid%3D1617775062%26refinements%3Dp_n_feature_thirteen_browse-bin%253A12598163031%257C16757432031%26rnid%3D12598141031%26s%3Dcomputers%26sr%3D1-30-spons%26psc%3D1&qualifier=1617775062&id=6507793969384485&widgetName=sp_btf_browse\n",
      "Lenovo Yoga 9 11th Gen Intel Core i7 14-inch 4K Ultra HD IPS 2-in-1 Touchscreen Laptop (16GB/1TB SSD/Windows 10/MS Office 2019/Fingerprint Reader/Shadow Black/Leather Surface/1.44Kg), 82BG005JIN\n",
      "₹ 1,67,990.00\n",
      "\n",
      "5 out of 5\n",
      "61 out of 120 https://www.amazon.in/gp/slredirect/picassoRedirect.html/ref=pa_sp_atf_browse_computers_sr_pg1_1?ie=UTF8&adId=A08330351RMTHS1N93LDK&url=%2FLifeDigital-Laptop-Intel%25C2%25AE-Storage-Windows%2Fdp%2FB08HRMHZ8J%2Fref%3Dsr_1_1_sspa%3Fdchild%3D1%26qid%3D1617775062%26refinements%3Dp_n_feature_thirteen_browse-bin%253A12598163031%257C16757432031%26rnid%3D12598141031%26s%3Dcomputers%26sr%3D1-1-spons%26psc%3D1&qualifier=1617775062&id=6507793969384485&widgetName=sp_atf_browse\n",
      "LifeDigital ZED AIR CX7 15.6 IPS FHD Screen Black Laptop (Intel Core i7, 4GB RAM, 256GB SSD, Windows 10)\n",
      "₹ 33,990.00\n",
      "\n",
      "2 out of 5\n",
      "62 out of 120 https://www.amazon.in/gp/slredirect/picassoRedirect.html/ref=pa_sp_atf_browse_computers_sr_pg1_1?ie=UTF8&adId=A04686372EO1LCBF9AV16&url=%2FLenovo-Touchscreen-Fingerprint-Graphite-82HS0092IN%2Fdp%2FB08WRZQBQ6%2Fref%3Dsr_1_2_sspa%3Fdchild%3D1%26qid%3D1617775062%26refinements%3Dp_n_feature_thirteen_browse-bin%253A12598163031%257C16757432031%26rnid%3D12598141031%26s%3Dcomputers%26sr%3D1-2-spons%26psc%3D1&qualifier=1617775062&id=6507793969384485&widgetName=sp_atf_browse\n",
      "Lenovo IdeaPad Flex 5 11th Gen Intel Core i7 14-inch FHD IPS 2-in-1 Touchscreen Laptop (16GB/512GB SSD/Win 10/Office 2019/Lenovo Digital Pen Stylus/Fingerprint Reader/Graphite Grey/1.5Kg), 82HS0092IN\n",
      "₹ 83,990.00\n",
      "\n",
      "4.5 out of 5\n",
      "63 out of 120 https://www.amazon.in/gp/slredirect/picassoRedirect.html/ref=pa_sp_atf_browse_computers_sr_pg1_1?ie=UTF8&adId=A086665935KXADPC1VKVC&url=%2FNotebook-Horizon-i5-10210U-Graphics-XMA1904-AR%2Fdp%2FB089F5JGM1%2Fref%3Dsr_1_3_sspa%3Fdchild%3D1%26qid%3D1617775062%26refinements%3Dp_n_feature_thirteen_browse-bin%253A12598163031%257C16757432031%26rnid%3D12598141031%26s%3Dcomputers%26sr%3D1-3-spons%26psc%3D1&qualifier=1617775062&id=6507793969384485&widgetName=sp_atf_browse\n",
      "Mi Notebook Horizon Edition 14 Intel Core i5-10210U 10th Gen Thin and Light Laptop(8GB/512GB SSD/Windows 10/Nvidia MX350 2GB Graphics/Grey/1.35Kg), XMA1904-AR+Webcam\n",
      "₹ 54,999.00\n",
      "\n",
      "4.3 out of 5\n",
      "64 out of 120 https://www.amazon.in/Notebook-Horizon-i7-10510U-Graphics-XMA1904-AF/dp/B089F2W1KW/ref=sr_1_4?dchild=1&qid=1617775062&refinements=p_n_feature_thirteen_browse-bin%3A12598163031%7C16757432031&rnid=12598141031&s=computers&sr=1-4\n",
      "Mi Notebook Horizon Edition 14 Intel Core i7-10510U 10th Gen Thin and Light Laptop(8GB/512GB SSD/Windows 10/Nvidia MX350 2GB Graphics/Grey/1.35Kg), XMA1904-AF+Webcam\n",
      "₹ 59,999.00\n",
      "\n",
      "4.3 out of 5\n",
      "65 out of 120 https://www.amazon.in/ASUS-ZenBook-i7-1165G7-Graphics-UX425EA-BM701TS/dp/B08M4SWRR5/ref=sr_1_5?dchild=1&qid=1617775062&refinements=p_n_feature_thirteen_browse-bin%3A12598163031%7C16757432031&rnid=12598141031&s=computers&sr=1-5\n",
      "ASUS ZenBook 14 (2020) Intel Core i7-1165G7 11th Gen 14-inch FHD Thin and Light Laptop (16GB RAM/512GB NVMe SSD/Windows 10/MS Office 2019/Intel Iris Xᵉ Graphics/Pine Grey/1.17 kg), UX425EA-BM701TS\n",
      "₹ 96,990.00\n",
      "\n",
      "4.4 out of 5\n",
      "66 out of 120 https://www.amazon.in/ASUS-i7-10870H-GTX-1650-Ti-Graphics-FX566LI-HN133T/dp/B08PFDQ76Z/ref=sr_1_6?dchild=1&qid=1617775062&refinements=p_n_feature_thirteen_browse-bin%3A12598163031%7C16757432031&rnid=12598141031&s=computers&sr=1-6\n",
      "ASUS TUF Gaming F15, 15.6\" FHD 144Hz, Intel Core i7-10870H 10th Gen, GTX 1650 Ti GDDR6 4GB Graphics, Gaming Laptop (16GB RAM/1TB HDD + 256GB SSD/Windows 10/Fortress Gray/2.3 Kg), FX566LI-HN133T\n",
      "₹ 81,990.00\n",
      "\n",
      "4.6 out of 5\n",
      "67 out of 120 https://www.amazon.in/Dell-15-6inch-i7-10750H-Warranty-D560250WIN9BE/dp/B08HYPRST4/ref=sr_1_7?dchild=1&qid=1617775062&refinements=p_n_feature_thirteen_browse-bin%3A12598163031%7C16757432031&rnid=12598141031&s=computers&sr=1-7\n",
      "Dell G3 3500 Gaming 15.6inch 120hz FHD Display Laptop (10th Gen i7-10750H / 8 GB / 512 SSD / GTX 1650 4GB / 1Yr Premium Warranty/ Win 10 + MS Office H&S 2019) D560250WIN9BE\n",
      "₹ 82,490.00\n",
      "\n",
      "4 out of 5\n",
      "68 out of 120 https://www.amazon.in/Lenovo-Touchscreen-Fingerprint-Graphite-82HS0092IN/dp/B08WRZQBQ6/ref=sr_1_8?dchild=1&qid=1617775062&refinements=p_n_feature_thirteen_browse-bin%3A12598163031%7C16757432031&rnid=12598141031&s=computers&sr=1-8\n"
     ]
    },
    {
     "name": "stdout",
     "output_type": "stream",
     "text": [
      "Lenovo IdeaPad Flex 5 11th Gen Intel Core i7 14-inch FHD IPS 2-in-1 Touchscreen Laptop (16GB/512GB SSD/Win 10/Office 2019/Lenovo Digital Pen Stylus/Fingerprint Reader/Graphite Grey/1.5Kg), 82HS0092IN\n",
      "₹ 83,990.00\n",
      "\n",
      "4.5 out of 5\n",
      "69 out of 120 https://www.amazon.in/HP-Pavilion-Processor-15-6-inch-15-dk1151TX/dp/B08ZN5S446/ref=sr_1_9?dchild=1&qid=1617775062&refinements=p_n_feature_thirteen_browse-bin%3A12598163031%7C16757432031&rnid=12598141031&s=computers&sr=1-9\n",
      "HP Pavilion Gaming 10th Gen Intel Core i7 Processor 15.6-inch FHD Gaming Laptop (16GB/512GB SSD + 32GB Intel Optane/Windows 10/NVIDIA 1650 4GB/Shadow Black), 15-dk1151TX\n",
      "₹ 83,077.00\n",
      "\n",
      "No customer reviews\n",
      "70 out of 120 https://www.amazon.in/HP-Pavilion-Touchscreen-Convertible-DW1040TU/dp/B08R843NHL/ref=sr_1_10?dchild=1&qid=1617775062&refinements=p_n_feature_thirteen_browse-bin%3A12598163031%7C16757432031&rnid=12598141031&s=computers&sr=1-10\n",
      "HP Pavilion x360 (2021) 14\" FHD Touchscreen Laptop, 11th Gen Core i7, 8 GB RAM, 512GB SSD, 2-in-1 Convertible, Windows 10, MS Office, Finger Print Reader, (DW1040TU)\n",
      "₹ 78,393.00\n",
      "\n",
      "3.2 out of 5\n",
      "71 out of 120 https://www.amazon.in/Apple-MacBook-16-inch-Storage-2-3GHz/dp/B081JWZSSX/ref=sr_1_11?dchild=1&qid=1617775062&refinements=p_n_feature_thirteen_browse-bin%3A12598163031%7C16757432031&rnid=12598141031&s=computers&sr=1-11\n",
      "Apple MacBook Pro (16-inch, 16GB RAM, 1TB Storage, 2.3GHz 9th Gen Intel Core i9) - Space Grey\n",
      "₹ 2,15,990.00\n",
      "\n",
      "4.4 out of 5\n",
      "72 out of 120 https://www.amazon.in/Apple-MacBook-16-inch-Storage-Intel-Core-i7/dp/B081JWZQJB/ref=sr_1_12?dchild=1&qid=1617775062&refinements=p_n_feature_thirteen_browse-bin%3A12598163031%7C16757432031&rnid=12598141031&s=computers&sr=1-12\n",
      "Apple MacBook Pro (16-inch, 16GB RAM, 512GB Storage, 2.6GHz 9th Gen Intel Core i7) - Space Grey\n",
      "₹ 1,85,990.00\n",
      "\n",
      "4.4 out of 5\n",
      "73 out of 120 https://www.amazon.in/gp/slredirect/picassoRedirect.html/ref=pa_sp_mtf_browse_computers_sr_pg1_1?ie=UTF8&adId=A09967073PTWA3Y2FGWIJ&url=%2FRenewed-HP-ZBook-Mobile-Workstation%2Fdp%2FB09123HXS9%2Fref%3Dsr_1_13_sspa%3Fdchild%3D1%26qid%3D1617775062%26refinements%3Dp_n_feature_thirteen_browse-bin%253A12598163031%257C16757432031%26rnid%3D12598141031%26s%3Dcomputers%26sr%3D1-13-spons%26psc%3D1&qualifier=1617775062&id=6507793969384485&widgetName=sp_mtf_browse\n",
      "(Renewed) HP ZBook 15 G3 Mobile Workstation - 15.6\" - Core i7 (6700HQ) - 64 GB RAM - 1.5TB SSD : BLUETOOTH : 2GB DEDICATED GRAPHIC : NUMERIC KEYBOARD\n",
      "₹ 1,16,990.00\n",
      "\n",
      "No customer reviews\n",
      "74 out of 120 https://www.amazon.in/HP-Pavilion-Touchscreen-i7-10510U-14-dh1180tu/dp/B08GD8LQTY/ref=sr_1_14?dchild=1&qid=1617775062&refinements=p_n_feature_thirteen_browse-bin%3A12598163031%7C16757432031&rnid=12598141031&s=computers&sr=1-14\n",
      "HP Pavilion x360 Touchscreen 2-in-1 FHD 14-inch Laptop (10th Gen Core i7-10510U/8GB/512GB SSD/Windows 10 Home/MS Office/Mineral Silver/1.58 kg), 14-dh1180tu\n",
      "₹ 76,990.00\n",
      "\n",
      "3.9 out of 5\n",
      "75 out of 120 https://www.amazon.in/Lenovo-IdeaPad-15-6-inch-Windows-81Y400VAIN/dp/B08PV48PYW/ref=sr_1_15?dchild=1&qid=1617775062&refinements=p_n_feature_thirteen_browse-bin%3A12598163031%7C16757432031&rnid=12598141031&s=computers&sr=1-15\n",
      "Lenovo IdeaPad Gaming 3 10th Gen Intel Core i7 15.6-inch FHD IPS Gaming Laptop (8GB/1TB HDD + 256 GB SSD/Windows 10/NVIDIA GTX 1650 4GB GDDR6/with M100 RGB Gaming Mouse/Onyx Black/2.2Kg), 81Y400VAIN\n",
      "₹ 76,990.00\n",
      "\n",
      "4.4 out of 5\n",
      "76 out of 120 https://www.amazon.in/Acer-Swift-Display-Touchscreen-Notebook/dp/B08M41DHTV/ref=sr_1_16?dchild=1&qid=1617775062&refinements=p_n_feature_thirteen_browse-bin%3A12598163031%7C16757432031&rnid=12598141031&s=computers&sr=1-16\n",
      "Acer Swift 5 14\" Full HD IPS Display with Touchscreen Ultra Thin and Light Notebook (Intel i7 - 11th Gen/16GB RAM/1TB SSD/Win10/Intel Iris Xe Graphics/1.05 Kg/Mist Green), SF514-55TA\n",
      "₹ 91,999.00\n",
      "\n",
      "4.2 out of 5\n",
      "77 out of 120 https://www.amazon.in/Inspiron-5593-15-6-inch-i7-1065G7-Graphics/dp/B07ZG4S91Z/ref=sr_1_17?dchild=1&qid=1617775062&refinements=p_n_feature_thirteen_browse-bin%3A12598163031%7C16757432031&rnid=12598141031&s=computers&sr=1-17\n",
      "DELL Inspiron 5593 15.6-inch Laptop (10th Gen Core i7-1065G7/8GB/1TB HDD + 512GB SSD/Windows 10 Home Plus/4GB NVIDIA MX230 GDDR5 Graphics), Platinum Silver\n",
      "₹ 88,999.00\n",
      "\n",
      "3.8 out of 5\n",
      "78 out of 120 https://www.amazon.in/Lenovo-ThinkPad-14-inch-Professional-20R1S05400/dp/B08826Q91M/ref=sr_1_18?dchild=1&qid=1617775062&refinements=p_n_feature_thirteen_browse-bin%3A12598163031%7C16757432031&rnid=12598141031&s=computers&sr=1-18\n",
      "Lenovo ThinkPad X1 Carbon Intel Core i7 10th Gen 14-inch Wide Quad HD IPS Thin and Light Laptop (16GB RAM / 512GB SSD/ Windows 10 Professional/ Black/ 1.09Kg), 20R1S05400\n",
      "₹ 1,69,990.00\n",
      "\n",
      "3.4 out of 5\n",
      "79 out of 120 https://www.amazon.in/Dell-Latitude-Graphics-Business-Warranty/dp/B07YV4P55Z/ref=sr_1_19?dchild=1&qid=1617775062&refinements=p_n_feature_thirteen_browse-bin%3A12598163031%7C16757432031&rnid=12598141031&s=computers&sr=1-19\n",
      "Dell Latitude 3410 14 Inch Core i7 10th Gen (16 GB/ 512GB SSD / Windows 10Pro / 2GB NVIDIA Graphics ) Business Laptop with 3 Years NBD+ADP Warranty with STOLT Backpack\n",
      "₹ 98,990.00\n",
      "\n",
      "4 out of 5\n",
      "80 out of 120 https://www.amazon.in/ASUS-i7-10750H-Microsoft-Personal-One-Subscription/dp/B08WQB5Z4G/ref=sr_1_20?dchild=1&qid=1617775062&refinements=p_n_feature_thirteen_browse-bin%3A12598163031%7C16757432031&rnid=12598141031&s=computers&sr=1-20\n",
      "ASUS ROG Strix G17, 17.3\" FHD 120Hz, Intel Core i7-10750H 10th Gen, GTX 1660Ti 6GB Graphics (16GB RAM/1TB NVMe SSD/Win10/Original Black/2.83 Kg)Microsoft 365 Personal-One Year Subscription Included\n",
      "₹ 1,01,589.00\n",
      "\n",
      "4.4 out of 5\n",
      "81 out of 120 https://www.amazon.in/Acer-17-3-inch-Display-Graphics-AN517-51/dp/B08D1HF9PS/ref=sr_1_21?dchild=1&qid=1617775062&refinements=p_n_feature_thirteen_browse-bin%3A12598163031%7C16757432031&rnid=12598141031&s=computers&sr=1-21\n",
      "Acer Nitro 5 Intel Core i7-9th Gen 17.3-inch Display 1920 x 1080 Gaming Laptop (8GB Ram/2TB HDD/256GB SSD/Window 10 Home/6GB NVIDIA GeForce GTX 1660 Ti Graphics/Black), AN517-51\n",
      "₹ 90,990.00\n",
      "\n",
      "4.1 out of 5\n",
      "82 out of 120 https://www.amazon.in/Lenovo-ThinkPad-14-inch-Graphics-20S0S1MC00/dp/B08PD2LPXF/ref=sr_1_22?dchild=1&qid=1617775062&refinements=p_n_feature_thirteen_browse-bin%3A12598163031%7C16757432031&rnid=12598141031&s=computers&sr=1-22\n",
      "Lenovo ThinkPad T14 Intel Core i7 10th Gen 14-inch Full HD Laptop (16GB RAM/ 512GB SSD/ Windows 10 Pro/ Black/2 GB Graphics / 1.55 kg), 20S0S1MC00\n",
      "TBD\n",
      "\n",
      "No customer reviews\n",
      "83 out of 120 https://www.amazon.in/Dell-Inspiron-i7-1165G7-Graphics-D560374WIN9PE/dp/B08MQBFY23/ref=sr_1_23?dchild=1&qid=1617775062&refinements=p_n_feature_thirteen_browse-bin%3A12598163031%7C16757432031&rnid=12598141031&s=computers&sr=1-23\n",
      "Dell Inspiron 5409 14.0\" FHD WVA AG Display 11th Gen Laptop (i7-1165G7 / 8 GB / 512 SSD / Nvidia MX 350 2GB Graphics / 1 Yr NBD / Win 10 + MS Office H&S / Pebble) D560374WIN9PE\n",
      "₹ 77,600.00\n",
      "\n",
      "4.1 out of 5\n",
      "84 out of 120 https://www.amazon.in/HP-Processor-15-6-inch-i7-10750H-15-ek0019TX/dp/B08CGM1PKK/ref=sr_1_24?dchild=1&qid=1617775062&refinements=p_n_feature_thirteen_browse-bin%3A12598163031%7C16757432031&rnid=12598141031&s=computers&sr=1-24\n",
      "HP OMEN 10th Gen Intel Core i7 Processor 15.6-inch FHD Gaming Laptop (i7-10750H/16GB/1TB SSD/Windows 10/300 Nits/144 Hz/NVIDIA GTX 1650ti 4GB/Shadow Black/2.36 kg), 15-ek0019TX\n",
      "₹ 1,09,999.00\n",
      "\n",
      "3.8 out of 5\n",
      "85 out of 120 https://www.amazon.in/ASUS-Zephyrus-i7-10750H-RTX-2060-GU502LV-AZ173TS/dp/B08PFD26HJ/ref=sr_1_25?dchild=1&qid=1617775062&refinements=p_n_feature_thirteen_browse-bin%3A12598163031%7C16757432031&rnid=12598141031&s=computers&sr=1-25\n",
      "ASUS ROG Zephyrus M15 (2020), 15.6\" FHD 240Hz/3ms, Intel Core i7-10750H 10th Gen, RTX 2060 6GB Graphics, Gaming Laptop (16GB/1TB SSD/Office 2019/Windows 10/Black/1.9 Kg), GU502LV-AZ173TS\n",
      "₹ 1,27,980.00\n",
      "\n",
      "5 out of 5\n",
      "86 out of 120 https://www.amazon.in/Lenovo-Legion-Gaming-Windows-82AW005SIN/dp/B08CQ21154/ref=sr_1_26?dchild=1&qid=1617775062&refinements=p_n_feature_thirteen_browse-bin%3A12598163031%7C16757432031&rnid=12598141031&s=computers&sr=1-26\n",
      "Lenovo Legion 5Pi 10th Gen Intel Core i7 15.6\" FHD Gaming Laptop (16GB/1TB SSD/Windows 10/MS Office 2019/144 Hz/NVIDIA RTX 2060 6GB GDDR6/with M300 RGB Gaming Mouse/Iron Grey/2.3Kg), 82AW005SIN\n",
      "₹ 1,35,490.00\n",
      "\n",
      "4.3 out of 5\n"
     ]
    },
    {
     "name": "stdout",
     "output_type": "stream",
     "text": [
      "87 out of 120 https://www.amazon.in/Dell-Inspiron-i7-1165G7-Graphics-D560382WIN9S/dp/B08QN11YN2/ref=sr_1_27?dchild=1&qid=1617775062&refinements=p_n_feature_thirteen_browse-bin%3A12598163031%7C16757432031&rnid=12598141031&s=computers&sr=1-27\n",
      "Dell Inspiron 7400 14.5 QHD+ IPS Anti Glare Display Laptop (i7-1165G7 / 16 GB / 512 SSD / Nvidia MX 350 2 GB Graphics / Win 10 + MS Office/ Silver / Backlit with FPR) D560382WIN9S\n",
      "₹ 1,12,890.00\n",
      "\n",
      "4.4 out of 5\n",
      "88 out of 120 https://www.amazon.in/MSI-GF63-Thin-Core-9th/dp/B08SL26BWT/ref=sr_1_28?dchild=1&qid=1617775062&refinements=p_n_feature_thirteen_browse-bin%3A12598163031%7C16757432031&rnid=12598141031&s=computers&sr=1-28\n",
      "MSI GF63 Thin Core i7 9th Gen - (8 GB/512 GB SSD/Windows 10 Home/4 GB Graphics/NVIDIA Geforce GTX 1650 Max-Q) GF63 Thin 9SCXR-417IN Gaming Laptop (15.6 inch, Black, 1.86 kg)\n",
      "₹ 66,990.00\n",
      "\n",
      "No customer reviews\n",
      "89 out of 120 https://www.amazon.in/gp/slredirect/picassoRedirect.html/ref=pa_sp_btf_browse_computers_sr_pg1_1?ie=UTF8&adId=A0687011147MCJ4WR5UPI&url=%2FDell-15-6inch-i7-10750H-Warranty-D560250WIN9BE%2Fdp%2FB08HYPRST4%2Fref%3Dsr_1_29_sspa%3Fdchild%3D1%26qid%3D1617775062%26refinements%3Dp_n_feature_thirteen_browse-bin%253A12598163031%257C16757432031%26rnid%3D12598141031%26s%3Dcomputers%26sr%3D1-29-spons%26psc%3D1&qualifier=1617775062&id=6507793969384485&widgetName=sp_btf_browse\n",
      "Dell G3 3500 Gaming 15.6inch 120hz FHD Display Laptop (10th Gen i7-10750H / 8 GB / 512 SSD / GTX 1650 4GB / 1Yr Premium Warranty/ Win 10 + MS Office H&S 2019) D560250WIN9BE\n",
      "₹ 82,490.00\n",
      "\n",
      "4 out of 5\n",
      "90 out of 120 https://www.amazon.in/gp/slredirect/picassoRedirect.html/ref=pa_sp_btf_browse_computers_sr_pg1_1?ie=UTF8&adId=A04682371O98JRHVRLPOL&url=%2FLenovo-14-inch-Touchscreen-Fingerprint-82BG005JIN%2Fdp%2FB08P3MLZFM%2Fref%3Dsr_1_30_sspa%3Fdchild%3D1%26qid%3D1617775062%26refinements%3Dp_n_feature_thirteen_browse-bin%253A12598163031%257C16757432031%26rnid%3D12598141031%26s%3Dcomputers%26sr%3D1-30-spons%26psc%3D1&qualifier=1617775062&id=6507793969384485&widgetName=sp_btf_browse\n",
      "Lenovo Yoga 9 11th Gen Intel Core i7 14-inch 4K Ultra HD IPS 2-in-1 Touchscreen Laptop (16GB/1TB SSD/Windows 10/MS Office 2019/Fingerprint Reader/Shadow Black/Leather Surface/1.44Kg), 82BG005JIN\n",
      "₹ 1,67,990.00\n",
      "\n",
      "5 out of 5\n",
      "91 out of 120 https://www.amazon.in/gp/slredirect/picassoRedirect.html/ref=pa_sp_atf_browse_computers_sr_pg1_1?ie=UTF8&adId=A08330351RMTHS1N93LDK&url=%2FLifeDigital-Laptop-Intel%25C2%25AE-Storage-Windows%2Fdp%2FB08HRMHZ8J%2Fref%3Dsr_1_1_sspa%3Fdchild%3D1%26qid%3D1617775062%26refinements%3Dp_n_feature_thirteen_browse-bin%253A12598163031%257C16757432031%26rnid%3D12598141031%26s%3Dcomputers%26sr%3D1-1-spons%26psc%3D1&qualifier=1617775062&id=6507793969384485&widgetName=sp_atf_browse\n",
      "LifeDigital ZED AIR CX7 15.6 IPS FHD Screen Black Laptop (Intel Core i7, 4GB RAM, 256GB SSD, Windows 10)\n",
      "₹ 33,990.00\n",
      "\n",
      "2 out of 5\n",
      "92 out of 120 https://www.amazon.in/gp/slredirect/picassoRedirect.html/ref=pa_sp_atf_browse_computers_sr_pg1_1?ie=UTF8&adId=A04686372EO1LCBF9AV16&url=%2FLenovo-Touchscreen-Fingerprint-Graphite-82HS0092IN%2Fdp%2FB08WRZQBQ6%2Fref%3Dsr_1_2_sspa%3Fdchild%3D1%26qid%3D1617775062%26refinements%3Dp_n_feature_thirteen_browse-bin%253A12598163031%257C16757432031%26rnid%3D12598141031%26s%3Dcomputers%26sr%3D1-2-spons%26psc%3D1&qualifier=1617775062&id=6507793969384485&widgetName=sp_atf_browse\n",
      "Lenovo IdeaPad Flex 5 11th Gen Intel Core i7 14-inch FHD IPS 2-in-1 Touchscreen Laptop (16GB/512GB SSD/Win 10/Office 2019/Lenovo Digital Pen Stylus/Fingerprint Reader/Graphite Grey/1.5Kg), 82HS0092IN\n",
      "₹ 83,990.00\n",
      "\n",
      "4.5 out of 5\n",
      "93 out of 120 https://www.amazon.in/gp/slredirect/picassoRedirect.html/ref=pa_sp_atf_browse_computers_sr_pg1_1?ie=UTF8&adId=A086665935KXADPC1VKVC&url=%2FNotebook-Horizon-i5-10210U-Graphics-XMA1904-AR%2Fdp%2FB089F5JGM1%2Fref%3Dsr_1_3_sspa%3Fdchild%3D1%26qid%3D1617775062%26refinements%3Dp_n_feature_thirteen_browse-bin%253A12598163031%257C16757432031%26rnid%3D12598141031%26s%3Dcomputers%26sr%3D1-3-spons%26psc%3D1&qualifier=1617775062&id=6507793969384485&widgetName=sp_atf_browse\n",
      "Mi Notebook Horizon Edition 14 Intel Core i5-10210U 10th Gen Thin and Light Laptop(8GB/512GB SSD/Windows 10/Nvidia MX350 2GB Graphics/Grey/1.35Kg), XMA1904-AR+Webcam\n",
      "₹ 54,999.00\n",
      "\n",
      "4.3 out of 5\n",
      "94 out of 120 https://www.amazon.in/Notebook-Horizon-i7-10510U-Graphics-XMA1904-AF/dp/B089F2W1KW/ref=sr_1_4?dchild=1&qid=1617775062&refinements=p_n_feature_thirteen_browse-bin%3A12598163031%7C16757432031&rnid=12598141031&s=computers&sr=1-4\n",
      "Mi Notebook Horizon Edition 14 Intel Core i7-10510U 10th Gen Thin and Light Laptop(8GB/512GB SSD/Windows 10/Nvidia MX350 2GB Graphics/Grey/1.35Kg), XMA1904-AF+Webcam\n",
      "₹ 59,999.00\n",
      "\n",
      "4.3 out of 5\n",
      "95 out of 120 https://www.amazon.in/ASUS-ZenBook-i7-1165G7-Graphics-UX425EA-BM701TS/dp/B08M4SWRR5/ref=sr_1_5?dchild=1&qid=1617775062&refinements=p_n_feature_thirteen_browse-bin%3A12598163031%7C16757432031&rnid=12598141031&s=computers&sr=1-5\n",
      "ASUS ZenBook 14 (2020) Intel Core i7-1165G7 11th Gen 14-inch FHD Thin and Light Laptop (16GB RAM/512GB NVMe SSD/Windows 10/MS Office 2019/Intel Iris Xᵉ Graphics/Pine Grey/1.17 kg), UX425EA-BM701TS\n",
      "₹ 96,990.00\n",
      "\n",
      "4.4 out of 5\n",
      "96 out of 120 https://www.amazon.in/ASUS-i7-10870H-GTX-1650-Ti-Graphics-FX566LI-HN133T/dp/B08PFDQ76Z/ref=sr_1_6?dchild=1&qid=1617775062&refinements=p_n_feature_thirteen_browse-bin%3A12598163031%7C16757432031&rnid=12598141031&s=computers&sr=1-6\n",
      "ASUS TUF Gaming F15, 15.6\" FHD 144Hz, Intel Core i7-10870H 10th Gen, GTX 1650 Ti GDDR6 4GB Graphics, Gaming Laptop (16GB RAM/1TB HDD + 256GB SSD/Windows 10/Fortress Gray/2.3 Kg), FX566LI-HN133T\n",
      "₹ 81,990.00\n",
      "\n",
      "4.6 out of 5\n",
      "97 out of 120 https://www.amazon.in/Dell-15-6inch-i7-10750H-Warranty-D560250WIN9BE/dp/B08HYPRST4/ref=sr_1_7?dchild=1&qid=1617775062&refinements=p_n_feature_thirteen_browse-bin%3A12598163031%7C16757432031&rnid=12598141031&s=computers&sr=1-7\n",
      "Dell G3 3500 Gaming 15.6inch 120hz FHD Display Laptop (10th Gen i7-10750H / 8 GB / 512 SSD / GTX 1650 4GB / 1Yr Premium Warranty/ Win 10 + MS Office H&S 2019) D560250WIN9BE\n",
      "₹ 82,490.00\n",
      "\n",
      "4 out of 5\n",
      "98 out of 120 https://www.amazon.in/Lenovo-Touchscreen-Fingerprint-Graphite-82HS0092IN/dp/B08WRZQBQ6/ref=sr_1_8?dchild=1&qid=1617775062&refinements=p_n_feature_thirteen_browse-bin%3A12598163031%7C16757432031&rnid=12598141031&s=computers&sr=1-8\n",
      "Lenovo IdeaPad Flex 5 11th Gen Intel Core i7 14-inch FHD IPS 2-in-1 Touchscreen Laptop (16GB/512GB SSD/Win 10/Office 2019/Lenovo Digital Pen Stylus/Fingerprint Reader/Graphite Grey/1.5Kg), 82HS0092IN\n",
      "₹ 83,990.00\n",
      "\n",
      "4.5 out of 5\n",
      "99 out of 120 https://www.amazon.in/HP-Pavilion-Processor-15-6-inch-15-dk1151TX/dp/B08ZN5S446/ref=sr_1_9?dchild=1&qid=1617775062&refinements=p_n_feature_thirteen_browse-bin%3A12598163031%7C16757432031&rnid=12598141031&s=computers&sr=1-9\n",
      "HP Pavilion Gaming 10th Gen Intel Core i7 Processor 15.6-inch FHD Gaming Laptop (16GB/512GB SSD + 32GB Intel Optane/Windows 10/NVIDIA 1650 4GB/Shadow Black), 15-dk1151TX\n",
      "₹ 83,077.00\n",
      "\n",
      "No customer reviews\n",
      "100 out of 120 https://www.amazon.in/HP-Pavilion-Touchscreen-Convertible-DW1040TU/dp/B08R843NHL/ref=sr_1_10?dchild=1&qid=1617775062&refinements=p_n_feature_thirteen_browse-bin%3A12598163031%7C16757432031&rnid=12598141031&s=computers&sr=1-10\n",
      "HP Pavilion x360 (2021) 14\" FHD Touchscreen Laptop, 11th Gen Core i7, 8 GB RAM, 512GB SSD, 2-in-1 Convertible, Windows 10, MS Office, Finger Print Reader, (DW1040TU)\n",
      "₹ 78,393.00\n",
      "\n",
      "3.2 out of 5\n",
      "101 out of 120 https://www.amazon.in/Apple-MacBook-16-inch-Storage-2-3GHz/dp/B081JWZSSX/ref=sr_1_11?dchild=1&qid=1617775062&refinements=p_n_feature_thirteen_browse-bin%3A12598163031%7C16757432031&rnid=12598141031&s=computers&sr=1-11\n",
      "Apple MacBook Pro (16-inch, 16GB RAM, 1TB Storage, 2.3GHz 9th Gen Intel Core i9) - Space Grey\n",
      "₹ 2,15,990.00\n",
      "\n",
      "4.4 out of 5\n",
      "102 out of 120 https://www.amazon.in/Apple-MacBook-16-inch-Storage-Intel-Core-i7/dp/B081JWZQJB/ref=sr_1_12?dchild=1&qid=1617775062&refinements=p_n_feature_thirteen_browse-bin%3A12598163031%7C16757432031&rnid=12598141031&s=computers&sr=1-12\n",
      "Apple MacBook Pro (16-inch, 16GB RAM, 512GB Storage, 2.6GHz 9th Gen Intel Core i7) - Space Grey\n",
      "₹ 1,85,990.00\n",
      "\n",
      "4.4 out of 5\n",
      "103 out of 120 https://www.amazon.in/gp/slredirect/picassoRedirect.html/ref=pa_sp_mtf_browse_computers_sr_pg1_1?ie=UTF8&adId=A09967073PTWA3Y2FGWIJ&url=%2FRenewed-HP-ZBook-Mobile-Workstation%2Fdp%2FB09123HXS9%2Fref%3Dsr_1_13_sspa%3Fdchild%3D1%26qid%3D1617775062%26refinements%3Dp_n_feature_thirteen_browse-bin%253A12598163031%257C16757432031%26rnid%3D12598141031%26s%3Dcomputers%26sr%3D1-13-spons%26psc%3D1&qualifier=1617775062&id=6507793969384485&widgetName=sp_mtf_browse\n"
     ]
    },
    {
     "name": "stdout",
     "output_type": "stream",
     "text": [
      "(Renewed) HP ZBook 15 G3 Mobile Workstation - 15.6\" - Core i7 (6700HQ) - 64 GB RAM - 1.5TB SSD : BLUETOOTH : 2GB DEDICATED GRAPHIC : NUMERIC KEYBOARD\n",
      "₹ 1,16,990.00\n",
      "\n",
      "No customer reviews\n",
      "104 out of 120 https://www.amazon.in/HP-Pavilion-Touchscreen-i7-10510U-14-dh1180tu/dp/B08GD8LQTY/ref=sr_1_14?dchild=1&qid=1617775062&refinements=p_n_feature_thirteen_browse-bin%3A12598163031%7C16757432031&rnid=12598141031&s=computers&sr=1-14\n",
      "HP Pavilion x360 Touchscreen 2-in-1 FHD 14-inch Laptop (10th Gen Core i7-10510U/8GB/512GB SSD/Windows 10 Home/MS Office/Mineral Silver/1.58 kg), 14-dh1180tu\n",
      "₹ 76,990.00\n",
      "\n",
      "3.9 out of 5\n",
      "105 out of 120 https://www.amazon.in/Lenovo-IdeaPad-15-6-inch-Windows-81Y400VAIN/dp/B08PV48PYW/ref=sr_1_15?dchild=1&qid=1617775062&refinements=p_n_feature_thirteen_browse-bin%3A12598163031%7C16757432031&rnid=12598141031&s=computers&sr=1-15\n",
      "Lenovo IdeaPad Gaming 3 10th Gen Intel Core i7 15.6-inch FHD IPS Gaming Laptop (8GB/1TB HDD + 256 GB SSD/Windows 10/NVIDIA GTX 1650 4GB GDDR6/with M100 RGB Gaming Mouse/Onyx Black/2.2Kg), 81Y400VAIN\n",
      "₹ 76,990.00\n",
      "\n",
      "4.4 out of 5\n",
      "106 out of 120 https://www.amazon.in/Acer-Swift-Display-Touchscreen-Notebook/dp/B08M41DHTV/ref=sr_1_16?dchild=1&qid=1617775062&refinements=p_n_feature_thirteen_browse-bin%3A12598163031%7C16757432031&rnid=12598141031&s=computers&sr=1-16\n",
      "Acer Swift 5 14\" Full HD IPS Display with Touchscreen Ultra Thin and Light Notebook (Intel i7 - 11th Gen/16GB RAM/1TB SSD/Win10/Intel Iris Xe Graphics/1.05 Kg/Mist Green), SF514-55TA\n",
      "₹ 91,999.00\n",
      "\n",
      "4.2 out of 5\n",
      "107 out of 120 https://www.amazon.in/Inspiron-5593-15-6-inch-i7-1065G7-Graphics/dp/B07ZG4S91Z/ref=sr_1_17?dchild=1&qid=1617775062&refinements=p_n_feature_thirteen_browse-bin%3A12598163031%7C16757432031&rnid=12598141031&s=computers&sr=1-17\n",
      "DELL Inspiron 5593 15.6-inch Laptop (10th Gen Core i7-1065G7/8GB/1TB HDD + 512GB SSD/Windows 10 Home Plus/4GB NVIDIA MX230 GDDR5 Graphics), Platinum Silver\n",
      "₹ 88,999.00\n",
      "\n",
      "3.8 out of 5\n",
      "108 out of 120 https://www.amazon.in/Lenovo-ThinkPad-14-inch-Professional-20R1S05400/dp/B08826Q91M/ref=sr_1_18?dchild=1&qid=1617775062&refinements=p_n_feature_thirteen_browse-bin%3A12598163031%7C16757432031&rnid=12598141031&s=computers&sr=1-18\n",
      "Lenovo ThinkPad X1 Carbon Intel Core i7 10th Gen 14-inch Wide Quad HD IPS Thin and Light Laptop (16GB RAM / 512GB SSD/ Windows 10 Professional/ Black/ 1.09Kg), 20R1S05400\n",
      "₹ 1,69,990.00\n",
      "\n",
      "3.4 out of 5\n",
      "109 out of 120 https://www.amazon.in/Dell-Latitude-Graphics-Business-Warranty/dp/B07YV4P55Z/ref=sr_1_19?dchild=1&qid=1617775062&refinements=p_n_feature_thirteen_browse-bin%3A12598163031%7C16757432031&rnid=12598141031&s=computers&sr=1-19\n",
      "Dell Latitude 3410 14 Inch Core i7 10th Gen (16 GB/ 512GB SSD / Windows 10Pro / 2GB NVIDIA Graphics ) Business Laptop with 3 Years NBD+ADP Warranty with STOLT Backpack\n",
      "₹ 98,990.00\n",
      "\n",
      "4 out of 5\n",
      "110 out of 120 https://www.amazon.in/ASUS-i7-10750H-Microsoft-Personal-One-Subscription/dp/B08WQB5Z4G/ref=sr_1_20?dchild=1&qid=1617775062&refinements=p_n_feature_thirteen_browse-bin%3A12598163031%7C16757432031&rnid=12598141031&s=computers&sr=1-20\n",
      "ASUS ROG Strix G17, 17.3\" FHD 120Hz, Intel Core i7-10750H 10th Gen, GTX 1660Ti 6GB Graphics (16GB RAM/1TB NVMe SSD/Win10/Original Black/2.83 Kg)Microsoft 365 Personal-One Year Subscription Included\n",
      "₹ 1,01,589.00\n",
      "\n",
      "4.4 out of 5\n",
      "111 out of 120 https://www.amazon.in/Acer-17-3-inch-Display-Graphics-AN517-51/dp/B08D1HF9PS/ref=sr_1_21?dchild=1&qid=1617775062&refinements=p_n_feature_thirteen_browse-bin%3A12598163031%7C16757432031&rnid=12598141031&s=computers&sr=1-21\n",
      "Acer Nitro 5 Intel Core i7-9th Gen 17.3-inch Display 1920 x 1080 Gaming Laptop (8GB Ram/2TB HDD/256GB SSD/Window 10 Home/6GB NVIDIA GeForce GTX 1660 Ti Graphics/Black), AN517-51\n",
      "₹ 90,990.00\n",
      "\n",
      "4.1 out of 5\n",
      "112 out of 120 https://www.amazon.in/Lenovo-ThinkPad-14-inch-Graphics-20S0S1MC00/dp/B08PD2LPXF/ref=sr_1_22?dchild=1&qid=1617775062&refinements=p_n_feature_thirteen_browse-bin%3A12598163031%7C16757432031&rnid=12598141031&s=computers&sr=1-22\n",
      "Lenovo ThinkPad T14 Intel Core i7 10th Gen 14-inch Full HD Laptop (16GB RAM/ 512GB SSD/ Windows 10 Pro/ Black/2 GB Graphics / 1.55 kg), 20S0S1MC00\n",
      "TBD\n",
      "\n",
      "No customer reviews\n",
      "113 out of 120 https://www.amazon.in/Dell-Inspiron-i7-1165G7-Graphics-D560374WIN9PE/dp/B08MQBFY23/ref=sr_1_23?dchild=1&qid=1617775062&refinements=p_n_feature_thirteen_browse-bin%3A12598163031%7C16757432031&rnid=12598141031&s=computers&sr=1-23\n",
      "Dell Inspiron 5409 14.0\" FHD WVA AG Display 11th Gen Laptop (i7-1165G7 / 8 GB / 512 SSD / Nvidia MX 350 2GB Graphics / 1 Yr NBD / Win 10 + MS Office H&S / Pebble) D560374WIN9PE\n",
      "₹ 77,600.00\n",
      "\n",
      "4.1 out of 5\n",
      "114 out of 120 https://www.amazon.in/HP-Processor-15-6-inch-i7-10750H-15-ek0019TX/dp/B08CGM1PKK/ref=sr_1_24?dchild=1&qid=1617775062&refinements=p_n_feature_thirteen_browse-bin%3A12598163031%7C16757432031&rnid=12598141031&s=computers&sr=1-24\n",
      "HP OMEN 10th Gen Intel Core i7 Processor 15.6-inch FHD Gaming Laptop (i7-10750H/16GB/1TB SSD/Windows 10/300 Nits/144 Hz/NVIDIA GTX 1650ti 4GB/Shadow Black/2.36 kg), 15-ek0019TX\n",
      "₹ 1,09,999.00\n",
      "\n",
      "3.8 out of 5\n",
      "115 out of 120 https://www.amazon.in/ASUS-Zephyrus-i7-10750H-RTX-2060-GU502LV-AZ173TS/dp/B08PFD26HJ/ref=sr_1_25?dchild=1&qid=1617775062&refinements=p_n_feature_thirteen_browse-bin%3A12598163031%7C16757432031&rnid=12598141031&s=computers&sr=1-25\n",
      "ASUS ROG Zephyrus M15 (2020), 15.6\" FHD 240Hz/3ms, Intel Core i7-10750H 10th Gen, RTX 2060 6GB Graphics, Gaming Laptop (16GB/1TB SSD/Office 2019/Windows 10/Black/1.9 Kg), GU502LV-AZ173TS\n",
      "₹ 1,27,980.00\n",
      "\n",
      "5 out of 5\n",
      "116 out of 120 https://www.amazon.in/Lenovo-Legion-Gaming-Windows-82AW005SIN/dp/B08CQ21154/ref=sr_1_26?dchild=1&qid=1617775062&refinements=p_n_feature_thirteen_browse-bin%3A12598163031%7C16757432031&rnid=12598141031&s=computers&sr=1-26\n",
      "Lenovo Legion 5Pi 10th Gen Intel Core i7 15.6\" FHD Gaming Laptop (16GB/1TB SSD/Windows 10/MS Office 2019/144 Hz/NVIDIA RTX 2060 6GB GDDR6/with M300 RGB Gaming Mouse/Iron Grey/2.3Kg), 82AW005SIN\n",
      "₹ 1,35,490.00\n",
      "\n",
      "4.3 out of 5\n",
      "117 out of 120 https://www.amazon.in/Dell-Inspiron-i7-1165G7-Graphics-D560382WIN9S/dp/B08QN11YN2/ref=sr_1_27?dchild=1&qid=1617775062&refinements=p_n_feature_thirteen_browse-bin%3A12598163031%7C16757432031&rnid=12598141031&s=computers&sr=1-27\n",
      "Dell Inspiron 7400 14.5 QHD+ IPS Anti Glare Display Laptop (i7-1165G7 / 16 GB / 512 SSD / Nvidia MX 350 2 GB Graphics / Win 10 + MS Office/ Silver / Backlit with FPR) D560382WIN9S\n",
      "₹ 1,12,890.00\n",
      "\n",
      "4.4 out of 5\n",
      "118 out of 120 https://www.amazon.in/MSI-GF63-Thin-Core-9th/dp/B08SL26BWT/ref=sr_1_28?dchild=1&qid=1617775062&refinements=p_n_feature_thirteen_browse-bin%3A12598163031%7C16757432031&rnid=12598141031&s=computers&sr=1-28\n",
      "MSI GF63 Thin Core i7 9th Gen - (8 GB/512 GB SSD/Windows 10 Home/4 GB Graphics/NVIDIA Geforce GTX 1650 Max-Q) GF63 Thin 9SCXR-417IN Gaming Laptop (15.6 inch, Black, 1.86 kg)\n",
      "₹ 66,990.00\n",
      "\n",
      "No customer reviews\n",
      "119 out of 120 https://www.amazon.in/gp/slredirect/picassoRedirect.html/ref=pa_sp_btf_browse_computers_sr_pg1_1?ie=UTF8&adId=A0687011147MCJ4WR5UPI&url=%2FDell-15-6inch-i7-10750H-Warranty-D560250WIN9BE%2Fdp%2FB08HYPRST4%2Fref%3Dsr_1_29_sspa%3Fdchild%3D1%26qid%3D1617775062%26refinements%3Dp_n_feature_thirteen_browse-bin%253A12598163031%257C16757432031%26rnid%3D12598141031%26s%3Dcomputers%26sr%3D1-29-spons%26psc%3D1&qualifier=1617775062&id=6507793969384485&widgetName=sp_btf_browse\n",
      "Dell G3 3500 Gaming 15.6inch 120hz FHD Display Laptop (10th Gen i7-10750H / 8 GB / 512 SSD / GTX 1650 4GB / 1Yr Premium Warranty/ Win 10 + MS Office H&S 2019) D560250WIN9BE\n",
      "₹ 82,490.00\n",
      "\n",
      "4 out of 5\n",
      "120 out of 120 https://www.amazon.in/gp/slredirect/picassoRedirect.html/ref=pa_sp_btf_browse_computers_sr_pg1_1?ie=UTF8&adId=A04682371O98JRHVRLPOL&url=%2FLenovo-14-inch-Touchscreen-Fingerprint-82BG005JIN%2Fdp%2FB08P3MLZFM%2Fref%3Dsr_1_30_sspa%3Fdchild%3D1%26qid%3D1617775062%26refinements%3Dp_n_feature_thirteen_browse-bin%253A12598163031%257C16757432031%26rnid%3D12598141031%26s%3Dcomputers%26sr%3D1-30-spons%26psc%3D1&qualifier=1617775062&id=6507793969384485&widgetName=sp_btf_browse\n",
      "Lenovo Yoga 9 11th Gen Intel Core i7 14-inch 4K Ultra HD IPS 2-in-1 Touchscreen Laptop (16GB/1TB SSD/Windows 10/MS Office 2019/Fingerprint Reader/Shadow Black/Leather Surface/1.44Kg), 82BG005JIN\n",
      "₹ 1,67,990.00\n",
      "\n",
      "5 out of 5\n"
     ]
    }
   ],
   "source": [
    "count = 0\n",
    "titles = []\n",
    "prices = []\n",
    "ratings = []\n",
    "for i in URLS:\n",
    "    count = count + 1\n",
    "    time.sleep(2)\n",
    "    print(count,\"out of\",len(URLS),i)\n",
    "    driver.get(i)\n",
    "    title = driver.find_element_by_id(\"titleSection\");\n",
    "    print(title.text)\n",
    "    titles.append(title.text)\n",
    "    try:\n",
    "        price = driver.find_element_by_id(\"priceblock_dealprice\");\n",
    "        print(price.text)\n",
    "        prices.append(price.text)\n",
    "    except:\n",
    "        try:\n",
    "            price = driver.find_element_by_id(\"priceblock_ourprice\");\n",
    "            print(price.text)\n",
    "            prices.append(price.text)\n",
    "        except:\n",
    "            price = \"TBD\"\n",
    "            print(price)\n",
    "            prices.append(price)\n",
    "    rating = driver.find_element_by_class_name(\"a-icon-alt\");\n",
    "    print(rating.text)\n",
    "    rating = driver.find_elements_by_xpath(\"//div[@class='a-section a-spacing-none a-spacing-top-mini cr-widget-ACR']\");\n",
    "    for i in rating:\n",
    "        try:\n",
    "            if len(i.text) == 0:\n",
    "                print('No customer reviews')\n",
    "                ratings.append('No customer reviews')\n",
    "            else:\n",
    "                print(i.text.split(\"\\n\")[0])\n",
    "                ratings.append(i.text.split(\"\\n\")[0])\n",
    "        except:\n",
    "            print('No customer reviews')\n",
    "            ratings.append('No customer reviews')"
   ]
  },
  {
   "cell_type": "code",
   "execution_count": 977,
   "metadata": {},
   "outputs": [],
   "source": [
    "df = pd.DataFrame(columns=['Title', 'Price', 'Rating'])\n",
    "df['Title'] = titles[:100]\n",
    "df['Price'] = prices[:100]\n",
    "df['Rating'] = ratings[:100]"
   ]
  },
  {
   "cell_type": "code",
   "execution_count": 978,
   "metadata": {},
   "outputs": [
    {
     "data": {
      "text/html": [
       "<div>\n",
       "<style scoped>\n",
       "    .dataframe tbody tr th:only-of-type {\n",
       "        vertical-align: middle;\n",
       "    }\n",
       "\n",
       "    .dataframe tbody tr th {\n",
       "        vertical-align: top;\n",
       "    }\n",
       "\n",
       "    .dataframe thead th {\n",
       "        text-align: right;\n",
       "    }\n",
       "</style>\n",
       "<table border=\"1\" class=\"dataframe\">\n",
       "  <thead>\n",
       "    <tr style=\"text-align: right;\">\n",
       "      <th></th>\n",
       "      <th>Title</th>\n",
       "      <th>Price</th>\n",
       "      <th>Rating</th>\n",
       "    </tr>\n",
       "  </thead>\n",
       "  <tbody>\n",
       "    <tr>\n",
       "      <th>0</th>\n",
       "      <td>LifeDigital ZED AIR CX7 15.6 IPS FHD Screen Bl...</td>\n",
       "      <td>₹ 33,990.00</td>\n",
       "      <td>2 out of 5</td>\n",
       "    </tr>\n",
       "    <tr>\n",
       "      <th>1</th>\n",
       "      <td>Lenovo IdeaPad Flex 5 11th Gen Intel Core i7 1...</td>\n",
       "      <td>₹ 83,990.00</td>\n",
       "      <td>4.5 out of 5</td>\n",
       "    </tr>\n",
       "    <tr>\n",
       "      <th>2</th>\n",
       "      <td>Mi Notebook Horizon Edition 14 Intel Core i5-1...</td>\n",
       "      <td>₹ 54,999.00</td>\n",
       "      <td>4.3 out of 5</td>\n",
       "    </tr>\n",
       "    <tr>\n",
       "      <th>3</th>\n",
       "      <td>Mi Notebook Horizon Edition 14 Intel Core i7-1...</td>\n",
       "      <td>₹ 59,999.00</td>\n",
       "      <td>4.3 out of 5</td>\n",
       "    </tr>\n",
       "    <tr>\n",
       "      <th>4</th>\n",
       "      <td>ASUS ZenBook 14 (2020) Intel Core i7-1165G7 11...</td>\n",
       "      <td>₹ 96,990.00</td>\n",
       "      <td>4.4 out of 5</td>\n",
       "    </tr>\n",
       "    <tr>\n",
       "      <th>...</th>\n",
       "      <td>...</td>\n",
       "      <td>...</td>\n",
       "      <td>...</td>\n",
       "    </tr>\n",
       "    <tr>\n",
       "      <th>95</th>\n",
       "      <td>ASUS TUF Gaming F15, 15.6\" FHD 144Hz, Intel Co...</td>\n",
       "      <td>₹ 81,990.00</td>\n",
       "      <td>4.6 out of 5</td>\n",
       "    </tr>\n",
       "    <tr>\n",
       "      <th>96</th>\n",
       "      <td>Dell G3 3500 Gaming 15.6inch 120hz FHD Display...</td>\n",
       "      <td>₹ 82,490.00</td>\n",
       "      <td>4 out of 5</td>\n",
       "    </tr>\n",
       "    <tr>\n",
       "      <th>97</th>\n",
       "      <td>Lenovo IdeaPad Flex 5 11th Gen Intel Core i7 1...</td>\n",
       "      <td>₹ 83,990.00</td>\n",
       "      <td>4.5 out of 5</td>\n",
       "    </tr>\n",
       "    <tr>\n",
       "      <th>98</th>\n",
       "      <td>HP Pavilion Gaming 10th Gen Intel Core i7 Proc...</td>\n",
       "      <td>₹ 83,077.00</td>\n",
       "      <td>No customer reviews</td>\n",
       "    </tr>\n",
       "    <tr>\n",
       "      <th>99</th>\n",
       "      <td>HP Pavilion x360 (2021) 14\" FHD Touchscreen La...</td>\n",
       "      <td>₹ 78,393.00</td>\n",
       "      <td>3.2 out of 5</td>\n",
       "    </tr>\n",
       "  </tbody>\n",
       "</table>\n",
       "<p>100 rows × 3 columns</p>\n",
       "</div>"
      ],
      "text/plain": [
       "                                                Title        Price  \\\n",
       "0   LifeDigital ZED AIR CX7 15.6 IPS FHD Screen Bl...  ₹ 33,990.00   \n",
       "1   Lenovo IdeaPad Flex 5 11th Gen Intel Core i7 1...  ₹ 83,990.00   \n",
       "2   Mi Notebook Horizon Edition 14 Intel Core i5-1...  ₹ 54,999.00   \n",
       "3   Mi Notebook Horizon Edition 14 Intel Core i7-1...  ₹ 59,999.00   \n",
       "4   ASUS ZenBook 14 (2020) Intel Core i7-1165G7 11...  ₹ 96,990.00   \n",
       "..                                                ...          ...   \n",
       "95  ASUS TUF Gaming F15, 15.6\" FHD 144Hz, Intel Co...  ₹ 81,990.00   \n",
       "96  Dell G3 3500 Gaming 15.6inch 120hz FHD Display...  ₹ 82,490.00   \n",
       "97  Lenovo IdeaPad Flex 5 11th Gen Intel Core i7 1...  ₹ 83,990.00   \n",
       "98  HP Pavilion Gaming 10th Gen Intel Core i7 Proc...  ₹ 83,077.00   \n",
       "99  HP Pavilion x360 (2021) 14\" FHD Touchscreen La...  ₹ 78,393.00   \n",
       "\n",
       "                 Rating  \n",
       "0            2 out of 5  \n",
       "1          4.5 out of 5  \n",
       "2          4.3 out of 5  \n",
       "3          4.3 out of 5  \n",
       "4          4.4 out of 5  \n",
       "..                  ...  \n",
       "95         4.6 out of 5  \n",
       "96           4 out of 5  \n",
       "97         4.5 out of 5  \n",
       "98  No customer reviews  \n",
       "99         3.2 out of 5  \n",
       "\n",
       "[100 rows x 3 columns]"
      ]
     },
     "execution_count": 978,
     "metadata": {},
     "output_type": "execute_result"
    }
   ],
   "source": [
    "df"
   ]
  },
  {
   "cell_type": "code",
   "execution_count": null,
   "metadata": {},
   "outputs": [],
   "source": []
  }
 ],
 "metadata": {
  "kernelspec": {
   "display_name": "Python 3",
   "language": "python",
   "name": "python3"
  },
  "language_info": {
   "codemirror_mode": {
    "name": "ipython",
    "version": 3
   },
   "file_extension": ".py",
   "mimetype": "text/x-python",
   "name": "python",
   "nbconvert_exporter": "python",
   "pygments_lexer": "ipython3",
   "version": "3.8.3"
  }
 },
 "nbformat": 4,
 "nbformat_minor": 4
}
