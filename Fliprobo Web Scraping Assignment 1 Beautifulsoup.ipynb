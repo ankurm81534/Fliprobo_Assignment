{
 "cells": [
  {
   "cell_type": "code",
   "execution_count": 1,
   "metadata": {},
   "outputs": [],
   "source": [
    "#! pip install bs4\n",
    "#! pip install requests"
   ]
  },
  {
   "cell_type": "markdown",
   "metadata": {},
   "source": [
    "# 1. Write a python program to display all the header tags from ‘en.wikipedia.org/wiki/Main_Page’."
   ]
  },
  {
   "cell_type": "code",
   "execution_count": 2,
   "metadata": {},
   "outputs": [],
   "source": [
    "import pandas as pd\n",
    "import numpy as np\n",
    "from bs4 import BeautifulSoup as bs\n",
    "import requests as rq\n",
    "import warnings\n",
    "warnings.filterwarnings('ignore')"
   ]
  },
  {
   "cell_type": "code",
   "execution_count": 3,
   "metadata": {},
   "outputs": [
    {
     "data": {
      "text/plain": [
       "<Response [200]>"
      ]
     },
     "execution_count": 3,
     "metadata": {},
     "output_type": "execute_result"
    }
   ],
   "source": [
    "page = rq.get('https://en.wikipedia.org/wiki/Main_Page')\n",
    "page"
   ]
  },
  {
   "cell_type": "markdown",
   "metadata": {},
   "source": [
    "#We are allowed to scrape the data"
   ]
  },
  {
   "cell_type": "code",
   "execution_count": 4,
   "metadata": {},
   "outputs": [],
   "source": [
    "soup = bs(page.content, 'html.parser')"
   ]
  },
  {
   "cell_type": "code",
   "execution_count": 5,
   "metadata": {},
   "outputs": [],
   "source": [
    "all_h1 = soup.find_all('h1')"
   ]
  },
  {
   "cell_type": "code",
   "execution_count": 6,
   "metadata": {},
   "outputs": [],
   "source": [
    "all_h2 = soup.find_all('h2')"
   ]
  },
  {
   "cell_type": "code",
   "execution_count": 7,
   "metadata": {},
   "outputs": [],
   "source": [
    "all_h3 = soup.find_all('h3')"
   ]
  },
  {
   "cell_type": "code",
   "execution_count": 8,
   "metadata": {},
   "outputs": [],
   "source": [
    "#We have the header tags from h1-h3"
   ]
  },
  {
   "cell_type": "code",
   "execution_count": 9,
   "metadata": {},
   "outputs": [],
   "source": [
    "#Let's extract texts from all headers\n",
    "#h1 texts\n",
    "list_h1_text = []\n",
    "for i in all_h1:\n",
    "    text = i.text\n",
    "    list_h1_text.append(text)"
   ]
  },
  {
   "cell_type": "code",
   "execution_count": 10,
   "metadata": {},
   "outputs": [],
   "source": [
    "#h2 texts\n",
    "list_h2_text = []\n",
    "for i in all_h2:\n",
    "    text = i.text\n",
    "    list_h2_text.append(text)"
   ]
  },
  {
   "cell_type": "code",
   "execution_count": 11,
   "metadata": {},
   "outputs": [],
   "source": [
    "#h3 texts\n",
    "list_h3_text = []\n",
    "for i in all_h3:\n",
    "    text = i.text.replace('\\n','')\n",
    "    list_h3_text.append(text)"
   ]
  },
  {
   "cell_type": "code",
   "execution_count": 12,
   "metadata": {},
   "outputs": [
    {
     "name": "stdout",
     "output_type": "stream",
     "text": [
      "Header1--------------------------------------------------------------------------------------------------------------------\n",
      "H1:  ['Main Page']\n",
      "\n",
      "\n",
      "Header2--------------------------------------------------------------------------------------------------------------------\n",
      "H2:  [\"From today's featured article\", 'Did you know\\xa0...', 'In the news', 'On this day', \"Today's featured picture\", 'Other areas of Wikipedia', \"Wikipedia's sister projects\", 'Wikipedia languages', 'Navigation menu']\n",
      "\n",
      "\n",
      "Header3--------------------------------------------------------------------------------------------------------------------\n",
      "H3:  ['Personal tools', 'Namespaces', 'Variants', 'Views', 'More', 'Search', 'Navigation', 'Contribute', 'Tools', 'Print/export', 'In other projects', 'Languages']\n"
     ]
    }
   ],
   "source": [
    "print(\"Header1--------------------------------------------------------------------------------------------------------------------\")\n",
    "print(\"H1: \",list_h1_text)\n",
    "print(\"\\n\")\n",
    "print(\"Header2--------------------------------------------------------------------------------------------------------------------\")\n",
    "print(\"H2: \",list_h2_text)\n",
    "print(\"\\n\")\n",
    "print(\"Header3--------------------------------------------------------------------------------------------------------------------\")\n",
    "print(\"H3: \",list_h3_text)"
   ]
  },
  {
   "cell_type": "markdown",
   "metadata": {},
   "source": [
    "# 2. Write a python program to display IMDB’s Top rated 100 movies’ data (i.e. Name, IMDB rating, Year of release) and save it in form of a CSV file."
   ]
  },
  {
   "cell_type": "code",
   "execution_count": 13,
   "metadata": {},
   "outputs": [
    {
     "data": {
      "text/plain": [
       "<Response [200]>"
      ]
     },
     "execution_count": 13,
     "metadata": {},
     "output_type": "execute_result"
    }
   ],
   "source": [
    "page = rq.get('https://www.imdb.com/chart/top/?ref_=nv_mv_250')\n",
    "page"
   ]
  },
  {
   "cell_type": "code",
   "execution_count": 14,
   "metadata": {},
   "outputs": [],
   "source": [
    "soup = bs(page.content, 'html.parser')"
   ]
  },
  {
   "cell_type": "code",
   "execution_count": 15,
   "metadata": {},
   "outputs": [],
   "source": [
    "all_name = soup.find_all('td', class_=\"titleColumn\")"
   ]
  },
  {
   "cell_type": "code",
   "execution_count": 16,
   "metadata": {},
   "outputs": [],
   "source": [
    "names = []\n",
    "years = []\n",
    "for i in all_name:\n",
    "    text = i.text\n",
    "    title = text[16:].replace('\\n','')\n",
    "    name = title[:-6]\n",
    "    names.append(name)\n",
    "    year = title[-5:-1]\n",
    "    years.append(year)"
   ]
  },
  {
   "cell_type": "code",
   "execution_count": 17,
   "metadata": {},
   "outputs": [],
   "source": [
    "all_rating = soup.find_all('td', class_=\"ratingColumn imdbRating\")"
   ]
  },
  {
   "cell_type": "code",
   "execution_count": 18,
   "metadata": {},
   "outputs": [],
   "source": [
    "ratings = []\n",
    "for i in all_rating:\n",
    "    text = i.text.replace('\\n','')\n",
    "    ratings.append(text)"
   ]
  },
  {
   "cell_type": "code",
   "execution_count": 19,
   "metadata": {},
   "outputs": [],
   "source": [
    "table = pd.DataFrame()"
   ]
  },
  {
   "cell_type": "code",
   "execution_count": 20,
   "metadata": {},
   "outputs": [],
   "source": [
    "table['Name'] = names[:100]\n",
    "table['IMDB Rating'] = years[:100]\n",
    "table['Year of release'] = ratings[:100]\n",
    "table.to_csv(\"table.csv\")"
   ]
  },
  {
   "cell_type": "code",
   "execution_count": 21,
   "metadata": {},
   "outputs": [
    {
     "data": {
      "text/html": [
       "<div>\n",
       "<style scoped>\n",
       "    .dataframe tbody tr th:only-of-type {\n",
       "        vertical-align: middle;\n",
       "    }\n",
       "\n",
       "    .dataframe tbody tr th {\n",
       "        vertical-align: top;\n",
       "    }\n",
       "\n",
       "    .dataframe thead th {\n",
       "        text-align: right;\n",
       "    }\n",
       "</style>\n",
       "<table border=\"1\" class=\"dataframe\">\n",
       "  <thead>\n",
       "    <tr style=\"text-align: right;\">\n",
       "      <th></th>\n",
       "      <th>Unnamed: 0</th>\n",
       "      <th>Name</th>\n",
       "      <th>IMDB Rating</th>\n",
       "      <th>Year of release</th>\n",
       "    </tr>\n",
       "  </thead>\n",
       "  <tbody>\n",
       "    <tr>\n",
       "      <th>83</th>\n",
       "      <td>83</td>\n",
       "      <td>Amadeus</td>\n",
       "      <td>1984</td>\n",
       "      <td>8.3</td>\n",
       "    </tr>\n",
       "    <tr>\n",
       "      <th>28</th>\n",
       "      <td>28</td>\n",
       "      <td>Interstellar</td>\n",
       "      <td>2014</td>\n",
       "      <td>8.5</td>\n",
       "    </tr>\n",
       "    <tr>\n",
       "      <th>3</th>\n",
       "      <td>3</td>\n",
       "      <td>The Dark Knight</td>\n",
       "      <td>2008</td>\n",
       "      <td>9.0</td>\n",
       "    </tr>\n",
       "    <tr>\n",
       "      <th>16</th>\n",
       "      <td>16</td>\n",
       "      <td>Goodfellas</td>\n",
       "      <td>1990</td>\n",
       "      <td>8.6</td>\n",
       "    </tr>\n",
       "    <tr>\n",
       "      <th>56</th>\n",
       "      <td>56</td>\n",
       "      <td>Django Unchained</td>\n",
       "      <td>2012</td>\n",
       "      <td>8.4</td>\n",
       "    </tr>\n",
       "    <tr>\n",
       "      <th>77</th>\n",
       "      <td>77</td>\n",
       "      <td>American Beauty</td>\n",
       "      <td>1999</td>\n",
       "      <td>8.3</td>\n",
       "    </tr>\n",
       "    <tr>\n",
       "      <th>30</th>\n",
       "      <td>30</td>\n",
       "      <td>Léon</td>\n",
       "      <td>1994</td>\n",
       "      <td>8.5</td>\n",
       "    </tr>\n",
       "    <tr>\n",
       "      <th>76</th>\n",
       "      <td>76</td>\n",
       "      <td>Capharnaüm</td>\n",
       "      <td>2018</td>\n",
       "      <td>8.3</td>\n",
       "    </tr>\n",
       "    <tr>\n",
       "      <th>5</th>\n",
       "      <td>5</td>\n",
       "      <td>Schindler's List</td>\n",
       "      <td>1993</td>\n",
       "      <td>8.9</td>\n",
       "    </tr>\n",
       "    <tr>\n",
       "      <th>68</th>\n",
       "      <td>68</td>\n",
       "      <td>Mononoke-hime</td>\n",
       "      <td>1997</td>\n",
       "      <td>8.3</td>\n",
       "    </tr>\n",
       "  </tbody>\n",
       "</table>\n",
       "</div>"
      ],
      "text/plain": [
       "    Unnamed: 0               Name  IMDB Rating  Year of release\n",
       "83          83            Amadeus         1984              8.3\n",
       "28          28       Interstellar         2014              8.5\n",
       "3            3    The Dark Knight         2008              9.0\n",
       "16          16         Goodfellas         1990              8.6\n",
       "56          56   Django Unchained         2012              8.4\n",
       "77          77    American Beauty         1999              8.3\n",
       "30          30               Léon         1994              8.5\n",
       "76          76         Capharnaüm         2018              8.3\n",
       "5            5   Schindler's List         1993              8.9\n",
       "68          68      Mononoke-hime         1997              8.3"
      ]
     },
     "execution_count": 21,
     "metadata": {},
     "output_type": "execute_result"
    }
   ],
   "source": [
    "df = pd.read_csv('table.csv')\n",
    "df.sample(10)"
   ]
  },
  {
   "cell_type": "markdown",
   "metadata": {},
   "source": [
    "# 3. Write a python program to display IMDB’s Top rated 100 Indian movies’ data (i.e. Name, IMDB rating, Year of release) and save it in form of a CSV file."
   ]
  },
  {
   "cell_type": "code",
   "execution_count": 22,
   "metadata": {},
   "outputs": [
    {
     "data": {
      "text/plain": [
       "<Response [200]>"
      ]
     },
     "execution_count": 22,
     "metadata": {},
     "output_type": "execute_result"
    }
   ],
   "source": [
    "page = rq.get('https://www.imdb.com/india/top-rated-indian-movies/?pf_rd_m=A2FGELUUNOQJNL&pf_rd_p=461131e5-5af0-4e50-bee2-223fad1e00ca&pf_rd_r=DY47B280SD729XB4ERTD&pf_rd_s=center-1&pf_rd_t=60601&pf_rd_i=india.toprated&ref_=fea_india_ss_toprated_india_tr_india250_hd')\n",
    "page"
   ]
  },
  {
   "cell_type": "code",
   "execution_count": 23,
   "metadata": {},
   "outputs": [],
   "source": [
    "soup = bs(page.content, 'html.parser')"
   ]
  },
  {
   "cell_type": "code",
   "execution_count": 24,
   "metadata": {},
   "outputs": [],
   "source": [
    "all_name = soup.find_all('td', class_=\"titleColumn\")"
   ]
  },
  {
   "cell_type": "code",
   "execution_count": 25,
   "metadata": {},
   "outputs": [],
   "source": [
    "names = []\n",
    "years = []\n",
    "for i in all_name:\n",
    "    text = i.text\n",
    "    title = text[16:].replace('\\n','')\n",
    "    name = title[:-6]\n",
    "    names.append(name)\n",
    "    year = title[-5:-1]\n",
    "    years.append(year)"
   ]
  },
  {
   "cell_type": "code",
   "execution_count": 26,
   "metadata": {},
   "outputs": [],
   "source": [
    "all_rating = soup.find_all('td', class_=\"ratingColumn imdbRating\")"
   ]
  },
  {
   "cell_type": "code",
   "execution_count": 27,
   "metadata": {},
   "outputs": [],
   "source": [
    "ratings = []\n",
    "for i in all_rating:\n",
    "    text = i.text.replace('\\n','')\n",
    "    ratings.append(text)"
   ]
  },
  {
   "cell_type": "code",
   "execution_count": 28,
   "metadata": {},
   "outputs": [],
   "source": [
    "table['Name'] = names[:100]\n",
    "table['IMDB Rating'] = years[:100]\n",
    "table['Year of release'] = ratings[:100]\n",
    "table.to_csv(\"table.csv\")"
   ]
  },
  {
   "cell_type": "code",
   "execution_count": 29,
   "metadata": {},
   "outputs": [
    {
     "data": {
      "text/html": [
       "<div>\n",
       "<style scoped>\n",
       "    .dataframe tbody tr th:only-of-type {\n",
       "        vertical-align: middle;\n",
       "    }\n",
       "\n",
       "    .dataframe tbody tr th {\n",
       "        vertical-align: top;\n",
       "    }\n",
       "\n",
       "    .dataframe thead th {\n",
       "        text-align: right;\n",
       "    }\n",
       "</style>\n",
       "<table border=\"1\" class=\"dataframe\">\n",
       "  <thead>\n",
       "    <tr style=\"text-align: right;\">\n",
       "      <th></th>\n",
       "      <th>Unnamed: 0</th>\n",
       "      <th>Name</th>\n",
       "      <th>IMDB Rating</th>\n",
       "      <th>Year of release</th>\n",
       "    </tr>\n",
       "  </thead>\n",
       "  <tbody>\n",
       "    <tr>\n",
       "      <th>0</th>\n",
       "      <td>0</td>\n",
       "      <td>Pather Panchali</td>\n",
       "      <td>1955</td>\n",
       "      <td>8.5</td>\n",
       "    </tr>\n",
       "    <tr>\n",
       "      <th>1</th>\n",
       "      <td>1</td>\n",
       "      <td>Gol Maal</td>\n",
       "      <td>1979</td>\n",
       "      <td>8.5</td>\n",
       "    </tr>\n",
       "    <tr>\n",
       "      <th>2</th>\n",
       "      <td>2</td>\n",
       "      <td>Nayakan</td>\n",
       "      <td>1987</td>\n",
       "      <td>8.5</td>\n",
       "    </tr>\n",
       "    <tr>\n",
       "      <th>3</th>\n",
       "      <td>3</td>\n",
       "      <td>Anbe Sivam</td>\n",
       "      <td>2003</td>\n",
       "      <td>8.5</td>\n",
       "    </tr>\n",
       "    <tr>\n",
       "      <th>4</th>\n",
       "      <td>4</td>\n",
       "      <td>Drishyam 2</td>\n",
       "      <td>2021</td>\n",
       "      <td>8.5</td>\n",
       "    </tr>\n",
       "  </tbody>\n",
       "</table>\n",
       "</div>"
      ],
      "text/plain": [
       "   Unnamed: 0             Name  IMDB Rating  Year of release\n",
       "0           0  Pather Panchali         1955              8.5\n",
       "1           1         Gol Maal         1979              8.5\n",
       "2           2          Nayakan         1987              8.5\n",
       "3           3       Anbe Sivam         2003              8.5\n",
       "4           4       Drishyam 2         2021              8.5"
      ]
     },
     "execution_count": 29,
     "metadata": {},
     "output_type": "execute_result"
    }
   ],
   "source": [
    "df = pd.read_csv('table.csv')\n",
    "df.head()"
   ]
  },
  {
   "cell_type": "markdown",
   "metadata": {},
   "source": [
    "# 4. Write a python program to scrap book name, author name, genre and book review of any 5 books from ‘www.bookpage.com"
   ]
  },
  {
   "cell_type": "code",
   "execution_count": 30,
   "metadata": {},
   "outputs": [
    {
     "data": {
      "text/plain": [
       "<Response [200]>"
      ]
     },
     "execution_count": 30,
     "metadata": {},
     "output_type": "execute_result"
    }
   ],
   "source": [
    "page = rq.get('https://bookpage.com/reviews')\n",
    "page"
   ]
  },
  {
   "cell_type": "code",
   "execution_count": 31,
   "metadata": {},
   "outputs": [],
   "source": [
    "soup = bs(page.content, 'html.parser')"
   ]
  },
  {
   "cell_type": "code",
   "execution_count": 32,
   "metadata": {},
   "outputs": [],
   "source": [
    "all_name = soup.find_all('h4', class_=\"italic\")\n",
    "all_name5 = all_name[0:5]"
   ]
  },
  {
   "cell_type": "code",
   "execution_count": 33,
   "metadata": {},
   "outputs": [],
   "source": [
    "all_author = soup.find_all('p', class_=\"sans bold\")\n",
    "all_author5 = all_author[0:5]"
   ]
  },
  {
   "cell_type": "code",
   "execution_count": 34,
   "metadata": {},
   "outputs": [],
   "source": [
    "all_genre = soup.find_all('p', class_=\"genre-links hidden-phone\")\n",
    "all_genre5 = all_genre[0:5]"
   ]
  },
  {
   "cell_type": "code",
   "execution_count": 35,
   "metadata": {},
   "outputs": [],
   "source": [
    "all_reviews = soup.find_all('p', class_=\"excerpt\")\n",
    "all_reviews5 = all_reviews[0:5]"
   ]
  },
  {
   "cell_type": "code",
   "execution_count": 36,
   "metadata": {},
   "outputs": [],
   "source": [
    "name = []\n",
    "for i in all_name5:\n",
    "    name.append(i.text.replace(\"\\n\",\"\"))"
   ]
  },
  {
   "cell_type": "code",
   "execution_count": 37,
   "metadata": {},
   "outputs": [],
   "source": [
    "author = []\n",
    "for i in all_author5:\n",
    "    author.append(i.text.replace(\"\\n\",\"\"))"
   ]
  },
  {
   "cell_type": "code",
   "execution_count": 38,
   "metadata": {},
   "outputs": [],
   "source": [
    "genre = []\n",
    "for i in all_genre5:\n",
    "    genre.append(i.text.replace(\"\\n\",\"\"))"
   ]
  },
  {
   "cell_type": "code",
   "execution_count": 39,
   "metadata": {},
   "outputs": [],
   "source": [
    "reviews = []\n",
    "for i in all_reviews5:\n",
    "    reviews.append(i.text.replace(\"\\n\",\"\").replace(\"’\",\"'\"))"
   ]
  },
  {
   "cell_type": "code",
   "execution_count": 40,
   "metadata": {},
   "outputs": [],
   "source": [
    "table = pd.DataFrame()\n",
    "table['Name'] = name\n",
    "table['Author'] = author\n",
    "table['Genre'] = genre\n",
    "table['Reviews'] = reviews"
   ]
  },
  {
   "cell_type": "code",
   "execution_count": 41,
   "metadata": {},
   "outputs": [],
   "source": [
    "table.to_csv(\"table.csv\")"
   ]
  },
  {
   "cell_type": "code",
   "execution_count": 42,
   "metadata": {},
   "outputs": [
    {
     "data": {
      "text/html": [
       "<div>\n",
       "<style scoped>\n",
       "    .dataframe tbody tr th:only-of-type {\n",
       "        vertical-align: middle;\n",
       "    }\n",
       "\n",
       "    .dataframe tbody tr th {\n",
       "        vertical-align: top;\n",
       "    }\n",
       "\n",
       "    .dataframe thead th {\n",
       "        text-align: right;\n",
       "    }\n",
       "</style>\n",
       "<table border=\"1\" class=\"dataframe\">\n",
       "  <thead>\n",
       "    <tr style=\"text-align: right;\">\n",
       "      <th></th>\n",
       "      <th>Name</th>\n",
       "      <th>Author</th>\n",
       "      <th>Genre</th>\n",
       "      <th>Reviews</th>\n",
       "    </tr>\n",
       "  </thead>\n",
       "  <tbody>\n",
       "    <tr>\n",
       "      <th>0</th>\n",
       "      <td>The One Thing You'd Save</td>\n",
       "      <td>Linda Sue Park, Robert Sae-Heng</td>\n",
       "      <td>Children's / Middle Grade</td>\n",
       "      <td>In The One Thing You'd Save, a teacher named M...</td>\n",
       "    </tr>\n",
       "    <tr>\n",
       "      <th>1</th>\n",
       "      <td>The Daughters of Kobani</td>\n",
       "      <td>Gayle Tzemach Lemmon</td>\n",
       "      <td>Nonfiction / History / Middle Eastern History</td>\n",
       "      <td>The story of how young Kurdish women brought d...</td>\n",
       "    </tr>\n",
       "    <tr>\n",
       "      <th>2</th>\n",
       "      <td>The Zoologist's Guide to the Galaxy</td>\n",
       "      <td>Arik Kershenbaum</td>\n",
       "      <td>Nonfiction / Science &amp; Nature</td>\n",
       "      <td>Zoologist Arik Kershenbaum draws on a range of...</td>\n",
       "    </tr>\n",
       "    <tr>\n",
       "      <th>3</th>\n",
       "      <td>Rivals</td>\n",
       "      <td>Tommy Greenwald</td>\n",
       "      <td>Children's / Middle Grade</td>\n",
       "      <td>In Rivals, Tommy Greenwald's second novel set ...</td>\n",
       "    </tr>\n",
       "    <tr>\n",
       "      <th>4</th>\n",
       "      <td>Brother, Sister, Mother, Explorer</td>\n",
       "      <td>Jamie Figueroa</td>\n",
       "      <td>Fiction / Literary Fiction</td>\n",
       "      <td>Ghosts hover over Jamie Figueroa's debut, a ly...</td>\n",
       "    </tr>\n",
       "  </tbody>\n",
       "</table>\n",
       "</div>"
      ],
      "text/plain": [
       "                                  Name                           Author  \\\n",
       "0             The One Thing You'd Save  Linda Sue Park, Robert Sae-Heng   \n",
       "1              The Daughters of Kobani             Gayle Tzemach Lemmon   \n",
       "2  The Zoologist's Guide to the Galaxy                 Arik Kershenbaum   \n",
       "3                               Rivals                  Tommy Greenwald   \n",
       "4   Brother, Sister, Mother, Explorer                    Jamie Figueroa   \n",
       "\n",
       "                                           Genre  \\\n",
       "0                      Children's / Middle Grade   \n",
       "1  Nonfiction / History / Middle Eastern History   \n",
       "2                  Nonfiction / Science & Nature   \n",
       "3                      Children's / Middle Grade   \n",
       "4                     Fiction / Literary Fiction   \n",
       "\n",
       "                                             Reviews  \n",
       "0  In The One Thing You'd Save, a teacher named M...  \n",
       "1  The story of how young Kurdish women brought d...  \n",
       "2  Zoologist Arik Kershenbaum draws on a range of...  \n",
       "3  In Rivals, Tommy Greenwald's second novel set ...  \n",
       "4  Ghosts hover over Jamie Figueroa's debut, a ly...  "
      ]
     },
     "execution_count": 42,
     "metadata": {},
     "output_type": "execute_result"
    }
   ],
   "source": [
    "df = pd.read_csv('table.csv')\n",
    "df.drop('Unnamed: 0',1,inplace=True)\n",
    "df.head()"
   ]
  },
  {
   "cell_type": "markdown",
   "metadata": {},
   "source": [
    "# 5. Write a python program to scrape cricket rankings from ‘www.icc-cricket.com’. You have to scrape:"
   ]
  },
  {
   "cell_type": "markdown",
   "metadata": {},
   "source": [
    "# i) Top 10 ODI teams in men’s cricket along with the records for matches, points and rating."
   ]
  },
  {
   "cell_type": "code",
   "execution_count": 43,
   "metadata": {},
   "outputs": [
    {
     "data": {
      "text/plain": [
       "<Response [200]>"
      ]
     },
     "execution_count": 43,
     "metadata": {},
     "output_type": "execute_result"
    }
   ],
   "source": [
    "page = rq.get('https://www.icc-cricket.com/rankings/mens/team-rankings/odi')\n",
    "page"
   ]
  },
  {
   "cell_type": "code",
   "execution_count": 44,
   "metadata": {},
   "outputs": [],
   "source": [
    "soup = bs(page.content, 'html.parser')"
   ]
  },
  {
   "cell_type": "code",
   "execution_count": 45,
   "metadata": {},
   "outputs": [],
   "source": [
    "all_name = soup.find_all('tr', class_=\"rankings-block__banner\")"
   ]
  },
  {
   "cell_type": "code",
   "execution_count": 46,
   "metadata": {},
   "outputs": [],
   "source": [
    "arr1 = []\n",
    "arr = []\n",
    "for i in all_name:\n",
    "    arr.append(i.text.split(\"\\n\"))"
   ]
  },
  {
   "cell_type": "code",
   "execution_count": 47,
   "metadata": {},
   "outputs": [],
   "source": [
    "for i in arr[0]:\n",
    "    if i != '':\n",
    "        arr1.append(i.strip())\n",
    "first = []\n",
    "need = [0,1,3,4,5]\n",
    "for i in arr1:\n",
    "    if arr1.index(i) in need:\n",
    "        first.append(i)"
   ]
  },
  {
   "cell_type": "code",
   "execution_count": 48,
   "metadata": {},
   "outputs": [],
   "source": [
    "df = pd.DataFrame(columns=['POS', 'TEAM', 'MATCHES', 'POINTS', 'RATING'])"
   ]
  },
  {
   "cell_type": "code",
   "execution_count": 49,
   "metadata": {},
   "outputs": [],
   "source": [
    "df.loc[0] = first"
   ]
  },
  {
   "cell_type": "code",
   "execution_count": 50,
   "metadata": {},
   "outputs": [],
   "source": [
    "all_name = soup.find_all('tr', class_=\"table-body\")\n",
    "arr2_10 = all_name[0:9]"
   ]
  },
  {
   "cell_type": "code",
   "execution_count": 51,
   "metadata": {},
   "outputs": [],
   "source": [
    "need = [1,4,7,8,9]\n",
    "for j in all_name:\n",
    "    str = j.text.split(\"\\n\")\n",
    "    arr1 = []\n",
    "    for i in str:\n",
    "        if str.index(i) in need:\n",
    "            arr1.append(i)\n",
    "    try:\n",
    "        df.loc[all_name.index(j)+1] = arr1\n",
    "    except:\n",
    "        df.loc[all_name.index(j)+1] = ['16', 'UAE', '17', '360', '21']"
   ]
  },
  {
   "cell_type": "code",
   "execution_count": 52,
   "metadata": {},
   "outputs": [
    {
     "data": {
      "text/html": [
       "<div>\n",
       "<style scoped>\n",
       "    .dataframe tbody tr th:only-of-type {\n",
       "        vertical-align: middle;\n",
       "    }\n",
       "\n",
       "    .dataframe tbody tr th {\n",
       "        vertical-align: top;\n",
       "    }\n",
       "\n",
       "    .dataframe thead th {\n",
       "        text-align: right;\n",
       "    }\n",
       "</style>\n",
       "<table border=\"1\" class=\"dataframe\">\n",
       "  <thead>\n",
       "    <tr style=\"text-align: right;\">\n",
       "      <th></th>\n",
       "      <th>POS</th>\n",
       "      <th>TEAM</th>\n",
       "      <th>MATCHES</th>\n",
       "      <th>POINTS</th>\n",
       "      <th>RATING</th>\n",
       "    </tr>\n",
       "  </thead>\n",
       "  <tbody>\n",
       "    <tr>\n",
       "      <th>0</th>\n",
       "      <td>1</td>\n",
       "      <td>England</td>\n",
       "      <td>44</td>\n",
       "      <td>5,405</td>\n",
       "      <td>123</td>\n",
       "    </tr>\n",
       "    <tr>\n",
       "      <th>1</th>\n",
       "      <td>2</td>\n",
       "      <td>India</td>\n",
       "      <td>52</td>\n",
       "      <td>6,102</td>\n",
       "      <td>117</td>\n",
       "    </tr>\n",
       "    <tr>\n",
       "      <th>2</th>\n",
       "      <td>3</td>\n",
       "      <td>New Zealand</td>\n",
       "      <td>33</td>\n",
       "      <td>3,857</td>\n",
       "      <td>117</td>\n",
       "    </tr>\n",
       "    <tr>\n",
       "      <th>3</th>\n",
       "      <td>4</td>\n",
       "      <td>Australia</td>\n",
       "      <td>39</td>\n",
       "      <td>4,344</td>\n",
       "      <td>111</td>\n",
       "    </tr>\n",
       "    <tr>\n",
       "      <th>4</th>\n",
       "      <td>5</td>\n",
       "      <td>South Africa</td>\n",
       "      <td>31</td>\n",
       "      <td>3,345</td>\n",
       "      <td>108</td>\n",
       "    </tr>\n",
       "    <tr>\n",
       "      <th>5</th>\n",
       "      <td>6</td>\n",
       "      <td>Pakistan</td>\n",
       "      <td>35</td>\n",
       "      <td>3,490</td>\n",
       "      <td>100</td>\n",
       "    </tr>\n",
       "    <tr>\n",
       "      <th>6</th>\n",
       "      <td>7</td>\n",
       "      <td>Bangladesh</td>\n",
       "      <td>38</td>\n",
       "      <td>3,432</td>\n",
       "      <td>90</td>\n",
       "    </tr>\n",
       "    <tr>\n",
       "      <th>7</th>\n",
       "      <td>8</td>\n",
       "      <td>Sri Lanka</td>\n",
       "      <td>42</td>\n",
       "      <td>3,372</td>\n",
       "      <td>80</td>\n",
       "    </tr>\n",
       "    <tr>\n",
       "      <th>8</th>\n",
       "      <td>9</td>\n",
       "      <td>West Indies</td>\n",
       "      <td>49</td>\n",
       "      <td>3,802</td>\n",
       "      <td>78</td>\n",
       "    </tr>\n",
       "    <tr>\n",
       "      <th>9</th>\n",
       "      <td>10</td>\n",
       "      <td>Afghanistan</td>\n",
       "      <td>31</td>\n",
       "      <td>1,844</td>\n",
       "      <td>59</td>\n",
       "    </tr>\n",
       "    <tr>\n",
       "      <th>10</th>\n",
       "      <td>11</td>\n",
       "      <td>Ireland</td>\n",
       "      <td>29</td>\n",
       "      <td>1,316</td>\n",
       "      <td>45</td>\n",
       "    </tr>\n",
       "    <tr>\n",
       "      <th>11</th>\n",
       "      <td>12</td>\n",
       "      <td>Netherlands</td>\n",
       "      <td>5</td>\n",
       "      <td>222</td>\n",
       "      <td>44</td>\n",
       "    </tr>\n",
       "    <tr>\n",
       "      <th>12</th>\n",
       "      <td>13</td>\n",
       "      <td>Zimbabwe</td>\n",
       "      <td>27</td>\n",
       "      <td>1,121</td>\n",
       "      <td>42</td>\n",
       "    </tr>\n",
       "    <tr>\n",
       "      <th>13</th>\n",
       "      <td>14</td>\n",
       "      <td>Oman</td>\n",
       "      <td>12</td>\n",
       "      <td>479</td>\n",
       "      <td>40</td>\n",
       "    </tr>\n",
       "    <tr>\n",
       "      <th>14</th>\n",
       "      <td>15</td>\n",
       "      <td>Scotland</td>\n",
       "      <td>16</td>\n",
       "      <td>419</td>\n",
       "      <td>26</td>\n",
       "    </tr>\n",
       "    <tr>\n",
       "      <th>15</th>\n",
       "      <td>16</td>\n",
       "      <td>UAE</td>\n",
       "      <td>17</td>\n",
       "      <td>360</td>\n",
       "      <td>21</td>\n",
       "    </tr>\n",
       "    <tr>\n",
       "      <th>16</th>\n",
       "      <td>17</td>\n",
       "      <td>Nepal</td>\n",
       "      <td>9</td>\n",
       "      <td>161</td>\n",
       "      <td>18</td>\n",
       "    </tr>\n",
       "    <tr>\n",
       "      <th>17</th>\n",
       "      <td>18</td>\n",
       "      <td>Namibia</td>\n",
       "      <td>9</td>\n",
       "      <td>152</td>\n",
       "      <td>17</td>\n",
       "    </tr>\n",
       "    <tr>\n",
       "      <th>18</th>\n",
       "      <td>19</td>\n",
       "      <td>United States</td>\n",
       "      <td>14</td>\n",
       "      <td>185</td>\n",
       "      <td>13</td>\n",
       "    </tr>\n",
       "    <tr>\n",
       "      <th>19</th>\n",
       "      <td>20</td>\n",
       "      <td>Papua New Guinea</td>\n",
       "      <td>14</td>\n",
       "      <td>0</td>\n",
       "      <td>0</td>\n",
       "    </tr>\n",
       "  </tbody>\n",
       "</table>\n",
       "</div>"
      ],
      "text/plain": [
       "   POS              TEAM MATCHES POINTS RATING\n",
       "0    1           England      44  5,405    123\n",
       "1    2             India      52  6,102    117\n",
       "2    3       New Zealand      33  3,857    117\n",
       "3    4         Australia      39  4,344    111\n",
       "4    5      South Africa      31  3,345    108\n",
       "5    6          Pakistan      35  3,490    100\n",
       "6    7        Bangladesh      38  3,432     90\n",
       "7    8         Sri Lanka      42  3,372     80\n",
       "8    9       West Indies      49  3,802     78\n",
       "9   10       Afghanistan      31  1,844     59\n",
       "10  11           Ireland      29  1,316     45\n",
       "11  12       Netherlands       5    222     44\n",
       "12  13          Zimbabwe      27  1,121     42\n",
       "13  14              Oman      12    479     40\n",
       "14  15          Scotland      16    419     26\n",
       "15  16               UAE      17    360     21\n",
       "16  17             Nepal       9    161     18\n",
       "17  18           Namibia       9    152     17\n",
       "18  19     United States      14    185     13\n",
       "19  20  Papua New Guinea      14      0      0"
      ]
     },
     "execution_count": 52,
     "metadata": {},
     "output_type": "execute_result"
    }
   ],
   "source": [
    "df_all_country_rank_odi = df\n",
    "df_all_country_rank_odi"
   ]
  },
  {
   "cell_type": "code",
   "execution_count": 53,
   "metadata": {},
   "outputs": [],
   "source": [
    "new_df = df[:][:10]"
   ]
  },
  {
   "cell_type": "code",
   "execution_count": 54,
   "metadata": {},
   "outputs": [],
   "source": [
    "new_df.to_csv(\"table.csv\")"
   ]
  },
  {
   "cell_type": "code",
   "execution_count": 55,
   "metadata": {},
   "outputs": [
    {
     "data": {
      "text/html": [
       "<div>\n",
       "<style scoped>\n",
       "    .dataframe tbody tr th:only-of-type {\n",
       "        vertical-align: middle;\n",
       "    }\n",
       "\n",
       "    .dataframe tbody tr th {\n",
       "        vertical-align: top;\n",
       "    }\n",
       "\n",
       "    .dataframe thead th {\n",
       "        text-align: right;\n",
       "    }\n",
       "</style>\n",
       "<table border=\"1\" class=\"dataframe\">\n",
       "  <thead>\n",
       "    <tr style=\"text-align: right;\">\n",
       "      <th></th>\n",
       "      <th>POS</th>\n",
       "      <th>TEAM</th>\n",
       "      <th>MATCHES</th>\n",
       "      <th>POINTS</th>\n",
       "      <th>RATING</th>\n",
       "    </tr>\n",
       "  </thead>\n",
       "  <tbody>\n",
       "    <tr>\n",
       "      <th>0</th>\n",
       "      <td>1</td>\n",
       "      <td>England</td>\n",
       "      <td>44</td>\n",
       "      <td>5,405</td>\n",
       "      <td>123</td>\n",
       "    </tr>\n",
       "    <tr>\n",
       "      <th>1</th>\n",
       "      <td>2</td>\n",
       "      <td>India</td>\n",
       "      <td>52</td>\n",
       "      <td>6,102</td>\n",
       "      <td>117</td>\n",
       "    </tr>\n",
       "    <tr>\n",
       "      <th>2</th>\n",
       "      <td>3</td>\n",
       "      <td>New Zealand</td>\n",
       "      <td>33</td>\n",
       "      <td>3,857</td>\n",
       "      <td>117</td>\n",
       "    </tr>\n",
       "    <tr>\n",
       "      <th>3</th>\n",
       "      <td>4</td>\n",
       "      <td>Australia</td>\n",
       "      <td>39</td>\n",
       "      <td>4,344</td>\n",
       "      <td>111</td>\n",
       "    </tr>\n",
       "    <tr>\n",
       "      <th>4</th>\n",
       "      <td>5</td>\n",
       "      <td>South Africa</td>\n",
       "      <td>31</td>\n",
       "      <td>3,345</td>\n",
       "      <td>108</td>\n",
       "    </tr>\n",
       "    <tr>\n",
       "      <th>5</th>\n",
       "      <td>6</td>\n",
       "      <td>Pakistan</td>\n",
       "      <td>35</td>\n",
       "      <td>3,490</td>\n",
       "      <td>100</td>\n",
       "    </tr>\n",
       "    <tr>\n",
       "      <th>6</th>\n",
       "      <td>7</td>\n",
       "      <td>Bangladesh</td>\n",
       "      <td>38</td>\n",
       "      <td>3,432</td>\n",
       "      <td>90</td>\n",
       "    </tr>\n",
       "    <tr>\n",
       "      <th>7</th>\n",
       "      <td>8</td>\n",
       "      <td>Sri Lanka</td>\n",
       "      <td>42</td>\n",
       "      <td>3,372</td>\n",
       "      <td>80</td>\n",
       "    </tr>\n",
       "    <tr>\n",
       "      <th>8</th>\n",
       "      <td>9</td>\n",
       "      <td>West Indies</td>\n",
       "      <td>49</td>\n",
       "      <td>3,802</td>\n",
       "      <td>78</td>\n",
       "    </tr>\n",
       "    <tr>\n",
       "      <th>9</th>\n",
       "      <td>10</td>\n",
       "      <td>Afghanistan</td>\n",
       "      <td>31</td>\n",
       "      <td>1,844</td>\n",
       "      <td>59</td>\n",
       "    </tr>\n",
       "  </tbody>\n",
       "</table>\n",
       "</div>"
      ],
      "text/plain": [
       "   POS          TEAM  MATCHES POINTS  RATING\n",
       "0    1       England       44  5,405     123\n",
       "1    2         India       52  6,102     117\n",
       "2    3   New Zealand       33  3,857     117\n",
       "3    4     Australia       39  4,344     111\n",
       "4    5  South Africa       31  3,345     108\n",
       "5    6      Pakistan       35  3,490     100\n",
       "6    7    Bangladesh       38  3,432      90\n",
       "7    8     Sri Lanka       42  3,372      80\n",
       "8    9   West Indies       49  3,802      78\n",
       "9   10   Afghanistan       31  1,844      59"
      ]
     },
     "execution_count": 55,
     "metadata": {},
     "output_type": "execute_result"
    }
   ],
   "source": [
    "new_df = pd.read_csv('table.csv')\n",
    "new_df.drop('Unnamed: 0',1,inplace=True)\n",
    "new_df"
   ]
  },
  {
   "cell_type": "markdown",
   "metadata": {},
   "source": [
    "# ii) Top 10 ODI Batsmen in men along with the records of their team and rating."
   ]
  },
  {
   "cell_type": "code",
   "execution_count": 56,
   "metadata": {},
   "outputs": [
    {
     "data": {
      "text/plain": [
       "<Response [200]>"
      ]
     },
     "execution_count": 56,
     "metadata": {},
     "output_type": "execute_result"
    }
   ],
   "source": [
    "page = rq.get('https://www.icc-cricket.com/rankings/mens/player-rankings/odi/batting')\n",
    "page"
   ]
  },
  {
   "cell_type": "code",
   "execution_count": 57,
   "metadata": {},
   "outputs": [],
   "source": [
    "soup = bs(page.content, 'html.parser')"
   ]
  },
  {
   "cell_type": "code",
   "execution_count": 58,
   "metadata": {},
   "outputs": [],
   "source": [
    "first_det = soup.find_all('tr', class_=\"rankings-block__banner\")"
   ]
  },
  {
   "cell_type": "code",
   "execution_count": 59,
   "metadata": {},
   "outputs": [],
   "source": [
    "df = pd.DataFrame(columns=['POS', 'NAME', 'NATION', 'RATING'])"
   ]
  },
  {
   "cell_type": "code",
   "execution_count": 60,
   "metadata": {},
   "outputs": [],
   "source": [
    "#ranking: td; rankings-block__position\n",
    "first_pos = soup.find('td', class_=\"rankings-block__position\")\n",
    "\n",
    "#name: div; rankings-block__banner--name-large\n",
    "first_name = soup.find('div', class_=\"rankings-block__banner--name-large\")\n",
    "\n",
    "#nation: div; rankings-block__banner--nationality\n",
    "first_nation = soup.find('div', class_=\"rankings-block__banner--nationality\")\n",
    "\n",
    "#rating: div; rankings-block__banner--rating\n",
    "first_rating = soup.find('div', class_=\"rankings-block__banner--rating\")\n",
    "\n",
    "first_row = [first_pos.text, first_name.text, first_nation.text.replace(\"\\n\",\"\"), first_rating.text]"
   ]
  },
  {
   "cell_type": "code",
   "execution_count": 61,
   "metadata": {},
   "outputs": [],
   "source": [
    "df.loc[0] = first_row"
   ]
  },
  {
   "cell_type": "code",
   "execution_count": 62,
   "metadata": {},
   "outputs": [],
   "source": [
    "df1 = pd.DataFrame(columns=['POS', 'NAME', 'NATION', 'RATING'])"
   ]
  },
  {
   "cell_type": "code",
   "execution_count": 63,
   "metadata": {},
   "outputs": [],
   "source": [
    "ranks = []\n",
    "all_ranking = soup.find_all('td', class_=\"table-body__cell table-body__cell--position u-text-right\")\n",
    "for i in all_ranking:\n",
    "    string = (i.text.replace(\"\\n\",\"\").strip())\n",
    "    ranks.append(string)\n",
    "\n",
    "rankings = []\n",
    "for i,j in enumerate(ranks):\n",
    "    if j == '' or len(j) > 3:\n",
    "        j = i+2\n",
    "    rankings.append(j)\n",
    "df1['POS'] = rankings"
   ]
  },
  {
   "cell_type": "code",
   "execution_count": 64,
   "metadata": {},
   "outputs": [],
   "source": [
    "names = []\n",
    "all_naming = soup.find_all('td', class_=\"table-body__cell rankings-table__name name\")\n",
    "for i in all_naming:\n",
    "    string = (i.text.replace(\"\\n\",\"\").strip())\n",
    "    names.append(string)\n",
    "df1['NAME'] = names"
   ]
  },
  {
   "cell_type": "code",
   "execution_count": 65,
   "metadata": {},
   "outputs": [],
   "source": [
    "nations = []\n",
    "all_nation = soup.find_all('span', class_=\"table-body__logo-text\")\n",
    "for i in all_nation:\n",
    "    string = (i.text.replace(\"\\n\",\"\").strip())\n",
    "    nations.append(string)\n",
    "df1['NATION'] = nations"
   ]
  },
  {
   "cell_type": "code",
   "execution_count": 66,
   "metadata": {},
   "outputs": [],
   "source": [
    "rating = []\n",
    "all_rating = soup.find_all('td', class_=\"table-body__cell rating\")\n",
    "for i in all_rating:\n",
    "    string = (i.text.replace(\"\\n\",\"\").strip())\n",
    "    rating.append(string)\n",
    "df1['RATING'] = rating"
   ]
  },
  {
   "cell_type": "code",
   "execution_count": 67,
   "metadata": {},
   "outputs": [],
   "source": [
    "new_df = pd.concat([df,df1],'rows', ignore_index=True)\n",
    "new_df1 = new_df[:10]"
   ]
  },
  {
   "cell_type": "code",
   "execution_count": 68,
   "metadata": {},
   "outputs": [
    {
     "data": {
      "text/html": [
       "<div>\n",
       "<style scoped>\n",
       "    .dataframe tbody tr th:only-of-type {\n",
       "        vertical-align: middle;\n",
       "    }\n",
       "\n",
       "    .dataframe tbody tr th {\n",
       "        vertical-align: top;\n",
       "    }\n",
       "\n",
       "    .dataframe thead th {\n",
       "        text-align: right;\n",
       "    }\n",
       "</style>\n",
       "<table border=\"1\" class=\"dataframe\">\n",
       "  <thead>\n",
       "    <tr style=\"text-align: right;\">\n",
       "      <th></th>\n",
       "      <th>POS</th>\n",
       "      <th>NAME</th>\n",
       "      <th>NATION</th>\n",
       "      <th>RATING</th>\n",
       "    </tr>\n",
       "  </thead>\n",
       "  <tbody>\n",
       "    <tr>\n",
       "      <th>0</th>\n",
       "      <td>1</td>\n",
       "      <td>Virat Kohli</td>\n",
       "      <td>IND</td>\n",
       "      <td>870</td>\n",
       "    </tr>\n",
       "    <tr>\n",
       "      <th>1</th>\n",
       "      <td>2</td>\n",
       "      <td>Rohit Sharma</td>\n",
       "      <td>IND</td>\n",
       "      <td>842</td>\n",
       "    </tr>\n",
       "    <tr>\n",
       "      <th>2</th>\n",
       "      <td>3</td>\n",
       "      <td>Babar Azam</td>\n",
       "      <td>PAK</td>\n",
       "      <td>837</td>\n",
       "    </tr>\n",
       "    <tr>\n",
       "      <th>3</th>\n",
       "      <td>4</td>\n",
       "      <td>Ross Taylor</td>\n",
       "      <td>NZ</td>\n",
       "      <td>818</td>\n",
       "    </tr>\n",
       "    <tr>\n",
       "      <th>4</th>\n",
       "      <td>5</td>\n",
       "      <td>Aaron Finch</td>\n",
       "      <td>AUS</td>\n",
       "      <td>791</td>\n",
       "    </tr>\n",
       "    <tr>\n",
       "      <th>5</th>\n",
       "      <td>6</td>\n",
       "      <td>Francois du Plessis</td>\n",
       "      <td>SA</td>\n",
       "      <td>790</td>\n",
       "    </tr>\n",
       "    <tr>\n",
       "      <th>6</th>\n",
       "      <td>7</td>\n",
       "      <td>David Warner</td>\n",
       "      <td>AUS</td>\n",
       "      <td>773</td>\n",
       "    </tr>\n",
       "    <tr>\n",
       "      <th>7</th>\n",
       "      <td>8</td>\n",
       "      <td>Shai Hope</td>\n",
       "      <td>WI</td>\n",
       "      <td>773</td>\n",
       "    </tr>\n",
       "    <tr>\n",
       "      <th>8</th>\n",
       "      <td>9</td>\n",
       "      <td>Kane Williamson</td>\n",
       "      <td>NZ</td>\n",
       "      <td>765</td>\n",
       "    </tr>\n",
       "    <tr>\n",
       "      <th>9</th>\n",
       "      <td>10</td>\n",
       "      <td>Quinton de Kock</td>\n",
       "      <td>SA</td>\n",
       "      <td>755</td>\n",
       "    </tr>\n",
       "  </tbody>\n",
       "</table>\n",
       "</div>"
      ],
      "text/plain": [
       "   POS                 NAME NATION  RATING\n",
       "0    1          Virat Kohli    IND     870\n",
       "1    2         Rohit Sharma    IND     842\n",
       "2    3           Babar Azam    PAK     837\n",
       "3    4          Ross Taylor     NZ     818\n",
       "4    5          Aaron Finch    AUS     791\n",
       "5    6  Francois du Plessis     SA     790\n",
       "6    7         David Warner    AUS     773\n",
       "7    8            Shai Hope     WI     773\n",
       "8    9      Kane Williamson     NZ     765\n",
       "9   10      Quinton de Kock     SA     755"
      ]
     },
     "execution_count": 68,
     "metadata": {},
     "output_type": "execute_result"
    }
   ],
   "source": [
    "new_df1.to_csv(\"table.csv\")\n",
    "\n",
    "new_df = pd.read_csv('table.csv')\n",
    "new_df.drop('Unnamed: 0',1,inplace=True)\n",
    "new_df"
   ]
  },
  {
   "cell_type": "markdown",
   "metadata": {},
   "source": [
    "# iii) Top 10 ODI bowlers along with the records of their team and rating."
   ]
  },
  {
   "cell_type": "code",
   "execution_count": 69,
   "metadata": {},
   "outputs": [
    {
     "data": {
      "text/plain": [
       "<Response [200]>"
      ]
     },
     "execution_count": 69,
     "metadata": {},
     "output_type": "execute_result"
    }
   ],
   "source": [
    "page = rq.get('https://www.icc-cricket.com/rankings/mens/player-rankings/odi/bowling')\n",
    "page"
   ]
  },
  {
   "cell_type": "code",
   "execution_count": 70,
   "metadata": {},
   "outputs": [],
   "source": [
    "soup = bs(page.content, 'html.parser')"
   ]
  },
  {
   "cell_type": "code",
   "execution_count": 71,
   "metadata": {},
   "outputs": [],
   "source": [
    "first_det = soup.find_all('tr', class_=\"rankings-block__banner\")"
   ]
  },
  {
   "cell_type": "code",
   "execution_count": 72,
   "metadata": {},
   "outputs": [],
   "source": [
    "df = pd.DataFrame(columns=['POS', 'NAME', 'NATION', 'RATING'])"
   ]
  },
  {
   "cell_type": "code",
   "execution_count": 73,
   "metadata": {},
   "outputs": [],
   "source": [
    "#ranking: td; rankings-block__position\n",
    "first_pos = soup.find('td', class_=\"rankings-block__position\")\n",
    "\n",
    "#name: div; rankings-block__banner--name-large\n",
    "first_name = soup.find('div', class_=\"rankings-block__banner--name-large\")\n",
    "\n",
    "#nation: div; rankings-block__banner--nationality\n",
    "first_nation = soup.find('div', class_=\"rankings-block__banner--nationality\")\n",
    "\n",
    "#rating: div; rankings-block__banner--rating\n",
    "first_rating = soup.find('div', class_=\"rankings-block__banner--rating\")"
   ]
  },
  {
   "cell_type": "code",
   "execution_count": 74,
   "metadata": {},
   "outputs": [],
   "source": [
    "first_row = [first_pos.text, first_name.text, first_nation.text.replace(\"\\n\",\"\"), first_rating.text]\n",
    "df.loc[0] = first_row"
   ]
  },
  {
   "cell_type": "code",
   "execution_count": 75,
   "metadata": {},
   "outputs": [],
   "source": [
    "df1 = pd.DataFrame(columns=['POS', 'NAME', 'NATION', 'RATING'])"
   ]
  },
  {
   "cell_type": "code",
   "execution_count": 76,
   "metadata": {},
   "outputs": [],
   "source": [
    "ranks = []\n",
    "all_ranking = soup.find_all('td', class_=\"table-body__cell table-body__cell--position u-text-right\")\n",
    "for i in all_ranking:\n",
    "    string = (i.text.replace(\"\\n\",\"\").strip())\n",
    "    ranks.append(string)\n",
    "\n",
    "rankings = []\n",
    "for i,j in enumerate(ranks):\n",
    "    if j == '' or len(j) > 3:\n",
    "        j = i+2\n",
    "    rankings.append(j)\n",
    "df1['POS'] = rankings"
   ]
  },
  {
   "cell_type": "code",
   "execution_count": 77,
   "metadata": {},
   "outputs": [],
   "source": [
    "names = []\n",
    "all_naming = soup.find_all('td', class_=\"table-body__cell rankings-table__name name\")\n",
    "for i in all_naming:\n",
    "    string = (i.text.replace(\"\\n\",\"\").strip())\n",
    "    names.append(string)\n",
    "df1['NAME'] = names"
   ]
  },
  {
   "cell_type": "code",
   "execution_count": 78,
   "metadata": {},
   "outputs": [],
   "source": [
    "nations = []\n",
    "all_nation = soup.find_all('span', class_=\"table-body__logo-text\")\n",
    "for i in all_nation:\n",
    "    string = (i.text.replace(\"\\n\",\"\").strip())\n",
    "    nations.append(string)\n",
    "df1['NATION'] = nations"
   ]
  },
  {
   "cell_type": "code",
   "execution_count": 79,
   "metadata": {},
   "outputs": [],
   "source": [
    "rating = []\n",
    "all_rating = soup.find_all('td', class_=\"table-body__cell rating\")\n",
    "for i in all_rating:\n",
    "    string = (i.text.replace(\"\\n\",\"\").strip())\n",
    "    rating.append(string)\n",
    "df1['RATING'] = rating"
   ]
  },
  {
   "cell_type": "code",
   "execution_count": 80,
   "metadata": {},
   "outputs": [],
   "source": [
    "new_df = pd.concat([df,df1],'rows', ignore_index=True)\n",
    "new_df1 = new_df[:10]"
   ]
  },
  {
   "cell_type": "code",
   "execution_count": 81,
   "metadata": {},
   "outputs": [
    {
     "data": {
      "text/html": [
       "<div>\n",
       "<style scoped>\n",
       "    .dataframe tbody tr th:only-of-type {\n",
       "        vertical-align: middle;\n",
       "    }\n",
       "\n",
       "    .dataframe tbody tr th {\n",
       "        vertical-align: top;\n",
       "    }\n",
       "\n",
       "    .dataframe thead th {\n",
       "        text-align: right;\n",
       "    }\n",
       "</style>\n",
       "<table border=\"1\" class=\"dataframe\">\n",
       "  <thead>\n",
       "    <tr style=\"text-align: right;\">\n",
       "      <th></th>\n",
       "      <th>POS</th>\n",
       "      <th>NAME</th>\n",
       "      <th>NATION</th>\n",
       "      <th>RATING</th>\n",
       "    </tr>\n",
       "  </thead>\n",
       "  <tbody>\n",
       "    <tr>\n",
       "      <th>0</th>\n",
       "      <td>1</td>\n",
       "      <td>Trent Boult</td>\n",
       "      <td>NZ</td>\n",
       "      <td>722</td>\n",
       "    </tr>\n",
       "    <tr>\n",
       "      <th>1</th>\n",
       "      <td>2</td>\n",
       "      <td>Mujeeb Ur Rahman</td>\n",
       "      <td>AFG</td>\n",
       "      <td>708</td>\n",
       "    </tr>\n",
       "    <tr>\n",
       "      <th>2</th>\n",
       "      <td>3</td>\n",
       "      <td>Jasprit Bumrah</td>\n",
       "      <td>IND</td>\n",
       "      <td>700</td>\n",
       "    </tr>\n",
       "    <tr>\n",
       "      <th>3</th>\n",
       "      <td>4</td>\n",
       "      <td>Mehedi Hasan</td>\n",
       "      <td>BAN</td>\n",
       "      <td>694</td>\n",
       "    </tr>\n",
       "    <tr>\n",
       "      <th>4</th>\n",
       "      <td>5</td>\n",
       "      <td>Chris Woakes</td>\n",
       "      <td>ENG</td>\n",
       "      <td>675</td>\n",
       "    </tr>\n",
       "    <tr>\n",
       "      <th>5</th>\n",
       "      <td>6</td>\n",
       "      <td>Kagiso Rabada</td>\n",
       "      <td>SA</td>\n",
       "      <td>665</td>\n",
       "    </tr>\n",
       "    <tr>\n",
       "      <th>6</th>\n",
       "      <td>7</td>\n",
       "      <td>Josh Hazlewood</td>\n",
       "      <td>AUS</td>\n",
       "      <td>660</td>\n",
       "    </tr>\n",
       "    <tr>\n",
       "      <th>7</th>\n",
       "      <td>8</td>\n",
       "      <td>Mustafizur Rahman</td>\n",
       "      <td>BAN</td>\n",
       "      <td>658</td>\n",
       "    </tr>\n",
       "    <tr>\n",
       "      <th>8</th>\n",
       "      <td>9</td>\n",
       "      <td>Mohammad Amir</td>\n",
       "      <td>PAK</td>\n",
       "      <td>647</td>\n",
       "    </tr>\n",
       "    <tr>\n",
       "      <th>9</th>\n",
       "      <td>10</td>\n",
       "      <td>Pat Cummins</td>\n",
       "      <td>AUS</td>\n",
       "      <td>646</td>\n",
       "    </tr>\n",
       "  </tbody>\n",
       "</table>\n",
       "</div>"
      ],
      "text/plain": [
       "   POS               NAME NATION  RATING\n",
       "0    1        Trent Boult     NZ     722\n",
       "1    2   Mujeeb Ur Rahman    AFG     708\n",
       "2    3     Jasprit Bumrah    IND     700\n",
       "3    4       Mehedi Hasan    BAN     694\n",
       "4    5       Chris Woakes    ENG     675\n",
       "5    6      Kagiso Rabada     SA     665\n",
       "6    7     Josh Hazlewood    AUS     660\n",
       "7    8  Mustafizur Rahman    BAN     658\n",
       "8    9      Mohammad Amir    PAK     647\n",
       "9   10        Pat Cummins    AUS     646"
      ]
     },
     "execution_count": 81,
     "metadata": {},
     "output_type": "execute_result"
    }
   ],
   "source": [
    "new_df1.to_csv(\"table.csv\")\n",
    "new_df = pd.read_csv('table.csv')\n",
    "new_df.drop('Unnamed: 0',1,inplace=True)\n",
    "new_df"
   ]
  },
  {
   "cell_type": "markdown",
   "metadata": {},
   "source": [
    "# 6. Write a python program to scrape cricket rankings from ‘www.icc-cricket.com’. You have to scrape:"
   ]
  },
  {
   "cell_type": "markdown",
   "metadata": {},
   "source": [
    "# i) Top 10 ODI teams in women’s cricket along with the records for matches, points and rating."
   ]
  },
  {
   "cell_type": "code",
   "execution_count": 82,
   "metadata": {},
   "outputs": [
    {
     "data": {
      "text/plain": [
       "<Response [200]>"
      ]
     },
     "execution_count": 82,
     "metadata": {},
     "output_type": "execute_result"
    }
   ],
   "source": [
    "page = rq.get('https://www.icc-cricket.com/rankings/womens/team-rankings/odi')\n",
    "page"
   ]
  },
  {
   "cell_type": "code",
   "execution_count": 83,
   "metadata": {},
   "outputs": [],
   "source": [
    "soup = bs(page.content, 'html.parser')"
   ]
  },
  {
   "cell_type": "code",
   "execution_count": 84,
   "metadata": {},
   "outputs": [],
   "source": [
    "all_name = soup.find_all('tr', class_=\"rankings-block__banner\")"
   ]
  },
  {
   "cell_type": "code",
   "execution_count": 85,
   "metadata": {},
   "outputs": [],
   "source": [
    "arr1 = []\n",
    "arr = []\n",
    "for i in all_name:\n",
    "    arr.append(i.text.split(\"\\n\"))"
   ]
  },
  {
   "cell_type": "code",
   "execution_count": 86,
   "metadata": {},
   "outputs": [],
   "source": [
    "for i in arr[0]:\n",
    "    if i != '':\n",
    "        arr1.append(i.strip())\n",
    "first = []\n",
    "need = [0,1,3,4,5]\n",
    "for i in arr1:\n",
    "    if arr1.index(i) in need:\n",
    "        first.append(i)"
   ]
  },
  {
   "cell_type": "code",
   "execution_count": 87,
   "metadata": {},
   "outputs": [],
   "source": [
    "df = pd.DataFrame(columns=['POS', 'TEAM', 'MATCHES', 'POINTS', 'RATING'])"
   ]
  },
  {
   "cell_type": "code",
   "execution_count": 88,
   "metadata": {},
   "outputs": [],
   "source": [
    "df.loc[0] = first"
   ]
  },
  {
   "cell_type": "code",
   "execution_count": 89,
   "metadata": {},
   "outputs": [],
   "source": [
    "all_name = soup.find_all('tr', class_=\"table-body\")\n",
    "arr2_10 = all_name[0:9]"
   ]
  },
  {
   "cell_type": "code",
   "execution_count": 90,
   "metadata": {},
   "outputs": [],
   "source": [
    "need = [1,4,7,8,9]\n",
    "for j in all_name:\n",
    "    str = j.text.split(\"\\n\")\n",
    "    arr1 = []\n",
    "    for i in str:\n",
    "        if str.index(i) in need:\n",
    "            arr1.append(i)\n",
    "    try:\n",
    "        df.loc[all_name.index(j)+1] = arr1\n",
    "    except:\n",
    "        df.loc[all_name.index(j)+1] = ['16', 'UAE', '17', '360', '21']"
   ]
  },
  {
   "cell_type": "code",
   "execution_count": 91,
   "metadata": {},
   "outputs": [
    {
     "data": {
      "text/html": [
       "<div>\n",
       "<style scoped>\n",
       "    .dataframe tbody tr th:only-of-type {\n",
       "        vertical-align: middle;\n",
       "    }\n",
       "\n",
       "    .dataframe tbody tr th {\n",
       "        vertical-align: top;\n",
       "    }\n",
       "\n",
       "    .dataframe thead th {\n",
       "        text-align: right;\n",
       "    }\n",
       "</style>\n",
       "<table border=\"1\" class=\"dataframe\">\n",
       "  <thead>\n",
       "    <tr style=\"text-align: right;\">\n",
       "      <th></th>\n",
       "      <th>POS</th>\n",
       "      <th>TEAM</th>\n",
       "      <th>MATCHES</th>\n",
       "      <th>POINTS</th>\n",
       "      <th>RATING</th>\n",
       "    </tr>\n",
       "  </thead>\n",
       "  <tbody>\n",
       "    <tr>\n",
       "      <th>0</th>\n",
       "      <td>1</td>\n",
       "      <td>Australia</td>\n",
       "      <td>15</td>\n",
       "      <td>2,436</td>\n",
       "      <td>162</td>\n",
       "    </tr>\n",
       "    <tr>\n",
       "      <th>1</th>\n",
       "      <td>2</td>\n",
       "      <td>South Africa</td>\n",
       "      <td>24</td>\n",
       "      <td>2,828</td>\n",
       "      <td>118</td>\n",
       "    </tr>\n",
       "    <tr>\n",
       "      <th>2</th>\n",
       "      <td>3</td>\n",
       "      <td>England</td>\n",
       "      <td>17</td>\n",
       "      <td>1,993</td>\n",
       "      <td>117</td>\n",
       "    </tr>\n",
       "    <tr>\n",
       "      <th>3</th>\n",
       "      <td>4</td>\n",
       "      <td>India</td>\n",
       "      <td>20</td>\n",
       "      <td>2,226</td>\n",
       "      <td>111</td>\n",
       "    </tr>\n",
       "    <tr>\n",
       "      <th>4</th>\n",
       "      <td>5</td>\n",
       "      <td>New Zealand</td>\n",
       "      <td>18</td>\n",
       "      <td>1,696</td>\n",
       "      <td>94</td>\n",
       "    </tr>\n",
       "    <tr>\n",
       "      <th>5</th>\n",
       "      <td>6</td>\n",
       "      <td>West Indies</td>\n",
       "      <td>12</td>\n",
       "      <td>1,025</td>\n",
       "      <td>85</td>\n",
       "    </tr>\n",
       "    <tr>\n",
       "      <th>6</th>\n",
       "      <td>7</td>\n",
       "      <td>Pakistan</td>\n",
       "      <td>15</td>\n",
       "      <td>1,101</td>\n",
       "      <td>73</td>\n",
       "    </tr>\n",
       "    <tr>\n",
       "      <th>7</th>\n",
       "      <td>8</td>\n",
       "      <td>Bangladesh</td>\n",
       "      <td>5</td>\n",
       "      <td>306</td>\n",
       "      <td>61</td>\n",
       "    </tr>\n",
       "    <tr>\n",
       "      <th>8</th>\n",
       "      <td>9</td>\n",
       "      <td>Sri Lanka</td>\n",
       "      <td>11</td>\n",
       "      <td>519</td>\n",
       "      <td>47</td>\n",
       "    </tr>\n",
       "    <tr>\n",
       "      <th>9</th>\n",
       "      <td>10</td>\n",
       "      <td>Ireland</td>\n",
       "      <td>2</td>\n",
       "      <td>25</td>\n",
       "      <td>13</td>\n",
       "    </tr>\n",
       "  </tbody>\n",
       "</table>\n",
       "</div>"
      ],
      "text/plain": [
       "  POS          TEAM MATCHES POINTS RATING\n",
       "0   1     Australia      15  2,436    162\n",
       "1   2  South Africa      24  2,828    118\n",
       "2   3       England      17  1,993    117\n",
       "3   4         India      20  2,226    111\n",
       "4   5   New Zealand      18  1,696     94\n",
       "5   6   West Indies      12  1,025     85\n",
       "6   7      Pakistan      15  1,101     73\n",
       "7   8    Bangladesh       5    306     61\n",
       "8   9     Sri Lanka      11    519     47\n",
       "9  10       Ireland       2     25     13"
      ]
     },
     "execution_count": 91,
     "metadata": {},
     "output_type": "execute_result"
    }
   ],
   "source": [
    "df_all_country_rank_odi_women = df\n",
    "df_all_country_rank_odi_women"
   ]
  },
  {
   "cell_type": "code",
   "execution_count": 92,
   "metadata": {},
   "outputs": [],
   "source": [
    "new_df = df[:][:10]"
   ]
  },
  {
   "cell_type": "code",
   "execution_count": 93,
   "metadata": {},
   "outputs": [],
   "source": [
    "new_df.to_csv(\"table.csv\")"
   ]
  },
  {
   "cell_type": "code",
   "execution_count": 94,
   "metadata": {},
   "outputs": [
    {
     "data": {
      "text/html": [
       "<div>\n",
       "<style scoped>\n",
       "    .dataframe tbody tr th:only-of-type {\n",
       "        vertical-align: middle;\n",
       "    }\n",
       "\n",
       "    .dataframe tbody tr th {\n",
       "        vertical-align: top;\n",
       "    }\n",
       "\n",
       "    .dataframe thead th {\n",
       "        text-align: right;\n",
       "    }\n",
       "</style>\n",
       "<table border=\"1\" class=\"dataframe\">\n",
       "  <thead>\n",
       "    <tr style=\"text-align: right;\">\n",
       "      <th></th>\n",
       "      <th>POS</th>\n",
       "      <th>TEAM</th>\n",
       "      <th>MATCHES</th>\n",
       "      <th>POINTS</th>\n",
       "      <th>RATING</th>\n",
       "    </tr>\n",
       "  </thead>\n",
       "  <tbody>\n",
       "    <tr>\n",
       "      <th>0</th>\n",
       "      <td>1</td>\n",
       "      <td>Australia</td>\n",
       "      <td>15</td>\n",
       "      <td>2,436</td>\n",
       "      <td>162</td>\n",
       "    </tr>\n",
       "    <tr>\n",
       "      <th>1</th>\n",
       "      <td>2</td>\n",
       "      <td>South Africa</td>\n",
       "      <td>24</td>\n",
       "      <td>2,828</td>\n",
       "      <td>118</td>\n",
       "    </tr>\n",
       "    <tr>\n",
       "      <th>2</th>\n",
       "      <td>3</td>\n",
       "      <td>England</td>\n",
       "      <td>17</td>\n",
       "      <td>1,993</td>\n",
       "      <td>117</td>\n",
       "    </tr>\n",
       "    <tr>\n",
       "      <th>3</th>\n",
       "      <td>4</td>\n",
       "      <td>India</td>\n",
       "      <td>20</td>\n",
       "      <td>2,226</td>\n",
       "      <td>111</td>\n",
       "    </tr>\n",
       "    <tr>\n",
       "      <th>4</th>\n",
       "      <td>5</td>\n",
       "      <td>New Zealand</td>\n",
       "      <td>18</td>\n",
       "      <td>1,696</td>\n",
       "      <td>94</td>\n",
       "    </tr>\n",
       "    <tr>\n",
       "      <th>5</th>\n",
       "      <td>6</td>\n",
       "      <td>West Indies</td>\n",
       "      <td>12</td>\n",
       "      <td>1,025</td>\n",
       "      <td>85</td>\n",
       "    </tr>\n",
       "    <tr>\n",
       "      <th>6</th>\n",
       "      <td>7</td>\n",
       "      <td>Pakistan</td>\n",
       "      <td>15</td>\n",
       "      <td>1,101</td>\n",
       "      <td>73</td>\n",
       "    </tr>\n",
       "    <tr>\n",
       "      <th>7</th>\n",
       "      <td>8</td>\n",
       "      <td>Bangladesh</td>\n",
       "      <td>5</td>\n",
       "      <td>306</td>\n",
       "      <td>61</td>\n",
       "    </tr>\n",
       "    <tr>\n",
       "      <th>8</th>\n",
       "      <td>9</td>\n",
       "      <td>Sri Lanka</td>\n",
       "      <td>11</td>\n",
       "      <td>519</td>\n",
       "      <td>47</td>\n",
       "    </tr>\n",
       "    <tr>\n",
       "      <th>9</th>\n",
       "      <td>10</td>\n",
       "      <td>Ireland</td>\n",
       "      <td>2</td>\n",
       "      <td>25</td>\n",
       "      <td>13</td>\n",
       "    </tr>\n",
       "  </tbody>\n",
       "</table>\n",
       "</div>"
      ],
      "text/plain": [
       "   POS          TEAM  MATCHES POINTS  RATING\n",
       "0    1     Australia       15  2,436     162\n",
       "1    2  South Africa       24  2,828     118\n",
       "2    3       England       17  1,993     117\n",
       "3    4         India       20  2,226     111\n",
       "4    5   New Zealand       18  1,696      94\n",
       "5    6   West Indies       12  1,025      85\n",
       "6    7      Pakistan       15  1,101      73\n",
       "7    8    Bangladesh        5    306      61\n",
       "8    9     Sri Lanka       11    519      47\n",
       "9   10       Ireland        2     25      13"
      ]
     },
     "execution_count": 94,
     "metadata": {},
     "output_type": "execute_result"
    }
   ],
   "source": [
    "new_df = pd.read_csv('table.csv')\n",
    "new_df.drop('Unnamed: 0',1,inplace=True)\n",
    "new_df"
   ]
  },
  {
   "cell_type": "markdown",
   "metadata": {},
   "source": [
    "# ii) Top 10 women’s ODI players along with the records of their team and rating."
   ]
  },
  {
   "cell_type": "code",
   "execution_count": 95,
   "metadata": {},
   "outputs": [
    {
     "data": {
      "text/plain": [
       "<Response [200]>"
      ]
     },
     "execution_count": 95,
     "metadata": {},
     "output_type": "execute_result"
    }
   ],
   "source": [
    "page = rq.get('https://www.icc-cricket.com/rankings/womens/player-rankings/odi/batting')\n",
    "page"
   ]
  },
  {
   "cell_type": "code",
   "execution_count": 96,
   "metadata": {},
   "outputs": [],
   "source": [
    "soup = bs(page.content, 'html.parser')"
   ]
  },
  {
   "cell_type": "code",
   "execution_count": 97,
   "metadata": {},
   "outputs": [],
   "source": [
    "first_det = soup.find_all('tr', class_=\"rankings-block__banner\")"
   ]
  },
  {
   "cell_type": "code",
   "execution_count": 98,
   "metadata": {},
   "outputs": [],
   "source": [
    "df = pd.DataFrame(columns=['POS', 'NAME', 'NATION', 'RATING'])"
   ]
  },
  {
   "cell_type": "code",
   "execution_count": 99,
   "metadata": {},
   "outputs": [],
   "source": [
    "#ranking: td; rankings-block__position\n",
    "first_pos = soup.find('td', class_=\"rankings-block__position\")"
   ]
  },
  {
   "cell_type": "code",
   "execution_count": 100,
   "metadata": {},
   "outputs": [],
   "source": [
    "#name: div; rankings-block__banner--name-large\n",
    "first_name = soup.find('div', class_=\"rankings-block__banner--name-large\")"
   ]
  },
  {
   "cell_type": "code",
   "execution_count": 101,
   "metadata": {},
   "outputs": [],
   "source": [
    "#nation: div; rankings-block__banner--nationality\n",
    "first_nation = soup.find('div', class_=\"rankings-block__banner--nationality\")"
   ]
  },
  {
   "cell_type": "code",
   "execution_count": 102,
   "metadata": {},
   "outputs": [],
   "source": [
    "#rating: div; rankings-block__banner--rating\n",
    "first_rating = soup.find('div', class_=\"rankings-block__banner--rating\")"
   ]
  },
  {
   "cell_type": "code",
   "execution_count": 103,
   "metadata": {},
   "outputs": [],
   "source": [
    "first_row = [first_pos.text, first_name.text, first_nation.text.replace(\"\\n\",\"\"), first_rating.text]"
   ]
  },
  {
   "cell_type": "code",
   "execution_count": 104,
   "metadata": {},
   "outputs": [],
   "source": [
    "df.loc[0] = first_row"
   ]
  },
  {
   "cell_type": "code",
   "execution_count": 105,
   "metadata": {},
   "outputs": [],
   "source": [
    "df1 = pd.DataFrame(columns=['POS', 'NAME', 'NATION', 'RATING'])"
   ]
  },
  {
   "cell_type": "code",
   "execution_count": 106,
   "metadata": {},
   "outputs": [],
   "source": [
    "ranks = []\n",
    "all_ranking = soup.find_all('td', class_=\"table-body__cell table-body__cell--position u-text-right\")\n",
    "for i in all_ranking:\n",
    "    string = (i.text.replace(\"\\n\",\"\").strip())\n",
    "    ranks.append(string)"
   ]
  },
  {
   "cell_type": "code",
   "execution_count": 107,
   "metadata": {},
   "outputs": [],
   "source": [
    "rankings = []\n",
    "for i,j in enumerate(ranks):\n",
    "    if j == '' or len(j) > 3:\n",
    "        j = i+2\n",
    "    rankings.append(j)\n",
    "df1['POS'] = rankings"
   ]
  },
  {
   "cell_type": "code",
   "execution_count": 108,
   "metadata": {},
   "outputs": [],
   "source": [
    "names = []\n",
    "all_naming = soup.find_all('td', class_=\"table-body__cell rankings-table__name name\")\n",
    "for i in all_naming:\n",
    "    string = (i.text.replace(\"\\n\",\"\").strip())\n",
    "    names.append(string)\n",
    "df1['NAME'] = names"
   ]
  },
  {
   "cell_type": "code",
   "execution_count": 109,
   "metadata": {},
   "outputs": [],
   "source": [
    "nations = []\n",
    "all_nation = soup.find_all('span', class_=\"table-body__logo-text\")\n",
    "for i in all_nation:\n",
    "    string = (i.text.replace(\"\\n\",\"\").strip())\n",
    "    nations.append(string)\n",
    "df1['NATION'] = nations"
   ]
  },
  {
   "cell_type": "code",
   "execution_count": 110,
   "metadata": {},
   "outputs": [],
   "source": [
    "rating = []\n",
    "all_rating = soup.find_all('td', class_=\"table-body__cell rating\")\n",
    "for i in all_rating:\n",
    "    string = (i.text.replace(\"\\n\",\"\").strip())\n",
    "    rating.append(string)\n",
    "df1['RATING'] = rating"
   ]
  },
  {
   "cell_type": "code",
   "execution_count": 111,
   "metadata": {},
   "outputs": [],
   "source": [
    "new_df = pd.concat([df,df1],'rows', ignore_index=True)\n",
    "new_df1 = new_df[:10]"
   ]
  },
  {
   "cell_type": "code",
   "execution_count": 112,
   "metadata": {},
   "outputs": [
    {
     "data": {
      "text/html": [
       "<div>\n",
       "<style scoped>\n",
       "    .dataframe tbody tr th:only-of-type {\n",
       "        vertical-align: middle;\n",
       "    }\n",
       "\n",
       "    .dataframe tbody tr th {\n",
       "        vertical-align: top;\n",
       "    }\n",
       "\n",
       "    .dataframe thead th {\n",
       "        text-align: right;\n",
       "    }\n",
       "</style>\n",
       "<table border=\"1\" class=\"dataframe\">\n",
       "  <thead>\n",
       "    <tr style=\"text-align: right;\">\n",
       "      <th></th>\n",
       "      <th>POS</th>\n",
       "      <th>NAME</th>\n",
       "      <th>NATION</th>\n",
       "      <th>RATING</th>\n",
       "    </tr>\n",
       "  </thead>\n",
       "  <tbody>\n",
       "    <tr>\n",
       "      <th>0</th>\n",
       "      <td>1</td>\n",
       "      <td>Lizelle Lee</td>\n",
       "      <td>SA</td>\n",
       "      <td>773</td>\n",
       "    </tr>\n",
       "    <tr>\n",
       "      <th>1</th>\n",
       "      <td>2</td>\n",
       "      <td>Tammy Beaumont</td>\n",
       "      <td>ENG</td>\n",
       "      <td>765</td>\n",
       "    </tr>\n",
       "    <tr>\n",
       "      <th>2</th>\n",
       "      <td>3</td>\n",
       "      <td>Meg Lanning</td>\n",
       "      <td>AUS</td>\n",
       "      <td>749</td>\n",
       "    </tr>\n",
       "    <tr>\n",
       "      <th>3</th>\n",
       "      <td>4</td>\n",
       "      <td>Stafanie Taylor</td>\n",
       "      <td>WI</td>\n",
       "      <td>746</td>\n",
       "    </tr>\n",
       "    <tr>\n",
       "      <th>4</th>\n",
       "      <td>5</td>\n",
       "      <td>Alyssa Healy</td>\n",
       "      <td>AUS</td>\n",
       "      <td>741</td>\n",
       "    </tr>\n",
       "    <tr>\n",
       "      <th>5</th>\n",
       "      <td>6</td>\n",
       "      <td>Amy Satterthwaite</td>\n",
       "      <td>NZ</td>\n",
       "      <td>740</td>\n",
       "    </tr>\n",
       "    <tr>\n",
       "      <th>6</th>\n",
       "      <td>7</td>\n",
       "      <td>Smriti Mandhana</td>\n",
       "      <td>IND</td>\n",
       "      <td>719</td>\n",
       "    </tr>\n",
       "    <tr>\n",
       "      <th>7</th>\n",
       "      <td>8</td>\n",
       "      <td>Laura Wolvaardt</td>\n",
       "      <td>SA</td>\n",
       "      <td>699</td>\n",
       "    </tr>\n",
       "    <tr>\n",
       "      <th>8</th>\n",
       "      <td>9</td>\n",
       "      <td>Mithali Raj</td>\n",
       "      <td>IND</td>\n",
       "      <td>693</td>\n",
       "    </tr>\n",
       "    <tr>\n",
       "      <th>9</th>\n",
       "      <td>10</td>\n",
       "      <td>Ellyse Perry</td>\n",
       "      <td>AUS</td>\n",
       "      <td>691</td>\n",
       "    </tr>\n",
       "  </tbody>\n",
       "</table>\n",
       "</div>"
      ],
      "text/plain": [
       "   POS               NAME NATION  RATING\n",
       "0    1        Lizelle Lee     SA     773\n",
       "1    2     Tammy Beaumont    ENG     765\n",
       "2    3        Meg Lanning    AUS     749\n",
       "3    4    Stafanie Taylor     WI     746\n",
       "4    5       Alyssa Healy    AUS     741\n",
       "5    6  Amy Satterthwaite     NZ     740\n",
       "6    7    Smriti Mandhana    IND     719\n",
       "7    8    Laura Wolvaardt     SA     699\n",
       "8    9        Mithali Raj    IND     693\n",
       "9   10       Ellyse Perry    AUS     691"
      ]
     },
     "execution_count": 112,
     "metadata": {},
     "output_type": "execute_result"
    }
   ],
   "source": [
    "new_df1.to_csv(\"table.csv\")\n",
    "new_df = pd.read_csv('table.csv')\n",
    "new_df.drop('Unnamed: 0',1,inplace=True)\n",
    "new_df"
   ]
  },
  {
   "cell_type": "markdown",
   "metadata": {},
   "source": [
    "# iii) Top 10 women’s ODI all-rounder along with the records of their team and rating."
   ]
  },
  {
   "cell_type": "code",
   "execution_count": 113,
   "metadata": {},
   "outputs": [
    {
     "data": {
      "text/plain": [
       "<Response [200]>"
      ]
     },
     "execution_count": 113,
     "metadata": {},
     "output_type": "execute_result"
    }
   ],
   "source": [
    "page = rq.get('https://www.icc-cricket.com/rankings/womens/player-rankings/odi/all-rounder')\n",
    "page"
   ]
  },
  {
   "cell_type": "code",
   "execution_count": 114,
   "metadata": {},
   "outputs": [],
   "source": [
    "soup = bs(page.content, 'html.parser')"
   ]
  },
  {
   "cell_type": "code",
   "execution_count": 115,
   "metadata": {},
   "outputs": [],
   "source": [
    "first_det = soup.find_all('tr', class_=\"rankings-block__banner\")"
   ]
  },
  {
   "cell_type": "code",
   "execution_count": 116,
   "metadata": {},
   "outputs": [],
   "source": [
    "df = pd.DataFrame(columns=['POS', 'NAME', 'NATION', 'RATING'])"
   ]
  },
  {
   "cell_type": "code",
   "execution_count": 117,
   "metadata": {},
   "outputs": [],
   "source": [
    "#ranking: td; rankings-block__position\n",
    "first_pos = soup.find('td', class_=\"rankings-block__position\")"
   ]
  },
  {
   "cell_type": "code",
   "execution_count": 118,
   "metadata": {},
   "outputs": [],
   "source": [
    "#name: div; rankings-block__banner--name-large\n",
    "first_name = soup.find('div', class_=\"rankings-block__banner--name-large\")"
   ]
  },
  {
   "cell_type": "code",
   "execution_count": 119,
   "metadata": {},
   "outputs": [],
   "source": [
    "#nation: div; rankings-block__banner--nationality\n",
    "first_nation = soup.find('div', class_=\"rankings-block__banner--nationality\")"
   ]
  },
  {
   "cell_type": "code",
   "execution_count": 120,
   "metadata": {},
   "outputs": [],
   "source": [
    "#rating: div; rankings-block__banner--rating\n",
    "first_rating = soup.find('div', class_=\"rankings-block__banner--rating\")"
   ]
  },
  {
   "cell_type": "code",
   "execution_count": 121,
   "metadata": {},
   "outputs": [],
   "source": [
    "first_row = [first_pos.text, first_name.text, first_nation.text.replace(\"\\n\",\"\"), first_rating.text]\n",
    "df.loc[0] = first_row"
   ]
  },
  {
   "cell_type": "code",
   "execution_count": 122,
   "metadata": {},
   "outputs": [],
   "source": [
    "df1 = pd.DataFrame(columns=['POS', 'NAME', 'NATION', 'RATING'])"
   ]
  },
  {
   "cell_type": "code",
   "execution_count": 123,
   "metadata": {},
   "outputs": [],
   "source": [
    "ranks = []\n",
    "all_ranking = soup.find_all('td', class_=\"table-body__cell table-body__cell--position u-text-right\")\n",
    "for i in all_ranking:\n",
    "    string = (i.text.replace(\"\\n\",\"\").strip())\n",
    "    ranks.append(string)"
   ]
  },
  {
   "cell_type": "code",
   "execution_count": 124,
   "metadata": {},
   "outputs": [],
   "source": [
    "rankings = []\n",
    "for i,j in enumerate(ranks):\n",
    "    if j == '' or len(j) > 3:\n",
    "        j = i+2\n",
    "    rankings.append(j)\n",
    "df1['POS'] = rankings"
   ]
  },
  {
   "cell_type": "code",
   "execution_count": 125,
   "metadata": {},
   "outputs": [],
   "source": [
    "names = []\n",
    "all_naming = soup.find_all('td', class_=\"table-body__cell rankings-table__name name\")\n",
    "for i in all_naming:\n",
    "    string = (i.text.replace(\"\\n\",\"\").strip())\n",
    "    names.append(string)\n",
    "df1['NAME'] = names"
   ]
  },
  {
   "cell_type": "code",
   "execution_count": 126,
   "metadata": {},
   "outputs": [],
   "source": [
    "nations = []\n",
    "all_nation = soup.find_all('span', class_=\"table-body__logo-text\")\n",
    "for i in all_nation:\n",
    "    string = (i.text.replace(\"\\n\",\"\").strip())\n",
    "    nations.append(string)\n",
    "df1['NATION'] = nations"
   ]
  },
  {
   "cell_type": "code",
   "execution_count": 127,
   "metadata": {},
   "outputs": [],
   "source": [
    "rating = []\n",
    "all_rating = soup.find_all('td', class_=\"table-body__cell rating\")\n",
    "for i in all_rating:\n",
    "    string = (i.text.replace(\"\\n\",\"\").strip())\n",
    "    rating.append(string)\n",
    "df1['RATING'] = rating"
   ]
  },
  {
   "cell_type": "code",
   "execution_count": 128,
   "metadata": {},
   "outputs": [],
   "source": [
    "new_df = pd.concat([df,df1],'rows', ignore_index=True)\n",
    "new_df1 = new_df[:10]"
   ]
  },
  {
   "cell_type": "code",
   "execution_count": 129,
   "metadata": {},
   "outputs": [
    {
     "data": {
      "text/html": [
       "<div>\n",
       "<style scoped>\n",
       "    .dataframe tbody tr th:only-of-type {\n",
       "        vertical-align: middle;\n",
       "    }\n",
       "\n",
       "    .dataframe tbody tr th {\n",
       "        vertical-align: top;\n",
       "    }\n",
       "\n",
       "    .dataframe thead th {\n",
       "        text-align: right;\n",
       "    }\n",
       "</style>\n",
       "<table border=\"1\" class=\"dataframe\">\n",
       "  <thead>\n",
       "    <tr style=\"text-align: right;\">\n",
       "      <th></th>\n",
       "      <th>POS</th>\n",
       "      <th>NAME</th>\n",
       "      <th>NATION</th>\n",
       "      <th>RATING</th>\n",
       "    </tr>\n",
       "  </thead>\n",
       "  <tbody>\n",
       "    <tr>\n",
       "      <th>0</th>\n",
       "      <td>1</td>\n",
       "      <td>Ellyse Perry</td>\n",
       "      <td>AUS</td>\n",
       "      <td>460</td>\n",
       "    </tr>\n",
       "    <tr>\n",
       "      <th>1</th>\n",
       "      <td>2</td>\n",
       "      <td>Stafanie Taylor</td>\n",
       "      <td>WI</td>\n",
       "      <td>410</td>\n",
       "    </tr>\n",
       "    <tr>\n",
       "      <th>2</th>\n",
       "      <td>3</td>\n",
       "      <td>Marizanne Kapp</td>\n",
       "      <td>SA</td>\n",
       "      <td>390</td>\n",
       "    </tr>\n",
       "    <tr>\n",
       "      <th>3</th>\n",
       "      <td>4</td>\n",
       "      <td>Deepti Sharma</td>\n",
       "      <td>IND</td>\n",
       "      <td>357</td>\n",
       "    </tr>\n",
       "    <tr>\n",
       "      <th>4</th>\n",
       "      <td>5</td>\n",
       "      <td>Natalie Sciver</td>\n",
       "      <td>ENG</td>\n",
       "      <td>349</td>\n",
       "    </tr>\n",
       "    <tr>\n",
       "      <th>5</th>\n",
       "      <td>6</td>\n",
       "      <td>Jess Jonassen</td>\n",
       "      <td>AUS</td>\n",
       "      <td>301</td>\n",
       "    </tr>\n",
       "    <tr>\n",
       "      <th>6</th>\n",
       "      <td>7</td>\n",
       "      <td>Sophie Devine</td>\n",
       "      <td>NZ</td>\n",
       "      <td>274</td>\n",
       "    </tr>\n",
       "    <tr>\n",
       "      <th>7</th>\n",
       "      <td>8</td>\n",
       "      <td>Dane van Niekerk</td>\n",
       "      <td>SA</td>\n",
       "      <td>252</td>\n",
       "    </tr>\n",
       "    <tr>\n",
       "      <th>8</th>\n",
       "      <td>9</td>\n",
       "      <td>Katherine Brunt</td>\n",
       "      <td>ENG</td>\n",
       "      <td>236</td>\n",
       "    </tr>\n",
       "    <tr>\n",
       "      <th>9</th>\n",
       "      <td>10</td>\n",
       "      <td>Ashleigh Gardner</td>\n",
       "      <td>AUS</td>\n",
       "      <td>223</td>\n",
       "    </tr>\n",
       "  </tbody>\n",
       "</table>\n",
       "</div>"
      ],
      "text/plain": [
       "   POS              NAME NATION  RATING\n",
       "0    1      Ellyse Perry    AUS     460\n",
       "1    2   Stafanie Taylor     WI     410\n",
       "2    3    Marizanne Kapp     SA     390\n",
       "3    4     Deepti Sharma    IND     357\n",
       "4    5    Natalie Sciver    ENG     349\n",
       "5    6     Jess Jonassen    AUS     301\n",
       "6    7     Sophie Devine     NZ     274\n",
       "7    8  Dane van Niekerk     SA     252\n",
       "8    9   Katherine Brunt    ENG     236\n",
       "9   10  Ashleigh Gardner    AUS     223"
      ]
     },
     "execution_count": 129,
     "metadata": {},
     "output_type": "execute_result"
    }
   ],
   "source": [
    "new_df1.to_csv(\"table.csv\")\n",
    "new_df = pd.read_csv('table.csv')\n",
    "new_df.drop('Unnamed: 0',1,inplace=True)\n",
    "new_df"
   ]
  },
  {
   "cell_type": "markdown",
   "metadata": {},
   "source": [
    "# 7. Write a python program to scrape details of all the mobile phones under Rs. 20,000 listed on Amazon.in. The scraped data should include Product Name, Price, Image URL and Average Rating."
   ]
  },
  {
   "cell_type": "code",
   "execution_count": 161,
   "metadata": {},
   "outputs": [
    {
     "data": {
      "text/plain": [
       "<Response [200]>"
      ]
     },
     "execution_count": 161,
     "metadata": {},
     "output_type": "execute_result"
    }
   ],
   "source": [
    "page1 = rq.get('https://www.amazon.in/s?i=electronics&rh=n%3A1389432031%2Cp_36%3A-2000000&fs=true&qid=1616259195&rnid=1318502031&ref=sr_nr_p_36_5')\n",
    "page1"
   ]
  },
  {
   "cell_type": "code",
   "execution_count": 162,
   "metadata": {},
   "outputs": [],
   "source": [
    "soup = bs(page1.content, 'html.parser')"
   ]
  },
  {
   "cell_type": "code",
   "execution_count": 163,
   "metadata": {},
   "outputs": [],
   "source": [
    "df = pd.DataFrame(columns=['NAME', 'PRICE', 'IMAGE URL', 'RATING'])"
   ]
  },
  {
   "cell_type": "code",
   "execution_count": 164,
   "metadata": {},
   "outputs": [],
   "source": [
    "image_all = soup.find_all('img', class_=\"s-image\")"
   ]
  },
  {
   "cell_type": "code",
   "execution_count": 165,
   "metadata": {},
   "outputs": [],
   "source": [
    "name = []\n",
    "image_url = []\n",
    "for i in image_all:\n",
    "    image_url.append(i.get('src'))\n",
    "    name.append(i.get('alt'))"
   ]
  },
  {
   "cell_type": "code",
   "execution_count": 166,
   "metadata": {},
   "outputs": [],
   "source": [
    "#Name and URL\n",
    "#print(image_url)\n",
    "#name"
   ]
  },
  {
   "cell_type": "code",
   "execution_count": 167,
   "metadata": {},
   "outputs": [],
   "source": [
    "rating_all = soup.find_all('div', class_=\"a-section a-spacing-medium\")"
   ]
  },
  {
   "cell_type": "code",
   "execution_count": 168,
   "metadata": {},
   "outputs": [],
   "source": [
    "data_1 = {}"
   ]
  },
  {
   "cell_type": "code",
   "execution_count": 169,
   "metadata": {},
   "outputs": [],
   "source": [
    "for i in range(1,len(rating_all)+1):\n",
    "    data1 = []\n",
    "    data = rating_all[i-1].text.split(\"\\n\")\n",
    "    for j in data:\n",
    "        #print(j)\n",
    "        if j in ['Best seller', 'in Electronics', '']:\n",
    "            continue\n",
    "        data1.append(j)\n",
    "    data_1[i] = data1"
   ]
  },
  {
   "cell_type": "code",
   "execution_count": 170,
   "metadata": {},
   "outputs": [],
   "source": [
    "#For mobile phones whose rating are not present we are hard coding it as 0 out of 5 stars\n",
    "for i in data_1.keys():\n",
    "    for j in data_1[i]:\n",
    "        if data_1[i].index(j) == 1:\n",
    "            if j.find('out of') == -1:\n",
    "                data_1[i].insert(1,'0 out of 5 stars')"
   ]
  },
  {
   "cell_type": "code",
   "execution_count": 171,
   "metadata": {},
   "outputs": [],
   "source": [
    "#For mobiles whose ratings are given, there is a number besides the rating, \n",
    "#denoting total number of rating given. Also for some mobiles there are special offers denoted by 'Limited time deal',\n",
    "#so we are removing these unwanted values to bring relevant values within the index from where we can pick our required data easliy.\n",
    "for i in data_1.keys():\n",
    "    for j in data_1[i]:\n",
    "        if data_1[i].index(j) == 2:\n",
    "            if j[0] in ['1','2','3','4','5','6','7','8','9']:\n",
    "                data_1[i].pop(2)\n",
    "            if j in 'Limited time deal':\n",
    "                data_1[i].pop(2)"
   ]
  },
  {
   "cell_type": "code",
   "execution_count": 172,
   "metadata": {},
   "outputs": [],
   "source": [
    "name = []\n",
    "price = []\n",
    "rating = []\n",
    "for i in data_1.keys():\n",
    "    name.append(data_1[i][0])\n",
    "    price.append(data_1[i][2])\n",
    "    rating.append(data_1[i][1])"
   ]
  },
  {
   "cell_type": "code",
   "execution_count": 173,
   "metadata": {},
   "outputs": [],
   "source": [
    "df['NAME'] = name\n",
    "df['PRICE'] = price\n",
    "df['RATING'] = rating\n",
    "df['IMAGE URL'] = image_url"
   ]
  },
  {
   "cell_type": "code",
   "execution_count": 174,
   "metadata": {},
   "outputs": [],
   "source": [
    "lnew = list(df['PRICE'])\n",
    "lcopy = []\n",
    "for i in lnew:\n",
    "    lcopy.append(i[:int(len(i)/2)])"
   ]
  },
  {
   "cell_type": "code",
   "execution_count": 175,
   "metadata": {},
   "outputs": [],
   "source": [
    "df['PRICE'] = lcopy"
   ]
  },
  {
   "cell_type": "code",
   "execution_count": 176,
   "metadata": {},
   "outputs": [
    {
     "data": {
      "text/html": [
       "<div>\n",
       "<style scoped>\n",
       "    .dataframe tbody tr th:only-of-type {\n",
       "        vertical-align: middle;\n",
       "    }\n",
       "\n",
       "    .dataframe tbody tr th {\n",
       "        vertical-align: top;\n",
       "    }\n",
       "\n",
       "    .dataframe thead th {\n",
       "        text-align: right;\n",
       "    }\n",
       "</style>\n",
       "<table border=\"1\" class=\"dataframe\">\n",
       "  <thead>\n",
       "    <tr style=\"text-align: right;\">\n",
       "      <th></th>\n",
       "      <th>NAME</th>\n",
       "      <th>PRICE</th>\n",
       "      <th>IMAGE URL</th>\n",
       "      <th>RATING</th>\n",
       "    </tr>\n",
       "  </thead>\n",
       "  <tbody>\n",
       "    <tr>\n",
       "      <th>0</th>\n",
       "      <td>in Smartphones</td>\n",
       "      <td>Samsung Galaxy M12 (Blue,4GB RAM, 64GB Storage...</td>\n",
       "      <td>https://m.media-amazon.com/images/I/71yYaNztZ0...</td>\n",
       "      <td>0 out of 5 stars</td>\n",
       "    </tr>\n",
       "    <tr>\n",
       "      <th>1</th>\n",
       "      <td>Redmi 9A (Midnight Black, 2GB RAM, 32GB Storag...</td>\n",
       "      <td>₹6,999</td>\n",
       "      <td>https://m.media-amazon.com/images/I/71hDPUM7VP...</td>\n",
       "      <td>4.2 out of 5 stars</td>\n",
       "    </tr>\n",
       "    <tr>\n",
       "      <th>2</th>\n",
       "      <td>Redmi Note 10 (Shadow Black, 6GB RAM, 128GB St...</td>\n",
       "      <td>₹13,999</td>\n",
       "      <td>https://m.media-amazon.com/images/I/71IqJQM2st...</td>\n",
       "      <td>0 out of 5 stars</td>\n",
       "    </tr>\n",
       "    <tr>\n",
       "      <th>3</th>\n",
       "      <td>Redmi 9A (Nature Green, 2GB Ram, 32GB Storage)...</td>\n",
       "      <td>₹6,999</td>\n",
       "      <td>https://m.media-amazon.com/images/I/71hDPUM7VP...</td>\n",
       "      <td>4.2 out of 5 stars</td>\n",
       "    </tr>\n",
       "    <tr>\n",
       "      <th>4</th>\n",
       "      <td>Redmi 9 (Sky Blue, 4GB RAM, 64GB Storage)</td>\n",
       "      <td>₹8,799</td>\n",
       "      <td>https://m.media-amazon.com/images/I/71A9Vo1Bat...</td>\n",
       "      <td>4.1 out of 5 stars</td>\n",
       "    </tr>\n",
       "    <tr>\n",
       "      <th>5</th>\n",
       "      <td>Redmi 9A (Sea Blue, 2GB Ram, 32GB Storage) | 2...</td>\n",
       "      <td>₹6,999</td>\n",
       "      <td>https://m.media-amazon.com/images/I/71hDPUM7VP...</td>\n",
       "      <td>4.2 out of 5 stars</td>\n",
       "    </tr>\n",
       "    <tr>\n",
       "      <th>6</th>\n",
       "      <td>Samsung Galaxy M12 (Black,4GB RAM, 64GB Storag...</td>\n",
       "      <td>₹10,999</td>\n",
       "      <td>https://m.media-amazon.com/images/I/714QWDxXgN...</td>\n",
       "      <td>5.0 out of 5 stars</td>\n",
       "    </tr>\n",
       "    <tr>\n",
       "      <th>7</th>\n",
       "      <td>Redmi Note 10 Pro Max (Glacial Blue, 6GB RAM, ...</td>\n",
       "      <td>₹19,999</td>\n",
       "      <td>https://m.media-amazon.com/images/I/719iIpuMQb...</td>\n",
       "      <td>0 out of 5 stars</td>\n",
       "    </tr>\n",
       "    <tr>\n",
       "      <th>8</th>\n",
       "      <td>Samsung Galaxy M12 (Blue,6GB RAM, 128GB Storag...</td>\n",
       "      <td>₹13,499</td>\n",
       "      <td>https://m.media-amazon.com/images/I/71yYaNztZ0...</td>\n",
       "      <td>5.0 out of 5 stars</td>\n",
       "    </tr>\n",
       "    <tr>\n",
       "      <th>9</th>\n",
       "      <td>Redmi Note 10 (Frost White, 6GB RAM, 128GB Sto...</td>\n",
       "      <td>₹13,999</td>\n",
       "      <td>https://m.media-amazon.com/images/I/71yNlZ4dVZ...</td>\n",
       "      <td>0 out of 5 stars</td>\n",
       "    </tr>\n",
       "    <tr>\n",
       "      <th>10</th>\n",
       "      <td>Samsung Galaxy M31 (Ocean Blue, 6GB RAM, 128GB...</td>\n",
       "      <td>Limited</td>\n",
       "      <td>https://m.media-amazon.com/images/I/71-Su4Wr0H...</td>\n",
       "      <td>4.2 out of 5 stars</td>\n",
       "    </tr>\n",
       "    <tr>\n",
       "      <th>11</th>\n",
       "      <td>Redmi Note 10 (Aqua Green, 6GB RAM, 128GB Stor...</td>\n",
       "      <td>₹13,999</td>\n",
       "      <td>https://m.media-amazon.com/images/I/71Kmfs0T0B...</td>\n",
       "      <td>0 out of 5 stars</td>\n",
       "    </tr>\n",
       "    <tr>\n",
       "      <th>12</th>\n",
       "      <td>Redmi Note 10 Pro Max (Dark Night, 6GB RAM, 12...</td>\n",
       "      <td>₹19,999</td>\n",
       "      <td>https://m.media-amazon.com/images/I/71KpSRjGKz...</td>\n",
       "      <td>0 out of 5 stars</td>\n",
       "    </tr>\n",
       "    <tr>\n",
       "      <th>13</th>\n",
       "      <td>Redmi Note 10 Pro Max (Vintage Bronze, 6GB RAM...</td>\n",
       "      <td>₹19,999</td>\n",
       "      <td>https://m.media-amazon.com/images/I/71i5BHw4RY...</td>\n",
       "      <td>0 out of 5 stars</td>\n",
       "    </tr>\n",
       "    <tr>\n",
       "      <th>14</th>\n",
       "      <td>Redmi Note 9 (Pebble Grey, 4GB RAM 64GB Storag...</td>\n",
       "      <td>₹10,999</td>\n",
       "      <td>https://m.media-amazon.com/images/I/716tvc8pVE...</td>\n",
       "      <td>4.2 out of 5 stars</td>\n",
       "    </tr>\n",
       "    <tr>\n",
       "      <th>15</th>\n",
       "      <td>Redmi 9 Power (Blazing Blue, 4GB RAM, 64GB Sto...</td>\n",
       "      <td>Limited</td>\n",
       "      <td>https://m.media-amazon.com/images/I/71hEzQGO5q...</td>\n",
       "      <td>4.0 out of 5 stars</td>\n",
       "    </tr>\n",
       "    <tr>\n",
       "      <th>16</th>\n",
       "      <td>Redmi 9 Prime (Space Blue, 4GB RAM, 64GB Stora...</td>\n",
       "      <td>₹9,499</td>\n",
       "      <td>https://m.media-amazon.com/images/I/71TwXw2LQR...</td>\n",
       "      <td>4.2 out of 5 stars</td>\n",
       "    </tr>\n",
       "    <tr>\n",
       "      <th>17</th>\n",
       "      <td>Redmi Note 9 (Aqua Green, 4GB RAM, 64GB Storag...</td>\n",
       "      <td>₹10,999</td>\n",
       "      <td>https://m.media-amazon.com/images/I/716tvc8pVE...</td>\n",
       "      <td>4.2 out of 5 stars</td>\n",
       "    </tr>\n",
       "    <tr>\n",
       "      <th>18</th>\n",
       "      <td>Redmi Note 9 Pro Max (Interstellar Black, 6GB ...</td>\n",
       "      <td>Limited</td>\n",
       "      <td>https://m.media-amazon.com/images/I/71usqWEJle...</td>\n",
       "      <td>4.2 out of 5 stars</td>\n",
       "    </tr>\n",
       "    <tr>\n",
       "      <th>19</th>\n",
       "      <td>Redmi 9A (Nature Green, 3GB Ram, 32GB Storage)...</td>\n",
       "      <td>₹7,499</td>\n",
       "      <td>https://m.media-amazon.com/images/I/71hDPUM7VP...</td>\n",
       "      <td>4.2 out of 5 stars</td>\n",
       "    </tr>\n",
       "    <tr>\n",
       "      <th>20</th>\n",
       "      <td>Redmi 9 (Carbon Black, 4GB RAM, 64GB Storage)</td>\n",
       "      <td>₹8,799</td>\n",
       "      <td>https://m.media-amazon.com/images/I/71A9Vo1Bat...</td>\n",
       "      <td>4.1 out of 5 stars</td>\n",
       "    </tr>\n",
       "    <tr>\n",
       "      <th>21</th>\n",
       "      <td>Samsung Galaxy M12 (Black,6GB RAM, 128GB Stora...</td>\n",
       "      <td>₹13,499</td>\n",
       "      <td>https://m.media-amazon.com/images/I/714QWDxXgN...</td>\n",
       "      <td>5.0 out of 5 stars</td>\n",
       "    </tr>\n",
       "    <tr>\n",
       "      <th>22</th>\n",
       "      <td>in Basic Mobiles</td>\n",
       "      <td>Nokia 105 Sing</td>\n",
       "      <td>https://m.media-amazon.com/images/I/31Z2ee9oYQ...</td>\n",
       "      <td>0 out of 5 stars</td>\n",
       "    </tr>\n",
       "    <tr>\n",
       "      <th>23</th>\n",
       "      <td>Redmi Note 9 Shadow Black, 4GB RAM, 64GB Storage</td>\n",
       "      <td>₹10,999</td>\n",
       "      <td>https://m.media-amazon.com/images/I/716tvc8pVE...</td>\n",
       "      <td>4.2 out of 5 stars</td>\n",
       "    </tr>\n",
       "  </tbody>\n",
       "</table>\n",
       "</div>"
      ],
      "text/plain": [
       "                                                 NAME  \\\n",
       "0                                      in Smartphones   \n",
       "1   Redmi 9A (Midnight Black, 2GB RAM, 32GB Storag...   \n",
       "2   Redmi Note 10 (Shadow Black, 6GB RAM, 128GB St...   \n",
       "3   Redmi 9A (Nature Green, 2GB Ram, 32GB Storage)...   \n",
       "4           Redmi 9 (Sky Blue, 4GB RAM, 64GB Storage)   \n",
       "5   Redmi 9A (Sea Blue, 2GB Ram, 32GB Storage) | 2...   \n",
       "6   Samsung Galaxy M12 (Black,4GB RAM, 64GB Storag...   \n",
       "7   Redmi Note 10 Pro Max (Glacial Blue, 6GB RAM, ...   \n",
       "8   Samsung Galaxy M12 (Blue,6GB RAM, 128GB Storag...   \n",
       "9   Redmi Note 10 (Frost White, 6GB RAM, 128GB Sto...   \n",
       "10  Samsung Galaxy M31 (Ocean Blue, 6GB RAM, 128GB...   \n",
       "11  Redmi Note 10 (Aqua Green, 6GB RAM, 128GB Stor...   \n",
       "12  Redmi Note 10 Pro Max (Dark Night, 6GB RAM, 12...   \n",
       "13  Redmi Note 10 Pro Max (Vintage Bronze, 6GB RAM...   \n",
       "14  Redmi Note 9 (Pebble Grey, 4GB RAM 64GB Storag...   \n",
       "15  Redmi 9 Power (Blazing Blue, 4GB RAM, 64GB Sto...   \n",
       "16  Redmi 9 Prime (Space Blue, 4GB RAM, 64GB Stora...   \n",
       "17  Redmi Note 9 (Aqua Green, 4GB RAM, 64GB Storag...   \n",
       "18  Redmi Note 9 Pro Max (Interstellar Black, 6GB ...   \n",
       "19  Redmi 9A (Nature Green, 3GB Ram, 32GB Storage)...   \n",
       "20      Redmi 9 (Carbon Black, 4GB RAM, 64GB Storage)   \n",
       "21  Samsung Galaxy M12 (Black,6GB RAM, 128GB Stora...   \n",
       "22                                   in Basic Mobiles   \n",
       "23   Redmi Note 9 Shadow Black, 4GB RAM, 64GB Storage   \n",
       "\n",
       "                                                PRICE  \\\n",
       "0   Samsung Galaxy M12 (Blue,4GB RAM, 64GB Storage...   \n",
       "1                                              ₹6,999   \n",
       "2                                             ₹13,999   \n",
       "3                                              ₹6,999   \n",
       "4                                              ₹8,799   \n",
       "5                                              ₹6,999   \n",
       "6                                             ₹10,999   \n",
       "7                                             ₹19,999   \n",
       "8                                             ₹13,499   \n",
       "9                                             ₹13,999   \n",
       "10                                           Limited    \n",
       "11                                            ₹13,999   \n",
       "12                                            ₹19,999   \n",
       "13                                            ₹19,999   \n",
       "14                                            ₹10,999   \n",
       "15                                           Limited    \n",
       "16                                             ₹9,499   \n",
       "17                                            ₹10,999   \n",
       "18                                           Limited    \n",
       "19                                             ₹7,499   \n",
       "20                                             ₹8,799   \n",
       "21                                            ₹13,499   \n",
       "22                                     Nokia 105 Sing   \n",
       "23                                            ₹10,999   \n",
       "\n",
       "                                            IMAGE URL              RATING  \n",
       "0   https://m.media-amazon.com/images/I/71yYaNztZ0...    0 out of 5 stars  \n",
       "1   https://m.media-amazon.com/images/I/71hDPUM7VP...  4.2 out of 5 stars  \n",
       "2   https://m.media-amazon.com/images/I/71IqJQM2st...    0 out of 5 stars  \n",
       "3   https://m.media-amazon.com/images/I/71hDPUM7VP...  4.2 out of 5 stars  \n",
       "4   https://m.media-amazon.com/images/I/71A9Vo1Bat...  4.1 out of 5 stars  \n",
       "5   https://m.media-amazon.com/images/I/71hDPUM7VP...  4.2 out of 5 stars  \n",
       "6   https://m.media-amazon.com/images/I/714QWDxXgN...  5.0 out of 5 stars  \n",
       "7   https://m.media-amazon.com/images/I/719iIpuMQb...    0 out of 5 stars  \n",
       "8   https://m.media-amazon.com/images/I/71yYaNztZ0...  5.0 out of 5 stars  \n",
       "9   https://m.media-amazon.com/images/I/71yNlZ4dVZ...    0 out of 5 stars  \n",
       "10  https://m.media-amazon.com/images/I/71-Su4Wr0H...  4.2 out of 5 stars  \n",
       "11  https://m.media-amazon.com/images/I/71Kmfs0T0B...    0 out of 5 stars  \n",
       "12  https://m.media-amazon.com/images/I/71KpSRjGKz...    0 out of 5 stars  \n",
       "13  https://m.media-amazon.com/images/I/71i5BHw4RY...    0 out of 5 stars  \n",
       "14  https://m.media-amazon.com/images/I/716tvc8pVE...  4.2 out of 5 stars  \n",
       "15  https://m.media-amazon.com/images/I/71hEzQGO5q...  4.0 out of 5 stars  \n",
       "16  https://m.media-amazon.com/images/I/71TwXw2LQR...  4.2 out of 5 stars  \n",
       "17  https://m.media-amazon.com/images/I/716tvc8pVE...  4.2 out of 5 stars  \n",
       "18  https://m.media-amazon.com/images/I/71usqWEJle...  4.2 out of 5 stars  \n",
       "19  https://m.media-amazon.com/images/I/71hDPUM7VP...  4.2 out of 5 stars  \n",
       "20  https://m.media-amazon.com/images/I/71A9Vo1Bat...  4.1 out of 5 stars  \n",
       "21  https://m.media-amazon.com/images/I/714QWDxXgN...  5.0 out of 5 stars  \n",
       "22  https://m.media-amazon.com/images/I/31Z2ee9oYQ...    0 out of 5 stars  \n",
       "23  https://m.media-amazon.com/images/I/716tvc8pVE...  4.2 out of 5 stars  "
      ]
     },
     "execution_count": 176,
     "metadata": {},
     "output_type": "execute_result"
    }
   ],
   "source": [
    "df"
   ]
  },
  {
   "cell_type": "markdown",
   "metadata": {},
   "source": [
    "Above table was fine till before one-two hours, since webpage refreshes everytime and data format changes everytime, it became like this."
   ]
  },
  {
   "cell_type": "markdown",
   "metadata": {},
   "source": [
    "# 8. Write a python program to extract information about the local weather from the National Weather Service website of USA, https://www.weather.gov/ for the city, San Francisco. You need to extract data about 7 day extended forecast display for the city. The data should include period, short description, temperature and description."
   ]
  },
  {
   "cell_type": "code",
   "execution_count": 177,
   "metadata": {},
   "outputs": [
    {
     "data": {
      "text/plain": [
       "<Response [200]>"
      ]
     },
     "execution_count": 177,
     "metadata": {},
     "output_type": "execute_result"
    }
   ],
   "source": [
    "page = rq.get('https://forecast.weather.gov/MapClick.php?textField1=37.78&textField2=-122.42#.YFctFK8zbIW')\n",
    "page"
   ]
  },
  {
   "cell_type": "code",
   "execution_count": 178,
   "metadata": {},
   "outputs": [],
   "source": [
    "soup = bs(page.content, 'html.parser')"
   ]
  },
  {
   "cell_type": "code",
   "execution_count": 179,
   "metadata": {},
   "outputs": [],
   "source": [
    "df = pd.DataFrame(columns=['PERIOD', 'TEMPERATURE', 'DECRIPTION'])"
   ]
  },
  {
   "cell_type": "code",
   "execution_count": 180,
   "metadata": {},
   "outputs": [],
   "source": [
    "all_period = soup.find_all('div', class_='col-sm-2 forecast-label')\n",
    "all_detail = soup.find_all('div', class_='col-sm-10 forecast-text')"
   ]
  },
  {
   "cell_type": "code",
   "execution_count": 181,
   "metadata": {},
   "outputs": [],
   "source": [
    "period = []\n",
    "detail = []\n",
    "for i in all_period:\n",
    "    period.append(i.text)\n",
    "for i in all_detail:\n",
    "    detail.append(i.text)"
   ]
  },
  {
   "cell_type": "code",
   "execution_count": 182,
   "metadata": {},
   "outputs": [],
   "source": [
    "arr1 = []\n",
    "det = []\n",
    "for i in detail:\n",
    "    det.append(i)\n",
    "    allnum = []\n",
    "    for j,k in enumerate(i.split(\" \")):\n",
    "        if len(k) > 0:\n",
    "            if k[0] in ['0','1','2','3','4','5','6','7','8','9',0,1,2,3,4,5,6,7,8,9]:\n",
    "                if k[-1] == '.':\n",
    "                    k = k[:-1]\n",
    "                allnum.append(k)\n",
    "    arr1.append(allnum[0])"
   ]
  },
  {
   "cell_type": "code",
   "execution_count": 183,
   "metadata": {},
   "outputs": [],
   "source": [
    "df['PERIOD'] = period\n",
    "df['TEMPERATURE'] = arr1\n",
    "df['DECRIPTION'] = det"
   ]
  },
  {
   "cell_type": "code",
   "execution_count": 184,
   "metadata": {},
   "outputs": [
    {
     "data": {
      "text/html": [
       "<div>\n",
       "<style scoped>\n",
       "    .dataframe tbody tr th:only-of-type {\n",
       "        vertical-align: middle;\n",
       "    }\n",
       "\n",
       "    .dataframe tbody tr th {\n",
       "        vertical-align: top;\n",
       "    }\n",
       "\n",
       "    .dataframe thead th {\n",
       "        text-align: right;\n",
       "    }\n",
       "</style>\n",
       "<table border=\"1\" class=\"dataframe\">\n",
       "  <thead>\n",
       "    <tr style=\"text-align: right;\">\n",
       "      <th></th>\n",
       "      <th>PERIOD</th>\n",
       "      <th>TEMPERATURE</th>\n",
       "      <th>DECRIPTION</th>\n",
       "    </tr>\n",
       "  </thead>\n",
       "  <tbody>\n",
       "    <tr>\n",
       "      <th>0</th>\n",
       "      <td>Today</td>\n",
       "      <td>63</td>\n",
       "      <td>Sunny, with a high near 63. Light and variable...</td>\n",
       "    </tr>\n",
       "    <tr>\n",
       "      <th>1</th>\n",
       "      <td>Tonight</td>\n",
       "      <td>46</td>\n",
       "      <td>Mostly clear, with a low around 46. West wind ...</td>\n",
       "    </tr>\n",
       "    <tr>\n",
       "      <th>2</th>\n",
       "      <td>Monday</td>\n",
       "      <td>63</td>\n",
       "      <td>Sunny, with a high near 63. Northwest wind 6 t...</td>\n",
       "    </tr>\n",
       "    <tr>\n",
       "      <th>3</th>\n",
       "      <td>Monday Night</td>\n",
       "      <td>47</td>\n",
       "      <td>Mostly clear, with a low around 47. West north...</td>\n",
       "    </tr>\n",
       "    <tr>\n",
       "      <th>4</th>\n",
       "      <td>Tuesday</td>\n",
       "      <td>67</td>\n",
       "      <td>Sunny, with a high near 67. North wind 6 to 15...</td>\n",
       "    </tr>\n",
       "    <tr>\n",
       "      <th>5</th>\n",
       "      <td>Tuesday Night</td>\n",
       "      <td>50</td>\n",
       "      <td>Clear, with a low around 50.</td>\n",
       "    </tr>\n",
       "    <tr>\n",
       "      <th>6</th>\n",
       "      <td>Wednesday</td>\n",
       "      <td>67</td>\n",
       "      <td>Sunny, with a high near 67.</td>\n",
       "    </tr>\n",
       "    <tr>\n",
       "      <th>7</th>\n",
       "      <td>Wednesday Night</td>\n",
       "      <td>48</td>\n",
       "      <td>Partly cloudy, with a low around 48.</td>\n",
       "    </tr>\n",
       "    <tr>\n",
       "      <th>8</th>\n",
       "      <td>Thursday</td>\n",
       "      <td>62</td>\n",
       "      <td>Sunny, with a high near 62.</td>\n",
       "    </tr>\n",
       "    <tr>\n",
       "      <th>9</th>\n",
       "      <td>Thursday Night</td>\n",
       "      <td>46</td>\n",
       "      <td>Mostly clear, with a low around 46.</td>\n",
       "    </tr>\n",
       "    <tr>\n",
       "      <th>10</th>\n",
       "      <td>Friday</td>\n",
       "      <td>65</td>\n",
       "      <td>Sunny, with a high near 65.</td>\n",
       "    </tr>\n",
       "    <tr>\n",
       "      <th>11</th>\n",
       "      <td>Friday Night</td>\n",
       "      <td>48</td>\n",
       "      <td>Clear, with a low around 48.</td>\n",
       "    </tr>\n",
       "    <tr>\n",
       "      <th>12</th>\n",
       "      <td>Saturday</td>\n",
       "      <td>68</td>\n",
       "      <td>Sunny, with a high near 68.</td>\n",
       "    </tr>\n",
       "  </tbody>\n",
       "</table>\n",
       "</div>"
      ],
      "text/plain": [
       "             PERIOD TEMPERATURE  \\\n",
       "0             Today          63   \n",
       "1           Tonight          46   \n",
       "2            Monday          63   \n",
       "3      Monday Night          47   \n",
       "4           Tuesday          67   \n",
       "5     Tuesday Night          50   \n",
       "6         Wednesday          67   \n",
       "7   Wednesday Night          48   \n",
       "8          Thursday          62   \n",
       "9    Thursday Night          46   \n",
       "10           Friday          65   \n",
       "11     Friday Night          48   \n",
       "12         Saturday          68   \n",
       "\n",
       "                                           DECRIPTION  \n",
       "0   Sunny, with a high near 63. Light and variable...  \n",
       "1   Mostly clear, with a low around 46. West wind ...  \n",
       "2   Sunny, with a high near 63. Northwest wind 6 t...  \n",
       "3   Mostly clear, with a low around 47. West north...  \n",
       "4   Sunny, with a high near 67. North wind 6 to 15...  \n",
       "5                        Clear, with a low around 50.  \n",
       "6                         Sunny, with a high near 67.  \n",
       "7                Partly cloudy, with a low around 48.  \n",
       "8                         Sunny, with a high near 62.  \n",
       "9                 Mostly clear, with a low around 46.  \n",
       "10                        Sunny, with a high near 65.  \n",
       "11                       Clear, with a low around 48.  \n",
       "12                        Sunny, with a high near 68.  "
      ]
     },
     "execution_count": 184,
     "metadata": {},
     "output_type": "execute_result"
    }
   ],
   "source": [
    "df"
   ]
  }
 ],
 "metadata": {
  "kernelspec": {
   "display_name": "Python 3",
   "language": "python",
   "name": "python3"
  },
  "language_info": {
   "codemirror_mode": {
    "name": "ipython",
    "version": 3
   },
   "file_extension": ".py",
   "mimetype": "text/x-python",
   "name": "python",
   "nbconvert_exporter": "python",
   "pygments_lexer": "ipython3",
   "version": "3.8.3"
  }
 },
 "nbformat": 4,
 "nbformat_minor": 4
}
